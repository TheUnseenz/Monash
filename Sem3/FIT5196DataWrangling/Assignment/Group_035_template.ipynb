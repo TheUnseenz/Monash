{
 "cells": [
  {
   "cell_type": "markdown",
   "metadata": {
    "id": "AXmHqr69qCWG"
   },
   "source": [
    "# FIT5196 Assessment 1 - EDA\n",
    "\n",
    "Due Date: 23:55, Sunday, 14 September 2025\n",
    "\n",
    "\n",
    "---\n",
    "\n",
    "\n",
    "\n",
    "#### Group 35:\n",
    "Member 1: Adrian Leong Tat Wei, (27030768), atleo4@student.monash.edu, Contribution\n",
    "\n",
    "Member 2: Full Name, (Student ID), Email, Contribution\n",
    "\n",
    "...\n",
    "\n",
    "---"
   ]
  },
  {
   "cell_type": "markdown",
   "metadata": {
    "id": "vmTP0mqeqD71"
   },
   "source": [
    "### Table of Content\n",
    "\n",
    "1.\n",
    "2.\n",
    "3.\n",
    "\n"
   ]
  },
  {
   "cell_type": "code",
   "execution_count": null,
   "metadata": {
    "id": "s47bipctul5d"
   },
   "outputs": [],
   "source": []
  },
  {
   "cell_type": "markdown",
   "metadata": {
    "id": "v38tWLVGrIny"
   },
   "source": [
    "## 1. Load, parse and merge data files\n",
    "\n",
    "\n",
    "\n",
    "\n"
   ]
  },
  {
   "cell_type": "code",
   "execution_count": null,
   "metadata": {
    "id": "CR01K-64rfVu"
   },
   "outputs": [],
   "source": [
    "# Alternatives: BeautifulSoup, lxml \n",
    "import xml.etree.ElementTree as ET\n",
    "\n",
    "# Passing the path of the\n",
    "# xml document to enable the\n",
    "# parsing process\n",
    "tree = ET.parse('Group035.xml')\n",
    "\n",
    "# getting the parent tag of\n",
    "# the xml document\n",
    "root = tree.getroot()\n",
    "\n",
    "# printing the root (parent) tag\n",
    "# of the xml document, along with\n",
    "# its memory location\n",
    "print(root)\n",
    "\n",
    "# printing the attributes of the\n",
    "# first tag from the parent \n",
    "print(root[0].attrib)\n",
    "print(root[0].text)\n",
    "\n",
    "# printing the text contained within\n",
    "# first subtag of the 5th tag from\n",
    "# the parent\n",
    "print(root[0][0].attrib)\n",
    "print(root[0][0].text)\n"
   ]
  },
  {
   "cell_type": "code",
   "execution_count": null,
   "metadata": {
    "id": "VjWthEv_rfSZ"
   },
   "outputs": [],
   "source": [
    "# https://www.geeksforgeeks.org/python/read-json-file-using-python/\n",
    "import json\n",
    "\n",
    "# Open and read the JSON file\n",
    "with open('Group035.json', 'r') as file:\n",
    "    data = json.load(file)\n",
    "    print(data)\n",
    "    # # Iterating through the json list\n",
    "    # for i in data['PostID']:\n",
    "    #     print(i)\n",
    "\n",
    "# Closing file\n",
    "file.close()\n"
   ]
  },
  {
   "cell_type": "markdown",
   "metadata": {
    "id": "LTWI4Dy7r3L-"
   },
   "source": [
    "### 1.1 Load data files"
   ]
  },
  {
   "cell_type": "code",
   "execution_count": null,
   "metadata": {
    "id": "vbYmZ-nOrfPW"
   },
   "outputs": [],
   "source": []
  },
  {
   "cell_type": "code",
   "execution_count": null,
   "metadata": {
    "id": "kz0jVkF4r6fn"
   },
   "outputs": [],
   "source": []
  },
  {
   "cell_type": "markdown",
   "metadata": {
    "id": "aTu6Iaq3r688"
   },
   "source": [
    "### 1.2 Merge dataset"
   ]
  },
  {
   "cell_type": "code",
   "execution_count": null,
   "metadata": {
    "id": "xqsULk_Rr6cz"
   },
   "outputs": [],
   "source": []
  },
  {
   "cell_type": "code",
   "execution_count": null,
   "metadata": {
    "id": "laxaM29rr6Z4"
   },
   "outputs": [],
   "source": []
  },
  {
   "cell_type": "code",
   "execution_count": null,
   "metadata": {
    "id": "CTcCmuXLrfJF"
   },
   "outputs": [],
   "source": []
  },
  {
   "cell_type": "markdown",
   "metadata": {
    "id": "wfL0RePgrIlA"
   },
   "source": [
    "## 2. EDA"
   ]
  },
  {
   "cell_type": "code",
   "execution_count": null,
   "metadata": {
    "id": "A-YCkaN_rm0y"
   },
   "outputs": [],
   "source": []
  },
  {
   "cell_type": "code",
   "execution_count": null,
   "metadata": {
    "id": "0idKn45gsHkI"
   },
   "outputs": [],
   "source": []
  },
  {
   "cell_type": "markdown",
   "metadata": {
    "id": "NWM7rgPtsL2m"
   },
   "source": [
    "### 2.1 Dataset overview"
   ]
  },
  {
   "cell_type": "code",
   "execution_count": null,
   "metadata": {
    "id": "jcKCA3vXsHq7"
   },
   "outputs": [],
   "source": []
  },
  {
   "cell_type": "code",
   "execution_count": null,
   "metadata": {
    "id": "W3kro6TusHna"
   },
   "outputs": [],
   "source": []
  },
  {
   "cell_type": "markdown",
   "metadata": {
    "id": "17gszKFvsUFC"
   },
   "source": [
    "### 2.2 Univariate analysis"
   ]
  },
  {
   "cell_type": "code",
   "execution_count": null,
   "metadata": {
    "id": "ysronk0MrnRI"
   },
   "outputs": [],
   "source": []
  },
  {
   "cell_type": "code",
   "execution_count": null,
   "metadata": {
    "id": "asJEEedfrnN4"
   },
   "outputs": [],
   "source": []
  },
  {
   "cell_type": "code",
   "execution_count": null,
   "metadata": {
    "id": "UIZ1G6UosYhI"
   },
   "outputs": [],
   "source": []
  },
  {
   "cell_type": "markdown",
   "metadata": {
    "id": "ocaWUc0bsZuv"
   },
   "source": [
    "### 2.3 Bivariate analysis"
   ]
  },
  {
   "cell_type": "code",
   "execution_count": null,
   "metadata": {
    "id": "eBU-huXrsZWC"
   },
   "outputs": [],
   "source": []
  },
  {
   "cell_type": "code",
   "execution_count": null,
   "metadata": {
    "id": "lcAySjPJsZTA"
   },
   "outputs": [],
   "source": []
  },
  {
   "cell_type": "markdown",
   "metadata": {
    "id": "V7o90s7ysd1q"
   },
   "source": [
    "### 2.4 Multivariate analysis"
   ]
  },
  {
   "cell_type": "code",
   "execution_count": null,
   "metadata": {
    "id": "VmdIgADwsZPx"
   },
   "outputs": [],
   "source": []
  },
  {
   "cell_type": "code",
   "execution_count": null,
   "metadata": {
    "id": "xNascrK6sZMs"
   },
   "outputs": [],
   "source": []
  },
  {
   "cell_type": "code",
   "execution_count": null,
   "metadata": {
    "id": "Z1wXI3uasZI8"
   },
   "outputs": [],
   "source": []
  },
  {
   "cell_type": "code",
   "execution_count": null,
   "metadata": {
    "id": "WQzK1KihsZF5"
   },
   "outputs": [],
   "source": []
  },
  {
   "cell_type": "markdown",
   "metadata": {
    "id": "6lztBdXkrIh9"
   },
   "source": [
    "## 3. Key insights and research questions"
   ]
  },
  {
   "cell_type": "code",
   "execution_count": null,
   "metadata": {
    "id": "d9wN_l-Prwz7"
   },
   "outputs": [],
   "source": []
  },
  {
   "cell_type": "markdown",
   "metadata": {
    "id": "A6yOi3pOslpJ"
   },
   "source": [
    "### 3.1 Key findings"
   ]
  },
  {
   "cell_type": "code",
   "execution_count": null,
   "metadata": {
    "id": "w8WT9OIrrxa2"
   },
   "outputs": [],
   "source": []
  },
  {
   "cell_type": "code",
   "execution_count": null,
   "metadata": {
    "id": "4H-bWHdGslD3"
   },
   "outputs": [],
   "source": []
  },
  {
   "cell_type": "code",
   "execution_count": null,
   "metadata": {
    "id": "IdnN7MB1rxXj"
   },
   "outputs": [],
   "source": []
  },
  {
   "cell_type": "markdown",
   "metadata": {
    "id": "GOb7mZgdsplD"
   },
   "source": [
    "### 3.2 Machine Learning research questions and justification"
   ]
  },
  {
   "cell_type": "code",
   "execution_count": null,
   "metadata": {
    "id": "OyeYHIUsrxRr"
   },
   "outputs": [],
   "source": []
  },
  {
   "cell_type": "code",
   "execution_count": null,
   "metadata": {
    "id": "qVQFsDpNrxOp"
   },
   "outputs": [],
   "source": []
  },
  {
   "cell_type": "code",
   "execution_count": null,
   "metadata": {
    "id": "7y3BM4OEp-IZ"
   },
   "outputs": [],
   "source": []
  },
  {
   "cell_type": "code",
   "execution_count": null,
   "metadata": {
    "id": "eIhwcn9Ksw3U"
   },
   "outputs": [],
   "source": []
  },
  {
   "cell_type": "markdown",
   "metadata": {
    "id": "iUtPZ9mIsx1n"
   },
   "source": [
    "## Reference"
   ]
  },
  {
   "cell_type": "markdown",
   "metadata": {
    "id": "7jDc3OLjsxxr"
   },
   "source": []
  },
  {
   "cell_type": "markdown",
   "metadata": {
    "id": "eyEV8wKnsxe6"
   },
   "source": []
  }
 ],
 "metadata": {
  "colab": {
   "authorship_tag": "ABX9TyP7P4nmcBIk0f7cuNinoHC5",
   "provenance": []
  },
  "kernelspec": {
   "display_name": "Python 3",
   "name": "python3"
  },
  "language_info": {
   "codemirror_mode": {
    "name": "ipython",
    "version": 3
   },
   "file_extension": ".py",
   "mimetype": "text/x-python",
   "name": "python",
   "nbconvert_exporter": "python",
   "pygments_lexer": "ipython3",
   "version": "3.13.1"
  }
 },
 "nbformat": 4,
 "nbformat_minor": 0
}
