{
 "cells": [
  {
   "cell_type": "markdown",
   "metadata": {
    "id": "NGiQ3gmhqX78"
   },
   "source": [
    "# **Week 1 Applied Session: Jupyter Notebook & Python**\n",
    "\n",
    "![](https://sharmamohit.com/work/post/jupyter-notebooks-in-blog/featured.png)"
   ]
  },
  {
   "cell_type": "markdown",
   "metadata": {
    "id": "Hqrw6RSOr9F5"
   },
   "source": [
    "## **What is Jupyter Notebook?**\n",
    "\n",
    "**Jupyter Notebook** is an open-source web application that allows you to create and share documents containing live code, equations, visualizations, and narrative text. It is widely used for data cleaning and transformation, numerical simulation, statistical modeling, data visualization, machine learning, and much more.\n"
   ]
  },
  {
   "cell_type": "markdown",
   "metadata": {
    "id": "2BOvJp4stXet"
   },
   "source": [
    "### **Key features of Jupyter Notebook**\n",
    "- **Interactive Coding**\n",
    "  \n",
    "  Write and execute code in real-time, see the results immediately, and adjust as needed. Supports various programming languages, including Python, R, Julia, and Scala through different kernels.\n",
    "\n",
    "- **Rich Text Support**\n",
    "\n",
    "  Use Markdown to add formatted text, images, links, and LaTeX equations to your notebooks. Create comprehensive documents with explanatory text alongside your code.\n",
    "\n",
    "- **Data Visualization**\n",
    "\n",
    "  Easily generate plots and charts using libraries like Matplotlib, Seaborn, and Plotly. Visualize data directly within the notebook interface.\n",
    "\n",
    "- **Integration with Data Science Libraries**\n",
    "\n",
    "  Seamlessly integrate with popular data science libraries such as Pandas, NumPy, SciPy, Scikit-Learn, and TensorFlow. Perform complex data analysis and machine learning tasks.\n",
    "\n",
    "- **Modular and Extensible**\n",
    "\n",
    "  Break your code into cells, allowing you to run and debug sections independently. Install and use various extensions to enhance functionality, like table of contents, variable inspector, and more.\n",
    "\n",
    "- **Collaborative Features**\n",
    "\n",
    "  Share notebooks via email, GitHub, or other collaboration platforms. Convert notebooks to various formats (HTML, PDF, slideshows) for presentation and sharing."
   ]
  },
  {
   "cell_type": "markdown",
   "metadata": {
    "id": "rreYFv0FtW4r"
   },
   "source": [
    "### **Main components**\n",
    "- A **kernel** is a \"computational engine\" that executes the code contained in a notebook document.\n",
    "- A **cell** is a container for text to be displayed in the notebook or code to be executed by the notebook's kernel.\n",
    " - **Code Cells**: Execute code by writing in a cell and running it. The output appears right below the cell.\n",
    " - **Markdown Cells**: Add narrative text using Markdown syntax for explanations, headers, bullet points, and links."
   ]
  },
  {
   "cell_type": "markdown",
   "metadata": {
    "id": "0xbxQWX207BU"
   },
   "source": [
    "---"
   ]
  },
  {
   "cell_type": "markdown",
   "metadata": {
    "id": "7_lJMl-A49kf"
   },
   "source": [
    "### **Installing Jupyter**\n",
    " - install the **classic Jupyter Notebook**, please find the instruction [here](https://jupyter.org/install)\n",
    "\n",
    " ![](https://www.dataquest.io/wp-content/uploads/2019/01/new-notebook.jpg)\n",
    "\n",
    " - install **Anaconda Distribution** to use Jupyter Notebook, please check [this](https://docs.anaconda.com/anaconda/install/)\n",
    "\n",
    " ![](https://miro.medium.com/v2/resize:fit:1200/1*CrzFvh-ha0mkhUrA3q786A.png)\n",
    "\n",
    "You can use **Google Colab** - a free Jupyter notebook environment that runs in the cloud. It's a good way to practice without needing to install anything. [Login](https://colab.google/) with your Monash account.\n",
    "\n",
    "![](https://miro.medium.com/v2/resize:fit:1400/1*P8zOLk30DrrgkSKeT8dNhw.png)"
   ]
  },
  {
   "cell_type": "markdown",
   "metadata": {
    "id": "R-zhbcd08YIp"
   },
   "source": [
    "---"
   ]
  },
  {
   "cell_type": "markdown",
   "metadata": {
    "id": "X_FEO7Yy86ZM"
   },
   "source": [
    "# **How to work with Jupyter Notebook?**\n",
    "\n",
    "In FIT5196, you need to use Jupyter Notebook to writing reports for group assessments. In the reports, you need to describe and demonstrate your solutions to the tasks using markdown text and Python codes."
   ]
  },
  {
   "cell_type": "markdown",
   "metadata": {
    "id": "SSzXOSAC_XF7"
   },
   "source": [
    "## **1. Markdown**\n",
    "\n",
    "Markdown is how you can write text, create links, show images and videos.\n",
    "Markdown is ironically a mark-up language. You might know of other mark-up languages like HTML, where a small number of character combinations are used to indicate formatting of the text.\n",
    "\n",
    "Markdown's set of formatting characters are quite unobtrusive and take little effort to write and don't get in the way of reading it, even in it's raw (unformatted) state.\n",
    "\n",
    "### **1.1 Headings**\n",
    "\n",
    "The '#' key will create headings, with '#' being the biggest up to '#####' being the smallest.\n",
    "\n",
    "For example,\n",
    "# Heading level 1\n",
    "## Heading level 2\n",
    "### Heading level 3\n",
    "#### Heading level 4\n",
    "##### Heading level 5\n",
    "\n",
    "\n",
    "### **1.2 Bullet points**\n",
    "\n",
    "The '-' will create a bullet point\n",
    "\n",
    "- Bread\n",
    " - white bread\n",
    " - wholemeal bread\n",
    "- Milk\n",
    " - full cream\n",
    " - low fat\n",
    "- Butter\n",
    "- Cheese\n",
    "\n",
    "### **1.3 Numbered lists**\n",
    "\n",
    "Replace the '-' with numbers (they numbers don't have to be in order), to get a numbered list\n",
    "\n",
    "1. Learn Data Science\n",
    " 1. FIT5145\n",
    " 2. FIT5147\n",
    " 3. FIT5196\n",
    " 4. FIT5197\n",
    "2. Do Analysis\n",
    "3. Profit!\n",
    "\n",
    "**Note**: You can nest unordered list in an ordered list, or vice versa.\n",
    "\n",
    "1. First item\n",
    "2. Second item\n",
    "3. Third item\n",
    "    - Indented item\n",
    "    - Indented item\n",
    "4. Fourth item\n",
    "\n",
    "### **1.4 Links and images**\n",
    "\n",
    "Creating links is done with the `[]()` combination. Place the URL in the round brackets and the link text in the square brackets.\n",
    "\n",
    "[Markdown Cheatsheet](https://enterprise.github.com/downloads/en/markdown-cheatsheet.pdf)\n",
    "\n",
    "Images uses the same combination with an exclamation mark in front `![]()`\n",
    "\n",
    "When attaching images, you have three options:\n",
    "\n",
    " - Use a URL to an image on the web.\n",
    " - Use a local URL to an image that you will be keeping alongside your notebook, such as in the same git repo.\n",
    " - Add an attachment; this will convert the image into a string and store it inside your notebook `.ipynb` file. Note that this will make your `.ipynb` file much larger!\n",
    "\n",
    "\n",
    "### **1.5 Tables**\n",
    "\n",
    "You can insert a table in markdown like this:\n",
    "\n",
    "Column 1 | Column 2 | Column 3\n",
    "---|---|---\n",
    "value 1 | value 2 | value 3\n",
    "value 4 | value 5 | value 6\n",
    "... | ... | ...\n",
    "\n",
    "\n",
    "**More markdown syntax could be found [here](https://www.markdownguide.org/basic-syntax/).**"
   ]
  },
  {
   "cell_type": "markdown",
   "metadata": {
    "id": "PHi4vxqRA3a_"
   },
   "source": [
    "\n",
    "---\n",
    "\n"
   ]
  },
  {
   "cell_type": "markdown",
   "metadata": {
    "id": "D1R8VUrKzWGT"
   },
   "source": [
    "## **Task 1: Use markdown to summarise your past experiences with data analysis**\n",
    "1. provide a brief introduction of the data you worked with before.\n",
    "2. list if there are any challenges to process the data, any data issues.\n",
    "3. describe the methods you used to deal with the above challenges.\n",
    "4. what did you learn from your work?\n"
   ]
  },
  {
   "cell_type": "markdown",
   "metadata": {
    "id": "lNKFaizm3NjO"
   },
   "source": [
    "<font color=blue>*Write down your summary here*</font>\n",
    "\n",
    "\n",
    "\n"
   ]
  },
  {
   "cell_type": "markdown",
   "metadata": {
    "id": "HQLMzeYJ3oBU"
   },
   "source": [
    "\n",
    "\n",
    "---\n",
    "\n"
   ]
  },
  {
   "cell_type": "markdown",
   "metadata": {
    "id": "x16wuO_-390k"
   },
   "source": [
    "## **2. Code**\n",
    "\n",
    "The first cell in a new notebook is always a code cell. Code cells in Jupyter Notebooks provide a powerful and interactive environment for writing and executing code. They support incremental development, rich outputs, and seamless integration with other cell types, making them ideal for data analysis, scientific research, and educational purposes.\n",
    "\n",
    "Everytime when one code cell is run, the nubmer in the `[]` increases 1, which indicates when the cell was excuted on the kernel. The output of a code cell also forms part of the document. You can easily check the correctness of your code by reading the outputs.\n",
    "\n",
    "**Note**: You need to display all the output of your solutions in the submission of your assessment work in FIT5196."
   ]
  },
  {
   "cell_type": "markdown",
   "metadata": {
    "id": "4X4D9JHSAjXt"
   },
   "source": [
    "Create a code cell and start typing your code:"
   ]
  },
  {
   "cell_type": "code",
   "execution_count": null,
   "metadata": {
    "id": "9Ayo9MyrA4Xq"
   },
   "outputs": [],
   "source": [
    "x = 2\n",
    "y = 3\n",
    "x + y"
   ]
  },
  {
   "cell_type": "markdown",
   "metadata": {
    "id": "amSfoe8jCUc3"
   },
   "source": [
    "Let's look at a more complex example that can display different types of outputs:"
   ]
  },
  {
   "cell_type": "code",
   "execution_count": null,
   "metadata": {
    "id": "psPrqkiWBC5n"
   },
   "outputs": [],
   "source": [
    "import matplotlib.pyplot as plt\n",
    "import numpy as np\n",
    "\n",
    "x = np.linspace(0, 10, 100)\n",
    "y = np.sin(x)\n",
    "\n",
    "plt.plot(x, y)\n",
    "plt.show()"
   ]
  },
  {
   "cell_type": "markdown",
   "metadata": {
    "id": "VNobft4awfrK"
   },
   "source": [
    "### **2.1 Basic `for` loop **\n",
    "\n",
    "A basic `for` loop iterates over a sequence (such as a list, tuple, or string) and executes a block of code for each item in the sequence.\n",
    "\n",
    "*Example 1: iterating over a list*"
   ]
  },
  {
   "cell_type": "code",
   "execution_count": null,
   "metadata": {
    "id": "bXWc76L8Fd-Z"
   },
   "outputs": [],
   "source": [
    "# List of fruits\n",
    "fruits = [\"apple\", \"banana\", \"cherry\"]\n",
    "\n",
    "# For loop to iterate over the list\n",
    "for fruit in fruits:\n",
    "    print(fruit)"
   ]
  },
  {
   "cell_type": "markdown",
   "metadata": {
    "id": "uqnbXDrrF7PC"
   },
   "source": [
    "*Example 2: Iterating over a string*"
   ]
  },
  {
   "cell_type": "code",
   "execution_count": null,
   "metadata": {
    "id": "f6Fn23I2GAu2"
   },
   "outputs": [],
   "source": [
    "# String\n",
    "word = \"hello\"\n",
    "\n",
    "# For loop to iterate over each character in the string\n",
    "for char in word:\n",
    "    print(char)"
   ]
  },
  {
   "cell_type": "markdown",
   "metadata": {
    "id": "VdUCE1Xv5a68"
   },
   "source": [
    "*Example 3: Interating over a range of numbers*"
   ]
  },
  {
   "cell_type": "code",
   "execution_count": null,
   "metadata": {
    "id": "dYtAZwoiGesw"
   },
   "outputs": [],
   "source": [
    "# For loop to iterate over a range of numbers\n",
    "for i in range(5):\n",
    "    print(i)"
   ]
  },
  {
   "cell_type": "markdown",
   "metadata": {
    "id": "lgsV7V7p5axk"
   },
   "source": [
    "*Example 4: Nested for loops*"
   ]
  },
  {
   "cell_type": "code",
   "execution_count": null,
   "metadata": {
    "id": "KqAqWCPhGyHM"
   },
   "outputs": [],
   "source": [
    "# Nested for loops to print a multiplication table\n",
    "for i in range(1, 6):\n",
    "    for j in range(1, 6):\n",
    "        print(i * j, end=\"\\t\")\n",
    "    print()"
   ]
  },
  {
   "cell_type": "markdown",
   "metadata": {
    "id": "UhgvF-6W5anK"
   },
   "source": [
    "### **2.2 Define your own function**\n",
    "\n",
    "You can define your own functions for specific tasks.\n",
    "\n",
    "For example,\n",
    "- the `def` keyword is used to define a function.\n",
    "- `greet` is the name of the function.\n",
    "- `name` is a parameter that the function accepts.\n",
    "- The colon `:` indicates the beginning of the function body."
   ]
  },
  {
   "cell_type": "code",
   "execution_count": null,
   "metadata": {
    "id": "hHrAonJHIAa0"
   },
   "outputs": [],
   "source": [
    "def greet(name):\n",
    "    \"\"\"\n",
    "    This function greets the person whose name is passed as an argument.\n",
    "    \"\"\"\n",
    "    print(f\"Hello, {name}! Welcome to Python programming.\")\n",
    "\n",
    "# Call the function with an example name\n",
    "greet(\"Alice\")"
   ]
  },
  {
   "cell_type": "markdown",
   "metadata": {
    "id": "Wby3DC9XIFpM"
   },
   "source": [
    "You can define all your functions first, and then call and execute them later."
   ]
  },
  {
   "cell_type": "code",
   "execution_count": null,
   "metadata": {
    "id": "0-SXW8YKJl4C"
   },
   "outputs": [],
   "source": [
    "greet(\"James\")"
   ]
  },
  {
   "cell_type": "markdown",
   "metadata": {
    "id": "Z5BM9mRsIE6u"
   },
   "source": [
    "\n",
    "\n",
    "---\n",
    "\n"
   ]
  },
  {
   "cell_type": "markdown",
   "metadata": {
    "id": "Ys0zf_G2IIMd"
   },
   "source": [
    "## **Task 2: Write a python function to transpose a given matrix**"
   ]
  },
  {
   "cell_type": "markdown",
   "metadata": {
    "id": "y_v01xpMIchx"
   },
   "source": [
    "Define a function named `transpose_matrix`. The function should take a matrix (a list of lists) as input."
   ]
  },
  {
   "cell_type": "code",
   "execution_count": null,
   "metadata": {
    "id": "FZ_y-7InNpel"
   },
   "outputs": [],
   "source": [
    "# Input matrix\n",
    "matrix = [\n",
    "    [1, 2, 3],\n",
    "    [4, 5, 6],\n",
    "    [7, 8, 9]\n",
    "]\n",
    "\n",
    "# Output matrix (transpose)\n",
    "# [\n",
    "#     [1, 4, 7],\n",
    "#     [2, 5, 8],\n",
    "#     [3, 6, 9]\n",
    "# ]\n"
   ]
  },
  {
   "cell_type": "code",
   "execution_count": null,
   "metadata": {
    "id": "CBsqeWDJIfGG"
   },
   "outputs": [],
   "source": [
    "# insert your code here\n",
    "\n",
    "def transpose_matrix(matrix):\n",
    "    \"\"\"\n",
    "    This function takes a matrix (a list of lists) and returns its transpose.\n",
    "    \"\"\"\n",
    "    # Get the number of rows and columns\n",
    "    rows = len(matrix)\n",
    "    cols = len(matrix[0])\n",
    "\n",
    "    # Initialize an empty matrix for the transpose\n",
    "    transpose = []\n",
    "\n",
    "    # Use nested for loops to create the transposed matrix\n",
    "    for col in range(cols):\n",
    "        # Create a new row for the transposed matrix\n",
    "        new_row = []\n",
    "        for row in range(rows):\n",
    "            # Append the element from the original matrix to the new row\n",
    "            new_row.append(matrix[row][col])\n",
    "        # Append the new row to the transposed matrix\n",
    "        transpose.append(new_row)\n",
    "\n",
    "    return transpose\n",
    "\n",
    "# Test the function with the example matrix\n",
    "matrix = [\n",
    "    [1, 2, 3],\n",
    "    [4, 5, 6],\n",
    "    [7, 8, 9]\n",
    "]\n",
    "\n",
    "transposed_matrix = transpose_matrix(matrix)\n",
    "\n",
    "# Print the original matrix\n",
    "print(\"Original Matrix:\")\n",
    "for row in matrix:\n",
    "    print(row)\n",
    "\n",
    "# Print the transposed matrix\n",
    "print(\"\\nTransposed Matrix:\")\n",
    "for row in transposed_matrix:\n",
    "    print(row)\n"
   ]
  },
  {
   "cell_type": "markdown",
   "metadata": {
    "id": "tzZ9VfbzIcNJ"
   },
   "source": [
    "\n",
    "\n",
    "---\n",
    "\n"
   ]
  },
  {
   "cell_type": "markdown",
   "metadata": {
    "id": "8TEkvcf45aWt"
   },
   "source": [
    "# **3. Some Basic Notebook Shortcut Keys**\n",
    "\n",
    "There are two **modes** in the Jupyter Notebook.\n",
    "\n",
    "- Hit the `esc` key for **command mode**, the cell border will turn blue\n",
    "- Hit the `return` key for **edit mode**, cell border turns green\n",
    "\n",
    "Command mode lets us talk to the Notebook, edit mode is where we write code in the cell.\n",
    "\n",
    "Finally\n",
    "- Hit `shift` +`return` to run the code. They are side by side on the right of the keyboard.\n",
    "\n",
    "**In command mode (blue border)**\n",
    "\n",
    "Key|Function\n",
    "--|--\n",
    "b|create cell below\n",
    "a|create cell above\n",
    "x|cut cell\n",
    "v|paste cell\n",
    "m|change to markdown cell\n",
    "y|change to code cell\n",
    "l|line numbers\n",
    "\n",
    "**Most importantly**\n",
    "\n",
    "If you hit the `esc` key to go into command mode and hit `h`, you will bring up a help page with all the shortcuts."
   ]
  }
 ],
 "metadata": {
  "colab": {
   "provenance": []
  },
  "kernelspec": {
   "display_name": "Python 3 (ipykernel)",
   "language": "python",
   "name": "python3"
  },
  "language_info": {
   "codemirror_mode": {
    "name": "ipython",
    "version": 3
   },
   "file_extension": ".py",
   "mimetype": "text/x-python",
   "name": "python",
   "nbconvert_exporter": "python",
   "pygments_lexer": "ipython3",
   "version": "3.9.6"
  }
 },
 "nbformat": 4,
 "nbformat_minor": 1
}
