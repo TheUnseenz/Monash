{
  "cells": [
    {
      "cell_type": "markdown",
      "metadata": {
        "id": "7VNOdcNk1Nwf"
      },
      "source": [
        "# 1. Missing values and imputation\n",
        "\n",
        "\n",
        "**Source of missing values:**\n",
        "\n",
        "* Data Extraction: It is possible that there are problems with extraction process. In such cases, we should double-check for correct data with data guardians. Some hashing procedures can also be used to make sure that data extraction is correct. Errors at data extraction stage are typically easy to find and can be corrected easily as well.\n",
        "* Data collection: These errors occur at time of data collection and are harder to correct. They can be categorized in four types:\n",
        ">* Missing completely at random: This is a case when the probability of missing variable is same for all observations. For example: respondents of data collection process decide that they will declare their earning after tossing a fair coin. If an head occurs, respondent declares his / her earnings & vice versa. Here each observation has equal chance of missing value.\n",
        ">* Missing at random: This is a case when variable is missing at random and missing ratio varies for different values / level of other input variables. For example: We are collecting data for age and female has higher missing value compare to male.\n",
        ">* Missing that depends on unobserved predictors: This is a case when the missing values are not random and are related to the unobserved input variable. For example: In a medical study, if a particular diagnostic causes discomfort, then there is higher chance of drop out from the study. This missing value is not at random unless we have included “discomfort” as an input variable for all patients.\n",
        ">* Missing that depends on the missing value itself: This is a case when the probability of missing value is directly correlated with missing value itself. For example: People with higher or lower income are likely to provide non-response to their earning.\n",
        "\n",
        "We are going to use the Titanic dataset again in this tutorial to explore missing data."
      ]
    },
    {
      "cell_type": "code",
      "execution_count": null,
      "metadata": {
        "id": "dROj6w4o1QSS"
      },
      "outputs": [],
      "source": [
        "# from google.colab import drive\n",
        "drive.mount('/content/drive')"
      ]
    },
    {
      "cell_type": "code",
      "execution_count": null,
      "metadata": {
        "id": "gODQJAyg1Nwj"
      },
      "outputs": [],
      "source": [
        "#import library\n",
        "import pandas as pd\n",
        "import numpy as np"
      ]
    },
    {
      "cell_type": "code",
      "execution_count": null,
      "metadata": {
        "id": "PjpQ7LXMtvcr"
      },
      "outputs": [],
      "source": [
        "root_path = '/content/drive/Shareddrives/FIT5196_S2_2025/week8/'"
      ]
    },
    {
      "cell_type": "code",
      "execution_count": null,
      "metadata": {
        "id": "CJnhLvJr1Nwk"
      },
      "outputs": [],
      "source": [
        "#load the data\n",
        "root_path = '.'\n",
        "titanic_passenger_df = pd.read_csv(f'{root_path}/titanic passenger list.csv')"
      ]
    },
    {
      "cell_type": "markdown",
      "metadata": {
        "id": "TBk3Ko7H1Nwl"
      },
      "source": [
        "We would normally check some data basics before analysis, such as\n",
        "* length (rows)\n",
        "* width (or columns)\n",
        "* column types\n",
        "* basic stats\n",
        "* head & tail of data\n",
        "\n",
        "We will skip this step in this tutorial."
      ]
    },
    {
      "cell_type": "markdown",
      "metadata": {
        "id": "zC2TS0iT1Nwl"
      },
      "source": [
        "## 1.1 Check missing values\n",
        "\n",
        "\n",
        "`info()`\n",
        "* tells us total number of records\n",
        "* gives us details on datatype, 'object' here means string, the others are int and float\n",
        "* also include see 'non-null' observations for each data column\n",
        "\n",
        "`describe()` by default tabulates numeric data, which report on:\n",
        "* descriptive statistics\n",
        "* number of non-null observations in \"count\"\n",
        "* with \"include='all'\" will include all columns and \"include=['O']\" will include objects\n",
        "\n",
        "`.isnull().sum()`\n",
        "* will return sum of missing values for each column"
      ]
    },
    {
      "cell_type": "code",
      "execution_count": null,
      "metadata": {
        "colab": {
          "base_uri": "https://localhost:8080/"
        },
        "id": "bL1YoQi71Nwl",
        "outputId": "c21005b6-3fa5-44e8-d4b7-fa35ae208d5f"
      },
      "outputs": [
        {
          "name": "stdout",
          "output_type": "stream",
          "text": [
            "<class 'pandas.core.frame.DataFrame'>\n",
            "RangeIndex: 1309 entries, 0 to 1308\n",
            "Data columns (total 14 columns):\n",
            " #   Column     Non-Null Count  Dtype  \n",
            "---  ------     --------------  -----  \n",
            " 0   pclass     1309 non-null   int64  \n",
            " 1   survived   1309 non-null   int64  \n",
            " 2   name       1309 non-null   object \n",
            " 3   sex        1309 non-null   object \n",
            " 4   age        1046 non-null   float64\n",
            " 5   sibsp      1309 non-null   int64  \n",
            " 6   parch      1309 non-null   int64  \n",
            " 7   ticket     1309 non-null   object \n",
            " 8   fare       1308 non-null   float64\n",
            " 9   cabin      295 non-null    object \n",
            " 10  embarked   1307 non-null   object \n",
            " 11  boat       486 non-null    object \n",
            " 12  body       121 non-null    float64\n",
            " 13  home.dest  745 non-null    object \n",
            "dtypes: float64(3), int64(4), object(7)\n",
            "memory usage: 143.3+ KB\n"
          ]
        }
      ],
      "source": [
        "titanic_passenger_df.info()"
      ]
    },
    {
      "cell_type": "markdown",
      "metadata": {
        "id": "bySxw-J31Nwn"
      },
      "source": [
        "There are 1309 x 14 records and there are many missing values in `age`,`fare` (one record) `cabin`, `boat`, `body` and `home.dest`."
      ]
    },
    {
      "cell_type": "code",
      "execution_count": null,
      "metadata": {
        "colab": {
          "base_uri": "https://localhost:8080/",
          "height": 300
        },
        "id": "tMKsUPtq1Nwn",
        "outputId": "cd3b5422-1eb8-45e4-e595-17f7c6faf51e"
      },
      "outputs": [
        {
          "data": {
            "text/html": [
              "<div>\n",
              "<style scoped>\n",
              "    .dataframe tbody tr th:only-of-type {\n",
              "        vertical-align: middle;\n",
              "    }\n",
              "\n",
              "    .dataframe tbody tr th {\n",
              "        vertical-align: top;\n",
              "    }\n",
              "\n",
              "    .dataframe thead th {\n",
              "        text-align: right;\n",
              "    }\n",
              "</style>\n",
              "<table border=\"1\" class=\"dataframe\">\n",
              "  <thead>\n",
              "    <tr style=\"text-align: right;\">\n",
              "      <th></th>\n",
              "      <th>pclass</th>\n",
              "      <th>survived</th>\n",
              "      <th>age</th>\n",
              "      <th>sibsp</th>\n",
              "      <th>parch</th>\n",
              "      <th>fare</th>\n",
              "      <th>body</th>\n",
              "    </tr>\n",
              "  </thead>\n",
              "  <tbody>\n",
              "    <tr>\n",
              "      <th>count</th>\n",
              "      <td>1309.000000</td>\n",
              "      <td>1309.000000</td>\n",
              "      <td>1046.000000</td>\n",
              "      <td>1309.000000</td>\n",
              "      <td>1309.000000</td>\n",
              "      <td>1308.000000</td>\n",
              "      <td>121.000000</td>\n",
              "    </tr>\n",
              "    <tr>\n",
              "      <th>mean</th>\n",
              "      <td>2.294882</td>\n",
              "      <td>0.381971</td>\n",
              "      <td>29.881138</td>\n",
              "      <td>0.498854</td>\n",
              "      <td>0.385027</td>\n",
              "      <td>33.295479</td>\n",
              "      <td>160.809917</td>\n",
              "    </tr>\n",
              "    <tr>\n",
              "      <th>std</th>\n",
              "      <td>0.837836</td>\n",
              "      <td>0.486055</td>\n",
              "      <td>14.413493</td>\n",
              "      <td>1.041658</td>\n",
              "      <td>0.865560</td>\n",
              "      <td>51.758668</td>\n",
              "      <td>97.696922</td>\n",
              "    </tr>\n",
              "    <tr>\n",
              "      <th>min</th>\n",
              "      <td>1.000000</td>\n",
              "      <td>0.000000</td>\n",
              "      <td>0.170000</td>\n",
              "      <td>0.000000</td>\n",
              "      <td>0.000000</td>\n",
              "      <td>0.000000</td>\n",
              "      <td>1.000000</td>\n",
              "    </tr>\n",
              "    <tr>\n",
              "      <th>25%</th>\n",
              "      <td>2.000000</td>\n",
              "      <td>0.000000</td>\n",
              "      <td>21.000000</td>\n",
              "      <td>0.000000</td>\n",
              "      <td>0.000000</td>\n",
              "      <td>7.895800</td>\n",
              "      <td>72.000000</td>\n",
              "    </tr>\n",
              "    <tr>\n",
              "      <th>50%</th>\n",
              "      <td>3.000000</td>\n",
              "      <td>0.000000</td>\n",
              "      <td>28.000000</td>\n",
              "      <td>0.000000</td>\n",
              "      <td>0.000000</td>\n",
              "      <td>14.454200</td>\n",
              "      <td>155.000000</td>\n",
              "    </tr>\n",
              "    <tr>\n",
              "      <th>75%</th>\n",
              "      <td>3.000000</td>\n",
              "      <td>1.000000</td>\n",
              "      <td>39.000000</td>\n",
              "      <td>1.000000</td>\n",
              "      <td>0.000000</td>\n",
              "      <td>31.275000</td>\n",
              "      <td>256.000000</td>\n",
              "    </tr>\n",
              "    <tr>\n",
              "      <th>max</th>\n",
              "      <td>3.000000</td>\n",
              "      <td>1.000000</td>\n",
              "      <td>80.000000</td>\n",
              "      <td>8.000000</td>\n",
              "      <td>9.000000</td>\n",
              "      <td>512.329200</td>\n",
              "      <td>328.000000</td>\n",
              "    </tr>\n",
              "  </tbody>\n",
              "</table>\n",
              "</div>"
            ],
            "text/plain": [
              "            pclass     survived          age        sibsp        parch  \\\n",
              "count  1309.000000  1309.000000  1046.000000  1309.000000  1309.000000   \n",
              "mean      2.294882     0.381971    29.881138     0.498854     0.385027   \n",
              "std       0.837836     0.486055    14.413493     1.041658     0.865560   \n",
              "min       1.000000     0.000000     0.170000     0.000000     0.000000   \n",
              "25%       2.000000     0.000000    21.000000     0.000000     0.000000   \n",
              "50%       3.000000     0.000000    28.000000     0.000000     0.000000   \n",
              "75%       3.000000     1.000000    39.000000     1.000000     0.000000   \n",
              "max       3.000000     1.000000    80.000000     8.000000     9.000000   \n",
              "\n",
              "              fare        body  \n",
              "count  1308.000000  121.000000  \n",
              "mean     33.295479  160.809917  \n",
              "std      51.758668   97.696922  \n",
              "min       0.000000    1.000000  \n",
              "25%       7.895800   72.000000  \n",
              "50%      14.454200  155.000000  \n",
              "75%      31.275000  256.000000  \n",
              "max     512.329200  328.000000  "
            ]
          },
          "execution_count": 156,
          "metadata": {},
          "output_type": "execute_result"
        }
      ],
      "source": [
        "titanic_passenger_df.describe()"
      ]
    },
    {
      "cell_type": "code",
      "execution_count": null,
      "metadata": {
        "colab": {
          "base_uri": "https://localhost:8080/",
          "height": 175
        },
        "id": "r0OLkJcx1Nwo",
        "outputId": "0f4b1fc7-b44e-4163-d88f-0d989bb5243b"
      },
      "outputs": [
        {
          "data": {
            "text/html": [
              "<div>\n",
              "<style scoped>\n",
              "    .dataframe tbody tr th:only-of-type {\n",
              "        vertical-align: middle;\n",
              "    }\n",
              "\n",
              "    .dataframe tbody tr th {\n",
              "        vertical-align: top;\n",
              "    }\n",
              "\n",
              "    .dataframe thead th {\n",
              "        text-align: right;\n",
              "    }\n",
              "</style>\n",
              "<table border=\"1\" class=\"dataframe\">\n",
              "  <thead>\n",
              "    <tr style=\"text-align: right;\">\n",
              "      <th></th>\n",
              "      <th>name</th>\n",
              "      <th>sex</th>\n",
              "      <th>ticket</th>\n",
              "      <th>cabin</th>\n",
              "      <th>embarked</th>\n",
              "      <th>boat</th>\n",
              "      <th>home.dest</th>\n",
              "    </tr>\n",
              "  </thead>\n",
              "  <tbody>\n",
              "    <tr>\n",
              "      <th>count</th>\n",
              "      <td>1309</td>\n",
              "      <td>1309</td>\n",
              "      <td>1309</td>\n",
              "      <td>295</td>\n",
              "      <td>1307</td>\n",
              "      <td>486</td>\n",
              "      <td>745</td>\n",
              "    </tr>\n",
              "    <tr>\n",
              "      <th>unique</th>\n",
              "      <td>1307</td>\n",
              "      <td>2</td>\n",
              "      <td>929</td>\n",
              "      <td>186</td>\n",
              "      <td>3</td>\n",
              "      <td>27</td>\n",
              "      <td>369</td>\n",
              "    </tr>\n",
              "    <tr>\n",
              "      <th>top</th>\n",
              "      <td>Connolly, Miss. Kate</td>\n",
              "      <td>male</td>\n",
              "      <td>CA. 2343</td>\n",
              "      <td>C23 C25 C27</td>\n",
              "      <td>S</td>\n",
              "      <td>13</td>\n",
              "      <td>New York, NY</td>\n",
              "    </tr>\n",
              "    <tr>\n",
              "      <th>freq</th>\n",
              "      <td>2</td>\n",
              "      <td>843</td>\n",
              "      <td>11</td>\n",
              "      <td>6</td>\n",
              "      <td>914</td>\n",
              "      <td>39</td>\n",
              "      <td>64</td>\n",
              "    </tr>\n",
              "  </tbody>\n",
              "</table>\n",
              "</div>"
            ],
            "text/plain": [
              "                        name   sex    ticket        cabin embarked boat  \\\n",
              "count                   1309  1309      1309          295     1307  486   \n",
              "unique                  1307     2       929          186        3   27   \n",
              "top     Connolly, Miss. Kate  male  CA. 2343  C23 C25 C27        S   13   \n",
              "freq                       2   843        11            6      914   39   \n",
              "\n",
              "           home.dest  \n",
              "count            745  \n",
              "unique           369  \n",
              "top     New York, NY  \n",
              "freq              64  "
            ]
          },
          "execution_count": 157,
          "metadata": {},
          "output_type": "execute_result"
        }
      ],
      "source": [
        "titanic_passenger_df.describe(include=['O']) # 'O' for Objects"
      ]
    },
    {
      "cell_type": "code",
      "execution_count": null,
      "metadata": {
        "colab": {
          "base_uri": "https://localhost:8080/",
          "height": 449
        },
        "id": "yKj3LjAkF-Jm",
        "outputId": "6b6bca79-e940-45a6-ef2a-f1a84d7576b8"
      },
      "outputs": [
        {
          "data": {
            "text/html": [
              "<div>\n",
              "<style scoped>\n",
              "    .dataframe tbody tr th:only-of-type {\n",
              "        vertical-align: middle;\n",
              "    }\n",
              "\n",
              "    .dataframe tbody tr th {\n",
              "        vertical-align: top;\n",
              "    }\n",
              "\n",
              "    .dataframe thead th {\n",
              "        text-align: right;\n",
              "    }\n",
              "</style>\n",
              "<table border=\"1\" class=\"dataframe\">\n",
              "  <thead>\n",
              "    <tr style=\"text-align: right;\">\n",
              "      <th></th>\n",
              "      <th>pclass</th>\n",
              "      <th>survived</th>\n",
              "      <th>name</th>\n",
              "      <th>sex</th>\n",
              "      <th>age</th>\n",
              "      <th>sibsp</th>\n",
              "      <th>parch</th>\n",
              "      <th>ticket</th>\n",
              "      <th>fare</th>\n",
              "      <th>cabin</th>\n",
              "      <th>embarked</th>\n",
              "      <th>boat</th>\n",
              "      <th>body</th>\n",
              "      <th>home.dest</th>\n",
              "    </tr>\n",
              "  </thead>\n",
              "  <tbody>\n",
              "    <tr>\n",
              "      <th>count</th>\n",
              "      <td>1309.000000</td>\n",
              "      <td>1309.000000</td>\n",
              "      <td>1309</td>\n",
              "      <td>1309</td>\n",
              "      <td>1046.000000</td>\n",
              "      <td>1309.000000</td>\n",
              "      <td>1309.000000</td>\n",
              "      <td>1309</td>\n",
              "      <td>1308.000000</td>\n",
              "      <td>295</td>\n",
              "      <td>1307</td>\n",
              "      <td>486</td>\n",
              "      <td>121.000000</td>\n",
              "      <td>745</td>\n",
              "    </tr>\n",
              "    <tr>\n",
              "      <th>unique</th>\n",
              "      <td>NaN</td>\n",
              "      <td>NaN</td>\n",
              "      <td>1307</td>\n",
              "      <td>2</td>\n",
              "      <td>NaN</td>\n",
              "      <td>NaN</td>\n",
              "      <td>NaN</td>\n",
              "      <td>929</td>\n",
              "      <td>NaN</td>\n",
              "      <td>186</td>\n",
              "      <td>3</td>\n",
              "      <td>27</td>\n",
              "      <td>NaN</td>\n",
              "      <td>369</td>\n",
              "    </tr>\n",
              "    <tr>\n",
              "      <th>top</th>\n",
              "      <td>NaN</td>\n",
              "      <td>NaN</td>\n",
              "      <td>Connolly, Miss. Kate</td>\n",
              "      <td>male</td>\n",
              "      <td>NaN</td>\n",
              "      <td>NaN</td>\n",
              "      <td>NaN</td>\n",
              "      <td>CA. 2343</td>\n",
              "      <td>NaN</td>\n",
              "      <td>C23 C25 C27</td>\n",
              "      <td>S</td>\n",
              "      <td>13</td>\n",
              "      <td>NaN</td>\n",
              "      <td>New York, NY</td>\n",
              "    </tr>\n",
              "    <tr>\n",
              "      <th>freq</th>\n",
              "      <td>NaN</td>\n",
              "      <td>NaN</td>\n",
              "      <td>2</td>\n",
              "      <td>843</td>\n",
              "      <td>NaN</td>\n",
              "      <td>NaN</td>\n",
              "      <td>NaN</td>\n",
              "      <td>11</td>\n",
              "      <td>NaN</td>\n",
              "      <td>6</td>\n",
              "      <td>914</td>\n",
              "      <td>39</td>\n",
              "      <td>NaN</td>\n",
              "      <td>64</td>\n",
              "    </tr>\n",
              "    <tr>\n",
              "      <th>mean</th>\n",
              "      <td>2.294882</td>\n",
              "      <td>0.381971</td>\n",
              "      <td>NaN</td>\n",
              "      <td>NaN</td>\n",
              "      <td>29.881138</td>\n",
              "      <td>0.498854</td>\n",
              "      <td>0.385027</td>\n",
              "      <td>NaN</td>\n",
              "      <td>33.295479</td>\n",
              "      <td>NaN</td>\n",
              "      <td>NaN</td>\n",
              "      <td>NaN</td>\n",
              "      <td>160.809917</td>\n",
              "      <td>NaN</td>\n",
              "    </tr>\n",
              "    <tr>\n",
              "      <th>std</th>\n",
              "      <td>0.837836</td>\n",
              "      <td>0.486055</td>\n",
              "      <td>NaN</td>\n",
              "      <td>NaN</td>\n",
              "      <td>14.413493</td>\n",
              "      <td>1.041658</td>\n",
              "      <td>0.865560</td>\n",
              "      <td>NaN</td>\n",
              "      <td>51.758668</td>\n",
              "      <td>NaN</td>\n",
              "      <td>NaN</td>\n",
              "      <td>NaN</td>\n",
              "      <td>97.696922</td>\n",
              "      <td>NaN</td>\n",
              "    </tr>\n",
              "    <tr>\n",
              "      <th>min</th>\n",
              "      <td>1.000000</td>\n",
              "      <td>0.000000</td>\n",
              "      <td>NaN</td>\n",
              "      <td>NaN</td>\n",
              "      <td>0.170000</td>\n",
              "      <td>0.000000</td>\n",
              "      <td>0.000000</td>\n",
              "      <td>NaN</td>\n",
              "      <td>0.000000</td>\n",
              "      <td>NaN</td>\n",
              "      <td>NaN</td>\n",
              "      <td>NaN</td>\n",
              "      <td>1.000000</td>\n",
              "      <td>NaN</td>\n",
              "    </tr>\n",
              "    <tr>\n",
              "      <th>25%</th>\n",
              "      <td>2.000000</td>\n",
              "      <td>0.000000</td>\n",
              "      <td>NaN</td>\n",
              "      <td>NaN</td>\n",
              "      <td>21.000000</td>\n",
              "      <td>0.000000</td>\n",
              "      <td>0.000000</td>\n",
              "      <td>NaN</td>\n",
              "      <td>7.895800</td>\n",
              "      <td>NaN</td>\n",
              "      <td>NaN</td>\n",
              "      <td>NaN</td>\n",
              "      <td>72.000000</td>\n",
              "      <td>NaN</td>\n",
              "    </tr>\n",
              "    <tr>\n",
              "      <th>50%</th>\n",
              "      <td>3.000000</td>\n",
              "      <td>0.000000</td>\n",
              "      <td>NaN</td>\n",
              "      <td>NaN</td>\n",
              "      <td>28.000000</td>\n",
              "      <td>0.000000</td>\n",
              "      <td>0.000000</td>\n",
              "      <td>NaN</td>\n",
              "      <td>14.454200</td>\n",
              "      <td>NaN</td>\n",
              "      <td>NaN</td>\n",
              "      <td>NaN</td>\n",
              "      <td>155.000000</td>\n",
              "      <td>NaN</td>\n",
              "    </tr>\n",
              "    <tr>\n",
              "      <th>75%</th>\n",
              "      <td>3.000000</td>\n",
              "      <td>1.000000</td>\n",
              "      <td>NaN</td>\n",
              "      <td>NaN</td>\n",
              "      <td>39.000000</td>\n",
              "      <td>1.000000</td>\n",
              "      <td>0.000000</td>\n",
              "      <td>NaN</td>\n",
              "      <td>31.275000</td>\n",
              "      <td>NaN</td>\n",
              "      <td>NaN</td>\n",
              "      <td>NaN</td>\n",
              "      <td>256.000000</td>\n",
              "      <td>NaN</td>\n",
              "    </tr>\n",
              "    <tr>\n",
              "      <th>max</th>\n",
              "      <td>3.000000</td>\n",
              "      <td>1.000000</td>\n",
              "      <td>NaN</td>\n",
              "      <td>NaN</td>\n",
              "      <td>80.000000</td>\n",
              "      <td>8.000000</td>\n",
              "      <td>9.000000</td>\n",
              "      <td>NaN</td>\n",
              "      <td>512.329200</td>\n",
              "      <td>NaN</td>\n",
              "      <td>NaN</td>\n",
              "      <td>NaN</td>\n",
              "      <td>328.000000</td>\n",
              "      <td>NaN</td>\n",
              "    </tr>\n",
              "  </tbody>\n",
              "</table>\n",
              "</div>"
            ],
            "text/plain": [
              "             pclass     survived                  name   sex          age  \\\n",
              "count   1309.000000  1309.000000                  1309  1309  1046.000000   \n",
              "unique          NaN          NaN                  1307     2          NaN   \n",
              "top             NaN          NaN  Connolly, Miss. Kate  male          NaN   \n",
              "freq            NaN          NaN                     2   843          NaN   \n",
              "mean       2.294882     0.381971                   NaN   NaN    29.881138   \n",
              "std        0.837836     0.486055                   NaN   NaN    14.413493   \n",
              "min        1.000000     0.000000                   NaN   NaN     0.170000   \n",
              "25%        2.000000     0.000000                   NaN   NaN    21.000000   \n",
              "50%        3.000000     0.000000                   NaN   NaN    28.000000   \n",
              "75%        3.000000     1.000000                   NaN   NaN    39.000000   \n",
              "max        3.000000     1.000000                   NaN   NaN    80.000000   \n",
              "\n",
              "              sibsp        parch    ticket         fare        cabin embarked  \\\n",
              "count   1309.000000  1309.000000      1309  1308.000000          295     1307   \n",
              "unique          NaN          NaN       929          NaN          186        3   \n",
              "top             NaN          NaN  CA. 2343          NaN  C23 C25 C27        S   \n",
              "freq            NaN          NaN        11          NaN            6      914   \n",
              "mean       0.498854     0.385027       NaN    33.295479          NaN      NaN   \n",
              "std        1.041658     0.865560       NaN    51.758668          NaN      NaN   \n",
              "min        0.000000     0.000000       NaN     0.000000          NaN      NaN   \n",
              "25%        0.000000     0.000000       NaN     7.895800          NaN      NaN   \n",
              "50%        0.000000     0.000000       NaN    14.454200          NaN      NaN   \n",
              "75%        1.000000     0.000000       NaN    31.275000          NaN      NaN   \n",
              "max        8.000000     9.000000       NaN   512.329200          NaN      NaN   \n",
              "\n",
              "       boat        body     home.dest  \n",
              "count   486  121.000000           745  \n",
              "unique   27         NaN           369  \n",
              "top      13         NaN  New York, NY  \n",
              "freq     39         NaN            64  \n",
              "mean    NaN  160.809917           NaN  \n",
              "std     NaN   97.696922           NaN  \n",
              "min     NaN    1.000000           NaN  \n",
              "25%     NaN   72.000000           NaN  \n",
              "50%     NaN  155.000000           NaN  \n",
              "75%     NaN  256.000000           NaN  \n",
              "max     NaN  328.000000           NaN  "
            ]
          },
          "execution_count": 158,
          "metadata": {},
          "output_type": "execute_result"
        }
      ],
      "source": [
        "titanic_passenger_df.describe(include='all')"
      ]
    },
    {
      "cell_type": "code",
      "execution_count": null,
      "metadata": {
        "colab": {
          "base_uri": "https://localhost:8080/"
        },
        "id": "z485hxut1Nwp",
        "outputId": "7765e7d9-96fb-485d-dc08-15be62e2a974"
      },
      "outputs": [
        {
          "data": {
            "text/plain": [
              "pclass          0\n",
              "survived        0\n",
              "name            0\n",
              "sex             0\n",
              "age           263\n",
              "sibsp           0\n",
              "parch           0\n",
              "ticket          0\n",
              "fare            1\n",
              "cabin        1014\n",
              "embarked        2\n",
              "boat          823\n",
              "body         1188\n",
              "home.dest     564\n",
              "dtype: int64"
            ]
          },
          "execution_count": 159,
          "metadata": {},
          "output_type": "execute_result"
        }
      ],
      "source": [
        "titanic_passenger_df.isnull().sum()"
      ]
    },
    {
      "cell_type": "markdown",
      "metadata": {
        "id": "8ICCkEKE1Nwp"
      },
      "source": [
        "\n",
        "<span style=\"color:red\">Which of these are potentially imputatable i.e. we can derive values from existing data?\n",
        "</span>"
      ]
    },
    {
      "cell_type": "markdown",
      "metadata": {
        "id": "IsQrsdcr1Nwp"
      },
      "source": [
        "### 1.1.1 Investigate with missing values for ages\n",
        "\n",
        "Titanic data is commonly used for predictive analytics, e.g. remove the 'survived' column and feed the other data into an algorithm to see if there are any predictors for survival, pclass was a factor, also gender, age another (and if you ever go on a cruise ship change your name to \"Womenandchildren\").\n",
        "\n",
        "Age are mostly missing. Should we just delete or do something basic like:  \n",
        "\n",
        "meanAge = np.mean(df1.age)\n",
        "\n",
        "df1.age = df1.age.fillna(meanAge)\n",
        "\n",
        "**Discussion**:\n",
        "\n",
        "* **What's wrong with this approach?**\n",
        "\n",
        "* **What is the average age anyway?**\n",
        "\n",
        "*  **What is the average age for males, for females? Is that an improvement?**\n"
      ]
    },
    {
      "cell_type": "code",
      "execution_count": null,
      "metadata": {
        "colab": {
          "base_uri": "https://localhost:8080/"
        },
        "id": "Ok-7VhHZ1Nwq",
        "outputId": "cc447c3b-9bb1-4aab-b90b-901fce807c0a"
      },
      "outputs": [
        {
          "data": {
            "text/plain": [
              "29.881137667304014"
            ]
          },
          "execution_count": 160,
          "metadata": {},
          "output_type": "execute_result"
        }
      ],
      "source": [
        "np.mean(titanic_passenger_df.age)"
      ]
    },
    {
      "cell_type": "code",
      "execution_count": null,
      "metadata": {
        "colab": {
          "base_uri": "https://localhost:8080/"
        },
        "id": "t_8uM-6s1Nwq",
        "outputId": "7cd48396-55cd-4c2b-ad85-5680dbf327b3"
      },
      "outputs": [
        {
          "data": {
            "text/plain": [
              "age\n",
              "24.00    47\n",
              "22.00    43\n",
              "21.00    41\n",
              "30.00    40\n",
              "18.00    39\n",
              "         ..\n",
              "0.33      1\n",
              "22.50     1\n",
              "70.50     1\n",
              "0.67      1\n",
              "26.50     1\n",
              "Name: count, Length: 98, dtype: int64"
            ]
          },
          "execution_count": 161,
          "metadata": {},
          "output_type": "execute_result"
        }
      ],
      "source": [
        "# age - we know there are some missing, let's dig deeper\n",
        "titanic_passenger_df['age'].value_counts()"
      ]
    },
    {
      "cell_type": "code",
      "execution_count": null,
      "metadata": {
        "colab": {
          "base_uri": "https://localhost:8080/"
        },
        "id": "geXzEyAd1Nwr",
        "outputId": "bc68d333-93fe-4a75-cd33-e1b76b1de910"
      },
      "outputs": [
        {
          "data": {
            "text/plain": [
              "array([29.  ,  0.92,  2.  , 30.  , 25.  , 48.  , 63.  , 39.  , 53.  ,\n",
              "       71.  , 47.  , 18.  , 24.  , 26.  , 80.  ,   nan, 50.  , 32.  ,\n",
              "       36.  , 37.  , 42.  , 19.  , 35.  , 28.  , 45.  , 40.  , 58.  ,\n",
              "       22.  , 41.  , 44.  , 59.  , 60.  , 33.  , 17.  , 11.  , 14.  ,\n",
              "       49.  , 76.  , 46.  , 27.  , 64.  , 55.  , 70.  , 38.  , 51.  ,\n",
              "       31.  ,  4.  , 54.  , 23.  , 43.  , 52.  , 16.  , 32.5 , 21.  ,\n",
              "       15.  , 65.  , 28.5 , 45.5 , 56.  , 13.  , 61.  , 34.  ,  6.  ,\n",
              "       57.  , 62.  , 67.  ,  1.  , 12.  , 20.  ,  0.83,  8.  ,  0.67,\n",
              "        7.  ,  3.  , 36.5 , 18.5 ,  5.  , 66.  ,  9.  ,  0.75, 70.5 ,\n",
              "       22.5 ,  0.33,  0.17, 40.5 , 10.  , 23.5 , 34.5 , 20.5 , 30.5 ,\n",
              "       55.5 , 38.5 , 14.5 , 24.5 , 60.5 , 74.  ,  0.42, 11.5 , 26.5 ])"
            ]
          },
          "execution_count": 162,
          "metadata": {},
          "output_type": "execute_result"
        }
      ],
      "source": [
        "# mostly younger, 20s to 30s\n",
        "titanic_passenger_df['age'].unique()"
      ]
    },
    {
      "cell_type": "markdown",
      "metadata": {
        "id": "pceYynKk1Nwr"
      },
      "source": [
        "Notice the 'nan' above, it doesn't occur in counts()\n",
        "\n",
        "**Discussion**:\n",
        "*  How many 'NaN' values for age are there?\n",
        "*  How many 0?\n",
        "*  How many < 1?\n",
        "*  What does 'NaN' mean?\n",
        "*  Is NaN == NaN true in Python?"
      ]
    },
    {
      "cell_type": "code",
      "execution_count": null,
      "metadata": {
        "colab": {
          "base_uri": "https://localhost:8080/",
          "height": 275
        },
        "id": "Kqsf9Icu1Nwr",
        "outputId": "82e39ea1-9485-4717-a2c6-6d00a813c7c4"
      },
      "outputs": [
        {
          "data": {
            "text/html": [
              "<div>\n",
              "<style scoped>\n",
              "    .dataframe tbody tr th:only-of-type {\n",
              "        vertical-align: middle;\n",
              "    }\n",
              "\n",
              "    .dataframe tbody tr th {\n",
              "        vertical-align: top;\n",
              "    }\n",
              "\n",
              "    .dataframe thead th {\n",
              "        text-align: right;\n",
              "    }\n",
              "</style>\n",
              "<table border=\"1\" class=\"dataframe\">\n",
              "  <thead>\n",
              "    <tr style=\"text-align: right;\">\n",
              "      <th></th>\n",
              "      <th>pclass</th>\n",
              "      <th>survived</th>\n",
              "      <th>name</th>\n",
              "      <th>sex</th>\n",
              "      <th>age</th>\n",
              "      <th>sibsp</th>\n",
              "      <th>parch</th>\n",
              "      <th>ticket</th>\n",
              "      <th>fare</th>\n",
              "      <th>cabin</th>\n",
              "      <th>embarked</th>\n",
              "      <th>boat</th>\n",
              "      <th>body</th>\n",
              "      <th>home.dest</th>\n",
              "    </tr>\n",
              "  </thead>\n",
              "  <tbody>\n",
              "    <tr>\n",
              "      <th>15</th>\n",
              "      <td>1</td>\n",
              "      <td>0</td>\n",
              "      <td>Baumann, Mr. John D</td>\n",
              "      <td>male</td>\n",
              "      <td>NaN</td>\n",
              "      <td>0</td>\n",
              "      <td>0</td>\n",
              "      <td>PC 17318</td>\n",
              "      <td>25.9250</td>\n",
              "      <td>NaN</td>\n",
              "      <td>S</td>\n",
              "      <td>NaN</td>\n",
              "      <td>NaN</td>\n",
              "      <td>New York, NY</td>\n",
              "    </tr>\n",
              "    <tr>\n",
              "      <th>37</th>\n",
              "      <td>1</td>\n",
              "      <td>1</td>\n",
              "      <td>Bradley, Mr. George (\"George Arthur Brayton\")</td>\n",
              "      <td>male</td>\n",
              "      <td>NaN</td>\n",
              "      <td>0</td>\n",
              "      <td>0</td>\n",
              "      <td>111427</td>\n",
              "      <td>26.5500</td>\n",
              "      <td>NaN</td>\n",
              "      <td>S</td>\n",
              "      <td>9</td>\n",
              "      <td>NaN</td>\n",
              "      <td>Los Angeles, CA</td>\n",
              "    </tr>\n",
              "    <tr>\n",
              "      <th>40</th>\n",
              "      <td>1</td>\n",
              "      <td>0</td>\n",
              "      <td>Brewe, Dr. Arthur Jackson</td>\n",
              "      <td>male</td>\n",
              "      <td>NaN</td>\n",
              "      <td>0</td>\n",
              "      <td>0</td>\n",
              "      <td>112379</td>\n",
              "      <td>39.6000</td>\n",
              "      <td>NaN</td>\n",
              "      <td>C</td>\n",
              "      <td>NaN</td>\n",
              "      <td>NaN</td>\n",
              "      <td>Philadelphia, PA</td>\n",
              "    </tr>\n",
              "    <tr>\n",
              "      <th>46</th>\n",
              "      <td>1</td>\n",
              "      <td>0</td>\n",
              "      <td>Cairns, Mr. Alexander</td>\n",
              "      <td>male</td>\n",
              "      <td>NaN</td>\n",
              "      <td>0</td>\n",
              "      <td>0</td>\n",
              "      <td>113798</td>\n",
              "      <td>31.0000</td>\n",
              "      <td>NaN</td>\n",
              "      <td>S</td>\n",
              "      <td>NaN</td>\n",
              "      <td>NaN</td>\n",
              "      <td>NaN</td>\n",
              "    </tr>\n",
              "    <tr>\n",
              "      <th>59</th>\n",
              "      <td>1</td>\n",
              "      <td>1</td>\n",
              "      <td>Cassebeer, Mrs. Henry Arthur Jr (Eleanor Genev...</td>\n",
              "      <td>female</td>\n",
              "      <td>NaN</td>\n",
              "      <td>0</td>\n",
              "      <td>0</td>\n",
              "      <td>17770</td>\n",
              "      <td>27.7208</td>\n",
              "      <td>NaN</td>\n",
              "      <td>C</td>\n",
              "      <td>5</td>\n",
              "      <td>NaN</td>\n",
              "      <td>New York, NY</td>\n",
              "    </tr>\n",
              "  </tbody>\n",
              "</table>\n",
              "</div>"
            ],
            "text/plain": [
              "    pclass  survived                                               name  \\\n",
              "15       1         0                                Baumann, Mr. John D   \n",
              "37       1         1      Bradley, Mr. George (\"George Arthur Brayton\")   \n",
              "40       1         0                          Brewe, Dr. Arthur Jackson   \n",
              "46       1         0                              Cairns, Mr. Alexander   \n",
              "59       1         1  Cassebeer, Mrs. Henry Arthur Jr (Eleanor Genev...   \n",
              "\n",
              "       sex  age  sibsp  parch    ticket     fare cabin embarked boat  body  \\\n",
              "15    male  NaN      0      0  PC 17318  25.9250   NaN        S  NaN   NaN   \n",
              "37    male  NaN      0      0    111427  26.5500   NaN        S    9   NaN   \n",
              "40    male  NaN      0      0    112379  39.6000   NaN        C  NaN   NaN   \n",
              "46    male  NaN      0      0    113798  31.0000   NaN        S  NaN   NaN   \n",
              "59  female  NaN      0      0     17770  27.7208   NaN        C    5   NaN   \n",
              "\n",
              "           home.dest  \n",
              "15      New York, NY  \n",
              "37   Los Angeles, CA  \n",
              "40  Philadelphia, PA  \n",
              "46               NaN  \n",
              "59      New York, NY  "
            ]
          },
          "execution_count": 163,
          "metadata": {},
          "output_type": "execute_result"
        }
      ],
      "source": [
        "titanic_passenger_df[titanic_passenger_df['age'].isnull()].head() # look at some"
      ]
    },
    {
      "cell_type": "code",
      "execution_count": null,
      "metadata": {
        "colab": {
          "base_uri": "https://localhost:8080/",
          "height": 651
        },
        "id": "l8UiVLrQ1Nwr",
        "outputId": "7ea61312-2abd-48b5-eefe-f18c071d5708"
      },
      "outputs": [
        {
          "data": {
            "text/html": [
              "<div>\n",
              "<style scoped>\n",
              "    .dataframe tbody tr th:only-of-type {\n",
              "        vertical-align: middle;\n",
              "    }\n",
              "\n",
              "    .dataframe tbody tr th {\n",
              "        vertical-align: top;\n",
              "    }\n",
              "\n",
              "    .dataframe thead th {\n",
              "        text-align: right;\n",
              "    }\n",
              "</style>\n",
              "<table border=\"1\" class=\"dataframe\">\n",
              "  <thead>\n",
              "    <tr style=\"text-align: right;\">\n",
              "      <th></th>\n",
              "      <th>pclass</th>\n",
              "      <th>survived</th>\n",
              "      <th>name</th>\n",
              "      <th>sex</th>\n",
              "      <th>age</th>\n",
              "      <th>sibsp</th>\n",
              "      <th>parch</th>\n",
              "      <th>ticket</th>\n",
              "      <th>fare</th>\n",
              "      <th>cabin</th>\n",
              "      <th>embarked</th>\n",
              "      <th>boat</th>\n",
              "      <th>body</th>\n",
              "      <th>home.dest</th>\n",
              "    </tr>\n",
              "  </thead>\n",
              "  <tbody>\n",
              "    <tr>\n",
              "      <th>1</th>\n",
              "      <td>1</td>\n",
              "      <td>1</td>\n",
              "      <td>Allison, Master. Hudson Trevor</td>\n",
              "      <td>male</td>\n",
              "      <td>0.92</td>\n",
              "      <td>1</td>\n",
              "      <td>2</td>\n",
              "      <td>113781</td>\n",
              "      <td>151.5500</td>\n",
              "      <td>C22 C26</td>\n",
              "      <td>S</td>\n",
              "      <td>11</td>\n",
              "      <td>NaN</td>\n",
              "      <td>Montreal, PQ / Chesterville, ON</td>\n",
              "    </tr>\n",
              "    <tr>\n",
              "      <th>359</th>\n",
              "      <td>2</td>\n",
              "      <td>1</td>\n",
              "      <td>Caldwell, Master. Alden Gates</td>\n",
              "      <td>male</td>\n",
              "      <td>0.83</td>\n",
              "      <td>0</td>\n",
              "      <td>2</td>\n",
              "      <td>248738</td>\n",
              "      <td>29.0000</td>\n",
              "      <td>NaN</td>\n",
              "      <td>S</td>\n",
              "      <td>13</td>\n",
              "      <td>NaN</td>\n",
              "      <td>Bangkok, Thailand / Roseville, IL</td>\n",
              "    </tr>\n",
              "    <tr>\n",
              "      <th>427</th>\n",
              "      <td>2</td>\n",
              "      <td>1</td>\n",
              "      <td>Hamalainen, Master. Viljo</td>\n",
              "      <td>male</td>\n",
              "      <td>0.67</td>\n",
              "      <td>1</td>\n",
              "      <td>1</td>\n",
              "      <td>250649</td>\n",
              "      <td>14.5000</td>\n",
              "      <td>NaN</td>\n",
              "      <td>S</td>\n",
              "      <td>4</td>\n",
              "      <td>NaN</td>\n",
              "      <td>Detroit, MI</td>\n",
              "    </tr>\n",
              "    <tr>\n",
              "      <th>548</th>\n",
              "      <td>2</td>\n",
              "      <td>1</td>\n",
              "      <td>Richards, Master. George Sibley</td>\n",
              "      <td>male</td>\n",
              "      <td>0.83</td>\n",
              "      <td>1</td>\n",
              "      <td>1</td>\n",
              "      <td>29106</td>\n",
              "      <td>18.7500</td>\n",
              "      <td>NaN</td>\n",
              "      <td>S</td>\n",
              "      <td>4</td>\n",
              "      <td>NaN</td>\n",
              "      <td>Cornwall / Akron, OH</td>\n",
              "    </tr>\n",
              "    <tr>\n",
              "      <th>590</th>\n",
              "      <td>2</td>\n",
              "      <td>1</td>\n",
              "      <td>West, Miss. Barbara J</td>\n",
              "      <td>female</td>\n",
              "      <td>0.92</td>\n",
              "      <td>1</td>\n",
              "      <td>2</td>\n",
              "      <td>C.A. 34651</td>\n",
              "      <td>27.7500</td>\n",
              "      <td>NaN</td>\n",
              "      <td>S</td>\n",
              "      <td>10</td>\n",
              "      <td>NaN</td>\n",
              "      <td>Bournmouth, England</td>\n",
              "    </tr>\n",
              "    <tr>\n",
              "      <th>611</th>\n",
              "      <td>3</td>\n",
              "      <td>1</td>\n",
              "      <td>Aks, Master. Philip Frank</td>\n",
              "      <td>male</td>\n",
              "      <td>0.83</td>\n",
              "      <td>0</td>\n",
              "      <td>1</td>\n",
              "      <td>392091</td>\n",
              "      <td>9.3500</td>\n",
              "      <td>NaN</td>\n",
              "      <td>S</td>\n",
              "      <td>11</td>\n",
              "      <td>NaN</td>\n",
              "      <td>London, England Norfolk, VA</td>\n",
              "    </tr>\n",
              "    <tr>\n",
              "      <th>657</th>\n",
              "      <td>3</td>\n",
              "      <td>1</td>\n",
              "      <td>Baclini, Miss. Eugenie</td>\n",
              "      <td>female</td>\n",
              "      <td>0.75</td>\n",
              "      <td>2</td>\n",
              "      <td>1</td>\n",
              "      <td>2666</td>\n",
              "      <td>19.2583</td>\n",
              "      <td>NaN</td>\n",
              "      <td>C</td>\n",
              "      <td>C</td>\n",
              "      <td>NaN</td>\n",
              "      <td>Syria New York, NY</td>\n",
              "    </tr>\n",
              "    <tr>\n",
              "      <th>658</th>\n",
              "      <td>3</td>\n",
              "      <td>1</td>\n",
              "      <td>Baclini, Miss. Helene Barbara</td>\n",
              "      <td>female</td>\n",
              "      <td>0.75</td>\n",
              "      <td>2</td>\n",
              "      <td>1</td>\n",
              "      <td>2666</td>\n",
              "      <td>19.2583</td>\n",
              "      <td>NaN</td>\n",
              "      <td>C</td>\n",
              "      <td>C</td>\n",
              "      <td>NaN</td>\n",
              "      <td>Syria New York, NY</td>\n",
              "    </tr>\n",
              "    <tr>\n",
              "      <th>747</th>\n",
              "      <td>3</td>\n",
              "      <td>0</td>\n",
              "      <td>Danbom, Master. Gilbert Sigvard Emanuel</td>\n",
              "      <td>male</td>\n",
              "      <td>0.33</td>\n",
              "      <td>0</td>\n",
              "      <td>2</td>\n",
              "      <td>347080</td>\n",
              "      <td>14.4000</td>\n",
              "      <td>NaN</td>\n",
              "      <td>S</td>\n",
              "      <td>NaN</td>\n",
              "      <td>NaN</td>\n",
              "      <td>Stanton, IA</td>\n",
              "    </tr>\n",
              "    <tr>\n",
              "      <th>763</th>\n",
              "      <td>3</td>\n",
              "      <td>1</td>\n",
              "      <td>Dean, Miss. Elizabeth Gladys \"Millvina\"</td>\n",
              "      <td>female</td>\n",
              "      <td>0.17</td>\n",
              "      <td>1</td>\n",
              "      <td>2</td>\n",
              "      <td>C.A. 2315</td>\n",
              "      <td>20.5750</td>\n",
              "      <td>NaN</td>\n",
              "      <td>S</td>\n",
              "      <td>10</td>\n",
              "      <td>NaN</td>\n",
              "      <td>Devon, England Wichita, KS</td>\n",
              "    </tr>\n",
              "    <tr>\n",
              "      <th>1111</th>\n",
              "      <td>3</td>\n",
              "      <td>0</td>\n",
              "      <td>Peacock, Master. Alfred Edward</td>\n",
              "      <td>male</td>\n",
              "      <td>0.75</td>\n",
              "      <td>1</td>\n",
              "      <td>1</td>\n",
              "      <td>SOTON/O.Q. 3101315</td>\n",
              "      <td>13.7750</td>\n",
              "      <td>NaN</td>\n",
              "      <td>S</td>\n",
              "      <td>NaN</td>\n",
              "      <td>NaN</td>\n",
              "      <td>NaN</td>\n",
              "    </tr>\n",
              "    <tr>\n",
              "      <th>1240</th>\n",
              "      <td>3</td>\n",
              "      <td>1</td>\n",
              "      <td>Thomas, Master. Assad Alexander</td>\n",
              "      <td>male</td>\n",
              "      <td>0.42</td>\n",
              "      <td>0</td>\n",
              "      <td>1</td>\n",
              "      <td>2625</td>\n",
              "      <td>8.5167</td>\n",
              "      <td>NaN</td>\n",
              "      <td>C</td>\n",
              "      <td>16</td>\n",
              "      <td>NaN</td>\n",
              "      <td>NaN</td>\n",
              "    </tr>\n",
              "  </tbody>\n",
              "</table>\n",
              "</div>"
            ],
            "text/plain": [
              "      pclass  survived                                     name     sex   age  \\\n",
              "1          1         1           Allison, Master. Hudson Trevor    male  0.92   \n",
              "359        2         1            Caldwell, Master. Alden Gates    male  0.83   \n",
              "427        2         1                Hamalainen, Master. Viljo    male  0.67   \n",
              "548        2         1          Richards, Master. George Sibley    male  0.83   \n",
              "590        2         1                    West, Miss. Barbara J  female  0.92   \n",
              "611        3         1                Aks, Master. Philip Frank    male  0.83   \n",
              "657        3         1                   Baclini, Miss. Eugenie  female  0.75   \n",
              "658        3         1            Baclini, Miss. Helene Barbara  female  0.75   \n",
              "747        3         0  Danbom, Master. Gilbert Sigvard Emanuel    male  0.33   \n",
              "763        3         1  Dean, Miss. Elizabeth Gladys \"Millvina\"  female  0.17   \n",
              "1111       3         0           Peacock, Master. Alfred Edward    male  0.75   \n",
              "1240       3         1          Thomas, Master. Assad Alexander    male  0.42   \n",
              "\n",
              "      sibsp  parch              ticket      fare    cabin embarked boat  body  \\\n",
              "1         1      2              113781  151.5500  C22 C26        S   11   NaN   \n",
              "359       0      2              248738   29.0000      NaN        S   13   NaN   \n",
              "427       1      1              250649   14.5000      NaN        S    4   NaN   \n",
              "548       1      1               29106   18.7500      NaN        S    4   NaN   \n",
              "590       1      2          C.A. 34651   27.7500      NaN        S   10   NaN   \n",
              "611       0      1              392091    9.3500      NaN        S   11   NaN   \n",
              "657       2      1                2666   19.2583      NaN        C    C   NaN   \n",
              "658       2      1                2666   19.2583      NaN        C    C   NaN   \n",
              "747       0      2              347080   14.4000      NaN        S  NaN   NaN   \n",
              "763       1      2           C.A. 2315   20.5750      NaN        S   10   NaN   \n",
              "1111      1      1  SOTON/O.Q. 3101315   13.7750      NaN        S  NaN   NaN   \n",
              "1240      0      1                2625    8.5167      NaN        C   16   NaN   \n",
              "\n",
              "                              home.dest  \n",
              "1       Montreal, PQ / Chesterville, ON  \n",
              "359   Bangkok, Thailand / Roseville, IL  \n",
              "427                         Detroit, MI  \n",
              "548                Cornwall / Akron, OH  \n",
              "590                 Bournmouth, England  \n",
              "611         London, England Norfolk, VA  \n",
              "657                  Syria New York, NY  \n",
              "658                  Syria New York, NY  \n",
              "747                         Stanton, IA  \n",
              "763          Devon, England Wichita, KS  \n",
              "1111                                NaN  \n",
              "1240                                NaN  "
            ]
          },
          "execution_count": 164,
          "metadata": {},
          "output_type": "execute_result"
        }
      ],
      "source": [
        "titanic_passenger_df[titanic_passenger_df['age'] < 1]"
      ]
    },
    {
      "cell_type": "markdown",
      "metadata": {
        "id": "Vm78Q7OP1Nws"
      },
      "source": [
        "**What does age = 0.17 mean?**"
      ]
    },
    {
      "cell_type": "code",
      "execution_count": null,
      "metadata": {
        "colab": {
          "base_uri": "https://localhost:8080/",
          "height": 447
        },
        "id": "ANay7JA31Nws",
        "outputId": "e90b04c0-7313-4cce-b7bd-cddc1dedfcb2"
      },
      "outputs": [
        {
          "data": {
            "text/plain": [
              "<Axes: >"
            ]
          },
          "execution_count": 165,
          "metadata": {},
          "output_type": "execute_result"
        },
        {
          "data": {
            "image/png": "[encoded data removed]",
            "text/plain": [
              "<Figure size 640x480 with 1 Axes>"
            ]
          },
          "metadata": {},
          "output_type": "display_data"
        }
      ],
      "source": [
        "%matplotlib inline\n",
        "titanic_passenger_df['age'].hist()"
      ]
    },
    {
      "cell_type": "code",
      "execution_count": null,
      "metadata": {
        "colab": {
          "base_uri": "https://localhost:8080/"
        },
        "id": "X5H14Qt11Nws",
        "outputId": "8ac4191a-cb85-4095-a121-7bae712b0a95"
      },
      "outputs": [
        {
          "data": {
            "text/plain": [
              "263"
            ]
          },
          "execution_count": 166,
          "metadata": {},
          "output_type": "execute_result"
        }
      ],
      "source": [
        "sum(titanic_passenger_df['age'].isnull())\n",
        "# 263 passengers have no age recorded."
      ]
    },
    {
      "cell_type": "markdown",
      "metadata": {
        "id": "3smGMDJ11Nwt"
      },
      "source": [
        "**Let's look at other factors, e.g. names can give a clue because most passengers seem to have a title (e.g. 'Mrs')**\n",
        "\n",
        "**Discussion**:\n",
        "\n",
        "* Can we assume that 'Mrs' implies married (implies not a child)?\n",
        "\n",
        "* What about 'Miss' or 'Ms'?\n"
      ]
    },
    {
      "cell_type": "code",
      "execution_count": null,
      "metadata": {
        "id": "TDtHgX7h1Nwt"
      },
      "outputs": [],
      "source": [
        "# Look into titles, e.g. 'Mrs' implies married (implies not child)\n",
        "def name_extract(word):\n",
        "     return word.split(',')[1].split('.')[0].strip()\n",
        "\n",
        "# because names are in this format:\n",
        "# Allison, Master. Hudson Trevor\n",
        "# we can split on ','\n",
        "# then '.'"
      ]
    },
    {
      "cell_type": "code",
      "execution_count": null,
      "metadata": {
        "colab": {
          "base_uri": "https://localhost:8080/"
        },
        "id": "NUyPIzUp1Nwt",
        "outputId": "75a64542-1efe-49cc-84c4-3fab7f4638c6"
      },
      "outputs": [
        {
          "data": {
            "text/plain": [
              "array(['Miss', 'Master', 'Mr', 'Mrs', 'Col', 'Mme', 'Dr', 'Major', 'Capt',\n",
              "       'Lady', 'Sir', 'Mlle', 'Dona', 'Jonkheer', 'the Countess', 'Don',\n",
              "       'Rev', 'Ms'], dtype=object)"
            ]
          },
          "execution_count": 168,
          "metadata": {},
          "output_type": "execute_result"
        }
      ],
      "source": [
        "temp = pd.DataFrame({'Title':titanic_passenger_df['name'].apply(name_extract)}) # testing, apply the method to the data\n",
        "# check unique values\n",
        "temp['Title'].unique()"
      ]
    },
    {
      "cell_type": "code",
      "execution_count": null,
      "metadata": {
        "colab": {
          "base_uri": "https://localhost:8080/"
        },
        "id": "nsPYs6ga1Nwt",
        "outputId": "cddadfba-dc77-4f3b-a08a-61ce8a7faa5a"
      },
      "outputs": [
        {
          "data": {
            "text/plain": [
              "Title\n",
              "Mr              757\n",
              "Miss            260\n",
              "Mrs             197\n",
              "Master           61\n",
              "Rev               8\n",
              "Dr                8\n",
              "Col               4\n",
              "Mlle              2\n",
              "Ms                2\n",
              "Major             2\n",
              "Capt              1\n",
              "Sir               1\n",
              "Dona              1\n",
              "Jonkheer          1\n",
              "the Countess      1\n",
              "Don               1\n",
              "Mme               1\n",
              "Lady              1\n",
              "Name: count, dtype: int64"
            ]
          },
          "execution_count": 169,
          "metadata": {},
          "output_type": "execute_result"
        }
      ],
      "source": [
        "# a couple of strange ones but most of the standard titles are there\n",
        "temp['Title'].value_counts()"
      ]
    },
    {
      "cell_type": "code",
      "execution_count": null,
      "metadata": {
        "colab": {
          "base_uri": "https://localhost:8080/"
        },
        "id": "-EySUSql1Nwt",
        "outputId": "1e962a10-7e4e-40d3-ba4b-b7bd54a2718e"
      },
      "outputs": [
        {
          "data": {
            "text/plain": [
              "1309"
            ]
          },
          "execution_count": 170,
          "metadata": {},
          "output_type": "execute_result"
        }
      ],
      "source": [
        "# did we miss any?\n",
        "sum(temp['Title'].value_counts())"
      ]
    },
    {
      "cell_type": "markdown",
      "metadata": {
        "id": "Fko84bni1Nwu"
      },
      "source": [
        "**That worked really well, we have titles for everyone and there are only a few strange ones**:\n",
        "\n",
        "- Someone look up 'Jonkheer' (and Dona - Spanish?)\n",
        "\n",
        "- So what can we say about 'Master'? Usually refers to boys?\n",
        "\n",
        "- Dr, Rev, Col, Major, Capt, Sir, Don, would all be adults?\n",
        "\n",
        "Let's go ahead and apply this transformation:"
      ]
    },
    {
      "cell_type": "code",
      "execution_count": null,
      "metadata": {
        "colab": {
          "base_uri": "https://localhost:8080/",
          "height": 310
        },
        "id": "Op032-sB1Nwu",
        "outputId": "2520927a-e9e5-4969-b9ce-600951f89621"
      },
      "outputs": [
        {
          "data": {
            "text/html": [
              "<div>\n",
              "<style scoped>\n",
              "    .dataframe tbody tr th:only-of-type {\n",
              "        vertical-align: middle;\n",
              "    }\n",
              "\n",
              "    .dataframe tbody tr th {\n",
              "        vertical-align: top;\n",
              "    }\n",
              "\n",
              "    .dataframe thead th {\n",
              "        text-align: right;\n",
              "    }\n",
              "</style>\n",
              "<table border=\"1\" class=\"dataframe\">\n",
              "  <thead>\n",
              "    <tr style=\"text-align: right;\">\n",
              "      <th></th>\n",
              "      <th>pclass</th>\n",
              "      <th>survived</th>\n",
              "      <th>name</th>\n",
              "      <th>sex</th>\n",
              "      <th>age</th>\n",
              "      <th>sibsp</th>\n",
              "      <th>parch</th>\n",
              "      <th>ticket</th>\n",
              "      <th>fare</th>\n",
              "      <th>cabin</th>\n",
              "      <th>embarked</th>\n",
              "      <th>boat</th>\n",
              "      <th>body</th>\n",
              "      <th>home.dest</th>\n",
              "      <th>Title</th>\n",
              "    </tr>\n",
              "  </thead>\n",
              "  <tbody>\n",
              "    <tr>\n",
              "      <th>0</th>\n",
              "      <td>1</td>\n",
              "      <td>1</td>\n",
              "      <td>Allen, Miss. Elisabeth Walton</td>\n",
              "      <td>female</td>\n",
              "      <td>29.00</td>\n",
              "      <td>0</td>\n",
              "      <td>0</td>\n",
              "      <td>24160</td>\n",
              "      <td>211.3375</td>\n",
              "      <td>B5</td>\n",
              "      <td>S</td>\n",
              "      <td>2</td>\n",
              "      <td>NaN</td>\n",
              "      <td>St Louis, MO</td>\n",
              "      <td>Miss</td>\n",
              "    </tr>\n",
              "    <tr>\n",
              "      <th>1</th>\n",
              "      <td>1</td>\n",
              "      <td>1</td>\n",
              "      <td>Allison, Master. Hudson Trevor</td>\n",
              "      <td>male</td>\n",
              "      <td>0.92</td>\n",
              "      <td>1</td>\n",
              "      <td>2</td>\n",
              "      <td>113781</td>\n",
              "      <td>151.5500</td>\n",
              "      <td>C22 C26</td>\n",
              "      <td>S</td>\n",
              "      <td>11</td>\n",
              "      <td>NaN</td>\n",
              "      <td>Montreal, PQ / Chesterville, ON</td>\n",
              "      <td>Master</td>\n",
              "    </tr>\n",
              "    <tr>\n",
              "      <th>2</th>\n",
              "      <td>1</td>\n",
              "      <td>0</td>\n",
              "      <td>Allison, Miss. Helen Loraine</td>\n",
              "      <td>female</td>\n",
              "      <td>2.00</td>\n",
              "      <td>1</td>\n",
              "      <td>2</td>\n",
              "      <td>113781</td>\n",
              "      <td>151.5500</td>\n",
              "      <td>C22 C26</td>\n",
              "      <td>S</td>\n",
              "      <td>NaN</td>\n",
              "      <td>NaN</td>\n",
              "      <td>Montreal, PQ / Chesterville, ON</td>\n",
              "      <td>Miss</td>\n",
              "    </tr>\n",
              "    <tr>\n",
              "      <th>3</th>\n",
              "      <td>1</td>\n",
              "      <td>0</td>\n",
              "      <td>Allison, Mr. Hudson Joshua Creighton</td>\n",
              "      <td>male</td>\n",
              "      <td>30.00</td>\n",
              "      <td>1</td>\n",
              "      <td>2</td>\n",
              "      <td>113781</td>\n",
              "      <td>151.5500</td>\n",
              "      <td>C22 C26</td>\n",
              "      <td>S</td>\n",
              "      <td>NaN</td>\n",
              "      <td>135.0</td>\n",
              "      <td>Montreal, PQ / Chesterville, ON</td>\n",
              "      <td>Mr</td>\n",
              "    </tr>\n",
              "    <tr>\n",
              "      <th>4</th>\n",
              "      <td>1</td>\n",
              "      <td>0</td>\n",
              "      <td>Allison, Mrs. Hudson J C (Bessie Waldo Daniels)</td>\n",
              "      <td>female</td>\n",
              "      <td>25.00</td>\n",
              "      <td>1</td>\n",
              "      <td>2</td>\n",
              "      <td>113781</td>\n",
              "      <td>151.5500</td>\n",
              "      <td>C22 C26</td>\n",
              "      <td>S</td>\n",
              "      <td>NaN</td>\n",
              "      <td>NaN</td>\n",
              "      <td>Montreal, PQ / Chesterville, ON</td>\n",
              "      <td>Mrs</td>\n",
              "    </tr>\n",
              "  </tbody>\n",
              "</table>\n",
              "</div>"
            ],
            "text/plain": [
              "   pclass  survived                                             name     sex  \\\n",
              "0       1         1                    Allen, Miss. Elisabeth Walton  female   \n",
              "1       1         1                   Allison, Master. Hudson Trevor    male   \n",
              "2       1         0                     Allison, Miss. Helen Loraine  female   \n",
              "3       1         0             Allison, Mr. Hudson Joshua Creighton    male   \n",
              "4       1         0  Allison, Mrs. Hudson J C (Bessie Waldo Daniels)  female   \n",
              "\n",
              "     age  sibsp  parch  ticket      fare    cabin embarked boat   body  \\\n",
              "0  29.00      0      0   24160  211.3375       B5        S    2    NaN   \n",
              "1   0.92      1      2  113781  151.5500  C22 C26        S   11    NaN   \n",
              "2   2.00      1      2  113781  151.5500  C22 C26        S  NaN    NaN   \n",
              "3  30.00      1      2  113781  151.5500  C22 C26        S  NaN  135.0   \n",
              "4  25.00      1      2  113781  151.5500  C22 C26        S  NaN    NaN   \n",
              "\n",
              "                         home.dest   Title  \n",
              "0                     St Louis, MO    Miss  \n",
              "1  Montreal, PQ / Chesterville, ON  Master  \n",
              "2  Montreal, PQ / Chesterville, ON    Miss  \n",
              "3  Montreal, PQ / Chesterville, ON      Mr  \n",
              "4  Montreal, PQ / Chesterville, ON     Mrs  "
            ]
          },
          "execution_count": 171,
          "metadata": {},
          "output_type": "execute_result"
        }
      ],
      "source": [
        "titanic_passenger_df_copy = titanic_passenger_df.copy() # copy then insert new column\n",
        "titanic_passenger_df_copy['Title'] = titanic_passenger_df['name'].apply(name_extract)\n",
        "titanic_passenger_df_copy.head() # title at far right"
      ]
    },
    {
      "cell_type": "code",
      "execution_count": null,
      "metadata": {
        "colab": {
          "base_uri": "https://localhost:8080/",
          "height": 53
        },
        "id": "o-L5Tpy61Nwu",
        "outputId": "b12cab71-9f29-4324-b23f-a1393248cb04"
      },
      "outputs": [
        {
          "data": {
            "text/html": [
              "<div>\n",
              "<style scoped>\n",
              "    .dataframe tbody tr th:only-of-type {\n",
              "        vertical-align: middle;\n",
              "    }\n",
              "\n",
              "    .dataframe tbody tr th {\n",
              "        vertical-align: top;\n",
              "    }\n",
              "\n",
              "    .dataframe thead th {\n",
              "        text-align: right;\n",
              "    }\n",
              "</style>\n",
              "<table border=\"1\" class=\"dataframe\">\n",
              "  <thead>\n",
              "    <tr style=\"text-align: right;\">\n",
              "      <th></th>\n",
              "      <th>pclass</th>\n",
              "      <th>survived</th>\n",
              "      <th>name</th>\n",
              "      <th>sex</th>\n",
              "      <th>age</th>\n",
              "      <th>sibsp</th>\n",
              "      <th>parch</th>\n",
              "      <th>ticket</th>\n",
              "      <th>fare</th>\n",
              "      <th>cabin</th>\n",
              "      <th>embarked</th>\n",
              "      <th>boat</th>\n",
              "      <th>body</th>\n",
              "      <th>home.dest</th>\n",
              "      <th>Title</th>\n",
              "    </tr>\n",
              "  </thead>\n",
              "  <tbody>\n",
              "  </tbody>\n",
              "</table>\n",
              "</div>"
            ],
            "text/plain": [
              "Empty DataFrame\n",
              "Columns: [pclass, survived, name, sex, age, sibsp, parch, ticket, fare, cabin, embarked, boat, body, home.dest, Title]\n",
              "Index: []"
            ]
          },
          "execution_count": 172,
          "metadata": {},
          "output_type": "execute_result"
        }
      ],
      "source": [
        "# just check (again) we got most of them\n",
        "titanic_passenger_df_copy[titanic_passenger_df_copy['Title'].isnull()]"
      ]
    },
    {
      "cell_type": "markdown",
      "metadata": {
        "id": "jZzSszPe1Nwu"
      },
      "source": [
        "**First let's check distribution of missing values across different titles**"
      ]
    },
    {
      "cell_type": "code",
      "execution_count": null,
      "metadata": {
        "colab": {
          "base_uri": "https://localhost:8080/"
        },
        "id": "upoV-oeC1Nwu",
        "outputId": "15c8b4b6-12a2-4cc4-8aa2-6c590ee9d443"
      },
      "outputs": [
        {
          "data": {
            "text/plain": [
              "Title\n",
              "Mr        176\n",
              "Miss       50\n",
              "Mrs        27\n",
              "Master      8\n",
              "Dr          1\n",
              "Ms          1\n",
              "Name: count, dtype: int64"
            ]
          },
          "execution_count": 173,
          "metadata": {},
          "output_type": "execute_result"
        }
      ],
      "source": [
        "titanic_passenger_df_copy[titanic_passenger_df_copy.age.isnull()].Title.value_counts()"
      ]
    },
    {
      "cell_type": "markdown",
      "metadata": {
        "id": "xQdFixyj1Nwu"
      },
      "source": [
        "**We will first investigate missing values in doctors**"
      ]
    },
    {
      "cell_type": "code",
      "execution_count": null,
      "metadata": {
        "colab": {
          "base_uri": "https://localhost:8080/",
          "height": 404
        },
        "id": "BSf6W4UE1Nwv",
        "outputId": "8c3c133a-4a00-435b-c5cd-e6e8064a7d9e",
        "scrolled": true
      },
      "outputs": [
        {
          "data": {
            "text/html": [
              "<div>\n",
              "<style scoped>\n",
              "    .dataframe tbody tr th:only-of-type {\n",
              "        vertical-align: middle;\n",
              "    }\n",
              "\n",
              "    .dataframe tbody tr th {\n",
              "        vertical-align: top;\n",
              "    }\n",
              "\n",
              "    .dataframe thead th {\n",
              "        text-align: right;\n",
              "    }\n",
              "</style>\n",
              "<table border=\"1\" class=\"dataframe\">\n",
              "  <thead>\n",
              "    <tr style=\"text-align: right;\">\n",
              "      <th></th>\n",
              "      <th>pclass</th>\n",
              "      <th>survived</th>\n",
              "      <th>name</th>\n",
              "      <th>sex</th>\n",
              "      <th>age</th>\n",
              "      <th>sibsp</th>\n",
              "      <th>parch</th>\n",
              "      <th>ticket</th>\n",
              "      <th>fare</th>\n",
              "      <th>cabin</th>\n",
              "      <th>embarked</th>\n",
              "      <th>boat</th>\n",
              "      <th>body</th>\n",
              "      <th>home.dest</th>\n",
              "      <th>Title</th>\n",
              "    </tr>\n",
              "  </thead>\n",
              "  <tbody>\n",
              "    <tr>\n",
              "      <th>40</th>\n",
              "      <td>1</td>\n",
              "      <td>0</td>\n",
              "      <td>Brewe, Dr. Arthur Jackson</td>\n",
              "      <td>male</td>\n",
              "      <td>NaN</td>\n",
              "      <td>0</td>\n",
              "      <td>0</td>\n",
              "      <td>112379</td>\n",
              "      <td>39.6000</td>\n",
              "      <td>NaN</td>\n",
              "      <td>C</td>\n",
              "      <td>NaN</td>\n",
              "      <td>NaN</td>\n",
              "      <td>Philadelphia, PA</td>\n",
              "      <td>Dr</td>\n",
              "    </tr>\n",
              "    <tr>\n",
              "      <th>93</th>\n",
              "      <td>1</td>\n",
              "      <td>1</td>\n",
              "      <td>Dodge, Dr. Washington</td>\n",
              "      <td>male</td>\n",
              "      <td>53.0</td>\n",
              "      <td>1</td>\n",
              "      <td>1</td>\n",
              "      <td>33638</td>\n",
              "      <td>81.8583</td>\n",
              "      <td>A34</td>\n",
              "      <td>S</td>\n",
              "      <td>13</td>\n",
              "      <td>NaN</td>\n",
              "      <td>San Francisco, CA</td>\n",
              "      <td>Dr</td>\n",
              "    </tr>\n",
              "    <tr>\n",
              "      <th>119</th>\n",
              "      <td>1</td>\n",
              "      <td>1</td>\n",
              "      <td>Frauenthal, Dr. Henry William</td>\n",
              "      <td>male</td>\n",
              "      <td>50.0</td>\n",
              "      <td>2</td>\n",
              "      <td>0</td>\n",
              "      <td>PC 17611</td>\n",
              "      <td>133.6500</td>\n",
              "      <td>NaN</td>\n",
              "      <td>S</td>\n",
              "      <td>5</td>\n",
              "      <td>NaN</td>\n",
              "      <td>New York, NY</td>\n",
              "      <td>Dr</td>\n",
              "    </tr>\n",
              "    <tr>\n",
              "      <th>181</th>\n",
              "      <td>1</td>\n",
              "      <td>1</td>\n",
              "      <td>Leader, Dr. Alice (Farnham)</td>\n",
              "      <td>female</td>\n",
              "      <td>49.0</td>\n",
              "      <td>0</td>\n",
              "      <td>0</td>\n",
              "      <td>17465</td>\n",
              "      <td>25.9292</td>\n",
              "      <td>D17</td>\n",
              "      <td>S</td>\n",
              "      <td>8</td>\n",
              "      <td>NaN</td>\n",
              "      <td>New York, NY</td>\n",
              "      <td>Dr</td>\n",
              "    </tr>\n",
              "    <tr>\n",
              "      <th>206</th>\n",
              "      <td>1</td>\n",
              "      <td>0</td>\n",
              "      <td>Minahan, Dr. William Edward</td>\n",
              "      <td>male</td>\n",
              "      <td>44.0</td>\n",
              "      <td>2</td>\n",
              "      <td>0</td>\n",
              "      <td>19928</td>\n",
              "      <td>90.0000</td>\n",
              "      <td>C78</td>\n",
              "      <td>Q</td>\n",
              "      <td>NaN</td>\n",
              "      <td>230.0</td>\n",
              "      <td>Fond du Lac, WI</td>\n",
              "      <td>Dr</td>\n",
              "    </tr>\n",
              "    <tr>\n",
              "      <th>278</th>\n",
              "      <td>1</td>\n",
              "      <td>1</td>\n",
              "      <td>Stahelin-Maeglin, Dr. Max</td>\n",
              "      <td>male</td>\n",
              "      <td>32.0</td>\n",
              "      <td>0</td>\n",
              "      <td>0</td>\n",
              "      <td>13214</td>\n",
              "      <td>30.5000</td>\n",
              "      <td>B50</td>\n",
              "      <td>C</td>\n",
              "      <td>3</td>\n",
              "      <td>NaN</td>\n",
              "      <td>Basel, Switzerland</td>\n",
              "      <td>Dr</td>\n",
              "    </tr>\n",
              "    <tr>\n",
              "      <th>508</th>\n",
              "      <td>2</td>\n",
              "      <td>0</td>\n",
              "      <td>Moraweck, Dr. Ernest</td>\n",
              "      <td>male</td>\n",
              "      <td>54.0</td>\n",
              "      <td>0</td>\n",
              "      <td>0</td>\n",
              "      <td>29011</td>\n",
              "      <td>14.0000</td>\n",
              "      <td>NaN</td>\n",
              "      <td>S</td>\n",
              "      <td>NaN</td>\n",
              "      <td>NaN</td>\n",
              "      <td>Frankfort, KY</td>\n",
              "      <td>Dr</td>\n",
              "    </tr>\n",
              "    <tr>\n",
              "      <th>525</th>\n",
              "      <td>2</td>\n",
              "      <td>0</td>\n",
              "      <td>Pain, Dr. Alfred</td>\n",
              "      <td>male</td>\n",
              "      <td>23.0</td>\n",
              "      <td>0</td>\n",
              "      <td>0</td>\n",
              "      <td>244278</td>\n",
              "      <td>10.5000</td>\n",
              "      <td>NaN</td>\n",
              "      <td>S</td>\n",
              "      <td>NaN</td>\n",
              "      <td>NaN</td>\n",
              "      <td>Hamilton, ON</td>\n",
              "      <td>Dr</td>\n",
              "    </tr>\n",
              "  </tbody>\n",
              "</table>\n",
              "</div>"
            ],
            "text/plain": [
              "     pclass  survived                           name     sex   age  sibsp  \\\n",
              "40        1         0      Brewe, Dr. Arthur Jackson    male   NaN      0   \n",
              "93        1         1          Dodge, Dr. Washington    male  53.0      1   \n",
              "119       1         1  Frauenthal, Dr. Henry William    male  50.0      2   \n",
              "181       1         1    Leader, Dr. Alice (Farnham)  female  49.0      0   \n",
              "206       1         0    Minahan, Dr. William Edward    male  44.0      2   \n",
              "278       1         1      Stahelin-Maeglin, Dr. Max    male  32.0      0   \n",
              "508       2         0           Moraweck, Dr. Ernest    male  54.0      0   \n",
              "525       2         0               Pain, Dr. Alfred    male  23.0      0   \n",
              "\n",
              "     parch    ticket      fare cabin embarked boat   body           home.dest  \\\n",
              "40       0    112379   39.6000   NaN        C  NaN    NaN    Philadelphia, PA   \n",
              "93       1     33638   81.8583   A34        S   13    NaN   San Francisco, CA   \n",
              "119      0  PC 17611  133.6500   NaN        S    5    NaN        New York, NY   \n",
              "181      0     17465   25.9292   D17        S    8    NaN        New York, NY   \n",
              "206      0     19928   90.0000   C78        Q  NaN  230.0     Fond du Lac, WI   \n",
              "278      0     13214   30.5000   B50        C    3    NaN  Basel, Switzerland   \n",
              "508      0     29011   14.0000   NaN        S  NaN    NaN       Frankfort, KY   \n",
              "525      0    244278   10.5000   NaN        S  NaN    NaN        Hamilton, ON   \n",
              "\n",
              "    Title  \n",
              "40     Dr  \n",
              "93     Dr  \n",
              "119    Dr  \n",
              "181    Dr  \n",
              "206    Dr  \n",
              "278    Dr  \n",
              "508    Dr  \n",
              "525    Dr  "
            ]
          },
          "execution_count": 174,
          "metadata": {},
          "output_type": "execute_result"
        }
      ],
      "source": [
        "titanic_passenger_df_copy[titanic_passenger_df_copy['Title'] == \"Dr\"]"
      ]
    },
    {
      "cell_type": "markdown",
      "metadata": {
        "id": "V7h2YrtN1Nwv"
      },
      "source": [
        "Drs are mostly older (except for Dr Pain - hah)\n",
        "\n",
        "**What's the average age of Drs?**"
      ]
    },
    {
      "cell_type": "code",
      "execution_count": null,
      "metadata": {
        "colab": {
          "base_uri": "https://localhost:8080/"
        },
        "id": "CvCZ1GeU1Nwv",
        "outputId": "ff71f11b-cc12-44d6-b80f-64464575a00b"
      },
      "outputs": [
        {
          "data": {
            "text/plain": [
              "43.57142857142857"
            ]
          },
          "execution_count": 175,
          "metadata": {},
          "output_type": "execute_result"
        }
      ],
      "source": [
        "titanic_passenger_df_copy[titanic_passenger_df_copy['Title'] == \"Dr\"]['age'].mean()"
      ]
    },
    {
      "cell_type": "markdown",
      "metadata": {
        "id": "qK1PRFGN1Nwv"
      },
      "source": [
        "The average age for all passengers is 29, for Drs it's 43, an improvement in fidelity?\n"
      ]
    },
    {
      "cell_type": "code",
      "execution_count": null,
      "metadata": {
        "colab": {
          "base_uri": "https://localhost:8080/"
        },
        "id": "fTtGCx5o1Nwv",
        "outputId": "7832e735-cbd3-4094-ae0e-a9e994a47616",
        "scrolled": true
      },
      "outputs": [
        {
          "data": {
            "text/plain": [
              "42.666666666666664"
            ]
          },
          "execution_count": 176,
          "metadata": {},
          "output_type": "execute_result"
        }
      ],
      "source": [
        "titanic_passenger_df_copy[(titanic_passenger_df_copy['Title'] == \"Dr\") & (titanic_passenger_df_copy['sex'] == \"male\")]['age'].mean()"
      ]
    },
    {
      "cell_type": "markdown",
      "metadata": {
        "id": "KWX9Bz-G1Nwv"
      },
      "source": [
        "no missing values so move on.\n",
        "\n",
        "**Your turn, look at 'Maj' and any other titles that suggest age**\n"
      ]
    },
    {
      "cell_type": "markdown",
      "metadata": {
        "id": "djiAJABH1Nww"
      },
      "source": [
        "**Missing values: ages for boys**\n",
        "\n",
        "It seems, in this era (pre Jackie Chan), Master did mean boys"
      ]
    },
    {
      "cell_type": "code",
      "execution_count": null,
      "metadata": {
        "colab": {
          "base_uri": "https://localhost:8080/",
          "height": 632
        },
        "id": "ys2Zrusf1Nww",
        "outputId": "889ee042-f42b-4daf-d1ce-ea451cf3a431"
      },
      "outputs": [
        {
          "data": {
            "text/html": [
              "<div>\n",
              "<style scoped>\n",
              "    .dataframe tbody tr th:only-of-type {\n",
              "        vertical-align: middle;\n",
              "    }\n",
              "\n",
              "    .dataframe tbody tr th {\n",
              "        vertical-align: top;\n",
              "    }\n",
              "\n",
              "    .dataframe thead th {\n",
              "        text-align: right;\n",
              "    }\n",
              "</style>\n",
              "<table border=\"1\" class=\"dataframe\">\n",
              "  <thead>\n",
              "    <tr style=\"text-align: right;\">\n",
              "      <th></th>\n",
              "      <th>pclass</th>\n",
              "      <th>survived</th>\n",
              "      <th>name</th>\n",
              "      <th>sex</th>\n",
              "      <th>age</th>\n",
              "      <th>sibsp</th>\n",
              "      <th>parch</th>\n",
              "      <th>ticket</th>\n",
              "      <th>fare</th>\n",
              "      <th>cabin</th>\n",
              "      <th>embarked</th>\n",
              "      <th>boat</th>\n",
              "      <th>body</th>\n",
              "      <th>home.dest</th>\n",
              "      <th>Title</th>\n",
              "    </tr>\n",
              "  </thead>\n",
              "  <tbody>\n",
              "    <tr>\n",
              "      <th>1</th>\n",
              "      <td>1</td>\n",
              "      <td>1</td>\n",
              "      <td>Allison, Master. Hudson Trevor</td>\n",
              "      <td>male</td>\n",
              "      <td>0.92</td>\n",
              "      <td>1</td>\n",
              "      <td>2</td>\n",
              "      <td>113781</td>\n",
              "      <td>151.5500</td>\n",
              "      <td>C22 C26</td>\n",
              "      <td>S</td>\n",
              "      <td>11</td>\n",
              "      <td>NaN</td>\n",
              "      <td>Montreal, PQ / Chesterville, ON</td>\n",
              "      <td>Master</td>\n",
              "    </tr>\n",
              "    <tr>\n",
              "      <th>54</th>\n",
              "      <td>1</td>\n",
              "      <td>1</td>\n",
              "      <td>Carter, Master. William Thornton II</td>\n",
              "      <td>male</td>\n",
              "      <td>11.00</td>\n",
              "      <td>1</td>\n",
              "      <td>2</td>\n",
              "      <td>113760</td>\n",
              "      <td>120.0000</td>\n",
              "      <td>B96 B98</td>\n",
              "      <td>S</td>\n",
              "      <td>4</td>\n",
              "      <td>NaN</td>\n",
              "      <td>Bryn Mawr, PA</td>\n",
              "      <td>Master</td>\n",
              "    </tr>\n",
              "    <tr>\n",
              "      <th>94</th>\n",
              "      <td>1</td>\n",
              "      <td>1</td>\n",
              "      <td>Dodge, Master. Washington</td>\n",
              "      <td>male</td>\n",
              "      <td>4.00</td>\n",
              "      <td>0</td>\n",
              "      <td>2</td>\n",
              "      <td>33638</td>\n",
              "      <td>81.8583</td>\n",
              "      <td>A34</td>\n",
              "      <td>S</td>\n",
              "      <td>5</td>\n",
              "      <td>NaN</td>\n",
              "      <td>San Francisco, CA</td>\n",
              "      <td>Master</td>\n",
              "    </tr>\n",
              "    <tr>\n",
              "      <th>249</th>\n",
              "      <td>1</td>\n",
              "      <td>1</td>\n",
              "      <td>Ryerson, Master. John Borie</td>\n",
              "      <td>male</td>\n",
              "      <td>13.00</td>\n",
              "      <td>2</td>\n",
              "      <td>2</td>\n",
              "      <td>PC 17608</td>\n",
              "      <td>262.3750</td>\n",
              "      <td>B57 B59 B63 B66</td>\n",
              "      <td>C</td>\n",
              "      <td>4</td>\n",
              "      <td>NaN</td>\n",
              "      <td>Haverford, PA / Cooperstown, NY</td>\n",
              "      <td>Master</td>\n",
              "    </tr>\n",
              "    <tr>\n",
              "      <th>273</th>\n",
              "      <td>1</td>\n",
              "      <td>1</td>\n",
              "      <td>Spedden, Master. Robert Douglas</td>\n",
              "      <td>male</td>\n",
              "      <td>6.00</td>\n",
              "      <td>0</td>\n",
              "      <td>2</td>\n",
              "      <td>16966</td>\n",
              "      <td>134.5000</td>\n",
              "      <td>E34</td>\n",
              "      <td>C</td>\n",
              "      <td>3</td>\n",
              "      <td>NaN</td>\n",
              "      <td>Tuxedo Park, NY</td>\n",
              "      <td>Master</td>\n",
              "    </tr>\n",
              "    <tr>\n",
              "      <th>...</th>\n",
              "      <td>...</td>\n",
              "      <td>...</td>\n",
              "      <td>...</td>\n",
              "      <td>...</td>\n",
              "      <td>...</td>\n",
              "      <td>...</td>\n",
              "      <td>...</td>\n",
              "      <td>...</td>\n",
              "      <td>...</td>\n",
              "      <td>...</td>\n",
              "      <td>...</td>\n",
              "      <td>...</td>\n",
              "      <td>...</td>\n",
              "      <td>...</td>\n",
              "      <td>...</td>\n",
              "    </tr>\n",
              "    <tr>\n",
              "      <th>1207</th>\n",
              "      <td>3</td>\n",
              "      <td>0</td>\n",
              "      <td>Skoog, Master. Karl Thorsten</td>\n",
              "      <td>male</td>\n",
              "      <td>10.00</td>\n",
              "      <td>3</td>\n",
              "      <td>2</td>\n",
              "      <td>347088</td>\n",
              "      <td>27.9000</td>\n",
              "      <td>NaN</td>\n",
              "      <td>S</td>\n",
              "      <td>NaN</td>\n",
              "      <td>NaN</td>\n",
              "      <td>NaN</td>\n",
              "      <td>Master</td>\n",
              "    </tr>\n",
              "    <tr>\n",
              "      <th>1240</th>\n",
              "      <td>3</td>\n",
              "      <td>1</td>\n",
              "      <td>Thomas, Master. Assad Alexander</td>\n",
              "      <td>male</td>\n",
              "      <td>0.42</td>\n",
              "      <td>0</td>\n",
              "      <td>1</td>\n",
              "      <td>2625</td>\n",
              "      <td>8.5167</td>\n",
              "      <td>NaN</td>\n",
              "      <td>C</td>\n",
              "      <td>16</td>\n",
              "      <td>NaN</td>\n",
              "      <td>NaN</td>\n",
              "      <td>Master</td>\n",
              "    </tr>\n",
              "    <tr>\n",
              "      <th>1256</th>\n",
              "      <td>3</td>\n",
              "      <td>1</td>\n",
              "      <td>Touma, Master. Georges Youssef</td>\n",
              "      <td>male</td>\n",
              "      <td>7.00</td>\n",
              "      <td>1</td>\n",
              "      <td>1</td>\n",
              "      <td>2650</td>\n",
              "      <td>15.2458</td>\n",
              "      <td>NaN</td>\n",
              "      <td>C</td>\n",
              "      <td>C</td>\n",
              "      <td>NaN</td>\n",
              "      <td>NaN</td>\n",
              "      <td>Master</td>\n",
              "    </tr>\n",
              "    <tr>\n",
              "      <th>1262</th>\n",
              "      <td>3</td>\n",
              "      <td>0</td>\n",
              "      <td>van Billiard, Master. James William</td>\n",
              "      <td>male</td>\n",
              "      <td>NaN</td>\n",
              "      <td>1</td>\n",
              "      <td>1</td>\n",
              "      <td>A/5. 851</td>\n",
              "      <td>14.5000</td>\n",
              "      <td>NaN</td>\n",
              "      <td>S</td>\n",
              "      <td>NaN</td>\n",
              "      <td>NaN</td>\n",
              "      <td>NaN</td>\n",
              "      <td>Master</td>\n",
              "    </tr>\n",
              "    <tr>\n",
              "      <th>1263</th>\n",
              "      <td>3</td>\n",
              "      <td>0</td>\n",
              "      <td>van Billiard, Master. Walter John</td>\n",
              "      <td>male</td>\n",
              "      <td>11.50</td>\n",
              "      <td>1</td>\n",
              "      <td>1</td>\n",
              "      <td>A/5. 851</td>\n",
              "      <td>14.5000</td>\n",
              "      <td>NaN</td>\n",
              "      <td>S</td>\n",
              "      <td>NaN</td>\n",
              "      <td>1.0</td>\n",
              "      <td>NaN</td>\n",
              "      <td>Master</td>\n",
              "    </tr>\n",
              "  </tbody>\n",
              "</table>\n",
              "<p>61 rows × 15 columns</p>\n",
              "</div>"
            ],
            "text/plain": [
              "      pclass  survived                                 name   sex    age  \\\n",
              "1          1         1       Allison, Master. Hudson Trevor  male   0.92   \n",
              "54         1         1  Carter, Master. William Thornton II  male  11.00   \n",
              "94         1         1            Dodge, Master. Washington  male   4.00   \n",
              "249        1         1          Ryerson, Master. John Borie  male  13.00   \n",
              "273        1         1      Spedden, Master. Robert Douglas  male   6.00   \n",
              "...      ...       ...                                  ...   ...    ...   \n",
              "1207       3         0         Skoog, Master. Karl Thorsten  male  10.00   \n",
              "1240       3         1      Thomas, Master. Assad Alexander  male   0.42   \n",
              "1256       3         1       Touma, Master. Georges Youssef  male   7.00   \n",
              "1262       3         0  van Billiard, Master. James William  male    NaN   \n",
              "1263       3         0    van Billiard, Master. Walter John  male  11.50   \n",
              "\n",
              "      sibsp  parch    ticket      fare            cabin embarked boat  body  \\\n",
              "1         1      2    113781  151.5500          C22 C26        S   11   NaN   \n",
              "54        1      2    113760  120.0000          B96 B98        S    4   NaN   \n",
              "94        0      2     33638   81.8583              A34        S    5   NaN   \n",
              "249       2      2  PC 17608  262.3750  B57 B59 B63 B66        C    4   NaN   \n",
              "273       0      2     16966  134.5000              E34        C    3   NaN   \n",
              "...     ...    ...       ...       ...              ...      ...  ...   ...   \n",
              "1207      3      2    347088   27.9000              NaN        S  NaN   NaN   \n",
              "1240      0      1      2625    8.5167              NaN        C   16   NaN   \n",
              "1256      1      1      2650   15.2458              NaN        C    C   NaN   \n",
              "1262      1      1  A/5. 851   14.5000              NaN        S  NaN   NaN   \n",
              "1263      1      1  A/5. 851   14.5000              NaN        S  NaN   1.0   \n",
              "\n",
              "                            home.dest   Title  \n",
              "1     Montreal, PQ / Chesterville, ON  Master  \n",
              "54                      Bryn Mawr, PA  Master  \n",
              "94                  San Francisco, CA  Master  \n",
              "249   Haverford, PA / Cooperstown, NY  Master  \n",
              "273                   Tuxedo Park, NY  Master  \n",
              "...                               ...     ...  \n",
              "1207                              NaN  Master  \n",
              "1240                              NaN  Master  \n",
              "1256                              NaN  Master  \n",
              "1262                              NaN  Master  \n",
              "1263                              NaN  Master  \n",
              "\n",
              "[61 rows x 15 columns]"
            ]
          },
          "execution_count": 177,
          "metadata": {},
          "output_type": "execute_result"
        }
      ],
      "source": [
        "titanic_passenger_df_copy[titanic_passenger_df_copy['Title'] == \"Master\"] # how many?"
      ]
    },
    {
      "cell_type": "code",
      "execution_count": null,
      "metadata": {
        "colab": {
          "base_uri": "https://localhost:8080/",
          "height": 300
        },
        "id": "ZXq5UmOw1Nww",
        "outputId": "78e6258d-7ec9-4da4-eb1c-1dd3b33f1707"
      },
      "outputs": [
        {
          "data": {
            "text/html": [
              "<div>\n",
              "<style scoped>\n",
              "    .dataframe tbody tr th:only-of-type {\n",
              "        vertical-align: middle;\n",
              "    }\n",
              "\n",
              "    .dataframe tbody tr th {\n",
              "        vertical-align: top;\n",
              "    }\n",
              "\n",
              "    .dataframe thead th {\n",
              "        text-align: right;\n",
              "    }\n",
              "</style>\n",
              "<table border=\"1\" class=\"dataframe\">\n",
              "  <thead>\n",
              "    <tr style=\"text-align: right;\">\n",
              "      <th></th>\n",
              "      <th>pclass</th>\n",
              "      <th>survived</th>\n",
              "      <th>age</th>\n",
              "      <th>sibsp</th>\n",
              "      <th>parch</th>\n",
              "      <th>fare</th>\n",
              "      <th>body</th>\n",
              "    </tr>\n",
              "  </thead>\n",
              "  <tbody>\n",
              "    <tr>\n",
              "      <th>count</th>\n",
              "      <td>61.000000</td>\n",
              "      <td>61.000000</td>\n",
              "      <td>53.000000</td>\n",
              "      <td>61.000000</td>\n",
              "      <td>61.000000</td>\n",
              "      <td>61.000000</td>\n",
              "      <td>3.00000</td>\n",
              "    </tr>\n",
              "    <tr>\n",
              "      <th>mean</th>\n",
              "      <td>2.655738</td>\n",
              "      <td>0.508197</td>\n",
              "      <td>5.482642</td>\n",
              "      <td>2.049180</td>\n",
              "      <td>1.377049</td>\n",
              "      <td>36.008195</td>\n",
              "      <td>24.00000</td>\n",
              "    </tr>\n",
              "    <tr>\n",
              "      <th>std</th>\n",
              "      <td>0.629424</td>\n",
              "      <td>0.504082</td>\n",
              "      <td>4.161554</td>\n",
              "      <td>1.961515</td>\n",
              "      <td>0.552688</td>\n",
              "      <td>40.677102</td>\n",
              "      <td>37.26929</td>\n",
              "    </tr>\n",
              "    <tr>\n",
              "      <th>min</th>\n",
              "      <td>1.000000</td>\n",
              "      <td>0.000000</td>\n",
              "      <td>0.330000</td>\n",
              "      <td>0.000000</td>\n",
              "      <td>0.000000</td>\n",
              "      <td>3.170800</td>\n",
              "      <td>1.00000</td>\n",
              "    </tr>\n",
              "    <tr>\n",
              "      <th>25%</th>\n",
              "      <td>2.000000</td>\n",
              "      <td>0.000000</td>\n",
              "      <td>2.000000</td>\n",
              "      <td>1.000000</td>\n",
              "      <td>1.000000</td>\n",
              "      <td>15.245800</td>\n",
              "      <td>2.50000</td>\n",
              "    </tr>\n",
              "    <tr>\n",
              "      <th>50%</th>\n",
              "      <td>3.000000</td>\n",
              "      <td>1.000000</td>\n",
              "      <td>4.000000</td>\n",
              "      <td>1.000000</td>\n",
              "      <td>1.000000</td>\n",
              "      <td>26.000000</td>\n",
              "      <td>4.00000</td>\n",
              "    </tr>\n",
              "    <tr>\n",
              "      <th>75%</th>\n",
              "      <td>3.000000</td>\n",
              "      <td>1.000000</td>\n",
              "      <td>9.000000</td>\n",
              "      <td>4.000000</td>\n",
              "      <td>2.000000</td>\n",
              "      <td>36.750000</td>\n",
              "      <td>35.50000</td>\n",
              "    </tr>\n",
              "    <tr>\n",
              "      <th>max</th>\n",
              "      <td>3.000000</td>\n",
              "      <td>1.000000</td>\n",
              "      <td>14.500000</td>\n",
              "      <td>8.000000</td>\n",
              "      <td>2.000000</td>\n",
              "      <td>262.375000</td>\n",
              "      <td>67.00000</td>\n",
              "    </tr>\n",
              "  </tbody>\n",
              "</table>\n",
              "</div>"
            ],
            "text/plain": [
              "          pclass   survived        age      sibsp      parch        fare  \\\n",
              "count  61.000000  61.000000  53.000000  61.000000  61.000000   61.000000   \n",
              "mean    2.655738   0.508197   5.482642   2.049180   1.377049   36.008195   \n",
              "std     0.629424   0.504082   4.161554   1.961515   0.552688   40.677102   \n",
              "min     1.000000   0.000000   0.330000   0.000000   0.000000    3.170800   \n",
              "25%     2.000000   0.000000   2.000000   1.000000   1.000000   15.245800   \n",
              "50%     3.000000   1.000000   4.000000   1.000000   1.000000   26.000000   \n",
              "75%     3.000000   1.000000   9.000000   4.000000   2.000000   36.750000   \n",
              "max     3.000000   1.000000  14.500000   8.000000   2.000000  262.375000   \n",
              "\n",
              "           body  \n",
              "count   3.00000  \n",
              "mean   24.00000  \n",
              "std    37.26929  \n",
              "min     1.00000  \n",
              "25%     2.50000  \n",
              "50%     4.00000  \n",
              "75%    35.50000  \n",
              "max    67.00000  "
            ]
          },
          "execution_count": 178,
          "metadata": {},
          "output_type": "execute_result"
        }
      ],
      "source": [
        "#there are a lot, 61, use describe()\n",
        "titanic_passenger_df_copy[titanic_passenger_df_copy['Title'] == \"Master\"].describe() # min age is 0.33 (4 months?), max is 14.5, mean is 5.5"
      ]
    },
    {
      "cell_type": "code",
      "execution_count": null,
      "metadata": {
        "colab": {
          "base_uri": "https://localhost:8080/"
        },
        "id": "2b0-A3EE1Nww",
        "outputId": "15c74f22-0843-4a6c-f2b4-ab2504e26dcb"
      },
      "outputs": [
        {
          "data": {
            "text/plain": [
              "5.482641509433962"
            ]
          },
          "execution_count": 179,
          "metadata": {},
          "output_type": "execute_result"
        }
      ],
      "source": [
        "titanic_passenger_df_copy[titanic_passenger_df_copy['Title'] == \"Master\"]['age'].mean()"
      ]
    },
    {
      "cell_type": "markdown",
      "metadata": {
        "id": "vbGNJJXl1Nww"
      },
      "source": [
        "### 1.1.2 Discussion\n",
        "\n",
        "* How many boys don't have an age?\n",
        "* What does describe() (above) tell us about pclass, sibsp, parch?\n",
        "* Do any children not have any siblings or parents travelling with them?\n",
        "* Any other factors that can help determine (or impute) age?\n",
        "\n"
      ]
    },
    {
      "cell_type": "markdown",
      "metadata": {
        "id": "yW_IJjl-1Nww"
      },
      "source": [
        "## 1.2 Mean imputation of age by title\n",
        "\n",
        "In this task you need to calculate the mean age for each title group and use the imputed values to replace the missing values in the corresponding group."
      ]
    },
    {
      "cell_type": "code",
      "execution_count": null,
      "metadata": {
        "colab": {
          "base_uri": "https://localhost:8080/"
        },
        "id": "5eDXpkLV1Nww",
        "outputId": "5615a137-c9b4-4db4-8808-1408ee67ec56"
      },
      "outputs": [
        {
          "data": {
            "text/plain": [
              "count    1309.000000\n",
              "mean       29.896894\n",
              "std        13.193803\n",
              "min         0.170000\n",
              "25%        21.774238\n",
              "50%        30.000000\n",
              "75%        36.000000\n",
              "max        80.000000\n",
              "Name: age, dtype: float64"
            ]
          },
          "execution_count": 180,
          "metadata": {},
          "output_type": "execute_result"
        }
      ],
      "source": [
        "# this seems too easy, is it right?\n",
        "titanic_passenger_df_copy[\"age\"].fillna(titanic_passenger_df_copy.groupby(\"Title\")[\"age\"].transform(\"mean\"), inplace=True)\n",
        "titanic_passenger_df_copy.age.describe()"
      ]
    },
    {
      "cell_type": "code",
      "execution_count": null,
      "metadata": {
        "colab": {
          "base_uri": "https://localhost:8080/"
        },
        "id": "_Xb167OV1Nwx",
        "outputId": "c1f75c7a-d2c6-43ad-a025-5be82b842371"
      },
      "outputs": [
        {
          "data": {
            "text/plain": [
              "Title\n",
              "Capt            70.000000\n",
              "Col             54.000000\n",
              "Don             40.000000\n",
              "Dona            39.000000\n",
              "Dr              43.571429\n",
              "Jonkheer        38.000000\n",
              "Lady            48.000000\n",
              "Major           48.500000\n",
              "Master           5.482642\n",
              "Miss            21.774238\n",
              "Mlle            24.000000\n",
              "Mme             24.000000\n",
              "Mr              32.252151\n",
              "Mrs             36.994118\n",
              "Ms              28.000000\n",
              "Rev             41.250000\n",
              "Sir             49.000000\n",
              "the Countess    33.000000\n",
              "Name: age, dtype: float64"
            ]
          },
          "execution_count": 181,
          "metadata": {},
          "output_type": "execute_result"
        }
      ],
      "source": [
        "titanic_passenger_df_copy.groupby(\"Title\").aggregate('age').mean()"
      ]
    },
    {
      "cell_type": "code",
      "execution_count": null,
      "metadata": {
        "id": "L0p_QsnN1Nwx"
      },
      "outputs": [],
      "source": [
        "test_df = pd.DataFrame({\n",
        "    \"Date\": [\n",
        "        \"2015-05-08\", \"2015-05-07\", \"2015-05-06\", \"2015-05-05\",\n",
        "        \"2015-05-08\", \"2015-05-07\", \"2015-05-06\", \"2015-05-05\"],\n",
        "    \"Data\": [5, 8, 6, 1, 50, 100, 60, 120],\n",
        "})"
      ]
    },
    {
      "cell_type": "code",
      "execution_count": null,
      "metadata": {
        "colab": {
          "base_uri": "https://localhost:8080/"
        },
        "id": "xfoxdYEQF-Ju",
        "outputId": "d2709015-1d63-4326-aaaa-bff43a31fce3"
      },
      "outputs": [
        {
          "data": {
            "text/plain": [
              "0     55\n",
              "1    108\n",
              "2     66\n",
              "3    121\n",
              "4     55\n",
              "5    108\n",
              "6     66\n",
              "7    121\n",
              "Name: Data, dtype: int64"
            ]
          },
          "execution_count": 183,
          "metadata": {},
          "output_type": "execute_result"
        }
      ],
      "source": [
        "\n",
        "test_df.groupby('Date')['Data'].transform('sum')"
      ]
    },
    {
      "cell_type": "code",
      "execution_count": null,
      "metadata": {
        "colab": {
          "base_uri": "https://localhost:8080/",
          "height": 300
        },
        "id": "1xMtRHjoF-Jv",
        "outputId": "fdd7633f-a94e-4ec7-e934-7dab7adfa752"
      },
      "outputs": [
        {
          "data": {
            "text/html": [
              "<div>\n",
              "<style scoped>\n",
              "    .dataframe tbody tr th:only-of-type {\n",
              "        vertical-align: middle;\n",
              "    }\n",
              "\n",
              "    .dataframe tbody tr th {\n",
              "        vertical-align: top;\n",
              "    }\n",
              "\n",
              "    .dataframe thead th {\n",
              "        text-align: right;\n",
              "    }\n",
              "</style>\n",
              "<table border=\"1\" class=\"dataframe\">\n",
              "  <thead>\n",
              "    <tr style=\"text-align: right;\">\n",
              "      <th></th>\n",
              "      <th>Date</th>\n",
              "      <th>Data</th>\n",
              "    </tr>\n",
              "  </thead>\n",
              "  <tbody>\n",
              "    <tr>\n",
              "      <th>0</th>\n",
              "      <td>2015-05-08</td>\n",
              "      <td>5</td>\n",
              "    </tr>\n",
              "    <tr>\n",
              "      <th>1</th>\n",
              "      <td>2015-05-07</td>\n",
              "      <td>8</td>\n",
              "    </tr>\n",
              "    <tr>\n",
              "      <th>2</th>\n",
              "      <td>2015-05-06</td>\n",
              "      <td>6</td>\n",
              "    </tr>\n",
              "    <tr>\n",
              "      <th>3</th>\n",
              "      <td>2015-05-05</td>\n",
              "      <td>1</td>\n",
              "    </tr>\n",
              "    <tr>\n",
              "      <th>4</th>\n",
              "      <td>2015-05-08</td>\n",
              "      <td>50</td>\n",
              "    </tr>\n",
              "    <tr>\n",
              "      <th>5</th>\n",
              "      <td>2015-05-07</td>\n",
              "      <td>100</td>\n",
              "    </tr>\n",
              "    <tr>\n",
              "      <th>6</th>\n",
              "      <td>2015-05-06</td>\n",
              "      <td>60</td>\n",
              "    </tr>\n",
              "    <tr>\n",
              "      <th>7</th>\n",
              "      <td>2015-05-05</td>\n",
              "      <td>120</td>\n",
              "    </tr>\n",
              "  </tbody>\n",
              "</table>\n",
              "</div>"
            ],
            "text/plain": [
              "         Date  Data\n",
              "0  2015-05-08     5\n",
              "1  2015-05-07     8\n",
              "2  2015-05-06     6\n",
              "3  2015-05-05     1\n",
              "4  2015-05-08    50\n",
              "5  2015-05-07   100\n",
              "6  2015-05-06    60\n",
              "7  2015-05-05   120"
            ]
          },
          "execution_count": 184,
          "metadata": {},
          "output_type": "execute_result"
        }
      ],
      "source": [
        "test_df"
      ]
    },
    {
      "cell_type": "markdown",
      "metadata": {
        "id": "ZgiKQo1Stvc1"
      },
      "source": [
        "# 2. Case Study: Handling Missing Values in the Boston Dataset"
      ]
    },
    {
      "cell_type": "code",
      "execution_count": null,
      "metadata": {
        "id": "3Zo6kDQZtvc1"
      },
      "outputs": [],
      "source": [
        "# ignore the warning, FutureWarning\n",
        "import warnings\n",
        "warnings.filterwarnings(\"ignore\")"
      ]
    },
    {
      "cell_type": "markdown",
      "metadata": {
        "id": "ZePCWucrtvc2"
      },
      "source": [
        "From the previous section, we have seen that the Titanic dataset contains missing values in the 'Age' column. In this section, we will impute the missing values using the `LinearRegression` model.\n",
        "\n",
        "To better illustrate the imputation process, we will use the `boston` dataset from the `sklearn.datasets` module. The `boston` dataset contains 13 features and 506 samples. We will introduce missing values to the `boston` dataset and then impute the missing values using the `LinearRegression` model."
      ]
    },
    {
      "cell_type": "code",
      "execution_count": null,
      "metadata": {
        "id": "QcJTtcqZtvc2",
        "outputId": "00cde4fa-4ece-40e7-a5d3-5f69a13c6754"
      },
      "outputs": [
        {
          "name": "stdout",
          "output_type": "stream",
          "text": [
            "(506, 13) (506,)\n"
          ]
        }
      ],
      "source": [
        "from sklearn.datasets import fetch_openml\n",
        "boston = fetch_openml(name=\"boston\", version=1, as_frame=True)\n",
        "print(boston.data.shape, boston.target.shape)"
      ]
    },
    {
      "cell_type": "code",
      "execution_count": null,
      "metadata": {
        "id": "EmUMRrkRtvc2",
        "outputId": "532c84a9-e478-4db9-d4a3-67a6b01dbe21"
      },
      "outputs": [
        {
          "data": {
            "text/plain": [
              "Index(['CRIM', 'ZN', 'INDUS', 'CHAS', 'NOX', 'RM', 'AGE', 'DIS', 'RAD', 'TAX',\n",
              "       'PTRATIO', 'B', 'LSTAT'],\n",
              "      dtype='object')"
            ]
          },
          "execution_count": 187,
          "metadata": {},
          "output_type": "execute_result"
        }
      ],
      "source": [
        "boston.data.columns"
      ]
    },
    {
      "cell_type": "code",
      "execution_count": null,
      "metadata": {
        "id": "l25titCntvc2",
        "outputId": "ddb987d6-f2c6-483d-941f-73c3f22aa983"
      },
      "outputs": [
        {
          "name": "stdout",
          "output_type": "stream",
          "text": [
            "**Author**:   \n",
            "**Source**: Unknown - Date unknown  \n",
            "**Please cite**:   \n",
            "\n",
            "The Boston house-price data of Harrison, D. and Rubinfeld, D.L. 'Hedonic\n",
            "prices and the demand for clean air', J. Environ. Economics & Management,\n",
            "vol.5, 81-102, 1978.   Used in Belsley, Kuh & Welsch, 'Regression diagnostics\n",
            "...', Wiley, 1980.   N.B. Various transformations are used in the table on\n",
            "pages 244-261 of the latter.\n",
            "Variables in order:\n",
            "CRIM     per capita crime rate by town\n",
            "ZN       proportion of residential land zoned for lots over 25,000 sq.ft.\n",
            "INDUS    proportion of non-retail business acres per town\n",
            "CHAS     Charles River dummy variable (= 1 if tract bounds river; 0 otherwise)\n",
            "NOX      nitric oxides concentration (parts per 10 million)\n",
            "RM       average number of rooms per dwelling\n",
            "AGE      proportion of owner-occupied units built prior to 1940\n",
            "DIS      weighted distances to five Boston employment centres\n",
            "RAD      index of accessibility to radial highways\n",
            "TAX      full-value property-tax rate per $10,000\n",
            "PTRATIO  pupil-teacher ratio by town\n",
            "B        1000(Bk - 0.63)^2 where Bk is the proportion of blacks by town\n",
            "LSTAT    % lower status of the population\n",
            "MEDV     Median value of owner-occupied homes in $1000's\n",
            "\n",
            "\n",
            "Information about the dataset\n",
            "CLASSTYPE: numeric\n",
            "CLASSINDEX: last\n",
            "\n",
            "Downloaded from openml.org.\n"
          ]
        }
      ],
      "source": [
        "print(boston.DESCR)"
      ]
    },
    {
      "cell_type": "markdown",
      "metadata": {
        "id": "_RjB-Ohhtvc2"
      },
      "source": [
        "**Note**:\n",
        "\n",
        "The `load_boston()` dataset was removed from scikit-learn in version `1.2` due to ethical concerns. The Boston Housing dataset is available on `OpenML`, and you can load it using the `fetch_openml` function from `scikit-learn` as shown above.\n"
      ]
    },
    {
      "cell_type": "markdown",
      "metadata": {
        "id": "7oge5NRgtvc2"
      },
      "source": [
        "Alternatively, you can using `pd.read_pickle` to read the modified `boston` dataset we have provided."
      ]
    },
    {
      "cell_type": "code",
      "execution_count": null,
      "metadata": {
        "id": "otZhiucatvc2",
        "outputId": "d1e62505-0da9-456e-caa3-67bd58d57b3d"
      },
      "outputs": [
        {
          "name": "stdout",
          "output_type": "stream",
          "text": [
            "(506, 14)\n"
          ]
        }
      ],
      "source": [
        "boston_df = pd.read_pickle(f'{root_path}/boston_df.p')\n",
        "print(boston_df.shape)"
      ]
    },
    {
      "cell_type": "code",
      "execution_count": null,
      "metadata": {
        "id": "cm5iAwHctvc2",
        "outputId": "8e95cf1e-7f3f-4dab-b458-2b4cb32afc24"
      },
      "outputs": [
        {
          "data": {
            "text/html": [
              "<div>\n",
              "<style scoped>\n",
              "    .dataframe tbody tr th:only-of-type {\n",
              "        vertical-align: middle;\n",
              "    }\n",
              "\n",
              "    .dataframe tbody tr th {\n",
              "        vertical-align: top;\n",
              "    }\n",
              "\n",
              "    .dataframe thead th {\n",
              "        text-align: right;\n",
              "    }\n",
              "</style>\n",
              "<table border=\"1\" class=\"dataframe\">\n",
              "  <thead>\n",
              "    <tr style=\"text-align: right;\">\n",
              "      <th></th>\n",
              "      <th>CRIM</th>\n",
              "      <th>ZN</th>\n",
              "      <th>INDUS</th>\n",
              "      <th>CHAS</th>\n",
              "      <th>NOX</th>\n",
              "      <th>RM</th>\n",
              "      <th>AGE</th>\n",
              "      <th>DIS</th>\n",
              "      <th>RAD</th>\n",
              "      <th>TAX</th>\n",
              "      <th>PTRATIO</th>\n",
              "      <th>B</th>\n",
              "      <th>LSTAT</th>\n",
              "      <th>y</th>\n",
              "    </tr>\n",
              "  </thead>\n",
              "  <tbody>\n",
              "    <tr>\n",
              "      <th>0</th>\n",
              "      <td>0.00632</td>\n",
              "      <td>18.0</td>\n",
              "      <td>2.31</td>\n",
              "      <td>0.0</td>\n",
              "      <td>0.538</td>\n",
              "      <td>6.575</td>\n",
              "      <td>65.2</td>\n",
              "      <td>4.0900</td>\n",
              "      <td>1.0</td>\n",
              "      <td>296.0</td>\n",
              "      <td>15.3</td>\n",
              "      <td>396.90</td>\n",
              "      <td>4.98</td>\n",
              "      <td>24.0</td>\n",
              "    </tr>\n",
              "    <tr>\n",
              "      <th>1</th>\n",
              "      <td>0.02731</td>\n",
              "      <td>0.0</td>\n",
              "      <td>7.07</td>\n",
              "      <td>0.0</td>\n",
              "      <td>0.469</td>\n",
              "      <td>6.421</td>\n",
              "      <td>78.9</td>\n",
              "      <td>4.9671</td>\n",
              "      <td>2.0</td>\n",
              "      <td>242.0</td>\n",
              "      <td>17.8</td>\n",
              "      <td>396.90</td>\n",
              "      <td>9.14</td>\n",
              "      <td>21.6</td>\n",
              "    </tr>\n",
              "    <tr>\n",
              "      <th>2</th>\n",
              "      <td>0.02729</td>\n",
              "      <td>0.0</td>\n",
              "      <td>7.07</td>\n",
              "      <td>0.0</td>\n",
              "      <td>0.469</td>\n",
              "      <td>7.185</td>\n",
              "      <td>61.1</td>\n",
              "      <td>4.9671</td>\n",
              "      <td>2.0</td>\n",
              "      <td>242.0</td>\n",
              "      <td>17.8</td>\n",
              "      <td>392.83</td>\n",
              "      <td>4.03</td>\n",
              "      <td>34.7</td>\n",
              "    </tr>\n",
              "    <tr>\n",
              "      <th>3</th>\n",
              "      <td>0.03237</td>\n",
              "      <td>0.0</td>\n",
              "      <td>2.18</td>\n",
              "      <td>0.0</td>\n",
              "      <td>0.458</td>\n",
              "      <td>6.998</td>\n",
              "      <td>45.8</td>\n",
              "      <td>6.0622</td>\n",
              "      <td>3.0</td>\n",
              "      <td>222.0</td>\n",
              "      <td>18.7</td>\n",
              "      <td>394.63</td>\n",
              "      <td>2.94</td>\n",
              "      <td>33.4</td>\n",
              "    </tr>\n",
              "    <tr>\n",
              "      <th>4</th>\n",
              "      <td>0.06905</td>\n",
              "      <td>0.0</td>\n",
              "      <td>2.18</td>\n",
              "      <td>0.0</td>\n",
              "      <td>0.458</td>\n",
              "      <td>7.147</td>\n",
              "      <td>54.2</td>\n",
              "      <td>6.0622</td>\n",
              "      <td>3.0</td>\n",
              "      <td>222.0</td>\n",
              "      <td>18.7</td>\n",
              "      <td>396.90</td>\n",
              "      <td>5.33</td>\n",
              "      <td>36.2</td>\n",
              "    </tr>\n",
              "  </tbody>\n",
              "</table>\n",
              "</div>"
            ],
            "text/plain": [
              "      CRIM    ZN  INDUS  CHAS    NOX     RM   AGE     DIS  RAD    TAX  \\\n",
              "0  0.00632  18.0   2.31   0.0  0.538  6.575  65.2  4.0900  1.0  296.0   \n",
              "1  0.02731   0.0   7.07   0.0  0.469  6.421  78.9  4.9671  2.0  242.0   \n",
              "2  0.02729   0.0   7.07   0.0  0.469  7.185  61.1  4.9671  2.0  242.0   \n",
              "3  0.03237   0.0   2.18   0.0  0.458  6.998  45.8  6.0622  3.0  222.0   \n",
              "4  0.06905   0.0   2.18   0.0  0.458  7.147  54.2  6.0622  3.0  222.0   \n",
              "\n",
              "   PTRATIO       B  LSTAT     y  \n",
              "0     15.3  396.90   4.98  24.0  \n",
              "1     17.8  396.90   9.14  21.6  \n",
              "2     17.8  392.83   4.03  34.7  \n",
              "3     18.7  394.63   2.94  33.4  \n",
              "4     18.7  396.90   5.33  36.2  "
            ]
          },
          "execution_count": 190,
          "metadata": {},
          "output_type": "execute_result"
        }
      ],
      "source": [
        "boston_df.head()"
      ]
    },
    {
      "cell_type": "markdown",
      "metadata": {
        "id": "3fOiZMs4tvc3"
      },
      "source": [
        "**This dataset has no missing values**\n",
        "\n",
        "We will select a feature to degrade (remove some values as missing data)."
      ]
    },
    {
      "cell_type": "code",
      "execution_count": null,
      "metadata": {
        "id": "GXHAgWqvtvc3"
      },
      "outputs": [],
      "source": [
        "boston_df.data = boston_df.iloc[:,:-1]\n",
        "boston_df.target = boston_df.iloc[:,-1:]"
      ]
    },
    {
      "cell_type": "code",
      "execution_count": null,
      "metadata": {
        "id": "Q9Ge7o_gtvc3",
        "outputId": "703a467f-2a88-4f1b-a032-622a7ea52d12"
      },
      "outputs": [
        {
          "name": "stdout",
          "output_type": "stream",
          "text": [
            "(379, 13) (127, 13)\n"
          ]
        }
      ],
      "source": [
        "from sklearn.model_selection import train_test_split\n",
        "X_train, X_test, y_train, y_test = train_test_split(boston_df.data,boston_df.target, random_state = 1)\n",
        "print(X_train.shape, X_test.shape)"
      ]
    },
    {
      "cell_type": "markdown",
      "metadata": {
        "id": "6lAbfsYCtvc3"
      },
      "source": [
        "These testing and training sets form our full dataset, we have prepared some data with missing vaues."
      ]
    },
    {
      "cell_type": "markdown",
      "metadata": {
        "id": "ogwMCo_ftvc3"
      },
      "source": [
        "## 2.1 NA values in the AGE column\n",
        "\n",
        "proportion of owner-occupied units built prior to 1940"
      ]
    },
    {
      "cell_type": "code",
      "execution_count": null,
      "metadata": {
        "id": "T1XQThVNtvc3",
        "outputId": "008cd5c2-9452-466e-b28f-82c0ea50752a"
      },
      "outputs": [
        {
          "name": "stdout",
          "output_type": "stream",
          "text": [
            "(379, 14)\n"
          ]
        }
      ],
      "source": [
        "# read in the data\n",
        "boston_dropna_df = pd.read_pickle(f'{root_path}/boston_dropna_df.p')\n",
        "print(boston_dropna_df.shape)"
      ]
    },
    {
      "cell_type": "code",
      "execution_count": null,
      "metadata": {
        "id": "vGgXF27Ztvc3",
        "outputId": "7fb6c3dd-a571-49aa-fdc3-b08487b12cc3"
      },
      "outputs": [
        {
          "name": "stdout",
          "output_type": "stream",
          "text": [
            "95 95\n"
          ]
        }
      ],
      "source": [
        "boston_impute_df = boston_dropna_df.copy()\n",
        "print(boston_dropna_df['AGE'].isnull().sum(), boston_impute_df['AGE'].isnull().sum())"
      ]
    },
    {
      "cell_type": "code",
      "execution_count": null,
      "metadata": {
        "id": "oWcRMDJ4tvc3",
        "outputId": "9b6b8707-3c57-45c7-ed52-fbee27566bfa"
      },
      "outputs": [
        {
          "data": {
            "text/html": [
              "<div>\n",
              "<style scoped>\n",
              "    .dataframe tbody tr th:only-of-type {\n",
              "        vertical-align: middle;\n",
              "    }\n",
              "\n",
              "    .dataframe tbody tr th {\n",
              "        vertical-align: top;\n",
              "    }\n",
              "\n",
              "    .dataframe thead th {\n",
              "        text-align: right;\n",
              "    }\n",
              "</style>\n",
              "<table border=\"1\" class=\"dataframe\">\n",
              "  <thead>\n",
              "    <tr style=\"text-align: right;\">\n",
              "      <th></th>\n",
              "      <th>CRIM</th>\n",
              "      <th>ZN</th>\n",
              "      <th>INDUS</th>\n",
              "      <th>CHAS</th>\n",
              "      <th>NOX</th>\n",
              "      <th>RM</th>\n",
              "      <th>AGE</th>\n",
              "      <th>DIS</th>\n",
              "      <th>RAD</th>\n",
              "      <th>TAX</th>\n",
              "      <th>PTRATIO</th>\n",
              "      <th>B</th>\n",
              "      <th>LSTAT</th>\n",
              "      <th>y</th>\n",
              "    </tr>\n",
              "  </thead>\n",
              "  <tbody>\n",
              "    <tr>\n",
              "      <th>count</th>\n",
              "      <td>379.000000</td>\n",
              "      <td>379.000000</td>\n",
              "      <td>379.000000</td>\n",
              "      <td>379.000000</td>\n",
              "      <td>379.000000</td>\n",
              "      <td>379.000000</td>\n",
              "      <td>284.000000</td>\n",
              "      <td>379.000000</td>\n",
              "      <td>379.000000</td>\n",
              "      <td>379.000000</td>\n",
              "      <td>379.000000</td>\n",
              "      <td>379.000000</td>\n",
              "      <td>379.000000</td>\n",
              "      <td>379.000000</td>\n",
              "    </tr>\n",
              "    <tr>\n",
              "      <th>mean</th>\n",
              "      <td>3.778797</td>\n",
              "      <td>11.521108</td>\n",
              "      <td>11.220053</td>\n",
              "      <td>0.081794</td>\n",
              "      <td>0.554073</td>\n",
              "      <td>6.255726</td>\n",
              "      <td>68.688380</td>\n",
              "      <td>3.824433</td>\n",
              "      <td>9.525066</td>\n",
              "      <td>405.182058</td>\n",
              "      <td>18.478100</td>\n",
              "      <td>358.304802</td>\n",
              "      <td>12.936174</td>\n",
              "      <td>22.344591</td>\n",
              "    </tr>\n",
              "    <tr>\n",
              "      <th>std</th>\n",
              "      <td>9.370541</td>\n",
              "      <td>23.492644</td>\n",
              "      <td>6.875362</td>\n",
              "      <td>0.274413</td>\n",
              "      <td>0.117825</td>\n",
              "      <td>0.687415</td>\n",
              "      <td>28.673895</td>\n",
              "      <td>2.138449</td>\n",
              "      <td>8.734550</td>\n",
              "      <td>169.483657</td>\n",
              "      <td>2.141433</td>\n",
              "      <td>89.601791</td>\n",
              "      <td>7.243381</td>\n",
              "      <td>8.920931</td>\n",
              "    </tr>\n",
              "    <tr>\n",
              "      <th>min</th>\n",
              "      <td>0.006320</td>\n",
              "      <td>0.000000</td>\n",
              "      <td>0.460000</td>\n",
              "      <td>0.000000</td>\n",
              "      <td>0.385000</td>\n",
              "      <td>3.561000</td>\n",
              "      <td>6.000000</td>\n",
              "      <td>1.129600</td>\n",
              "      <td>1.000000</td>\n",
              "      <td>187.000000</td>\n",
              "      <td>12.600000</td>\n",
              "      <td>0.320000</td>\n",
              "      <td>1.730000</td>\n",
              "      <td>5.000000</td>\n",
              "    </tr>\n",
              "    <tr>\n",
              "      <th>25%</th>\n",
              "      <td>0.083475</td>\n",
              "      <td>0.000000</td>\n",
              "      <td>5.255000</td>\n",
              "      <td>0.000000</td>\n",
              "      <td>0.447500</td>\n",
              "      <td>5.875000</td>\n",
              "      <td>44.675000</td>\n",
              "      <td>2.094450</td>\n",
              "      <td>4.000000</td>\n",
              "      <td>277.000000</td>\n",
              "      <td>17.400000</td>\n",
              "      <td>376.125000</td>\n",
              "      <td>7.165000</td>\n",
              "      <td>17.100000</td>\n",
              "    </tr>\n",
              "    <tr>\n",
              "      <th>50%</th>\n",
              "      <td>0.245220</td>\n",
              "      <td>0.000000</td>\n",
              "      <td>9.690000</td>\n",
              "      <td>0.000000</td>\n",
              "      <td>0.538000</td>\n",
              "      <td>6.172000</td>\n",
              "      <td>79.900000</td>\n",
              "      <td>3.317500</td>\n",
              "      <td>5.000000</td>\n",
              "      <td>329.000000</td>\n",
              "      <td>19.100000</td>\n",
              "      <td>392.040000</td>\n",
              "      <td>11.970000</td>\n",
              "      <td>20.800000</td>\n",
              "    </tr>\n",
              "    <tr>\n",
              "      <th>75%</th>\n",
              "      <td>3.621175</td>\n",
              "      <td>17.750000</td>\n",
              "      <td>18.100000</td>\n",
              "      <td>0.000000</td>\n",
              "      <td>0.624000</td>\n",
              "      <td>6.611000</td>\n",
              "      <td>93.825000</td>\n",
              "      <td>5.108550</td>\n",
              "      <td>24.000000</td>\n",
              "      <td>666.000000</td>\n",
              "      <td>20.200000</td>\n",
              "      <td>396.220000</td>\n",
              "      <td>17.135000</td>\n",
              "      <td>25.000000</td>\n",
              "    </tr>\n",
              "    <tr>\n",
              "      <th>max</th>\n",
              "      <td>88.976200</td>\n",
              "      <td>100.000000</td>\n",
              "      <td>27.740000</td>\n",
              "      <td>1.000000</td>\n",
              "      <td>0.871000</td>\n",
              "      <td>8.780000</td>\n",
              "      <td>100.000000</td>\n",
              "      <td>12.126500</td>\n",
              "      <td>24.000000</td>\n",
              "      <td>711.000000</td>\n",
              "      <td>22.000000</td>\n",
              "      <td>396.900000</td>\n",
              "      <td>37.970000</td>\n",
              "      <td>50.000000</td>\n",
              "    </tr>\n",
              "  </tbody>\n",
              "</table>\n",
              "</div>"
            ],
            "text/plain": [
              "             CRIM          ZN       INDUS        CHAS         NOX          RM  \\\n",
              "count  379.000000  379.000000  379.000000  379.000000  379.000000  379.000000   \n",
              "mean     3.778797   11.521108   11.220053    0.081794    0.554073    6.255726   \n",
              "std      9.370541   23.492644    6.875362    0.274413    0.117825    0.687415   \n",
              "min      0.006320    0.000000    0.460000    0.000000    0.385000    3.561000   \n",
              "25%      0.083475    0.000000    5.255000    0.000000    0.447500    5.875000   \n",
              "50%      0.245220    0.000000    9.690000    0.000000    0.538000    6.172000   \n",
              "75%      3.621175   17.750000   18.100000    0.000000    0.624000    6.611000   \n",
              "max     88.976200  100.000000   27.740000    1.000000    0.871000    8.780000   \n",
              "\n",
              "              AGE         DIS         RAD         TAX     PTRATIO           B  \\\n",
              "count  284.000000  379.000000  379.000000  379.000000  379.000000  379.000000   \n",
              "mean    68.688380    3.824433    9.525066  405.182058   18.478100  358.304802   \n",
              "std     28.673895    2.138449    8.734550  169.483657    2.141433   89.601791   \n",
              "min      6.000000    1.129600    1.000000  187.000000   12.600000    0.320000   \n",
              "25%     44.675000    2.094450    4.000000  277.000000   17.400000  376.125000   \n",
              "50%     79.900000    3.317500    5.000000  329.000000   19.100000  392.040000   \n",
              "75%     93.825000    5.108550   24.000000  666.000000   20.200000  396.220000   \n",
              "max    100.000000   12.126500   24.000000  711.000000   22.000000  396.900000   \n",
              "\n",
              "            LSTAT           y  \n",
              "count  379.000000  379.000000  \n",
              "mean    12.936174   22.344591  \n",
              "std      7.243381    8.920931  \n",
              "min      1.730000    5.000000  \n",
              "25%      7.165000   17.100000  \n",
              "50%     11.970000   20.800000  \n",
              "75%     17.135000   25.000000  \n",
              "max     37.970000   50.000000  "
            ]
          },
          "execution_count": 195,
          "metadata": {},
          "output_type": "execute_result"
        }
      ],
      "source": [
        "boston_dropna_df.describe()"
      ]
    },
    {
      "cell_type": "markdown",
      "metadata": {
        "id": "PLR7sgputvc3"
      },
      "source": [
        "**`boston_dropna_df` will be a dataset to see what would happen if we just dropped rows with missing values**"
      ]
    },
    {
      "cell_type": "code",
      "execution_count": null,
      "metadata": {
        "id": "0sBKv_Tatvc4"
      },
      "outputs": [],
      "source": [
        "boston_dropna_df.dropna(subset=['AGE'],axis=0,inplace=True)"
      ]
    },
    {
      "cell_type": "code",
      "execution_count": null,
      "metadata": {
        "id": "Jzy2GJAUtvc4",
        "outputId": "6707accc-9800-480c-becf-ccd66017ef8a"
      },
      "outputs": [
        {
          "data": {
            "text/plain": [
              "0"
            ]
          },
          "execution_count": 197,
          "metadata": {},
          "output_type": "execute_result"
        }
      ],
      "source": [
        "boston_dropna_df['AGE'].isnull().sum()"
      ]
    },
    {
      "cell_type": "code",
      "execution_count": null,
      "metadata": {
        "id": "i2Zlo736tvc4",
        "outputId": "ad9c4668-3275-40f7-fd9c-8980dbd7c59a"
      },
      "outputs": [
        {
          "name": "stdout",
          "output_type": "stream",
          "text": [
            "(284, 14) 95\n"
          ]
        }
      ],
      "source": [
        "print(boston_dropna_df.shape, boston_impute_df['AGE'].isnull().sum())"
      ]
    },
    {
      "cell_type": "markdown",
      "metadata": {
        "id": "fYZEznbjtvc4"
      },
      "source": [
        "**Discussion**\n",
        "\n",
        "- Why did I show you that `boston_impute_df` didn't change when I changed `boston_dropna_df`?\n",
        "\n",
        "- What would have happened if I created a copy without the `.copy()` method?\n",
        "\n",
        "- How about using `boston_impute_df = boston_dropna_df`?"
      ]
    },
    {
      "cell_type": "code",
      "execution_count": null,
      "metadata": {
        "id": "eXlIM5VPtvc4",
        "outputId": "13347f3f-b553-4943-ee0f-3380a7b5c023"
      },
      "outputs": [
        {
          "data": {
            "text/plain": [
              "(284, 14)"
            ]
          },
          "execution_count": 199,
          "metadata": {},
          "output_type": "execute_result"
        }
      ],
      "source": [
        "boston_dropna_df.shape"
      ]
    },
    {
      "cell_type": "code",
      "execution_count": null,
      "metadata": {
        "id": "tf6IEiHztvc4",
        "outputId": "8ce48fad-8565-4d9c-f92a-36acb8511baa"
      },
      "outputs": [
        {
          "data": {
            "text/html": [
              "<div>\n",
              "<style scoped>\n",
              "    .dataframe tbody tr th:only-of-type {\n",
              "        vertical-align: middle;\n",
              "    }\n",
              "\n",
              "    .dataframe tbody tr th {\n",
              "        vertical-align: top;\n",
              "    }\n",
              "\n",
              "    .dataframe thead th {\n",
              "        text-align: right;\n",
              "    }\n",
              "</style>\n",
              "<table border=\"1\" class=\"dataframe\">\n",
              "  <thead>\n",
              "    <tr style=\"text-align: right;\">\n",
              "      <th></th>\n",
              "      <th>CRIM</th>\n",
              "      <th>ZN</th>\n",
              "      <th>INDUS</th>\n",
              "      <th>CHAS</th>\n",
              "      <th>NOX</th>\n",
              "      <th>RM</th>\n",
              "      <th>AGE</th>\n",
              "      <th>DIS</th>\n",
              "      <th>RAD</th>\n",
              "      <th>TAX</th>\n",
              "      <th>PTRATIO</th>\n",
              "      <th>B</th>\n",
              "      <th>LSTAT</th>\n",
              "      <th>y</th>\n",
              "    </tr>\n",
              "  </thead>\n",
              "  <tbody>\n",
              "    <tr>\n",
              "      <th>0</th>\n",
              "      <td>0.00632</td>\n",
              "      <td>18.0</td>\n",
              "      <td>2.31</td>\n",
              "      <td>0.0</td>\n",
              "      <td>0.538</td>\n",
              "      <td>6.575</td>\n",
              "      <td>65.2</td>\n",
              "      <td>4.0900</td>\n",
              "      <td>1.0</td>\n",
              "      <td>296.0</td>\n",
              "      <td>15.3</td>\n",
              "      <td>396.90</td>\n",
              "      <td>4.98</td>\n",
              "      <td>24.0</td>\n",
              "    </tr>\n",
              "    <tr>\n",
              "      <th>1</th>\n",
              "      <td>0.02731</td>\n",
              "      <td>0.0</td>\n",
              "      <td>7.07</td>\n",
              "      <td>0.0</td>\n",
              "      <td>0.469</td>\n",
              "      <td>6.421</td>\n",
              "      <td>78.9</td>\n",
              "      <td>4.9671</td>\n",
              "      <td>2.0</td>\n",
              "      <td>242.0</td>\n",
              "      <td>17.8</td>\n",
              "      <td>396.90</td>\n",
              "      <td>9.14</td>\n",
              "      <td>21.6</td>\n",
              "    </tr>\n",
              "    <tr>\n",
              "      <th>2</th>\n",
              "      <td>0.02729</td>\n",
              "      <td>0.0</td>\n",
              "      <td>7.07</td>\n",
              "      <td>0.0</td>\n",
              "      <td>0.469</td>\n",
              "      <td>7.185</td>\n",
              "      <td>61.1</td>\n",
              "      <td>4.9671</td>\n",
              "      <td>2.0</td>\n",
              "      <td>242.0</td>\n",
              "      <td>17.8</td>\n",
              "      <td>392.83</td>\n",
              "      <td>4.03</td>\n",
              "      <td>34.7</td>\n",
              "    </tr>\n",
              "    <tr>\n",
              "      <th>3</th>\n",
              "      <td>0.03237</td>\n",
              "      <td>0.0</td>\n",
              "      <td>2.18</td>\n",
              "      <td>0.0</td>\n",
              "      <td>0.458</td>\n",
              "      <td>6.998</td>\n",
              "      <td>45.8</td>\n",
              "      <td>6.0622</td>\n",
              "      <td>3.0</td>\n",
              "      <td>222.0</td>\n",
              "      <td>18.7</td>\n",
              "      <td>394.63</td>\n",
              "      <td>2.94</td>\n",
              "      <td>33.4</td>\n",
              "    </tr>\n",
              "    <tr>\n",
              "      <th>10</th>\n",
              "      <td>0.22489</td>\n",
              "      <td>12.5</td>\n",
              "      <td>7.87</td>\n",
              "      <td>0.0</td>\n",
              "      <td>0.524</td>\n",
              "      <td>6.377</td>\n",
              "      <td>94.3</td>\n",
              "      <td>6.3467</td>\n",
              "      <td>5.0</td>\n",
              "      <td>311.0</td>\n",
              "      <td>15.2</td>\n",
              "      <td>392.52</td>\n",
              "      <td>20.45</td>\n",
              "      <td>15.0</td>\n",
              "    </tr>\n",
              "  </tbody>\n",
              "</table>\n",
              "</div>"
            ],
            "text/plain": [
              "       CRIM    ZN  INDUS  CHAS    NOX     RM   AGE     DIS  RAD    TAX  \\\n",
              "0   0.00632  18.0   2.31   0.0  0.538  6.575  65.2  4.0900  1.0  296.0   \n",
              "1   0.02731   0.0   7.07   0.0  0.469  6.421  78.9  4.9671  2.0  242.0   \n",
              "2   0.02729   0.0   7.07   0.0  0.469  7.185  61.1  4.9671  2.0  242.0   \n",
              "3   0.03237   0.0   2.18   0.0  0.458  6.998  45.8  6.0622  3.0  222.0   \n",
              "10  0.22489  12.5   7.87   0.0  0.524  6.377  94.3  6.3467  5.0  311.0   \n",
              "\n",
              "    PTRATIO       B  LSTAT     y  \n",
              "0      15.3  396.90   4.98  24.0  \n",
              "1      17.8  396.90   9.14  21.6  \n",
              "2      17.8  392.83   4.03  34.7  \n",
              "3      18.7  394.63   2.94  33.4  \n",
              "10     15.2  392.52  20.45  15.0  "
            ]
          },
          "execution_count": 200,
          "metadata": {},
          "output_type": "execute_result"
        }
      ],
      "source": [
        "boston_dropna_df.head()"
      ]
    },
    {
      "cell_type": "markdown",
      "metadata": {
        "id": "whwZkGMltvc4"
      },
      "source": [
        "## 2.2 Impute missing values using Linear Regression"
      ]
    },
    {
      "cell_type": "code",
      "execution_count": null,
      "metadata": {
        "id": "F0HxyoI9tvc4"
      },
      "outputs": [],
      "source": [
        "from sklearn.linear_model import LinearRegression"
      ]
    },
    {
      "cell_type": "markdown",
      "metadata": {
        "id": "OTUKZqMotvc4"
      },
      "source": [
        "We will compare the performance of this model with the imputed and complete models.\n",
        "Now we need to train a linear regression model and predict the `AGE` values for the `boston_impute_df`\n",
        "\n",
        "Should we include the `price` in the training data for the imputation?"
      ]
    },
    {
      "cell_type": "code",
      "execution_count": null,
      "metadata": {
        "id": "wURNjZD2tvc5",
        "outputId": "4a40e46b-9958-44b8-d571-9e9f395d676e"
      },
      "outputs": [
        {
          "data": {
            "text/html": [
              "<div>\n",
              "<style scoped>\n",
              "    .dataframe tbody tr th:only-of-type {\n",
              "        vertical-align: middle;\n",
              "    }\n",
              "\n",
              "    .dataframe tbody tr th {\n",
              "        vertical-align: top;\n",
              "    }\n",
              "\n",
              "    .dataframe thead th {\n",
              "        text-align: right;\n",
              "    }\n",
              "</style>\n",
              "<table border=\"1\" class=\"dataframe\">\n",
              "  <thead>\n",
              "    <tr style=\"text-align: right;\">\n",
              "      <th></th>\n",
              "      <th>CRIM</th>\n",
              "      <th>ZN</th>\n",
              "      <th>INDUS</th>\n",
              "      <th>CHAS</th>\n",
              "      <th>NOX</th>\n",
              "      <th>RM</th>\n",
              "      <th>AGE</th>\n",
              "      <th>DIS</th>\n",
              "      <th>RAD</th>\n",
              "      <th>TAX</th>\n",
              "      <th>PTRATIO</th>\n",
              "      <th>B</th>\n",
              "      <th>LSTAT</th>\n",
              "    </tr>\n",
              "  </thead>\n",
              "  <tbody>\n",
              "    <tr>\n",
              "      <th>0</th>\n",
              "      <td>0.00632</td>\n",
              "      <td>18.0</td>\n",
              "      <td>2.31</td>\n",
              "      <td>0.0</td>\n",
              "      <td>0.538</td>\n",
              "      <td>6.575</td>\n",
              "      <td>65.2</td>\n",
              "      <td>4.0900</td>\n",
              "      <td>1.0</td>\n",
              "      <td>296.0</td>\n",
              "      <td>15.3</td>\n",
              "      <td>396.90</td>\n",
              "      <td>4.98</td>\n",
              "    </tr>\n",
              "    <tr>\n",
              "      <th>1</th>\n",
              "      <td>0.02731</td>\n",
              "      <td>0.0</td>\n",
              "      <td>7.07</td>\n",
              "      <td>0.0</td>\n",
              "      <td>0.469</td>\n",
              "      <td>6.421</td>\n",
              "      <td>78.9</td>\n",
              "      <td>4.9671</td>\n",
              "      <td>2.0</td>\n",
              "      <td>242.0</td>\n",
              "      <td>17.8</td>\n",
              "      <td>396.90</td>\n",
              "      <td>9.14</td>\n",
              "    </tr>\n",
              "    <tr>\n",
              "      <th>2</th>\n",
              "      <td>0.02729</td>\n",
              "      <td>0.0</td>\n",
              "      <td>7.07</td>\n",
              "      <td>0.0</td>\n",
              "      <td>0.469</td>\n",
              "      <td>7.185</td>\n",
              "      <td>61.1</td>\n",
              "      <td>4.9671</td>\n",
              "      <td>2.0</td>\n",
              "      <td>242.0</td>\n",
              "      <td>17.8</td>\n",
              "      <td>392.83</td>\n",
              "      <td>4.03</td>\n",
              "    </tr>\n",
              "    <tr>\n",
              "      <th>3</th>\n",
              "      <td>0.03237</td>\n",
              "      <td>0.0</td>\n",
              "      <td>2.18</td>\n",
              "      <td>0.0</td>\n",
              "      <td>0.458</td>\n",
              "      <td>6.998</td>\n",
              "      <td>45.8</td>\n",
              "      <td>6.0622</td>\n",
              "      <td>3.0</td>\n",
              "      <td>222.0</td>\n",
              "      <td>18.7</td>\n",
              "      <td>394.63</td>\n",
              "      <td>2.94</td>\n",
              "    </tr>\n",
              "    <tr>\n",
              "      <th>10</th>\n",
              "      <td>0.22489</td>\n",
              "      <td>12.5</td>\n",
              "      <td>7.87</td>\n",
              "      <td>0.0</td>\n",
              "      <td>0.524</td>\n",
              "      <td>6.377</td>\n",
              "      <td>94.3</td>\n",
              "      <td>6.3467</td>\n",
              "      <td>5.0</td>\n",
              "      <td>311.0</td>\n",
              "      <td>15.2</td>\n",
              "      <td>392.52</td>\n",
              "      <td>20.45</td>\n",
              "    </tr>\n",
              "    <tr>\n",
              "      <th>...</th>\n",
              "      <td>...</td>\n",
              "      <td>...</td>\n",
              "      <td>...</td>\n",
              "      <td>...</td>\n",
              "      <td>...</td>\n",
              "      <td>...</td>\n",
              "      <td>...</td>\n",
              "      <td>...</td>\n",
              "      <td>...</td>\n",
              "      <td>...</td>\n",
              "      <td>...</td>\n",
              "      <td>...</td>\n",
              "      <td>...</td>\n",
              "    </tr>\n",
              "    <tr>\n",
              "      <th>496</th>\n",
              "      <td>0.28960</td>\n",
              "      <td>0.0</td>\n",
              "      <td>9.69</td>\n",
              "      <td>0.0</td>\n",
              "      <td>0.585</td>\n",
              "      <td>5.390</td>\n",
              "      <td>72.9</td>\n",
              "      <td>2.7986</td>\n",
              "      <td>6.0</td>\n",
              "      <td>391.0</td>\n",
              "      <td>19.2</td>\n",
              "      <td>396.90</td>\n",
              "      <td>21.14</td>\n",
              "    </tr>\n",
              "    <tr>\n",
              "      <th>499</th>\n",
              "      <td>0.17783</td>\n",
              "      <td>0.0</td>\n",
              "      <td>9.69</td>\n",
              "      <td>0.0</td>\n",
              "      <td>0.585</td>\n",
              "      <td>5.569</td>\n",
              "      <td>73.5</td>\n",
              "      <td>2.3999</td>\n",
              "      <td>6.0</td>\n",
              "      <td>391.0</td>\n",
              "      <td>19.2</td>\n",
              "      <td>395.77</td>\n",
              "      <td>15.10</td>\n",
              "    </tr>\n",
              "    <tr>\n",
              "      <th>500</th>\n",
              "      <td>0.22438</td>\n",
              "      <td>0.0</td>\n",
              "      <td>9.69</td>\n",
              "      <td>0.0</td>\n",
              "      <td>0.585</td>\n",
              "      <td>6.027</td>\n",
              "      <td>79.7</td>\n",
              "      <td>2.4982</td>\n",
              "      <td>6.0</td>\n",
              "      <td>391.0</td>\n",
              "      <td>19.2</td>\n",
              "      <td>396.90</td>\n",
              "      <td>14.33</td>\n",
              "    </tr>\n",
              "    <tr>\n",
              "      <th>502</th>\n",
              "      <td>0.04527</td>\n",
              "      <td>0.0</td>\n",
              "      <td>11.93</td>\n",
              "      <td>0.0</td>\n",
              "      <td>0.573</td>\n",
              "      <td>6.120</td>\n",
              "      <td>76.7</td>\n",
              "      <td>2.2875</td>\n",
              "      <td>1.0</td>\n",
              "      <td>273.0</td>\n",
              "      <td>21.0</td>\n",
              "      <td>396.90</td>\n",
              "      <td>9.08</td>\n",
              "    </tr>\n",
              "    <tr>\n",
              "      <th>504</th>\n",
              "      <td>0.10959</td>\n",
              "      <td>0.0</td>\n",
              "      <td>11.93</td>\n",
              "      <td>0.0</td>\n",
              "      <td>0.573</td>\n",
              "      <td>6.794</td>\n",
              "      <td>89.3</td>\n",
              "      <td>2.3889</td>\n",
              "      <td>1.0</td>\n",
              "      <td>273.0</td>\n",
              "      <td>21.0</td>\n",
              "      <td>393.45</td>\n",
              "      <td>6.48</td>\n",
              "    </tr>\n",
              "  </tbody>\n",
              "</table>\n",
              "<p>284 rows × 13 columns</p>\n",
              "</div>"
            ],
            "text/plain": [
              "        CRIM    ZN  INDUS  CHAS    NOX     RM   AGE     DIS  RAD    TAX  \\\n",
              "0    0.00632  18.0   2.31   0.0  0.538  6.575  65.2  4.0900  1.0  296.0   \n",
              "1    0.02731   0.0   7.07   0.0  0.469  6.421  78.9  4.9671  2.0  242.0   \n",
              "2    0.02729   0.0   7.07   0.0  0.469  7.185  61.1  4.9671  2.0  242.0   \n",
              "3    0.03237   0.0   2.18   0.0  0.458  6.998  45.8  6.0622  3.0  222.0   \n",
              "10   0.22489  12.5   7.87   0.0  0.524  6.377  94.3  6.3467  5.0  311.0   \n",
              "..       ...   ...    ...   ...    ...    ...   ...     ...  ...    ...   \n",
              "496  0.28960   0.0   9.69   0.0  0.585  5.390  72.9  2.7986  6.0  391.0   \n",
              "499  0.17783   0.0   9.69   0.0  0.585  5.569  73.5  2.3999  6.0  391.0   \n",
              "500  0.22438   0.0   9.69   0.0  0.585  6.027  79.7  2.4982  6.0  391.0   \n",
              "502  0.04527   0.0  11.93   0.0  0.573  6.120  76.7  2.2875  1.0  273.0   \n",
              "504  0.10959   0.0  11.93   0.0  0.573  6.794  89.3  2.3889  1.0  273.0   \n",
              "\n",
              "     PTRATIO       B  LSTAT  \n",
              "0       15.3  396.90   4.98  \n",
              "1       17.8  396.90   9.14  \n",
              "2       17.8  392.83   4.03  \n",
              "3       18.7  394.63   2.94  \n",
              "10      15.2  392.52  20.45  \n",
              "..       ...     ...    ...  \n",
              "496     19.2  396.90  21.14  \n",
              "499     19.2  395.77  15.10  \n",
              "500     19.2  396.90  14.33  \n",
              "502     21.0  396.90   9.08  \n",
              "504     21.0  393.45   6.48  \n",
              "\n",
              "[284 rows x 13 columns]"
            ]
          },
          "execution_count": 202,
          "metadata": {},
          "output_type": "execute_result"
        }
      ],
      "source": [
        "lm_fitting_df = boston_dropna_df.drop('y',axis=1)\n",
        "lm_fitting_df"
      ]
    },
    {
      "cell_type": "markdown",
      "metadata": {
        "id": "KKDphRX6tvc5"
      },
      "source": [
        "Our target now is the `AGE` column, we will use the `boston_dropna_df` as the data to fit, we can use data with missing values to train a model."
      ]
    },
    {
      "cell_type": "code",
      "execution_count": null,
      "metadata": {
        "id": "NUwzaAyLtvc5"
      },
      "outputs": [],
      "source": [
        "lm_for_impute = LinearRegression()"
      ]
    },
    {
      "cell_type": "code",
      "execution_count": null,
      "metadata": {
        "id": "yFAKoLgztvc5",
        "outputId": "50607301-47fb-4a05-b0aa-bfced1ec4f27"
      },
      "outputs": [
        {
          "data": {
            "text/html": [
              "<style>#sk-container-id-3 {color: black;}#sk-container-id-3 pre{padding: 0;}#sk-container-id-3 div.sk-toggleable {background-color: white;}#sk-container-id-3 label.sk-toggleable__label {cursor: pointer;display: block;width: 100%;margin-bottom: 0;padding: 0.3em;box-sizing: border-box;text-align: center;}#sk-container-id-3 label.sk-toggleable__label-arrow:before {content: \"▸\";float: left;margin-right: 0.25em;color: #696969;}#sk-container-id-3 label.sk-toggleable__label-arrow:hover:before {color: black;}#sk-container-id-3 div.sk-estimator:hover label.sk-toggleable__label-arrow:before {color: black;}#sk-container-id-3 div.sk-toggleable__content {max-height: 0;max-width: 0;overflow: hidden;text-align: left;background-color: #f0f8ff;}#sk-container-id-3 div.sk-toggleable__content pre {margin: 0.2em;color: black;border-radius: 0.25em;background-color: #f0f8ff;}#sk-container-id-3 input.sk-toggleable__control:checked~div.sk-toggleable__content {max-height: 200px;max-width: 100%;overflow: auto;}#sk-container-id-3 input.sk-toggleable__control:checked~label.sk-toggleable__label-arrow:before {content: \"▾\";}#sk-container-id-3 div.sk-estimator input.sk-toggleable__control:checked~label.sk-toggleable__label {background-color: #d4ebff;}#sk-container-id-3 div.sk-label input.sk-toggleable__control:checked~label.sk-toggleable__label {background-color: #d4ebff;}#sk-container-id-3 input.sk-hidden--visually {border: 0;clip: rect(1px 1px 1px 1px);clip: rect(1px, 1px, 1px, 1px);height: 1px;margin: -1px;overflow: hidden;padding: 0;position: absolute;width: 1px;}#sk-container-id-3 div.sk-estimator {font-family: monospace;background-color: #f0f8ff;border: 1px dotted black;border-radius: 0.25em;box-sizing: border-box;margin-bottom: 0.5em;}#sk-container-id-3 div.sk-estimator:hover {background-color: #d4ebff;}#sk-container-id-3 div.sk-parallel-item::after {content: \"\";width: 100%;border-bottom: 1px solid gray;flex-grow: 1;}#sk-container-id-3 div.sk-label:hover label.sk-toggleable__label {background-color: #d4ebff;}#sk-container-id-3 div.sk-serial::before {content: \"\";position: absolute;border-left: 1px solid gray;box-sizing: border-box;top: 0;bottom: 0;left: 50%;z-index: 0;}#sk-container-id-3 div.sk-serial {display: flex;flex-direction: column;align-items: center;background-color: white;padding-right: 0.2em;padding-left: 0.2em;position: relative;}#sk-container-id-3 div.sk-item {position: relative;z-index: 1;}#sk-container-id-3 div.sk-parallel {display: flex;align-items: stretch;justify-content: center;background-color: white;position: relative;}#sk-container-id-3 div.sk-item::before, #sk-container-id-3 div.sk-parallel-item::before {content: \"\";position: absolute;border-left: 1px solid gray;box-sizing: border-box;top: 0;bottom: 0;left: 50%;z-index: -1;}#sk-container-id-3 div.sk-parallel-item {display: flex;flex-direction: column;z-index: 1;position: relative;background-color: white;}#sk-container-id-3 div.sk-parallel-item:first-child::after {align-self: flex-end;width: 50%;}#sk-container-id-3 div.sk-parallel-item:last-child::after {align-self: flex-start;width: 50%;}#sk-container-id-3 div.sk-parallel-item:only-child::after {width: 0;}#sk-container-id-3 div.sk-dashed-wrapped {border: 1px dashed gray;margin: 0 0.4em 0.5em 0.4em;box-sizing: border-box;padding-bottom: 0.4em;background-color: white;}#sk-container-id-3 div.sk-label label {font-family: monospace;font-weight: bold;display: inline-block;line-height: 1.2em;}#sk-container-id-3 div.sk-label-container {text-align: center;}#sk-container-id-3 div.sk-container {/* jupyter's `normalize.less` sets `[hidden] { display: none; }` but bootstrap.min.css set `[hidden] { display: none !important; }` so we also need the `!important` here to be able to override the default hidden behavior on the sphinx rendered scikit-learn.org. See: https://github.com/scikit-learn/scikit-learn/issues/21755 */display: inline-block !important;position: relative;}#sk-container-id-3 div.sk-text-repr-fallback {display: none;}</style><div id=\"sk-container-id-3\" class=\"sk-top-container\"><div class=\"sk-text-repr-fallback\"><pre>LinearRegression()</pre><b>In a Jupyter environment, please rerun this cell to show the HTML representation or trust the notebook. <br />On GitHub, the HTML representation is unable to render, please try loading this page with nbviewer.org.</b></div><div class=\"sk-container\" hidden><div class=\"sk-item\"><div class=\"sk-estimator sk-toggleable\"><input class=\"sk-toggleable__control sk-hidden--visually\" id=\"sk-estimator-id-3\" type=\"checkbox\" checked><label for=\"sk-estimator-id-3\" class=\"sk-toggleable__label sk-toggleable__label-arrow\">LinearRegression</label><div class=\"sk-toggleable__content\"><pre>LinearRegression()</pre></div></div></div></div></div>"
            ],
            "text/plain": [
              "LinearRegression()"
            ]
          },
          "execution_count": 204,
          "metadata": {},
          "output_type": "execute_result"
        }
      ],
      "source": [
        "lm_for_impute.fit(lm_fitting_df[[x for x in lm_fitting_df.columns if x != 'AGE']],lm_fitting_df['AGE']) #fit"
      ]
    },
    {
      "cell_type": "code",
      "execution_count": null,
      "metadata": {
        "id": "wDzxvP6Ztvc5",
        "outputId": "54042974-5179-41df-982e-801d0d93b853"
      },
      "outputs": [
        {
          "data": {
            "text/html": [
              "<div>\n",
              "<style scoped>\n",
              "    .dataframe tbody tr th:only-of-type {\n",
              "        vertical-align: middle;\n",
              "    }\n",
              "\n",
              "    .dataframe tbody tr th {\n",
              "        vertical-align: top;\n",
              "    }\n",
              "\n",
              "    .dataframe thead th {\n",
              "        text-align: right;\n",
              "    }\n",
              "</style>\n",
              "<table border=\"1\" class=\"dataframe\">\n",
              "  <thead>\n",
              "    <tr style=\"text-align: right;\">\n",
              "      <th></th>\n",
              "      <th>CRIM</th>\n",
              "      <th>ZN</th>\n",
              "      <th>INDUS</th>\n",
              "      <th>CHAS</th>\n",
              "      <th>NOX</th>\n",
              "      <th>RM</th>\n",
              "      <th>AGE</th>\n",
              "      <th>DIS</th>\n",
              "      <th>RAD</th>\n",
              "      <th>TAX</th>\n",
              "      <th>PTRATIO</th>\n",
              "      <th>B</th>\n",
              "      <th>LSTAT</th>\n",
              "      <th>y</th>\n",
              "    </tr>\n",
              "  </thead>\n",
              "  <tbody>\n",
              "    <tr>\n",
              "      <th>7</th>\n",
              "      <td>0.14455</td>\n",
              "      <td>12.5</td>\n",
              "      <td>7.87</td>\n",
              "      <td>0.0</td>\n",
              "      <td>0.524</td>\n",
              "      <td>6.172</td>\n",
              "      <td>NaN</td>\n",
              "      <td>5.9505</td>\n",
              "      <td>5.0</td>\n",
              "      <td>311.0</td>\n",
              "      <td>15.2</td>\n",
              "      <td>396.90</td>\n",
              "      <td>19.15</td>\n",
              "      <td>27.1</td>\n",
              "    </tr>\n",
              "    <tr>\n",
              "      <th>8</th>\n",
              "      <td>0.21124</td>\n",
              "      <td>12.5</td>\n",
              "      <td>7.87</td>\n",
              "      <td>0.0</td>\n",
              "      <td>0.524</td>\n",
              "      <td>5.631</td>\n",
              "      <td>NaN</td>\n",
              "      <td>6.0821</td>\n",
              "      <td>5.0</td>\n",
              "      <td>311.0</td>\n",
              "      <td>15.2</td>\n",
              "      <td>386.63</td>\n",
              "      <td>29.93</td>\n",
              "      <td>16.5</td>\n",
              "    </tr>\n",
              "    <tr>\n",
              "      <th>9</th>\n",
              "      <td>0.17004</td>\n",
              "      <td>12.5</td>\n",
              "      <td>7.87</td>\n",
              "      <td>0.0</td>\n",
              "      <td>0.524</td>\n",
              "      <td>6.004</td>\n",
              "      <td>NaN</td>\n",
              "      <td>6.5921</td>\n",
              "      <td>5.0</td>\n",
              "      <td>311.0</td>\n",
              "      <td>15.2</td>\n",
              "      <td>386.71</td>\n",
              "      <td>17.10</td>\n",
              "      <td>18.9</td>\n",
              "    </tr>\n",
              "    <tr>\n",
              "      <th>22</th>\n",
              "      <td>1.23247</td>\n",
              "      <td>0.0</td>\n",
              "      <td>8.14</td>\n",
              "      <td>0.0</td>\n",
              "      <td>0.538</td>\n",
              "      <td>6.142</td>\n",
              "      <td>NaN</td>\n",
              "      <td>3.9769</td>\n",
              "      <td>4.0</td>\n",
              "      <td>307.0</td>\n",
              "      <td>21.0</td>\n",
              "      <td>396.90</td>\n",
              "      <td>18.72</td>\n",
              "      <td>15.2</td>\n",
              "    </tr>\n",
              "    <tr>\n",
              "      <th>49</th>\n",
              "      <td>0.21977</td>\n",
              "      <td>0.0</td>\n",
              "      <td>6.91</td>\n",
              "      <td>0.0</td>\n",
              "      <td>0.448</td>\n",
              "      <td>5.602</td>\n",
              "      <td>NaN</td>\n",
              "      <td>6.0877</td>\n",
              "      <td>3.0</td>\n",
              "      <td>233.0</td>\n",
              "      <td>17.9</td>\n",
              "      <td>396.90</td>\n",
              "      <td>16.20</td>\n",
              "      <td>19.4</td>\n",
              "    </tr>\n",
              "  </tbody>\n",
              "</table>\n",
              "</div>"
            ],
            "text/plain": [
              "       CRIM    ZN  INDUS  CHAS    NOX     RM  AGE     DIS  RAD    TAX  \\\n",
              "7   0.14455  12.5   7.87   0.0  0.524  6.172  NaN  5.9505  5.0  311.0   \n",
              "8   0.21124  12.5   7.87   0.0  0.524  5.631  NaN  6.0821  5.0  311.0   \n",
              "9   0.17004  12.5   7.87   0.0  0.524  6.004  NaN  6.5921  5.0  311.0   \n",
              "22  1.23247   0.0   8.14   0.0  0.538  6.142  NaN  3.9769  4.0  307.0   \n",
              "49  0.21977   0.0   6.91   0.0  0.448  5.602  NaN  6.0877  3.0  233.0   \n",
              "\n",
              "    PTRATIO       B  LSTAT     y  \n",
              "7      15.2  396.90  19.15  27.1  \n",
              "8      15.2  386.63  29.93  16.5  \n",
              "9      15.2  386.71  17.10  18.9  \n",
              "22     21.0  396.90  18.72  15.2  \n",
              "49     17.9  396.90  16.20  19.4  "
            ]
          },
          "execution_count": 205,
          "metadata": {},
          "output_type": "execute_result"
        }
      ],
      "source": [
        "boston_impute_df[boston_impute_df['AGE'].isnull()].head()"
      ]
    },
    {
      "cell_type": "code",
      "execution_count": null,
      "metadata": {
        "id": "hMHyBRZ5tvc5",
        "outputId": "c2b509f3-c4a8-4d96-dc30-b87019490fa8"
      },
      "outputs": [
        {
          "data": {
            "text/plain": [
              "array([ 55.54169435,  55.07036138,  52.62921279,  44.74737697,\n",
              "        60.03002858,  70.11902496,  53.45354189,  60.7868362 ,\n",
              "        56.71243725,  61.59536671,  66.10198784,  62.29115387,\n",
              "        60.47460428,  68.72231216,  80.16101352,  72.0958641 ,\n",
              "        79.32670387,  78.48991559,  73.07135463,  71.53859011,\n",
              "        69.2665315 ,  74.83191928,  71.38293247,  80.76981887,\n",
              "        89.82952408,  77.57092755,  64.08732792,  65.72801111,\n",
              "        59.69618849,  62.43967841,  38.2300336 ,  46.30085778,\n",
              "        48.21844208,  50.07775903,  55.55916465,  70.6686775 ,\n",
              "        52.32604158,  42.75988831,  38.50707539,  35.35046262,\n",
              "        36.64148452,  40.35396953,  21.50470684,  16.97045822,\n",
              "        16.00616149,  39.71182774,  42.23958175,  47.0534663 ,\n",
              "        39.24097878,  31.26427789,  43.04394218,  39.15922121,\n",
              "        47.29790301,  48.91127757,  43.95572658,  47.44971127,\n",
              "        52.45806176,  54.02131554,  60.01513769,  56.95081278,\n",
              "        52.06359895,  44.92205754,  46.78507719,  44.51203122,\n",
              "        44.81365285,  55.35154511,  59.20848849,  57.55600052,\n",
              "        62.52437126,  63.18518726,  64.41444593,  53.88511922,\n",
              "        59.82524614,  58.53837685,  61.96716261,  62.89768679,\n",
              "        60.80844068,  61.99371762,  74.57111789,  76.86705445,\n",
              "        77.07408231,  82.16911491,  84.32515442,  78.52719769,\n",
              "        80.83122788,  73.50949272,  78.53405334,  79.6097385 ,\n",
              "        73.56513997,  77.59586604,  72.81955441,  76.7549388 ,\n",
              "        83.15458218,  84.03995678,  88.95048499,  98.50327561,\n",
              "        88.48042585,  85.61968198, 100.51099487,  92.99287734,\n",
              "        93.21744504,  89.57744642,  87.74462113,  87.61166794,\n",
              "        90.98210148,  93.0684983 ,  93.37503901,  99.61102005,\n",
              "        97.54990976, 105.10334412, 112.85139671, 118.84345313,\n",
              "       115.41748395, 116.36455762, 120.8670342 , 115.7648513 ,\n",
              "       109.32158067, 102.29692522,  97.72349951,  96.97460952,\n",
              "       102.45745058, 105.89272432, 106.38099485, 100.38230452,\n",
              "        72.82077913,  71.1920511 ,  71.59421651,  80.0665855 ,\n",
              "        76.00600096,  74.32118719,  76.66514012,  77.05089863,\n",
              "        74.19335825,  69.57052085,  64.20911217,  60.25348723,\n",
              "        61.44126159,  59.34148281,  64.94138036,  72.00640829,\n",
              "        66.67385607,  65.60922151,  62.89481894,  67.65006979,\n",
              "        66.20110689,  48.36689836,  40.73338706,  34.06541294,\n",
              "        32.43068623,  32.53269438,  30.72960636,  35.42673295,\n",
              "        22.50990401,  27.33154482,  25.63618738,  23.78528394,\n",
              "        24.49794054,  31.48492907,  37.72341782,  61.44838445,\n",
              "        61.82363668,  67.91099899,  68.52758724,  77.14147561,\n",
              "        73.02214943,  79.60140827,  71.78234717,  62.1080347 ,\n",
              "        61.20896624,  73.2151259 ,  67.96981382,  70.72087737,\n",
              "        71.80229848,  81.53943821,  69.70003979,  64.38681312,\n",
              "        63.91847318,  62.77299318,  56.69342855,  62.17922711,\n",
              "        61.57233562,  64.7280724 ,  62.08107057,  63.62074315,\n",
              "        58.50815603,  36.90877382,  38.81646033,  44.62408124,\n",
              "        41.7394145 ,  30.83961995,  35.21596317,  33.17700072,\n",
              "        35.04938362,  36.45898304,  34.19239279,  34.27281786,\n",
              "        31.15710551,  26.33248195,  33.08691529,  14.71256641,\n",
              "        16.86669443,  29.50542325,  73.37904657,  78.12055506,\n",
              "        78.8431258 ,  81.01819739,  77.17041948,  71.30690744,\n",
              "        83.58416346,  64.72465304,  58.23042484,  52.16267999,\n",
              "        57.6525203 ,  62.83836113,  50.76377147,  46.79510456,\n",
              "        53.09125363,  48.05419689,  50.77021919,  47.16791997,\n",
              "        48.11811804,  42.03095037,  46.59300602,  35.25485346,\n",
              "        29.09683245,  25.93696254,  27.18925113,  28.31600081,\n",
              "        38.91216608,  42.48720932,  43.2273755 ,  48.11966555,\n",
              "        21.91057782,  22.66387132,  43.81480501,  42.30414003,\n",
              "        40.03897546,  57.32868736,  59.82712889,  64.3861295 ,\n",
              "        68.81170835,  70.0067314 ,  66.95404069,  74.60134089,\n",
              "        70.74352381,  69.31716983,  68.58935972,  57.84162263,\n",
              "        57.16900848,  55.59134633,  58.93944557,  58.77497228,\n",
              "        40.87956497,  36.84901527,  48.45343138,  52.24131402,\n",
              "        57.3212145 ,  56.52622998,  58.74799571,  59.25421446,\n",
              "        36.51442561,  40.51104318,  23.19430618,  24.01765652,\n",
              "        30.89756215,  12.18889969,   1.00413166,  15.42469586,\n",
              "        13.7434559 ,  99.81896565,  93.24800062,  88.58610742,\n",
              "        88.17904382,  83.5342748 ,  94.9268335 ,  94.59102926,\n",
              "        68.45357016,  72.30044186,  65.55791745,  77.78320624,\n",
              "        80.85571557,  84.16515054, 108.56571889, 109.04469928,\n",
              "        94.12964428, 100.66685366, 101.9497685 ,  98.53885864,\n",
              "        99.05838654,  98.59958378,  98.22753347,  99.53832597,\n",
              "       102.26181588, 106.75590173, 103.81162628,  89.22927375,\n",
              "        91.83317106,  97.39793382,  89.46513254,  93.68500187,\n",
              "        96.29491208, 107.51334214, 104.52731615,  97.9688316 ,\n",
              "        97.82327248,  91.87118886, 103.54210047, 100.55481416,\n",
              "        94.90405018,  93.43438487,  77.5028058 ,  94.1583302 ,\n",
              "       100.18330872,  84.85819251, 110.65056537, 107.80007306,\n",
              "       105.34058696,  99.94826392,  96.91378189,  90.75402374,\n",
              "        78.71603415,  92.5709584 , 100.26043542,  89.17122859,\n",
              "        76.73941243,  91.40679452,  89.66505094,  97.89548247,\n",
              "       107.32149813, 115.99499434,  99.72739138,  99.97331969,\n",
              "        98.36445282,  93.85457672, 102.05044979, 104.87634739,\n",
              "        92.39285404,  94.73319625,  93.80017322,  91.23968152,\n",
              "        95.97065836,  93.72891477,  91.34116299,  87.6999626 ,\n",
              "        88.20598992,  85.22105052,  91.35402114,  87.32499596,\n",
              "        85.46581258,  81.48660571,  78.38046904,  76.62205851,\n",
              "        82.92594374,  84.06073329,  77.87782119,  72.82530371,\n",
              "        75.7554128 ,  67.75027925,  75.38542959,  77.72253741,\n",
              "        86.61843538,  89.76317476,  80.41097879,  63.61086405,\n",
              "        63.24498867,  67.33330062,  64.85822881,  68.00626754,\n",
              "        89.89023859,  97.50579403,  85.30083164,  76.89214857,\n",
              "        81.66920202,  84.65525158,  79.96489117,  80.89032157,\n",
              "        79.36751365,  79.11082277,  76.32716421])"
            ]
          },
          "execution_count": 206,
          "metadata": {},
          "output_type": "execute_result"
        }
      ],
      "source": [
        "lm_for_impute.predict(boston_impute_df.drop(['AGE','y'],axis=1))"
      ]
    },
    {
      "cell_type": "code",
      "execution_count": null,
      "metadata": {
        "id": "eoyowlzItvc5"
      },
      "outputs": [],
      "source": [
        "boston_impute_df['AGE'][boston_impute_df['AGE'].isnull()] = lm_for_impute.predict(boston_impute_df.drop(['AGE','y'],axis=1))"
      ]
    },
    {
      "cell_type": "code",
      "execution_count": null,
      "metadata": {
        "id": "jJWjMub8tvc6",
        "outputId": "d5552d4b-10e5-4c9a-fac5-5f728b81569a"
      },
      "outputs": [
        {
          "data": {
            "text/plain": [
              "<Axes: >"
            ]
          },
          "execution_count": 208,
          "metadata": {},
          "output_type": "execute_result"
        },
        {
          "data": {
            "image/png": "[encoded data removed]",
            "text/plain": [
              "<Figure size 640x480 with 1 Axes>"
            ]
          },
          "metadata": {},
          "output_type": "display_data"
        }
      ],
      "source": [
        "boxplot = pd.DataFrame({'imputed': boston_impute_df['AGE'],'full': boston_df['AGE'],'dropped': boston_dropna_df['AGE']})\n",
        "boxplot.plot(kind='box')"
      ]
    },
    {
      "cell_type": "markdown",
      "metadata": {
        "id": "ZRtDrBiktvc6"
      },
      "source": [
        "So these are the imputed values predicted by the lm trained on the data we did have a value for `AGE` for?"
      ]
    },
    {
      "cell_type": "markdown",
      "metadata": {
        "id": "gss1s80Ctvc6"
      },
      "source": [
        "## 2.3 Price Prediction"
      ]
    },
    {
      "cell_type": "code",
      "execution_count": null,
      "metadata": {
        "id": "upIKLw__tvc6"
      },
      "outputs": [],
      "source": [
        "def train_and_test_lm(lm, X_train, X_test, y_train, y_test):\n",
        "    lm.fit(X_train,y_train)\n",
        "    train_score = lm.score(X_train,y_train)\n",
        "    test_score = lm.score(X_test,y_test)\n",
        "    return train_score, test_score"
      ]
    },
    {
      "cell_type": "markdown",
      "metadata": {
        "id": "5AKc0btetvc6"
      },
      "source": [
        "### 2.3.1 Predicting Price with the Full Dataset"
      ]
    },
    {
      "cell_type": "markdown",
      "metadata": {
        "id": "B2u8OSrhtvc6"
      },
      "source": [
        "\\begin{equation}\n",
        "y_i = \\beta_0 + \\beta_1 X_i + \\epsilon_i\n",
        "\\end{equation}"
      ]
    },
    {
      "cell_type": "code",
      "execution_count": null,
      "metadata": {
        "id": "knBSxNb-tvc6",
        "outputId": "6b3ed647-3316-4a62-f8d6-692cbe84ef0c"
      },
      "outputs": [
        {
          "name": "stdout",
          "output_type": "stream",
          "text": [
            "[(379, 13), (127, 13), (379, 1), (127, 1)]\n"
          ]
        }
      ],
      "source": [
        "X_train, X_test, y_train, y_test = train_test_split(boston_df.data, boston_df.target,random_state=111)\n",
        "shapes = map(np.shape, [X_train, X_test, y_train, y_test])\n",
        "print(list(shapes))"
      ]
    },
    {
      "cell_type": "code",
      "execution_count": null,
      "metadata": {
        "id": "pw89iErKtvc7",
        "outputId": "47b7948d-1eb3-4611-b5ab-55003abdb0e5"
      },
      "outputs": [
        {
          "name": "stdout",
          "output_type": "stream",
          "text": [
            "For the Full Dataset, Train R^2: 0.72816, Test R^2: 0.75928\n"
          ]
        }
      ],
      "source": [
        "lm_full = LinearRegression()\n",
        "# train and test the model\n",
        "train_r_squared, test_r_squared = train_and_test_lm(lm_full, X_train, X_test, y_train, y_test)\n",
        "print(f'For the Full Dataset, Train R^2: {train_r_squared:.5f}, Test R^2: {test_r_squared:.5f}')"
      ]
    },
    {
      "cell_type": "markdown",
      "metadata": {
        "id": "TOkWNXlFtvc7"
      },
      "source": [
        "### 2.3.2 Predicting Price with the Droped Dataset"
      ]
    },
    {
      "cell_type": "code",
      "execution_count": null,
      "metadata": {
        "id": "V5q0sCsStvc7"
      },
      "outputs": [],
      "source": [
        "X_train, X_test, y_train, y_test = train_test_split(boston_dropna_df.iloc[:,:-1],boston_dropna_df.iloc[:,-1:],random_state=111)"
      ]
    },
    {
      "cell_type": "code",
      "execution_count": null,
      "metadata": {
        "id": "Hci94ghvtvc7",
        "outputId": "8aac36c6-b423-4c92-e5b7-f28a0e382a9a"
      },
      "outputs": [
        {
          "name": "stdout",
          "output_type": "stream",
          "text": [
            "For the Dropped Dataset, Train R^2: 0.72594, Test R^2: 0.62193\n"
          ]
        }
      ],
      "source": [
        "lm_dropped = LinearRegression()\n",
        "# train and test the model\n",
        "train_r_squared, test_r_squared = train_and_test_lm(lm_dropped, X_train, X_test, y_train, y_test)\n",
        "print(f'For the Dropped Dataset, Train R^2: {train_r_squared:.5f}, Test R^2: {test_r_squared:.5f}')"
      ]
    },
    {
      "cell_type": "markdown",
      "metadata": {
        "id": "jw1fbN7atvc7"
      },
      "source": [
        "### 2.3.3 Predicting Price with the Imputed Dataset"
      ]
    },
    {
      "cell_type": "code",
      "execution_count": null,
      "metadata": {
        "id": "6_2Nclfwtvc7"
      },
      "outputs": [],
      "source": [
        "X_train, X_test, y_train, y_test = train_test_split(boston_impute_df.iloc[:,:-1],boston_impute_df.iloc[:,-1:],random_state=111)"
      ]
    },
    {
      "cell_type": "code",
      "execution_count": null,
      "metadata": {
        "id": "dEQao6Qetvc7",
        "outputId": "21e4a376-305a-42a8-8f44-7c1c1709a4a6"
      },
      "outputs": [
        {
          "name": "stdout",
          "output_type": "stream",
          "text": [
            "For the Imputed Dataset, Train R^2: 0.70787, Test R^2: 0.73371\n"
          ]
        }
      ],
      "source": [
        "lm_impute = LinearRegression()\n",
        "# train and test the model\n",
        "train_r_squared, test_r_squared = train_and_test_lm(lm_impute, X_train, X_test, y_train, y_test)\n",
        "print(f'For the Imputed Dataset, Train R^2: {train_r_squared:.5f}, Test R^2: {test_r_squared:.5f}')"
      ]
    },
    {
      "cell_type": "markdown",
      "metadata": {
        "id": "W5vBTLAutvc8"
      },
      "source": [
        "## 2.4 Reference\n",
        "\n",
        "From [adventures-in-statistics](http://blog.minitab.com/blog/adventures-in-statistics/regression-analysis-how-do-i-interpret-r-squared-and-assess-the-goodness-of-fit)\n",
        "\n",
        "- What Is R-squared?\n",
        "\n",
        "R-squared is a statistical measure of how close the data are to the fitted regression line. It is also known as the coefficient of determination, or the coefficient of multiple determination for multiple regression.\n",
        "\n",
        "The definition of R-squared is fairly straight-forward; it is the percentage of the response variable variation that is explained by a linear model. Or:\n",
        "\n",
        "R-squared = Explained variation / Total variation\n",
        "\n",
        "R-squared is always between 0 and 100%:\n",
        "\n",
        "0% indicates that the model explains none of the variability of the response data around its mean.\n",
        "100% indicates that the model explains all the variability of the response data around its mean."
      ]
    },
    {
      "cell_type": "markdown",
      "metadata": {
        "id": "0rYZ9C7gtvc8"
      },
      "source": [
        "# 3. How to Identify and Remove Outliers?"
      ]
    },
    {
      "cell_type": "markdown",
      "metadata": {
        "id": "OcpvX0Hstvc8"
      },
      "source": [
        "In this section, we will discuss how to identify and remove outliers from the dataset. Outliers are data points that significantly differ from other data points in the dataset. Outliers can affect the performance of machine learning models, and it is essential to identify and remove them before training the model."
      ]
    },
    {
      "cell_type": "markdown",
      "metadata": {
        "id": "AxbVcxlTtvc8"
      },
      "source": [
        "We use the same example of Titanic passengers dataset."
      ]
    },
    {
      "cell_type": "code",
      "execution_count": null,
      "metadata": {
        "id": "cQ3uZqRmtvc8",
        "outputId": "7f22505a-0264-4b4a-ff35-7e5786684647"
      },
      "outputs": [
        {
          "data": {
            "text/html": [
              "<div>\n",
              "<style scoped>\n",
              "    .dataframe tbody tr th:only-of-type {\n",
              "        vertical-align: middle;\n",
              "    }\n",
              "\n",
              "    .dataframe tbody tr th {\n",
              "        vertical-align: top;\n",
              "    }\n",
              "\n",
              "    .dataframe thead th {\n",
              "        text-align: right;\n",
              "    }\n",
              "</style>\n",
              "<table border=\"1\" class=\"dataframe\">\n",
              "  <thead>\n",
              "    <tr style=\"text-align: right;\">\n",
              "      <th></th>\n",
              "      <th>pclass</th>\n",
              "      <th>survived</th>\n",
              "      <th>name</th>\n",
              "      <th>sex</th>\n",
              "      <th>age</th>\n",
              "      <th>sibsp</th>\n",
              "      <th>parch</th>\n",
              "      <th>ticket</th>\n",
              "      <th>fare</th>\n",
              "      <th>cabin</th>\n",
              "      <th>embarked</th>\n",
              "      <th>boat</th>\n",
              "      <th>body</th>\n",
              "      <th>home.dest</th>\n",
              "    </tr>\n",
              "  </thead>\n",
              "  <tbody>\n",
              "    <tr>\n",
              "      <th>0</th>\n",
              "      <td>1</td>\n",
              "      <td>1</td>\n",
              "      <td>Allen, Miss. Elisabeth Walton</td>\n",
              "      <td>female</td>\n",
              "      <td>29.00</td>\n",
              "      <td>0</td>\n",
              "      <td>0</td>\n",
              "      <td>24160</td>\n",
              "      <td>211.3375</td>\n",
              "      <td>B5</td>\n",
              "      <td>S</td>\n",
              "      <td>2</td>\n",
              "      <td>NaN</td>\n",
              "      <td>St Louis, MO</td>\n",
              "    </tr>\n",
              "    <tr>\n",
              "      <th>1</th>\n",
              "      <td>1</td>\n",
              "      <td>1</td>\n",
              "      <td>Allison, Master. Hudson Trevor</td>\n",
              "      <td>male</td>\n",
              "      <td>0.92</td>\n",
              "      <td>1</td>\n",
              "      <td>2</td>\n",
              "      <td>113781</td>\n",
              "      <td>151.5500</td>\n",
              "      <td>C22 C26</td>\n",
              "      <td>S</td>\n",
              "      <td>11</td>\n",
              "      <td>NaN</td>\n",
              "      <td>Montreal, PQ / Chesterville, ON</td>\n",
              "    </tr>\n",
              "    <tr>\n",
              "      <th>2</th>\n",
              "      <td>1</td>\n",
              "      <td>0</td>\n",
              "      <td>Allison, Miss. Helen Loraine</td>\n",
              "      <td>female</td>\n",
              "      <td>2.00</td>\n",
              "      <td>1</td>\n",
              "      <td>2</td>\n",
              "      <td>113781</td>\n",
              "      <td>151.5500</td>\n",
              "      <td>C22 C26</td>\n",
              "      <td>S</td>\n",
              "      <td>NaN</td>\n",
              "      <td>NaN</td>\n",
              "      <td>Montreal, PQ / Chesterville, ON</td>\n",
              "    </tr>\n",
              "    <tr>\n",
              "      <th>3</th>\n",
              "      <td>1</td>\n",
              "      <td>0</td>\n",
              "      <td>Allison, Mr. Hudson Joshua Creighton</td>\n",
              "      <td>male</td>\n",
              "      <td>30.00</td>\n",
              "      <td>1</td>\n",
              "      <td>2</td>\n",
              "      <td>113781</td>\n",
              "      <td>151.5500</td>\n",
              "      <td>C22 C26</td>\n",
              "      <td>S</td>\n",
              "      <td>NaN</td>\n",
              "      <td>135.0</td>\n",
              "      <td>Montreal, PQ / Chesterville, ON</td>\n",
              "    </tr>\n",
              "    <tr>\n",
              "      <th>4</th>\n",
              "      <td>1</td>\n",
              "      <td>0</td>\n",
              "      <td>Allison, Mrs. Hudson J C (Bessie Waldo Daniels)</td>\n",
              "      <td>female</td>\n",
              "      <td>25.00</td>\n",
              "      <td>1</td>\n",
              "      <td>2</td>\n",
              "      <td>113781</td>\n",
              "      <td>151.5500</td>\n",
              "      <td>C22 C26</td>\n",
              "      <td>S</td>\n",
              "      <td>NaN</td>\n",
              "      <td>NaN</td>\n",
              "      <td>Montreal, PQ / Chesterville, ON</td>\n",
              "    </tr>\n",
              "  </tbody>\n",
              "</table>\n",
              "</div>"
            ],
            "text/plain": [
              "   pclass  survived                                             name     sex  \\\n",
              "0       1         1                    Allen, Miss. Elisabeth Walton  female   \n",
              "1       1         1                   Allison, Master. Hudson Trevor    male   \n",
              "2       1         0                     Allison, Miss. Helen Loraine  female   \n",
              "3       1         0             Allison, Mr. Hudson Joshua Creighton    male   \n",
              "4       1         0  Allison, Mrs. Hudson J C (Bessie Waldo Daniels)  female   \n",
              "\n",
              "     age  sibsp  parch  ticket      fare    cabin embarked boat   body  \\\n",
              "0  29.00      0      0   24160  211.3375       B5        S    2    NaN   \n",
              "1   0.92      1      2  113781  151.5500  C22 C26        S   11    NaN   \n",
              "2   2.00      1      2  113781  151.5500  C22 C26        S  NaN    NaN   \n",
              "3  30.00      1      2  113781  151.5500  C22 C26        S  NaN  135.0   \n",
              "4  25.00      1      2  113781  151.5500  C22 C26        S  NaN    NaN   \n",
              "\n",
              "                         home.dest  \n",
              "0                     St Louis, MO  \n",
              "1  Montreal, PQ / Chesterville, ON  \n",
              "2  Montreal, PQ / Chesterville, ON  \n",
              "3  Montreal, PQ / Chesterville, ON  \n",
              "4  Montreal, PQ / Chesterville, ON  "
            ]
          },
          "execution_count": 216,
          "metadata": {},
          "output_type": "execute_result"
        }
      ],
      "source": [
        "titanic_passenger_df.head()"
      ]
    },
    {
      "cell_type": "markdown",
      "metadata": {
        "id": "8_rgmyXetvc8"
      },
      "source": [
        "## 3.1 Outlier Detection"
      ]
    },
    {
      "cell_type": "markdown",
      "metadata": {
        "id": "Yw8YBx4rtvc8"
      },
      "source": [
        "In this task, please use `boxplot` (boxes and whiskers plot) from `matplotlib` to investigate possible data outliers."
      ]
    },
    {
      "cell_type": "code",
      "execution_count": null,
      "metadata": {
        "id": "DHBMqnh7tvc9",
        "outputId": "ce1bf643-b8c4-4738-9eb3-8dfb14d8b23b"
      },
      "outputs": [
        {
          "data": {
            "image/png": "[encoded data removed]",
            "text/plain": [
              "<Figure size 640x480 with 1 Axes>"
            ]
          },
          "metadata": {},
          "output_type": "display_data"
        }
      ],
      "source": [
        "import matplotlib.pyplot as plt\n",
        "%matplotlib inline\n",
        "boxplot = titanic_passenger_df.boxplot()"
      ]
    },
    {
      "cell_type": "markdown",
      "metadata": {
        "id": "XPnJkl-2tvc9"
      },
      "source": [
        "From above figure, the first thing to notice is that `fare` has many outliers.\n",
        "\n",
        "However, plotting all data together might not be right because of teh different ranges of attributes. Therefore, we look at one attribute at a time instead."
      ]
    },
    {
      "cell_type": "markdown",
      "metadata": {
        "id": "Brm6nREatvc9"
      },
      "source": [
        "## 3.2 Investigate Outliers"
      ]
    },
    {
      "cell_type": "markdown",
      "metadata": {
        "id": "lHcMgkpytvc9"
      },
      "source": [
        "Since `fare` has many outliers, we will investigate the `fare` attribute first."
      ]
    },
    {
      "cell_type": "code",
      "execution_count": null,
      "metadata": {
        "id": "v0OR81Actvc9",
        "outputId": "526d345c-7240-4a7f-ee64-418ed4e02a43"
      },
      "outputs": [
        {
          "data": {
            "image/png": "[encoded data removed]",
            "text/plain": [
              "<Figure size 640x480 with 1 Axes>"
            ]
          },
          "metadata": {},
          "output_type": "display_data"
        }
      ],
      "source": [
        "fare_bp = titanic_passenger_df.boxplot(column='fare')"
      ]
    },
    {
      "cell_type": "code",
      "execution_count": null,
      "metadata": {
        "id": "gjRcwB5Wtvc-",
        "outputId": "cc831a38-ce4e-466e-832a-756eafcb1991"
      },
      "outputs": [
        {
          "data": {
            "text/html": [
              "<div>\n",
              "<style scoped>\n",
              "    .dataframe tbody tr th:only-of-type {\n",
              "        vertical-align: middle;\n",
              "    }\n",
              "\n",
              "    .dataframe tbody tr th {\n",
              "        vertical-align: top;\n",
              "    }\n",
              "\n",
              "    .dataframe thead th {\n",
              "        text-align: right;\n",
              "    }\n",
              "</style>\n",
              "<table border=\"1\" class=\"dataframe\">\n",
              "  <thead>\n",
              "    <tr style=\"text-align: right;\">\n",
              "      <th></th>\n",
              "      <th>pclass</th>\n",
              "      <th>survived</th>\n",
              "      <th>name</th>\n",
              "      <th>sex</th>\n",
              "      <th>age</th>\n",
              "      <th>sibsp</th>\n",
              "      <th>parch</th>\n",
              "      <th>ticket</th>\n",
              "      <th>fare</th>\n",
              "      <th>cabin</th>\n",
              "      <th>embarked</th>\n",
              "      <th>boat</th>\n",
              "      <th>body</th>\n",
              "      <th>home.dest</th>\n",
              "    </tr>\n",
              "  </thead>\n",
              "  <tbody>\n",
              "    <tr>\n",
              "      <th>49</th>\n",
              "      <td>1</td>\n",
              "      <td>1</td>\n",
              "      <td>Cardeza, Mr. Thomas Drake Martinez</td>\n",
              "      <td>male</td>\n",
              "      <td>36.0</td>\n",
              "      <td>0</td>\n",
              "      <td>1</td>\n",
              "      <td>PC 17755</td>\n",
              "      <td>512.3292</td>\n",
              "      <td>B51 B53 B55</td>\n",
              "      <td>C</td>\n",
              "      <td>3</td>\n",
              "      <td>NaN</td>\n",
              "      <td>Austria-Hungary / Germantown, Philadelphia, PA</td>\n",
              "    </tr>\n",
              "    <tr>\n",
              "      <th>50</th>\n",
              "      <td>1</td>\n",
              "      <td>1</td>\n",
              "      <td>Cardeza, Mrs. James Warburton Martinez (Charlo...</td>\n",
              "      <td>female</td>\n",
              "      <td>58.0</td>\n",
              "      <td>0</td>\n",
              "      <td>1</td>\n",
              "      <td>PC 17755</td>\n",
              "      <td>512.3292</td>\n",
              "      <td>B51 B53 B55</td>\n",
              "      <td>C</td>\n",
              "      <td>3</td>\n",
              "      <td>NaN</td>\n",
              "      <td>Germantown, Philadelphia, PA</td>\n",
              "    </tr>\n",
              "    <tr>\n",
              "      <th>183</th>\n",
              "      <td>1</td>\n",
              "      <td>1</td>\n",
              "      <td>Lesurer, Mr. Gustave J</td>\n",
              "      <td>male</td>\n",
              "      <td>35.0</td>\n",
              "      <td>0</td>\n",
              "      <td>0</td>\n",
              "      <td>PC 17755</td>\n",
              "      <td>512.3292</td>\n",
              "      <td>B101</td>\n",
              "      <td>C</td>\n",
              "      <td>3</td>\n",
              "      <td>NaN</td>\n",
              "      <td>NaN</td>\n",
              "    </tr>\n",
              "    <tr>\n",
              "      <th>302</th>\n",
              "      <td>1</td>\n",
              "      <td>1</td>\n",
              "      <td>Ward, Miss. Anna</td>\n",
              "      <td>female</td>\n",
              "      <td>35.0</td>\n",
              "      <td>0</td>\n",
              "      <td>0</td>\n",
              "      <td>PC 17755</td>\n",
              "      <td>512.3292</td>\n",
              "      <td>NaN</td>\n",
              "      <td>C</td>\n",
              "      <td>3</td>\n",
              "      <td>NaN</td>\n",
              "      <td>NaN</td>\n",
              "    </tr>\n",
              "  </tbody>\n",
              "</table>\n",
              "</div>"
            ],
            "text/plain": [
              "     pclass  survived                                               name  \\\n",
              "49        1         1                 Cardeza, Mr. Thomas Drake Martinez   \n",
              "50        1         1  Cardeza, Mrs. James Warburton Martinez (Charlo...   \n",
              "183       1         1                             Lesurer, Mr. Gustave J   \n",
              "302       1         1                                   Ward, Miss. Anna   \n",
              "\n",
              "        sex   age  sibsp  parch    ticket      fare        cabin embarked  \\\n",
              "49     male  36.0      0      1  PC 17755  512.3292  B51 B53 B55        C   \n",
              "50   female  58.0      0      1  PC 17755  512.3292  B51 B53 B55        C   \n",
              "183    male  35.0      0      0  PC 17755  512.3292         B101        C   \n",
              "302  female  35.0      0      0  PC 17755  512.3292          NaN        C   \n",
              "\n",
              "    boat  body                                       home.dest  \n",
              "49     3   NaN  Austria-Hungary / Germantown, Philadelphia, PA  \n",
              "50     3   NaN                    Germantown, Philadelphia, PA  \n",
              "183    3   NaN                                             NaN  \n",
              "302    3   NaN                                             NaN  "
            ]
          },
          "execution_count": 219,
          "metadata": {},
          "output_type": "execute_result"
        }
      ],
      "source": [
        "# We can see a bunch of fares above 200, then something around 500, look at the outliers:\n",
        "titanic_passenger_df[titanic_passenger_df['fare'] > 500]"
      ]
    },
    {
      "cell_type": "code",
      "execution_count": null,
      "metadata": {
        "id": "vluWOmhWtvc-",
        "outputId": "7b5c8979-fabe-48c0-8ec3-df24b3760de8"
      },
      "outputs": [
        {
          "data": {
            "text/plain": [
              "2049.3168"
            ]
          },
          "execution_count": 220,
          "metadata": {},
          "output_type": "execute_result"
        }
      ],
      "source": [
        "# fare of 512.3292 looks very high compared to other, that's a weird value too, did they split the cost?\n",
        "# or was it just the one ticket?\n",
        "512.3292 * 4"
      ]
    },
    {
      "cell_type": "markdown",
      "metadata": {
        "id": "q4RENmOKtvc-"
      },
      "source": [
        "\n",
        "It is still a weird value, what's `0.3292` or `0.3168` of a pound? Neither make sense in old currency (pounds, shillings and pence) e.g. £512.32s.92d because...\n",
        "\n",
        "There were twenty (20) shillings per pound and the shilling was divided into twelve (12) pennies.(so 32s = £1.12s and 92 pennies is... carry the 4... heaps)\n",
        "Maybe someone converted to dollars?? Adjusted for inflation?\n",
        "Hard to say if these are 'bad' outliers, class is 1st, they have 4 cabins, maybe they're just big spenders in a reasonable trawl of the internet most posts just ignore this e.g. \"There were 4 people who paid the most expensive ticket that cost £512.3292\"\n",
        "\n",
        "Mrs James Warburton Martinez Cardeza (Charlotte Wardle Drake), 58, from Germantown, PA,\n",
        "boarded the Titanic at Cherbourg with her son Thomas and her maid Anna Ward.\n",
        "They occupied suite B-51/53/55 (ticket number17755, £512, 6s).\n",
        "http://www.encyclopedia-titanica.org/titanic-survivor/charlotte-cardeza.html\n",
        "\"with his mother Charlotte Cardeza and his manservant Gustave Lesueur\"\n",
        "    \n",
        "Anna: \"She worked as personal maid and companion to Mrs Charlotte Cardeza.\""
      ]
    },
    {
      "cell_type": "code",
      "execution_count": null,
      "metadata": {
        "id": "Ol6jE65xtvc-"
      },
      "outputs": [],
      "source": [
        "# so how do you get 512.3292 from £512, 6s\n",
        "# 6shillings is ~1/3 pound?\n",
        "# 6/20 is 0.3 so that may explain the 0.3292..\n",
        "def poundit(p,s,d):\n",
        "    return p + (d / 12.0 + s) / 20\n",
        "# force the 12.0 not the 20!\n",
        "# There were 20 shillings per pound and the shilling was divided into 12 pennies."
      ]
    },
    {
      "cell_type": "code",
      "execution_count": null,
      "metadata": {
        "id": "sh14g-Y1tvc-",
        "outputId": "60b4f3a4-e31e-4786-b59d-af3db1fa02ff"
      },
      "outputs": [
        {
          "data": {
            "text/plain": [
              "512.3"
            ]
          },
          "execution_count": 222,
          "metadata": {},
          "output_type": "execute_result"
        }
      ],
      "source": [
        "poundit(512,6,0) # £512, 6s"
      ]
    },
    {
      "cell_type": "markdown",
      "metadata": {
        "id": "Sgtxfbrotvc-"
      },
      "source": [
        "So 512.3 is a real value."
      ]
    },
    {
      "cell_type": "markdown",
      "metadata": {
        "id": "g4PpyRBftvc-"
      },
      "source": [
        "**Discussion**:\n",
        "- Is there any problem with this value?\n",
        "- Should we treat it as an outlier?\n",
        "\n",
        "**Let's investigate outliers by each class.**"
      ]
    },
    {
      "cell_type": "code",
      "execution_count": null,
      "metadata": {
        "id": "2ArA09Kztvc-",
        "outputId": "9e15bce7-2ee8-4a1b-b30b-594c3df4c428"
      },
      "outputs": [
        {
          "data": {
            "image/png": "[encoded data removed]",
            "text/plain": [
              "<Figure size 640x480 with 1 Axes>"
            ]
          },
          "metadata": {},
          "output_type": "display_data"
        }
      ],
      "source": [
        "# plot by class\n",
        "bp = titanic_passenger_df.boxplot(column='fare', by = 'pclass')"
      ]
    },
    {
      "cell_type": "markdown",
      "metadata": {
        "id": "RczEJOo5tvc_"
      },
      "source": [
        "## 3.3 Discussion:\n",
        "- Are the number of outliers reported reduced?\n",
        "- Are there other factors that are impacting on the outliers ?"
      ]
    },
    {
      "cell_type": "code",
      "execution_count": null,
      "metadata": {
        "id": "5R7Cxznft5Ti"
      },
      "outputs": [],
      "source": []
    }
  ],
  "metadata": {
    "anaconda-cloud": {},
    "colab": {
      "provenance": [],
      "toc_visible": true
    },
    "kernelspec": {
      "display_name": "Python 3",
      "language": "python",
      "name": "python3"
    },
    "language_info": {
      "codemirror_mode": {
        "name": "ipython",
        "version": 3
      },
      "file_extension": ".py",
      "mimetype": "text/x-python",
      "name": "python",
      "nbconvert_exporter": "python",
      "pygments_lexer": "ipython3",
      "version": "3.8.18"
    },
    "name": "4.3 Missing values.ipynb",
    "toc": {
      "base_numbering": 1,
      "nav_menu": {},
      "number_sections": true,
      "sideBar": true,
      "skip_h1_title": false,
      "title_cell": "Table of Contents",
      "title_sidebar": "Contents",
      "toc_cell": false,
      "toc_position": {},
      "toc_section_display": true,
      "toc_window_display": false
    }
  },
  "nbformat": 4,
  "nbformat_minor": 0
}
