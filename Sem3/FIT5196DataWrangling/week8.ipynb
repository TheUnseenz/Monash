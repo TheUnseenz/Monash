{
 "cells": [
  {
   "cell_type": "markdown",
   "id": "50d1d825",
   "metadata": {},
   "source": [
    "# Data Cleaning\n",
    "Always make a backup of your main dataframe before modifying it!  \n",
    "You don't want to delete corrupt data only to find it could have been helpful  \n",
    "\n",
    "## Data audit\n",
    "Some metrics matter more to some companies than others  \n",
    "E.g. instagram won't care if a few entries are missing, but it would care about inaccurate data\n",
    "\n",
    "## Missing data\n",
    "Know why the data is missing: Errors? Filter question?"
   ]
  },
  {
   "cell_type": "markdown",
   "id": "5a60f9b1",
   "metadata": {},
   "source": [
    "Q1: Slide 31 - What missing data mechanisms are these 3 columns shown?\n",
    "Column 1 - Missing Completely At Random\n",
    "Column 2 - Missing Not At Random, lower IQ (below 90) are missing ratings, which is related to the x value measured - a direct inference.\n",
    "Column 3 - Missing At Random, lower ratings (7 and 8) are missing ratings, which is related to the y value measured - an indirect inference.\n",
    "\n",
    "Q2: How can you determine what imputation method is the best for your project?\n",
    "It depends on the project, but mean/median/other simple statistics are typically not as good as machine learning methods like regression or random forest.\n",
    "\n",
    "A good R^2 value for assignment is 0.98 or 0.99"
   ]
  }
 ],
 "metadata": {
  "language_info": {
   "name": "python"
  }
 },
 "nbformat": 4,
 "nbformat_minor": 5
}
