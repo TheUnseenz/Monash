{
 "cells": [
  {
   "cell_type": "markdown",
   "id": "50d1d825",
   "metadata": {},
   "source": [
    "Q1: Schema matching, semantic matching: Give an example of many-to-one matching from above schemas\n",
    "releaseDate, releaseCompany ~= releaseInfo\n",
    "\n",
    "Q2: What do tuples within the same cluster vs tuples in different clusters mean?\n",
    "Tuples in same clusters are likely to be duplicates and refer to a single real-world entity, while tuples in different clusters refer to distinct unique entities."
   ]
  }
 ],
 "metadata": {
  "language_info": {
   "name": "python"
  }
 },
 "nbformat": 4,
 "nbformat_minor": 5
}
