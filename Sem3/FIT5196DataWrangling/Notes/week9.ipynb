{
 "cells": [
  {
   "cell_type": "markdown",
   "id": "50d1d825",
   "metadata": {},
   "source": [
    "# Data Transformation\n"
   ]
  },
  {
   "cell_type": "markdown",
   "id": "63fb0f21",
   "metadata": {},
   "source": [
    "Q1. Which scaling method is robust to outliers?\n",
    "Robust scaling - it scales by quartiles, which naturally filters out outliers.\n",
    "\n",
    "Q1? Which methods keep the original meaning of the data after scaling?\n",
    "All of them are linear except log scale - so Min-Max scaling, MaxAbs scaling, Decimal scaling, Robust scaling\n",
    "\n",
    "Q2 Which data sampling method is used in the Random Forest algorithm?\n",
    "Simple Random Sample with replacement"
   ]
  },
  {
   "cell_type": "markdown",
   "id": "bc77629a",
   "metadata": {},
   "source": []
  }
 ],
 "metadata": {
  "language_info": {
   "name": "python"
  }
 },
 "nbformat": 4,
 "nbformat_minor": 5
}
