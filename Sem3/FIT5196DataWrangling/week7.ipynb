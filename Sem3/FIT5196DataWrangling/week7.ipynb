{
 "cells": [
  {
   "cell_type": "markdown",
   "id": "50d1d825",
   "metadata": {},
   "source": [
    "Task 1:\n",
    "Find out the possible data anomalies in this table.\n",
    "Entry:\n",
    "S010 Anddy Lee, level D, 500 work hours\n",
    "\n",
    "Anomalies:\n",
    "500 work hours\n",
    "Name could be a typo for \"Andy\"\n",
    "\n",
    "Task 2:\n",
    "Problems in multi-scource table\n",
    "Name conflicts:\n",
    "Customer vs client\n",
    "Cid vs Cno\n",
    "Sex vs Gender\n",
    "\n",
    "Structural conflicts:\n",
    "Different representations for names and addresses\n",
    "\n",
    "Data conflicts:\n",
    "Different gender representations (0/1 vs F/M)\n",
    "Duplicate record (Kristen Smith)\n",
    "Cid/Cno not matchable between sources\n",
    "\n",
    "Schema level, there are name conflicts (synonyms Customer/Client, Cid/Cno, Sex/Gender) and structural\n",
    "conflicts (different representations for names and addresses).  \n",
    "Instance level, we note that there are different gender representations (“0”/”1” vs. “F”/”M”) and presumably a\n",
    "duplicate record (Kristen Smith).\n",
    "The latter observation also reveals that while Cid/Cno are both source-specific identifiers, their contents are not\n",
    "comparable between the sources; different numbers (11/493) may refer to the same person while different persons can have\n",
    "the same number (24)"
   ]
  }
 ],
 "metadata": {
  "language_info": {
   "name": "python"
  }
 },
 "nbformat": 4,
 "nbformat_minor": 5
}
