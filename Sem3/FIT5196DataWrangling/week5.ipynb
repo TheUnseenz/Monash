{
 "cells": [
  {
   "cell_type": "markdown",
   "id": "50d1d825",
   "metadata": {},
   "source": [
    "# Data Discovery and Collection\n",
    "Data preprocessing pipeline, in order:  \n",
    "- Data discovery  \n",
    "- Collection  \n",
    "- Storing  \n",
    "  \n",
    "- Cleaning  \n",
    "- Preprocessing  \n",
    "- Validation  \n",
    "  \n",
    "- Transformation  \n",
    "- Enrichment  \n",
    "\n",
    "In reality, we usually collect the data we need for the question/problem we have.  \n",
    "In assignment, it's reversed - we find the questions/problems our data can solve.  \n",
    "Insights are deep, you need something that's not immediately obvious  \n",
    "Don't include just every plot. Include the most important ones  "
   ]
  },
  {
   "cell_type": "markdown",
   "id": "002dd978",
   "metadata": {},
   "source": [
    "Question 1:\n",
    "Is big data structured data, unstructured data or semi-structured data?  \n",
    "All 3 of them - some structured, some unstructured, some semi-structured data.  \n",
    "\n",
    "Question 2:\n",
    "Can you give 4 examples of primary data and secondary data respectively?\n",
    "Primary data:\n",
    "1. Surveys\n",
    "2. Interviews\n",
    "3. Sensor data\n",
    "4. Lab experiments\n",
    "\n",
    "Secondary data:\n",
    "1. Web articles\n",
    "2. Scientific papers\n",
    "3. Online databases\n",
    "4. Customer reviews\n",
    "\n",
    "Question 3:\n",
    "When you join a project in your final year, do you need to submit an ethics application? why?\n",
    "As long as your project involves any kind of data collection or experiment, you will need an ethics application.\n",
    "This is to ensure your data collection or experiment respects the participants and their data, and takes only as little and as anonymously as possible."
   ]
  },
  {
   "cell_type": "markdown",
   "id": "b7da7090",
   "metadata": {},
   "source": []
  }
 ],
 "metadata": {
  "language_info": {
   "name": "python"
  }
 },
 "nbformat": 4,
 "nbformat_minor": 5
}
