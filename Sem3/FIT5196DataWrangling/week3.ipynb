{
 "cells": [
  {
   "cell_type": "markdown",
   "id": "a36ed5eb",
   "metadata": {},
   "source": [
    "# Regular Expressions\n",
    "## 1. Basic Characters\n",
    "- `.` – Matches any single character except newline (`\\n`).\n",
    "- `\\d` – Matches any digit (`[0-9]`).\n",
    "- `\\D` – Matches any non-digit.\n",
    "- `\\w` – Matches any word character (`[A-Za-z0-9_]`).\n",
    "- `\\W` – Matches any non-word character.\n",
    "- `\\s` – Matches any whitespace (space, tab, newline).\n",
    "- `\\S` – Matches any non-whitespace.\n",
    "\n",
    "## 2. Anchors (Position Matching)\n",
    "- `^` – Start of string.\n",
    "- `$` – End of string.\n",
    "- `\\b` – Word boundary.\n",
    "- `\\B` – Non-word boundary.\n",
    "\n",
    "## 3. Quantifiers\n",
    "- `*` – 0 or more occurrences.\n",
    "- `+` – 1 or more occurrences.\n",
    "- `?` – 0 or 1 occurrence (optional).\n",
    "- `{n}` – Exactly n occurrences.\n",
    "- `{n,}` – At least n occurrences.\n",
    "- `{n,m}` – Between n and m occurrences.\n",
    "\n",
    "## 4. Character Classes\n",
    "- `[abc]` – Matches `a`, `b`, or `c`.\n",
    "- `[^abc]` – Matches any character except `a`, `b`, or `c`.\n",
    "- `[a-z]` – Matches lowercase letters `a` to `z`.\n",
    "- `[A-Z]` – Matches uppercase letters.\n",
    "- `[0-9]` – Matches digits 0 to 9.\n",
    "- `[a-zA-Z0-9]` – Matches alphanumeric characters.\n",
    "\n",
    "## 5. Grouping & Alternation\n",
    "- `(abc)` – Capturing group.\n",
    "- `(?:abc)` – Non-capturing group.\n",
    "- `a|b` – Matches `a` or `b`.\n",
    "\n",
    "## 6. Escaping\n",
    "- `\\` – Escape special characters (`\\.` matches a literal dot).\n",
    "\n",
    "## 7. Lookarounds\n",
    "- `(?=...)` – Positive lookahead (must be followed by ...).\n",
    "- `(?!...)` – Negative lookahead (must not be followed by ...).\n",
    "- `(?<=...)` – Positive lookbehind (must be preceded by ...).\n",
    "- `(?<!...)` – Negative lookbehind (must not be preceded by ...).\n",
    "\n",
    "## 8. Flags\n",
    "- `i` – Case-insensitive.\n",
    "- `g` – Global search (all matches).\n",
    "- `m` – Multiline mode (`^` and `$` match line start/end).\n",
    "- `s` – Dotall mode (`.` matches newline).\n"
   ]
  }
 ],
 "metadata": {
  "language_info": {
   "name": "python"
  }
 },
 "nbformat": 4,
 "nbformat_minor": 5
}
