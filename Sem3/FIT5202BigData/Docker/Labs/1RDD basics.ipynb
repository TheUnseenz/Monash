{
 "cells": [
  {
   "cell_type": "code",
   "execution_count": null,
   "id": "e1650623",
   "metadata": {},
   "outputs": [],
   "source": [
    "# Import SparkConf class into program\n",
    "from pyspark import SparkConf\n",
    "\n",
    "# local[*]: run Spark in local mode with as many working processors as logical cores on your machine\n",
    "# If we want Spark to run locally with 'k' worker threads, we can specify as \"local[k]\".\n",
    "master = \"local[*]\"\n",
    "# The `appName` field is a name to be shown on the Spark cluster UI page\n",
    "app_name = \"RDD-basics\"\n",
    "# Setup configuration parameters for Spark\n",
    "spark_conf = SparkConf().setMaster(master).setAppName(app_name)"
   ]
  },
  {
   "cell_type": "code",
   "execution_count": null,
   "id": "d7c10edf",
   "metadata": {},
   "outputs": [],
   "source": [
    "# Import SparkContext and SparkSession classes\n",
    "from pyspark import SparkContext # Spark\n",
    "from pyspark.sql import SparkSession # Spark SQL\n",
    "\n",
    "# Method 2: Getting or instantiating a SparkContext\n",
    "sc = SparkContext.getOrCreate(spark_conf)\n",
    "sc.setLogLevel('ERROR')"
   ]
  },
  {
   "cell_type": "code",
   "execution_count": null,
   "id": "028f89b4",
   "metadata": {},
   "outputs": [],
   "source": [
    "data_list = [1, 2, 3, 3]\n",
    "rdd = sc.parallelize(data_list)"
   ]
  },
  {
   "cell_type": "code",
   "execution_count": null,
   "id": "9da3770d",
   "metadata": {},
   "outputs": [],
   "source": [
    "rdd.collect()"
   ]
  },
  {
   "cell_type": "code",
   "execution_count": null,
   "id": "4e122c63",
   "metadata": {},
   "outputs": [],
   "source": [
    "rdd_1 = rdd.flatMap(lambda x : range(x,4))\n",
    "rdd_1.collect()"
   ]
  },
  {
   "cell_type": "code",
   "execution_count": null,
   "id": "995220cb",
   "metadata": {},
   "outputs": [],
   "source": [
    "rdd_1 = rdd.map(lambda x : range(x,4))\n",
    "rdd_1.collect()"
   ]
  },
  {
   "cell_type": "code",
   "execution_count": null,
   "id": "8f6ebf1c",
   "metadata": {},
   "outputs": [],
   "source": [
    "rdd_2 = rdd.map(lambda x : list(range(x,4)))\n",
    "rdd_2.collect()"
   ]
  },
  {
   "cell_type": "code",
   "execution_count": null,
   "id": "d0d066ac",
   "metadata": {},
   "outputs": [],
   "source": []
  }
 ],
 "metadata": {
  "kernelspec": {
   "display_name": "Python 3 (ipykernel)",
   "language": "python",
   "name": "python3"
  },
  "language_info": {
   "codemirror_mode": {
    "name": "ipython",
    "version": 3
   },
   "file_extension": ".py",
   "mimetype": "text/x-python",
   "name": "python",
   "nbconvert_exporter": "python",
   "pygments_lexer": "ipython3",
   "version": "3.10.13"
  }
 },
 "nbformat": 4,
 "nbformat_minor": 5
}
