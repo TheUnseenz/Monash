{
 "cells": [
  {
   "cell_type": "markdown",
   "metadata": {},
   "source": [
    "# Part 2: Streaming application using Spark Structured Streaming  \n",
    "In this task, you will implement Spark Structured Streaming to consume the data from task 1 and perform a prediction.    \n",
    "Important:   \n",
    "-\tThis task uses PySpark Structured Streaming with PySpark Dataframe APIs and PySpark ML.  \n",
    "-\tYou also need your pipeline model from A2A to make predictions and persist the results.  "
   ]
  },
  {
   "cell_type": "markdown",
   "metadata": {},
   "source": [
    "1.\tWrite code to create a SparkSession, which 1) uses four cores with a proper application name; 2) use the Melbourne timezone; 3) ensure a checkpoint location has been set.\n"
   ]
  },
  {
   "cell_type": "code",
   "execution_count": 1,
   "metadata": {
    "scrolled": true
   },
   "outputs": [],
   "source": [
    "import os\n",
    "os.environ['PYSPARK_SUBMIT_ARGS'] = '--packages org.apache.spark:spark-streaming-kafka-0-10_2.12:3.0.0,org.apache.spark:spark-sql-kafka-0-10_2.12:3.0.0 pyspark-shell'\n",
    "\n",
    "# Import SparkConf class into program\n",
    "from pyspark import SparkConf\n",
    "\n",
    "# local[*]: run Spark in local mode with as many working processors as logical cores on your machine\n",
    "# If we want Spark to run locally with 'k' worker threads, we can specify as \"local[k]\".\n",
    "master = \"local[4]\"\n",
    "# The `appName` field is a name to be shown on the Spark cluster UI page\n",
    "app_name = \"Assignment2B\"\n",
    "# Setup configuration parameters for Spark\n",
    "spark_conf = SparkConf().setMaster(master).setAppName(app_name) \\\n",
    "                        .set(\"spark.sql.streaming.checkpointLocation\", \"checkpoints\")\n",
    "\n",
    "# Import SparkContext and SparkSession classes\n",
    "from pyspark import SparkContext # Spark\n",
    "from pyspark.sql import SparkSession # Spark SQL\n",
    "\n",
    "# Method 1: Using SparkSession\n",
    "spark = SparkSession.builder.config(conf=spark_conf).config(\"spark.sql.session.timeZone\", \"GMT+10\").getOrCreate()\n",
    "sc = spark.sparkContext\n",
    "sc.setLogLevel('ERROR')\n",
    "\n",
    "from pyspark.sql import functions as F"
   ]
  },
  {
   "cell_type": "markdown",
   "metadata": {},
   "source": [
    "2.\tWrite code to define the data schema for the data files, following the data types suggested in the metadata file. Load the static datasets (e.g. building information) into data frames. (You can reuse your code from 2A.)\n"
   ]
  },
  {
   "cell_type": "code",
   "execution_count": null,
   "metadata": {},
   "outputs": [],
   "source": [
    "# Adapted from GPT\n",
    "from pyspark.sql.types import (\n",
    "    StructType, StructField,\n",
    "    IntegerType, StringType, DecimalType, TimestampType\n",
    ")\n",
    "\n",
    "# 1. Meters Table\n",
    "meters_schema = StructType([\n",
    "    StructField(\"building_id\", IntegerType(), False),\n",
    "    StructField(\"meter_type\", StringType(), False),   # Char(1) -> StringType\n",
    "    StructField(\"ts\", TimestampType(), False),\n",
    "    StructField(\"value\", DecimalType(15, 4), False),\n",
    "    StructField(\"row_id\", IntegerType(), False)\n",
    "])\n",
    "\n",
    "# 2. Buildings Table\n",
    "buildings_schema = StructType([\n",
    "    StructField(\"site_id\", IntegerType(), False),\n",
    "    StructField(\"building_id\", IntegerType(), False),\n",
    "    StructField(\"primary_use\", StringType(), True),\n",
    "    StructField(\"square_feet\", IntegerType(), True),\n",
    "    StructField(\"floor_count\", IntegerType(), True),\n",
    "    StructField(\"row_id\", IntegerType(), False),\n",
    "    StructField(\"year_built\", IntegerType(), True),\n",
    "    StructField(\"latent_y\", DecimalType(6, 4), True),\n",
    "    StructField(\"latent_s\", DecimalType(6, 4), True),\n",
    "    StructField(\"latent_r\", DecimalType(6, 4), True)\n",
    "])\n",
    "\n",
    "# 3. Weather Table\n",
    "# weather_schema = StructType([\n",
    "#     StructField(\"site_id\", StringType(), False),\n",
    "#     StructField(\"timestamp\", StringType(), False),\n",
    "#     StructField(\"air_temperature\", StringType(), True),\n",
    "#     StructField(\"cloud_coverage\", StringType(), True), # Is an Integer, but ends with a \".0\", so read as a DecimalType\n",
    "#     StructField(\"dew_temperature\", StringType(), True),\n",
    "#     StructField(\"sea_level_pressure\", StringType(), True),\n",
    "#     StructField(\"wind_direction\", StringType(), True), # Is an Integer, but ends with a \".0\", so read as a DecimalType\n",
    "#     StructField(\"wind_speed\", StringType(), True),\n",
    "#     StructField(\"weather_ts\", StringType(), False) # new field\n",
    "# ])\n",
    "\n",
    "weather_schema = StructType([\n",
    "    StructField(\"site_id\", StringType(), False),\n",
    "    StructField(\"timestamp\", TimestampType(), False),\n",
    "    StructField(\"air_temperature\", DecimalType(5, 3), True),\n",
    "    StructField(\"cloud_coverage\", DecimalType(5, 3), True), # Is an Integer, but ends with a \".0\", so read as a DecimalType\n",
    "    StructField(\"dew_temperature\", DecimalType(5, 3), True),\n",
    "    StructField(\"sea_level_pressure\", DecimalType(8, 3), True),\n",
    "    StructField(\"wind_direction\", DecimalType(5, 3), True), # Is an Integer, but ends with a \".0\", so read as a DecimalType\n",
    "    StructField(\"wind_speed\", DecimalType(5, 3), True),\n",
    "    StructField(\"weather_ts\", TimestampType(), False) # new field\n",
    "])\n",
    "\n",
    "buildings_df = spark.read.csv(\n",
    "    \"data/new_building_information.csv\",\n",
    "    header=True,\n",
    "    schema=buildings_schema\n",
    ")\n",
    "\n",
    "weather_df = spark.read.csv(\n",
    "    \"data/weather.csv\",\n",
    "    header=True,\n",
    "    schema=weather_schema\n",
    ")\n"
   ]
  },
  {
   "cell_type": "markdown",
   "metadata": {},
   "source": [
    "3.\tUsing the Kafka topic from the producer in Task 1, ingest the streaming data into Spark Streaming, assuming all data comes in the String format. Except for the 'weather_ts' column, you shall receive it as an Int type. Load the new building information CSV file into a dataframe. Then, the data frames should be transformed into the proper formats following the metadata file schema, similar to assignment 2A.\n"
   ]
  },
  {
   "cell_type": "code",
   "execution_count": null,
   "metadata": {},
   "outputs": [],
   "source": [
    "\n",
    "\n",
    "#configuration\n",
    "hostip = \"192.168.0.6\"\n",
    "topic = 'weather_data'\n",
    "\n",
    "df_raw = spark \\\n",
    "    .readStream \\\n",
    "    .format(\"kafka\") \\\n",
    "    .option(\"kafka.bootstrap.servers\", f'{hostip}:9092') \\\n",
    "    .option(\"subscribe\", topic) \\\n",
    "    .load()\n",
    "\n",
    "df_str = df_raw.selectExpr(\"CAST(value AS STRING) as json_str\")\n",
    "\n",
    "weather_stream = (\n",
    "    df_str\n",
    "    .withColumn(\"data\", F.from_json(F.col(\"json_str\"), F.ArrayType(weather_schema)))\n",
    "    .select(F.explode(F.col(\"data\")).alias(\"r\"))\n",
    "    .select(\"r.*\")\n",
    ")\n"
   ]
  },
  {
   "cell_type": "markdown",
   "metadata": {},
   "source": [
    "4.\tUse a watermark on weather_ts, if data points are received 5 seconds late, discard the data."
   ]
  },
  {
   "cell_type": "code",
   "execution_count": 4,
   "metadata": {},
   "outputs": [],
   "source": [
    "weather_stream = weather_stream.withWatermark(\"weather_ts\", '5 seconds')"
   ]
  },
  {
   "cell_type": "markdown",
   "metadata": {},
   "source": [
    "5.\tPerform the necessary transformation you used in A2A. (note: every student may have used different features, feel free to reuse the code you have written in A2A. If you built an end-to-end pipeline, you can ignore this task.) "
   ]
  },
  {
   "cell_type": "code",
   "execution_count": null,
   "metadata": {},
   "outputs": [],
   "source": [
    "\n",
    "# Get global_means, site_month_means, site_means\n",
    "# weather_df is history, weather_stream is current\n",
    "\n",
    "# Split timestamp to date, month, time bucket\n",
    "weather_df = weather_df.withColumn(\"date\", F.to_date(\"timestamp\")).withColumn(\n",
    "    \"time\",\n",
    "    F.when(F.hour(\"timestamp\") <= 5, \"0-6h\")\n",
    "     .when(F.hour(\"timestamp\") <= 11, \"6-12h\")\n",
    "     .when(F.hour(\"timestamp\") <= 17, \"12-18h\")\n",
    "     .when(F.hour(\"timestamp\") <= 23, \"18-24h\")\n",
    ").withColumn(\"month\", F.month(\"timestamp\"))\n",
    "\n",
    "# Choose which columns to impute\n",
    "impute_cols = [\n",
    "    \"air_temperature\",\n",
    "    \"cloud_coverage\",\n",
    "    \"dew_temperature\",\n",
    "    \"sea_level_pressure\",\n",
    "    \"wind_direction\",\n",
    "    \"wind_speed\"\n",
    "]\n",
    "\n",
    "# Compute global_means, site_month_means, site_means\n",
    "global_means = weather_df.select(\n",
    "    *[F.mean(c).alias(c) for c in impute_cols]\n",
    ").first().asDict()\n",
    "\n",
    "site_month_means = weather_df.groupBy(\"site_id\", \"month\").agg(\n",
    "    *[F.mean(c).alias(f\"{c}_site_month_mean\") for c in impute_cols]\n",
    ")\n",
    "\n",
    "site_means = weather_df.groupBy(\"site_id\").agg(\n",
    "    *[F.mean(c).alias(f\"{c}_site_mean\") for c in impute_cols]\n",
    ")\n",
    "    \n",
    "# Skip Garbage collection\n",
    "# del site_month_means\n",
    "# del site_means\n",
    "# del global_means\n",
    "# spark.catalog.clearCache()\n",
    "\n",
    "# Data imputation\n",
    "# Transform weather_stream\n",
    "# Split timestamp to date, month, time bucket\n",
    "weather_stream = weather_stream.withColumn(\"date\", F.to_date(\"timestamp\")).withColumn(\n",
    "    \"time\",\n",
    "    F.when(F.hour(\"timestamp\") <= 5, \"0-6h\")\n",
    "     .when(F.hour(\"timestamp\") <= 11, \"6-12h\")\n",
    "     .when(F.hour(\"timestamp\") <= 17, \"12-18h\")\n",
    "     .when(F.hour(\"timestamp\") <= 23, \"18-24h\")\n",
    ").withColumn(\"month\", F.month(\"timestamp\"))\n",
    "\n",
    "\n",
    "# Step 1: site_id + month\n",
    "weather_stream = weather_stream.join(site_month_means, on=[\"site_id\", \"month\"], how=\"left\")\n",
    "for c in impute_cols:\n",
    "    weather_stream = weather_stream.withColumn(\n",
    "        c, F.coalesce(c, F.col(f\"{c}_site_month_mean\"))\n",
    "    ).drop(f\"{c}_site_month_mean\")\n",
    "    \n",
    "# Step 2: site_id\n",
    "weather_stream = weather_stream.join(site_means, on=\"site_id\", how=\"left\")\n",
    "for c in impute_cols:\n",
    "    weather_stream = weather_stream.withColumn(\n",
    "        c, F.coalesce(c, F.col(f\"{c}_site_mean\"))\n",
    "    ).drop(f\"{c}_site_mean\")\n",
    "\n",
    "# Step 3: global fallback\n",
    "for c in impute_cols:\n",
    "    weather_stream = weather_stream.withColumn(\n",
    "        c, F.coalesce(c, F.lit(global_means[c]))\n",
    "    )\n",
    "# Aggregate by time bucket\n",
    "weather_stream = (\n",
    "    weather_stream\n",
    "    .groupBy(\n",
    "        \"site_id\", \"date\", \"time\", \"month\",\n",
    "        F.window(\"weather_ts\", \"5 seconds\")\n",
    "    )\n",
    "    .agg(\n",
    "        F.mean(\"air_temperature\").cast(DecimalType(5, 3)).alias(\"air_temperature\"),\n",
    "        F.mean(\"cloud_coverage\").cast(DecimalType(5, 3)).alias(\"cloud_coverage\"),\n",
    "        F.mean(\"dew_temperature\").cast(DecimalType(5, 3)).alias(\"dew_temperature\"),\n",
    "        F.mean(\"sea_level_pressure\").cast(DecimalType(8, 3)).alias(\"sea_level_pressure\"),\n",
    "        F.mean(\"wind_direction\").cast(DecimalType(5, 3)).alias(\"wind_direction\"),\n",
    "        F.mean(\"wind_speed\").cast(DecimalType(5, 3)).alias(\"wind_speed\")     \n",
    "    )    \n",
    ")\n",
    "\n",
    "# Add custom columns\n",
    "weather_stream = (\n",
    "    weather_stream\n",
    "    .withColumn(\"dew_depression\", F.col(\"air_temperature\") - F.col(\"dew_temperature\"))\n",
    "    .withColumn(\"nonideal_temp\", (F.col(\"air_temperature\") - 18)**2)\n",
    "    .drop(\"air_temperature\")\n",
    "    .drop(\"dew_temperature\")\n",
    ")\n",
    "\n",
    "# No need to add median temp and peak-offpeak as our pipeline model later does not use them\n",
    "feature_df = buildings_df.join(weather_stream, [\"site_id\"])\n"
   ]
  },
  {
   "cell_type": "markdown",
   "metadata": {},
   "source": [
    "6.\tLoad your pipeline model and perform the following aggregations:  \n",
    "a)\tPrint the prediction from your model as a stream comes in.  \n",
    "b)\tEvery 7 seconds, print the total energy consumption for each 6-hour interval, aggregated by building, and print 20 records. (Note: This is simulating energy data each day in a week)  \n",
    "c)\tEvery 14 seconds, for each site, print the daily total energy consumption.  "
   ]
  },
  {
   "cell_type": "code",
   "execution_count": 7,
   "metadata": {},
   "outputs": [],
   "source": [
    "\n",
    "# --- 1. Spark + model setup ---\n",
    "# from pyspark.sql import SparkSession\n",
    "from pyspark.ml import PipelineModel\n",
    "\n",
    "model = PipelineModel.load(\"models/best_model_rmsle\")\n",
    "\n",
    "# --- 2. Apply model ---\n",
    "predictions = model.transform(feature_df).withColumnRenamed(\"prediction\", \"log_power_usage\")\n",
    "\n",
    "checkpoint_dir = os.path.abspath(\"checkpoints/weather_stream\")\n",
    "os.makedirs(checkpoint_dir, exist_ok=True)"
   ]
  },
  {
   "cell_type": "code",
   "execution_count": 8,
   "metadata": {},
   "outputs": [
    {
     "name": "stdout",
     "output_type": "stream",
     "text": [
      "root\n",
      " |-- site_id: string (nullable = true)\n",
      " |-- date: date (nullable = true)\n",
      " |-- time: string (nullable = true)\n",
      " |-- month: integer (nullable = true)\n",
      " |-- window: struct (nullable = false)\n",
      " |    |-- start: timestamp (nullable = true)\n",
      " |    |-- end: timestamp (nullable = true)\n",
      " |-- cloud_coverage: decimal(5,3) (nullable = true)\n",
      " |-- sea_level_pressure: decimal(8,3) (nullable = true)\n",
      " |-- wind_direction: decimal(5,3) (nullable = true)\n",
      " |-- wind_speed: decimal(5,3) (nullable = true)\n",
      " |-- dew_depression: decimal(6,3) (nullable = true)\n",
      " |-- nonideal_temp: double (nullable = true)\n",
      "\n"
     ]
    }
   ],
   "source": [
    "weather_stream.printSchema()"
   ]
  },
  {
   "cell_type": "code",
   "execution_count": 9,
   "metadata": {},
   "outputs": [
    {
     "name": "stdout",
     "output_type": "stream",
     "text": [
      "root\n",
      " |-- site_id: integer (nullable = true)\n",
      " |-- building_id: integer (nullable = true)\n",
      " |-- primary_use: string (nullable = true)\n",
      " |-- square_feet: integer (nullable = true)\n",
      " |-- floor_count: integer (nullable = true)\n",
      " |-- row_id: integer (nullable = true)\n",
      " |-- year_built: integer (nullable = true)\n",
      " |-- latent_y: decimal(6,4) (nullable = true)\n",
      " |-- latent_s: decimal(6,4) (nullable = true)\n",
      " |-- latent_r: decimal(6,4) (nullable = true)\n",
      " |-- date: date (nullable = true)\n",
      " |-- time: string (nullable = true)\n",
      " |-- month: integer (nullable = true)\n",
      " |-- window: struct (nullable = false)\n",
      " |    |-- start: timestamp (nullable = true)\n",
      " |    |-- end: timestamp (nullable = true)\n",
      " |-- cloud_coverage: decimal(5,3) (nullable = true)\n",
      " |-- sea_level_pressure: decimal(8,3) (nullable = true)\n",
      " |-- wind_direction: decimal(5,3) (nullable = true)\n",
      " |-- wind_speed: decimal(5,3) (nullable = true)\n",
      " |-- dew_depression: decimal(6,3) (nullable = true)\n",
      " |-- nonideal_temp: double (nullable = true)\n",
      "\n"
     ]
    }
   ],
   "source": [
    "feature_df.printSchema()"
   ]
  },
  {
   "cell_type": "code",
   "execution_count": 10,
   "metadata": {},
   "outputs": [
    {
     "name": "stdout",
     "output_type": "stream",
     "text": [
      "root\n",
      " |-- site_id: integer (nullable = true)\n",
      " |-- building_id: integer (nullable = true)\n",
      " |-- primary_use: string (nullable = true)\n",
      " |-- square_feet: integer (nullable = true)\n",
      " |-- floor_count: integer (nullable = true)\n",
      " |-- row_id: integer (nullable = true)\n",
      " |-- year_built: integer (nullable = true)\n",
      " |-- latent_y: decimal(6,4) (nullable = true)\n",
      " |-- latent_s: decimal(6,4) (nullable = true)\n",
      " |-- latent_r: decimal(6,4) (nullable = true)\n",
      " |-- date: date (nullable = true)\n",
      " |-- time: string (nullable = true)\n",
      " |-- month: integer (nullable = true)\n",
      " |-- window: struct (nullable = false)\n",
      " |    |-- start: timestamp (nullable = true)\n",
      " |    |-- end: timestamp (nullable = true)\n",
      " |-- cloud_coverage: decimal(5,3) (nullable = true)\n",
      " |-- sea_level_pressure: decimal(8,3) (nullable = true)\n",
      " |-- wind_direction: decimal(5,3) (nullable = true)\n",
      " |-- wind_speed: decimal(5,3) (nullable = true)\n",
      " |-- dew_depression: decimal(6,3) (nullable = true)\n",
      " |-- nonideal_temp: double (nullable = true)\n",
      " |-- primary_use_idx: double (nullable = false)\n",
      " |-- site_id_idx: double (nullable = false)\n",
      " |-- primary_use_ohe: vector (nullable = true)\n",
      " |-- site_id_ohe: vector (nullable = true)\n",
      " |-- features: vector (nullable = true)\n",
      " |-- log_power_usage: double (nullable = false)\n",
      "\n"
     ]
    }
   ],
   "source": [
    "predictions.printSchema()"
   ]
  },
  {
   "cell_type": "code",
   "execution_count": 11,
   "metadata": {},
   "outputs": [
    {
     "name": "stdout",
     "output_type": "stream",
     "text": [
      "+-------+-----------+------+---------------+\n",
      "|site_id|building_id|window|log_power_usage|\n",
      "+-------+-----------+------+---------------+\n",
      "+-------+-----------+------+---------------+\n",
      "\n"
     ]
    }
   ],
   "source": [
    "# 6a\n",
    "# Show live predictions\n",
    "query_live = (\n",
    "    predictions\n",
    "        .select(\"site_id\", \"building_id\", \"window\", \"log_power_usage\")\n",
    "        .writeStream\n",
    "        .outputMode(\"append\")\n",
    "        .format(\"memory\")\n",
    "        .queryName(\"live_predictions\")\n",
    "        .start()\n",
    ")\n",
    "spark.sql(\"select * from live_predictions\").show()\n"
   ]
  },
  {
   "cell_type": "code",
   "execution_count": null,
   "metadata": {},
   "outputs": [
    {
     "ename": "AnalysisException",
     "evalue": "Detected pattern of possible 'correctness' issue due to global watermark. The query contains stateful operation which can emit rows older than the current watermark plus allowed late record delay, which are \"late rows\" in downstream stateful operations and these rows can be discarded. Please refer the programming guide doc for more details. If you understand the possible risk of correctness issue and still need to run the query, you can disable this check by setting the config `spark.sql.streaming.statefulOperator.checkCorrectness.enabled` to false.;\nAggregate [building_id#1, window#779-T5000ms.start, window#779-T5000ms.end], [building_id#1, window#779-T5000ms.start AS start#1235, window#779-T5000ms.end AS end#1236, sum(log_power_usage#1137) AS total_power_6h#1232]\n+- Project [site_id#0, building_id#1, primary_use#2, square_feet#3, floor_count#4, row_id#5, year_built#6, latent_y#7, latent_s#8, latent_r#9, date#257, time#268, month#280, window#779-T5000ms, cloud_coverage#795, sea_level_pressure#799, wind_direction#801, wind_speed#803, dew_depression#816, nonideal_temp#829, primary_use_idx#943, site_id_idx#971, primary_use_ohe#1001, site_id_ohe#1035, ... 2 more fields]\n   +- Project [site_id#0, building_id#1, primary_use#2, square_feet#3, floor_count#4, row_id#5, year_built#6, latent_y#7, latent_s#8, latent_r#9, date#257, time#268, month#280, window#779-T5000ms, cloud_coverage#795, sea_level_pressure#799, wind_direction#801, wind_speed#803, dew_depression#816, nonideal_temp#829, primary_use_idx#943, site_id_idx#971, primary_use_ohe#1001, site_id_ohe#1035, ... 2 more fields]\n      +- Project [site_id#0, building_id#1, primary_use#2, square_feet#3, floor_count#4, row_id#5, year_built#6, latent_y#7, latent_s#8, latent_r#9, date#257, time#268, month#280, window#779-T5000ms, cloud_coverage#795, sea_level_pressure#799, wind_direction#801, wind_speed#803, dew_depression#816, nonideal_temp#829, primary_use_idx#943, site_id_idx#971, primary_use_ohe#1001, site_id_ohe#1035, UDF(struct(primary_use_ohe, primary_use_ohe#1001, site_id_ohe, site_id_ohe#1035, square_feet_double_VectorAssembler_dda2dbfd9182, cast(square_feet#3 as double), floor_count_double_VectorAssembler_dda2dbfd9182, cast(floor_count#4 as double), year_built_double_VectorAssembler_dda2dbfd9182, cast(year_built#6 as double), latent_y_double_VectorAssembler_dda2dbfd9182, cast(latent_y#7 as double), latent_s_double_VectorAssembler_dda2dbfd9182, cast(latent_s#8 as double), latent_r_double_VectorAssembler_dda2dbfd9182, cast(latent_r#9 as double), cloud_coverage_double_VectorAssembler_dda2dbfd9182, cast(cloud_coverage#795 as double), sea_level_pressure_double_VectorAssembler_dda2dbfd9182, cast(sea_level_pressure#799 as double), wind_direction_double_VectorAssembler_dda2dbfd9182, cast(wind_direction#801 as double), wind_speed_double_VectorAssembler_dda2dbfd9182, cast(wind_speed#803 as double), ... 4 more fields)) AS features#1078]\n         +- Project [site_id#0, building_id#1, primary_use#2, square_feet#3, floor_count#4, row_id#5, year_built#6, latent_y#7, latent_s#8, latent_r#9, date#257, time#268, month#280, window#779-T5000ms, cloud_coverage#795, sea_level_pressure#799, wind_direction#801, wind_speed#803, dew_depression#816, nonideal_temp#829, primary_use_idx#943, site_id_idx#971, primary_use_ohe#1001, UDF(cast(site_id_idx#971 as double), 0) AS site_id_ohe#1035]\n            +- Project [site_id#0, building_id#1, primary_use#2, square_feet#3, floor_count#4, row_id#5, year_built#6, latent_y#7, latent_s#8, latent_r#9, date#257, time#268, month#280, window#779-T5000ms, cloud_coverage#795, sea_level_pressure#799, wind_direction#801, wind_speed#803, dew_depression#816, nonideal_temp#829, primary_use_idx#943, site_id_idx#971, UDF(cast(primary_use_idx#943 as double), 0) AS primary_use_ohe#1001]\n               +- Project [site_id#0, building_id#1, primary_use#2, square_feet#3, floor_count#4, row_id#5, year_built#6, latent_y#7, latent_s#8, latent_r#9, date#257, time#268, month#280, window#779-T5000ms, cloud_coverage#795, sea_level_pressure#799, wind_direction#801, wind_speed#803, dew_depression#816, nonideal_temp#829, primary_use_idx#943, UDF(cast(site_id#0 as string)) AS site_id_idx#971]\n                  +- Project [site_id#0, building_id#1, primary_use#2, square_feet#3, floor_count#4, row_id#5, year_built#6, latent_y#7, latent_s#8, latent_r#9, date#257, time#268, month#280, window#779-T5000ms, cloud_coverage#795, sea_level_pressure#799, wind_direction#801, wind_speed#803, dew_depression#816, nonideal_temp#829, UDF(cast(primary_use#2 as string)) AS primary_use_idx#943]\n                     +- Project [site_id#0, building_id#1, primary_use#2, square_feet#3, floor_count#4, row_id#5, year_built#6, latent_y#7, latent_s#8, latent_r#9, date#257, time#268, month#280, window#779-T5000ms, cloud_coverage#795, sea_level_pressure#799, wind_direction#801, wind_speed#803, dew_depression#816, nonideal_temp#829]\n                        +- Join Inner, (site_id#0 = cast(site_id#67 as int))\n                           :- Relation [site_id#0,building_id#1,primary_use#2,square_feet#3,floor_count#4,row_id#5,year_built#6,latent_y#7,latent_s#8,latent_r#9] csv\n                           +- Project [site_id#67, date#257, time#268, month#280, window#779-T5000ms, cloud_coverage#795, sea_level_pressure#799, wind_direction#801, wind_speed#803, dew_depression#816, nonideal_temp#829]\n                              +- Project [site_id#67, date#257, time#268, month#280, window#779-T5000ms, cloud_coverage#795, dew_temperature#797, sea_level_pressure#799, wind_direction#801, wind_speed#803, dew_depression#816, nonideal_temp#829]\n                                 +- Project [site_id#67, date#257, time#268, month#280, window#779-T5000ms, air_temperature#793, cloud_coverage#795, dew_temperature#797, sea_level_pressure#799, wind_direction#801, wind_speed#803, dew_depression#816, POWER(cast((air_temperature#793 - cast(18 as decimal(2,0))) as double), cast(2 as double)) AS nonideal_temp#829]\n                                    +- Project [site_id#67, date#257, time#268, month#280, window#779-T5000ms, air_temperature#793, cloud_coverage#795, dew_temperature#797, sea_level_pressure#799, wind_direction#801, wind_speed#803, (air_temperature#793 - dew_temperature#797) AS dew_depression#816]\n                                       +- Aggregate [site_id#67, date#257, time#268, month#280, window#804-T5000ms], [site_id#67, date#257, time#268, month#280, window#804-T5000ms AS window#779-T5000ms, cast(avg(air_temperature#701) as decimal(5,3)) AS air_temperature#793, cast(avg(cloud_coverage#714) as decimal(5,3)) AS cloud_coverage#795, cast(avg(dew_temperature#727) as decimal(5,3)) AS dew_temperature#797, cast(avg(sea_level_pressure#740) as decimal(8,3)) AS sea_level_pressure#799, cast(avg(wind_direction#753) as decimal(5,3)) AS wind_direction#801, cast(avg(wind_speed#766) as decimal(5,3)) AS wind_speed#803]\n                                          +- Project [named_struct(start, knownnullable(precisetimestampconversion(((precisetimestampconversion(weather_ts#75-T5000ms, TimestampType, LongType) - CASE WHEN (((precisetimestampconversion(weather_ts#75-T5000ms, TimestampType, LongType) - 0) % 5000000) < cast(0 as bigint)) THEN (((precisetimestampconversion(weather_ts#75-T5000ms, TimestampType, LongType) - 0) % 5000000) + 5000000) ELSE ((precisetimestampconversion(weather_ts#75-T5000ms, TimestampType, LongType) - 0) % 5000000) END) - 0), LongType, TimestampType)), end, knownnullable(precisetimestampconversion((((precisetimestampconversion(weather_ts#75-T5000ms, TimestampType, LongType) - CASE WHEN (((precisetimestampconversion(weather_ts#75-T5000ms, TimestampType, LongType) - 0) % 5000000) < cast(0 as bigint)) THEN (((precisetimestampconversion(weather_ts#75-T5000ms, TimestampType, LongType) - 0) % 5000000) + 5000000) ELSE ((precisetimestampconversion(weather_ts#75-T5000ms, TimestampType, LongType) - 0) % 5000000) END) - 0) + 5000000), LongType, TimestampType))) AS window#804-T5000ms, site_id#67, month#280, timestamp#68, air_temperature#701, cloud_coverage#714, dew_temperature#727, sea_level_pressure#740, wind_direction#753, wind_speed#766, weather_ts#75-T5000ms, date#257, time#268]\n                                             +- Filter isnotnull(weather_ts#75-T5000ms)\n                                                +- Project [site_id#67, month#280, timestamp#68, air_temperature#701, cloud_coverage#714, dew_temperature#727, sea_level_pressure#740, wind_direction#753, coalesce(wind_speed#675, cast(3.5605274 as decimal(9,7))) AS wind_speed#766, weather_ts#75-T5000ms, date#257, time#268]\n                                                   +- Project [site_id#67, month#280, timestamp#68, air_temperature#701, cloud_coverage#714, dew_temperature#727, sea_level_pressure#740, coalesce(wind_direction#647, 35.0490762) AS wind_direction#753, wind_speed#675, weather_ts#75-T5000ms, date#257, time#268]\n                                                      +- Project [site_id#67, month#280, timestamp#68, air_temperature#701, cloud_coverage#714, dew_temperature#727, coalesce(sea_level_pressure#617, cast(1016.1580380 as decimal(12,7))) AS sea_level_pressure#740, wind_direction#647, wind_speed#675, weather_ts#75-T5000ms, date#257, time#268]\n                                                         +- Project [site_id#67, month#280, timestamp#68, air_temperature#701, cloud_coverage#714, coalesce(dew_temperature#585, cast(7.3501582 as decimal(9,7))) AS dew_temperature#727, sea_level_pressure#617, wind_direction#647, wind_speed#675, weather_ts#75-T5000ms, date#257, time#268]\n                                                            +- Project [site_id#67, month#280, timestamp#68, air_temperature#701, coalesce(cloud_coverage#551, cast(2.1493059 as decimal(9,7))) AS cloud_coverage#714, dew_temperature#585, sea_level_pressure#617, wind_direction#647, wind_speed#675, weather_ts#75-T5000ms, date#257, time#268]\n                                                               +- Project [site_id#67, month#280, timestamp#68, coalesce(air_temperature#515, 14.4181065) AS air_temperature#701, cloud_coverage#551, dew_temperature#585, sea_level_pressure#617, wind_direction#647, wind_speed#675, weather_ts#75-T5000ms, date#257, time#268]\n                                                                  +- Project [site_id#67, month#280, timestamp#68, air_temperature#515, cloud_coverage#551, dew_temperature#585, sea_level_pressure#617, wind_direction#647, wind_speed#675, weather_ts#75-T5000ms, date#257, time#268]\n                                                                     +- Project [site_id#67, month#280, timestamp#68, air_temperature#515, cloud_coverage#551, dew_temperature#585, sea_level_pressure#617, wind_direction#647, coalesce(wind_speed#471, wind_speed_site_mean#249) AS wind_speed#675, weather_ts#75-T5000ms, date#257, time#268, wind_speed_site_mean#249]\n                                                                        +- Project [site_id#67, month#280, timestamp#68, air_temperature#515, cloud_coverage#551, dew_temperature#585, sea_level_pressure#617, wind_direction#647, wind_speed#471, weather_ts#75-T5000ms, date#257, time#268, wind_speed_site_mean#249]\n                                                                           +- Project [site_id#67, month#280, timestamp#68, air_temperature#515, cloud_coverage#551, dew_temperature#585, sea_level_pressure#617, coalesce(wind_direction#443, wind_direction_site_mean#247) AS wind_direction#647, wind_speed#471, weather_ts#75-T5000ms, date#257, time#268, wind_direction_site_mean#247, wind_speed_site_mean#249]\n                                                                              +- Project [site_id#67, month#280, timestamp#68, air_temperature#515, cloud_coverage#551, dew_temperature#585, sea_level_pressure#617, wind_direction#443, wind_speed#471, weather_ts#75-T5000ms, date#257, time#268, wind_direction_site_mean#247, wind_speed_site_mean#249]\n                                                                                 +- Project [site_id#67, month#280, timestamp#68, air_temperature#515, cloud_coverage#551, dew_temperature#585, coalesce(sea_level_pressure#413, sea_level_pressure_site_mean#245) AS sea_level_pressure#617, wind_direction#443, wind_speed#471, weather_ts#75-T5000ms, date#257, time#268, sea_level_pressure_site_mean#245, wind_direction_site_mean#247, wind_speed_site_mean#249]\n                                                                                    +- Project [site_id#67, month#280, timestamp#68, air_temperature#515, cloud_coverage#551, dew_temperature#585, sea_level_pressure#413, wind_direction#443, wind_speed#471, weather_ts#75-T5000ms, date#257, time#268, sea_level_pressure_site_mean#245, wind_direction_site_mean#247, wind_speed_site_mean#249]\n                                                                                       +- Project [site_id#67, month#280, timestamp#68, air_temperature#515, cloud_coverage#551, coalesce(dew_temperature#381, dew_temperature_site_mean#243) AS dew_temperature#585, sea_level_pressure#413, wind_direction#443, wind_speed#471, weather_ts#75-T5000ms, date#257, time#268, dew_temperature_site_mean#243, sea_level_pressure_site_mean#245, wind_direction_site_mean#247, wind_speed_site_mean#249]\n                                                                                          +- Project [site_id#67, month#280, timestamp#68, air_temperature#515, cloud_coverage#551, dew_temperature#381, sea_level_pressure#413, wind_direction#443, wind_speed#471, weather_ts#75-T5000ms, date#257, time#268, dew_temperature_site_mean#243, sea_level_pressure_site_mean#245, wind_direction_site_mean#247, wind_speed_site_mean#249]\n                                                                                             +- Project [site_id#67, month#280, timestamp#68, air_temperature#515, coalesce(cloud_coverage#347, cloud_coverage_site_mean#241) AS cloud_coverage#551, dew_temperature#381, sea_level_pressure#413, wind_direction#443, wind_speed#471, weather_ts#75-T5000ms, date#257, time#268, cloud_coverage_site_mean#241, dew_temperature_site_mean#243, sea_level_pressure_site_mean#245, wind_direction_site_mean#247, wind_speed_site_mean#249]\n                                                                                                +- Project [site_id#67, month#280, timestamp#68, air_temperature#515, cloud_coverage#347, dew_temperature#381, sea_level_pressure#413, wind_direction#443, wind_speed#471, weather_ts#75-T5000ms, date#257, time#268, cloud_coverage_site_mean#241, dew_temperature_site_mean#243, sea_level_pressure_site_mean#245, wind_direction_site_mean#247, wind_speed_site_mean#249]\n                                                                                                   +- Project [site_id#67, month#280, timestamp#68, coalesce(air_temperature#311, air_temperature_site_mean#239) AS air_temperature#515, cloud_coverage#347, dew_temperature#381, sea_level_pressure#413, wind_direction#443, wind_speed#471, weather_ts#75-T5000ms, date#257, time#268, air_temperature_site_mean#239, cloud_coverage_site_mean#241, dew_temperature_site_mean#243, sea_level_pressure_site_mean#245, wind_direction_site_mean#247, wind_speed_site_mean#249]\n                                                                                                      +- Project [site_id#67, month#280, timestamp#68, air_temperature#311, cloud_coverage#347, dew_temperature#381, sea_level_pressure#413, wind_direction#443, wind_speed#471, weather_ts#75-T5000ms, date#257, time#268, air_temperature_site_mean#239, cloud_coverage_site_mean#241, dew_temperature_site_mean#243, sea_level_pressure_site_mean#245, wind_direction_site_mean#247, wind_speed_site_mean#249]\n                                                                                                         +- Join LeftOuter, (site_id#67 = site_id#20)\n                                                                                                            :- Project [site_id#67, month#280, timestamp#68, air_temperature#311, cloud_coverage#347, dew_temperature#381, sea_level_pressure#413, wind_direction#443, wind_speed#471, weather_ts#75-T5000ms, date#257, time#268]\n                                                                                                            :  +- Project [site_id#67, month#280, timestamp#68, air_temperature#311, cloud_coverage#347, dew_temperature#381, sea_level_pressure#413, wind_direction#443, coalesce(cast(wind_speed#74 as decimal(9,7)), wind_speed_site_month_mean#217) AS wind_speed#471, weather_ts#75-T5000ms, date#257, time#268, wind_speed_site_month_mean#217]\n                                                                                                            :     +- Project [site_id#67, month#280, timestamp#68, air_temperature#311, cloud_coverage#347, dew_temperature#381, sea_level_pressure#413, wind_direction#443, wind_speed#74, weather_ts#75-T5000ms, date#257, time#268, wind_speed_site_month_mean#217]\n                                                                                                            :        +- Project [site_id#67, month#280, timestamp#68, air_temperature#311, cloud_coverage#347, dew_temperature#381, sea_level_pressure#413, coalesce(cast(wind_direction#73 as decimal(9,7)), wind_direction_site_month_mean#215) AS wind_direction#443, wind_speed#74, weather_ts#75-T5000ms, date#257, time#268, wind_direction_site_month_mean#215, wind_speed_site_month_mean#217]\n                                                                                                            :           +- Project [site_id#67, month#280, timestamp#68, air_temperature#311, cloud_coverage#347, dew_temperature#381, sea_level_pressure#413, wind_direction#73, wind_speed#74, weather_ts#75-T5000ms, date#257, time#268, wind_direction_site_month_mean#215, wind_speed_site_month_mean#217]\n                                                                                                            :              +- Project [site_id#67, month#280, timestamp#68, air_temperature#311, cloud_coverage#347, dew_temperature#381, coalesce(cast(sea_level_pressure#72 as decimal(12,7)), sea_level_pressure_site_month_mean#213) AS sea_level_pressure#413, wind_direction#73, wind_speed#74, weather_ts#75-T5000ms, date#257, time#268, sea_level_pressure_site_month_mean#213, wind_direction_site_month_mean#215, wind_speed_site_month_mean#217]\n                                                                                                            :                 +- Project [site_id#67, month#280, timestamp#68, air_temperature#311, cloud_coverage#347, dew_temperature#381, sea_level_pressure#72, wind_direction#73, wind_speed#74, weather_ts#75-T5000ms, date#257, time#268, sea_level_pressure_site_month_mean#213, wind_direction_site_month_mean#215, wind_speed_site_month_mean#217]\n                                                                                                            :                    +- Project [site_id#67, month#280, timestamp#68, air_temperature#311, cloud_coverage#347, coalesce(cast(dew_temperature#71 as decimal(9,7)), dew_temperature_site_month_mean#211) AS dew_temperature#381, sea_level_pressure#72, wind_direction#73, wind_speed#74, weather_ts#75-T5000ms, date#257, time#268, dew_temperature_site_month_mean#211, sea_level_pressure_site_month_mean#213, wind_direction_site_month_mean#215, wind_speed_site_month_mean#217]\n                                                                                                            :                       +- Project [site_id#67, month#280, timestamp#68, air_temperature#311, cloud_coverage#347, dew_temperature#71, sea_level_pressure#72, wind_direction#73, wind_speed#74, weather_ts#75-T5000ms, date#257, time#268, dew_temperature_site_month_mean#211, sea_level_pressure_site_month_mean#213, wind_direction_site_month_mean#215, wind_speed_site_month_mean#217]\n                                                                                                            :                          +- Project [site_id#67, month#280, timestamp#68, air_temperature#311, coalesce(cast(cloud_coverage#70 as decimal(9,7)), cloud_coverage_site_month_mean#209) AS cloud_coverage#347, dew_temperature#71, sea_level_pressure#72, wind_direction#73, wind_speed#74, weather_ts#75-T5000ms, date#257, time#268, cloud_coverage_site_month_mean#209, dew_temperature_site_month_mean#211, sea_level_pressure_site_month_mean#213, wind_direction_site_month_mean#215, wind_speed_site_month_mean#217]\n                                                                                                            :                             +- Project [site_id#67, month#280, timestamp#68, air_temperature#311, cloud_coverage#70, dew_temperature#71, sea_level_pressure#72, wind_direction#73, wind_speed#74, weather_ts#75-T5000ms, date#257, time#268, cloud_coverage_site_month_mean#209, dew_temperature_site_month_mean#211, sea_level_pressure_site_month_mean#213, wind_direction_site_month_mean#215, wind_speed_site_month_mean#217]\n                                                                                                            :                                +- Project [site_id#67, month#280, timestamp#68, coalesce(cast(air_temperature#69 as decimal(9,7)), air_temperature_site_month_mean#207) AS air_temperature#311, cloud_coverage#70, dew_temperature#71, sea_level_pressure#72, wind_direction#73, wind_speed#74, weather_ts#75-T5000ms, date#257, time#268, air_temperature_site_month_mean#207, cloud_coverage_site_month_mean#209, dew_temperature_site_month_mean#211, sea_level_pressure_site_month_mean#213, wind_direction_site_month_mean#215, wind_speed_site_month_mean#217]\n                                                                                                            :                                   +- Project [site_id#67, month#280, timestamp#68, air_temperature#69, cloud_coverage#70, dew_temperature#71, sea_level_pressure#72, wind_direction#73, wind_speed#74, weather_ts#75-T5000ms, date#257, time#268, air_temperature_site_month_mean#207, cloud_coverage_site_month_mean#209, dew_temperature_site_month_mean#211, sea_level_pressure_site_month_mean#213, wind_direction_site_month_mean#215, wind_speed_site_month_mean#217]\n                                                                                                            :                                      +- Join LeftOuter, ((site_id#67 = site_id#20) AND (month#280 = month#109))\n                                                                                                            :                                         :- Project [site_id#67, timestamp#68, air_temperature#69, cloud_coverage#70, dew_temperature#71, sea_level_pressure#72, wind_direction#73, wind_speed#74, weather_ts#75-T5000ms, date#257, time#268, month(cast(timestamp#68 as date)) AS month#280]\n                                                                                                            :                                         :  +- Project [site_id#67, timestamp#68, air_temperature#69, cloud_coverage#70, dew_temperature#71, sea_level_pressure#72, wind_direction#73, wind_speed#74, weather_ts#75-T5000ms, date#257, CASE WHEN (hour(timestamp#68, Some(GMT+10)) <= 5) THEN 0-6h WHEN (hour(timestamp#68, Some(GMT+10)) <= 11) THEN 6-12h WHEN (hour(timestamp#68, Some(GMT+10)) <= 17) THEN 12-18h WHEN (hour(timestamp#68, Some(GMT+10)) <= 23) THEN 18-24h END AS time#268]\n                                                                                                            :                                         :     +- Project [site_id#67, timestamp#68, air_temperature#69, cloud_coverage#70, dew_temperature#71, sea_level_pressure#72, wind_direction#73, wind_speed#74, weather_ts#75-T5000ms, to_date(timestamp#68, None, Some(GMT+10), false) AS date#257]\n                                                                                                            :                                         :        +- EventTimeWatermark weather_ts#75: timestamp, 5 seconds\n                                                                                                            :                                         :           +- Project [r#65.site_id AS site_id#67, r#65.timestamp AS timestamp#68, r#65.air_temperature AS air_temperature#69, r#65.cloud_coverage AS cloud_coverage#70, r#65.dew_temperature AS dew_temperature#71, r#65.sea_level_pressure AS sea_level_pressure#72, r#65.wind_direction AS wind_direction#73, r#65.wind_speed AS wind_speed#74, r#65.weather_ts AS weather_ts#75]\n                                                                                                            :                                         :              +- Project [r#65]\n                                                                                                            :                                         :                 +- Generate explode(data#61), false, [r#65]\n                                                                                                            :                                         :                    +- Project [json_str#59, from_json(ArrayType(StructType(StructField(site_id,StringType,false),StructField(timestamp,TimestampType,false),StructField(air_temperature,DecimalType(5,3),true),StructField(cloud_coverage,DecimalType(5,3),true),StructField(dew_temperature,DecimalType(5,3),true),StructField(sea_level_pressure,DecimalType(8,3),true),StructField(wind_direction,DecimalType(5,3),true),StructField(wind_speed,DecimalType(5,3),true),StructField(weather_ts,TimestampType,false)),true), json_str#59, Some(GMT+10)) AS data#61]\n                                                                                                            :                                         :                       +- Project [cast(value#46 as string) AS json_str#59]\n                                                                                                            :                                         :                          +- StreamingRelationV2 org.apache.spark.sql.kafka010.KafkaSourceProvider@4e528bc6, kafka, org.apache.spark.sql.kafka010.KafkaSourceProvider$KafkaTable@526fce40, [kafka.bootstrap.servers=192.168.0.6:9092, subscribe=weather_data], [key#45, value#46, topic#47, partition#48, offset#49L, timestamp#50, timestampType#51], StreamingRelation DataSource(org.apache.spark.sql.SparkSession@41d95ac5,kafka,List(),None,List(),None,Map(kafka.bootstrap.servers -> 192.168.0.6:9092, subscribe -> weather_data),None), kafka, [key#38, value#39, topic#40, partition#41, offset#42L, timestamp#43, timestampType#44]\n                                                                                                            :                                         +- Aggregate [site_id#20, month#109], [site_id#20, month#109, avg(air_temperature#22) AS air_temperature_site_month_mean#207, avg(cloud_coverage#23) AS cloud_coverage_site_month_mean#209, avg(dew_temperature#24) AS dew_temperature_site_month_mean#211, avg(sea_level_pressure#25) AS sea_level_pressure_site_month_mean#213, avg(wind_direction#26) AS wind_direction_site_month_mean#215, avg(wind_speed#27) AS wind_speed_site_month_mean#217]\n                                                                                                            :                                            +- Project [site_id#20, timestamp#21, air_temperature#22, cloud_coverage#23, dew_temperature#24, sea_level_pressure#25, wind_direction#26, wind_speed#27, weather_ts#28, date#85, time#97, month(cast(timestamp#21 as date)) AS month#109]\n                                                                                                            :                                               +- Project [site_id#20, timestamp#21, air_temperature#22, cloud_coverage#23, dew_temperature#24, sea_level_pressure#25, wind_direction#26, wind_speed#27, weather_ts#28, date#85, CASE WHEN (hour(timestamp#21, Some(GMT+10)) <= 5) THEN 0-6h WHEN (hour(timestamp#21, Some(GMT+10)) <= 11) THEN 6-12h WHEN (hour(timestamp#21, Some(GMT+10)) <= 17) THEN 12-18h WHEN (hour(timestamp#21, Some(GMT+10)) <= 23) THEN 18-24h END AS time#97]\n                                                                                                            :                                                  +- Project [site_id#20, timestamp#21, air_temperature#22, cloud_coverage#23, dew_temperature#24, sea_level_pressure#25, wind_direction#26, wind_speed#27, weather_ts#28, to_date(timestamp#21, None, Some(GMT+10), false) AS date#85]\n                                                                                                            :                                                     +- Relation [site_id#20,timestamp#21,air_temperature#22,cloud_coverage#23,dew_temperature#24,sea_level_pressure#25,wind_direction#26,wind_speed#27,weather_ts#28] csv\n                                                                                                            +- Aggregate [site_id#20], [site_id#20, avg(air_temperature#22) AS air_temperature_site_mean#239, avg(cloud_coverage#23) AS cloud_coverage_site_mean#241, avg(dew_temperature#24) AS dew_temperature_site_mean#243, avg(sea_level_pressure#25) AS sea_level_pressure_site_mean#245, avg(wind_direction#26) AS wind_direction_site_mean#247, avg(wind_speed#27) AS wind_speed_site_mean#249]\n                                                                                                               +- Project [site_id#20, timestamp#21, air_temperature#22, cloud_coverage#23, dew_temperature#24, sea_level_pressure#25, wind_direction#26, wind_speed#27, weather_ts#28, date#85, time#97, month(cast(timestamp#21 as date)) AS month#109]\n                                                                                                                  +- Project [site_id#20, timestamp#21, air_temperature#22, cloud_coverage#23, dew_temperature#24, sea_level_pressure#25, wind_direction#26, wind_speed#27, weather_ts#28, date#85, CASE WHEN (hour(timestamp#21, Some(GMT+10)) <= 5) THEN 0-6h WHEN (hour(timestamp#21, Some(GMT+10)) <= 11) THEN 6-12h WHEN (hour(timestamp#21, Some(GMT+10)) <= 17) THEN 12-18h WHEN (hour(timestamp#21, Some(GMT+10)) <= 23) THEN 18-24h END AS time#97]\n                                                                                                                     +- Project [site_id#20, timestamp#21, air_temperature#22, cloud_coverage#23, dew_temperature#24, sea_level_pressure#25, wind_direction#26, wind_speed#27, weather_ts#28, to_date(timestamp#21, None, Some(GMT+10), false) AS date#85]\n                                                                                                                        +- Relation [site_id#20,timestamp#21,air_temperature#22,cloud_coverage#23,dew_temperature#24,sea_level_pressure#25,wind_direction#26,wind_speed#27,weather_ts#28] csv\n",
     "output_type": "error",
     "traceback": [
      "\u001b[0;31m---------------------------------------------------------------------------\u001b[0m",
      "\u001b[0;31mAnalysisException\u001b[0m                         Traceback (most recent call last)",
      "Cell \u001b[0;32mIn[13], line 48\u001b[0m\n\u001b[1;32m     19\u001b[0m building_6h \u001b[38;5;241m=\u001b[39m (\n\u001b[1;32m     20\u001b[0m     predictions\n\u001b[1;32m     21\u001b[0m \u001b[38;5;66;03m#         .withWatermark(\"weather_ts\", \"5 seconds\")\u001b[39;00m\n\u001b[0;32m   (...)\u001b[0m\n\u001b[1;32m     38\u001b[0m \u001b[38;5;66;03m#         )\u001b[39;00m\n\u001b[1;32m     39\u001b[0m )\n\u001b[1;32m     40\u001b[0m \u001b[38;5;66;03m# --- Print to console every 7 seconds ---\u001b[39;00m\n\u001b[1;32m     41\u001b[0m query_building_6h \u001b[38;5;241m=\u001b[39m (\n\u001b[1;32m     42\u001b[0m     \u001b[43mbuilding_6h\u001b[49m\n\u001b[1;32m     43\u001b[0m \u001b[43m        \u001b[49m\u001b[38;5;241;43m.\u001b[39;49m\u001b[43mwriteStream\u001b[49m\n\u001b[1;32m     44\u001b[0m \u001b[43m        \u001b[49m\u001b[38;5;241;43m.\u001b[39;49m\u001b[43moutputMode\u001b[49m\u001b[43m(\u001b[49m\u001b[38;5;124;43m\"\u001b[39;49m\u001b[38;5;124;43mupdate\u001b[39;49m\u001b[38;5;124;43m\"\u001b[39;49m\u001b[43m)\u001b[49m\n\u001b[1;32m     45\u001b[0m \u001b[43m        \u001b[49m\u001b[38;5;241;43m.\u001b[39;49m\u001b[43mformat\u001b[49m\u001b[43m(\u001b[49m\u001b[38;5;124;43m\"\u001b[39;49m\u001b[38;5;124;43mmemory\u001b[39;49m\u001b[38;5;124;43m\"\u001b[39;49m\u001b[43m)\u001b[49m\n\u001b[1;32m     46\u001b[0m \u001b[43m        \u001b[49m\u001b[38;5;241;43m.\u001b[39;49m\u001b[43mqueryName\u001b[49m\u001b[43m(\u001b[49m\u001b[38;5;124;43m\"\u001b[39;49m\u001b[38;5;124;43mbuilding_6h\u001b[39;49m\u001b[38;5;124;43m\"\u001b[39;49m\u001b[43m)\u001b[49m\n\u001b[1;32m     47\u001b[0m \u001b[43m        \u001b[49m\u001b[38;5;241;43m.\u001b[39;49m\u001b[43mtrigger\u001b[49m\u001b[43m(\u001b[49m\u001b[43mprocessingTime\u001b[49m\u001b[38;5;241;43m=\u001b[39;49m\u001b[38;5;124;43m\"\u001b[39;49m\u001b[38;5;124;43m7 seconds\u001b[39;49m\u001b[38;5;124;43m\"\u001b[39;49m\u001b[43m)\u001b[49m\n\u001b[0;32m---> 48\u001b[0m \u001b[43m        \u001b[49m\u001b[38;5;241;43m.\u001b[39;49m\u001b[43mstart\u001b[49m\u001b[43m(\u001b[49m\u001b[43m)\u001b[49m\n\u001b[1;32m     49\u001b[0m )\n\u001b[1;32m     50\u001b[0m spark\u001b[38;5;241m.\u001b[39msql(\u001b[38;5;124m\"\u001b[39m\u001b[38;5;124mselect * from building_6h\u001b[39m\u001b[38;5;124m\"\u001b[39m)\u001b[38;5;241m.\u001b[39mshow()\n",
      "File \u001b[0;32m/opt/conda/lib/python3.10/site-packages/pyspark/sql/streaming/readwriter.py:1527\u001b[0m, in \u001b[0;36mDataStreamWriter.start\u001b[0;34m(self, path, format, outputMode, partitionBy, queryName, **options)\u001b[0m\n\u001b[1;32m   1525\u001b[0m     \u001b[38;5;28mself\u001b[39m\u001b[38;5;241m.\u001b[39mqueryName(queryName)\n\u001b[1;32m   1526\u001b[0m \u001b[38;5;28;01mif\u001b[39;00m path \u001b[38;5;129;01mis\u001b[39;00m \u001b[38;5;28;01mNone\u001b[39;00m:\n\u001b[0;32m-> 1527\u001b[0m     \u001b[38;5;28;01mreturn\u001b[39;00m \u001b[38;5;28mself\u001b[39m\u001b[38;5;241m.\u001b[39m_sq(\u001b[38;5;28;43mself\u001b[39;49m\u001b[38;5;241;43m.\u001b[39;49m\u001b[43m_jwrite\u001b[49m\u001b[38;5;241;43m.\u001b[39;49m\u001b[43mstart\u001b[49m\u001b[43m(\u001b[49m\u001b[43m)\u001b[49m)\n\u001b[1;32m   1528\u001b[0m \u001b[38;5;28;01melse\u001b[39;00m:\n\u001b[1;32m   1529\u001b[0m     \u001b[38;5;28;01mreturn\u001b[39;00m \u001b[38;5;28mself\u001b[39m\u001b[38;5;241m.\u001b[39m_sq(\u001b[38;5;28mself\u001b[39m\u001b[38;5;241m.\u001b[39m_jwrite\u001b[38;5;241m.\u001b[39mstart(path))\n",
      "File \u001b[0;32m/opt/conda/lib/python3.10/site-packages/py4j/java_gateway.py:1322\u001b[0m, in \u001b[0;36mJavaMember.__call__\u001b[0;34m(self, *args)\u001b[0m\n\u001b[1;32m   1316\u001b[0m command \u001b[38;5;241m=\u001b[39m proto\u001b[38;5;241m.\u001b[39mCALL_COMMAND_NAME \u001b[38;5;241m+\u001b[39m\\\n\u001b[1;32m   1317\u001b[0m     \u001b[38;5;28mself\u001b[39m\u001b[38;5;241m.\u001b[39mcommand_header \u001b[38;5;241m+\u001b[39m\\\n\u001b[1;32m   1318\u001b[0m     args_command \u001b[38;5;241m+\u001b[39m\\\n\u001b[1;32m   1319\u001b[0m     proto\u001b[38;5;241m.\u001b[39mEND_COMMAND_PART\n\u001b[1;32m   1321\u001b[0m answer \u001b[38;5;241m=\u001b[39m \u001b[38;5;28mself\u001b[39m\u001b[38;5;241m.\u001b[39mgateway_client\u001b[38;5;241m.\u001b[39msend_command(command)\n\u001b[0;32m-> 1322\u001b[0m return_value \u001b[38;5;241m=\u001b[39m \u001b[43mget_return_value\u001b[49m\u001b[43m(\u001b[49m\n\u001b[1;32m   1323\u001b[0m \u001b[43m    \u001b[49m\u001b[43manswer\u001b[49m\u001b[43m,\u001b[49m\u001b[43m \u001b[49m\u001b[38;5;28;43mself\u001b[39;49m\u001b[38;5;241;43m.\u001b[39;49m\u001b[43mgateway_client\u001b[49m\u001b[43m,\u001b[49m\u001b[43m \u001b[49m\u001b[38;5;28;43mself\u001b[39;49m\u001b[38;5;241;43m.\u001b[39;49m\u001b[43mtarget_id\u001b[49m\u001b[43m,\u001b[49m\u001b[43m \u001b[49m\u001b[38;5;28;43mself\u001b[39;49m\u001b[38;5;241;43m.\u001b[39;49m\u001b[43mname\u001b[49m\u001b[43m)\u001b[49m\n\u001b[1;32m   1325\u001b[0m \u001b[38;5;28;01mfor\u001b[39;00m temp_arg \u001b[38;5;129;01min\u001b[39;00m temp_args:\n\u001b[1;32m   1326\u001b[0m     \u001b[38;5;28;01mif\u001b[39;00m \u001b[38;5;28mhasattr\u001b[39m(temp_arg, \u001b[38;5;124m\"\u001b[39m\u001b[38;5;124m_detach\u001b[39m\u001b[38;5;124m\"\u001b[39m):\n",
      "File \u001b[0;32m/opt/conda/lib/python3.10/site-packages/pyspark/errors/exceptions/captured.py:185\u001b[0m, in \u001b[0;36mcapture_sql_exception.<locals>.deco\u001b[0;34m(*a, **kw)\u001b[0m\n\u001b[1;32m    181\u001b[0m converted \u001b[38;5;241m=\u001b[39m convert_exception(e\u001b[38;5;241m.\u001b[39mjava_exception)\n\u001b[1;32m    182\u001b[0m \u001b[38;5;28;01mif\u001b[39;00m \u001b[38;5;129;01mnot\u001b[39;00m \u001b[38;5;28misinstance\u001b[39m(converted, UnknownException):\n\u001b[1;32m    183\u001b[0m     \u001b[38;5;66;03m# Hide where the exception came from that shows a non-Pythonic\u001b[39;00m\n\u001b[1;32m    184\u001b[0m     \u001b[38;5;66;03m# JVM exception message.\u001b[39;00m\n\u001b[0;32m--> 185\u001b[0m     \u001b[38;5;28;01mraise\u001b[39;00m converted \u001b[38;5;28;01mfrom\u001b[39;00m \u001b[38;5;28;01mNone\u001b[39;00m\n\u001b[1;32m    186\u001b[0m \u001b[38;5;28;01melse\u001b[39;00m:\n\u001b[1;32m    187\u001b[0m     \u001b[38;5;28;01mraise\u001b[39;00m\n",
      "\u001b[0;31mAnalysisException\u001b[0m: Detected pattern of possible 'correctness' issue due to global watermark. The query contains stateful operation which can emit rows older than the current watermark plus allowed late record delay, which are \"late rows\" in downstream stateful operations and these rows can be discarded. Please refer the programming guide doc for more details. If you understand the possible risk of correctness issue and still need to run the query, you can disable this check by setting the config `spark.sql.streaming.statefulOperator.checkCorrectness.enabled` to false.;\nAggregate [building_id#1, window#779-T5000ms.start, window#779-T5000ms.end], [building_id#1, window#779-T5000ms.start AS start#1235, window#779-T5000ms.end AS end#1236, sum(log_power_usage#1137) AS total_power_6h#1232]\n+- Project [site_id#0, building_id#1, primary_use#2, square_feet#3, floor_count#4, row_id#5, year_built#6, latent_y#7, latent_s#8, latent_r#9, date#257, time#268, month#280, window#779-T5000ms, cloud_coverage#795, sea_level_pressure#799, wind_direction#801, wind_speed#803, dew_depression#816, nonideal_temp#829, primary_use_idx#943, site_id_idx#971, primary_use_ohe#1001, site_id_ohe#1035, ... 2 more fields]\n   +- Project [site_id#0, building_id#1, primary_use#2, square_feet#3, floor_count#4, row_id#5, year_built#6, latent_y#7, latent_s#8, latent_r#9, date#257, time#268, month#280, window#779-T5000ms, cloud_coverage#795, sea_level_pressure#799, wind_direction#801, wind_speed#803, dew_depression#816, nonideal_temp#829, primary_use_idx#943, site_id_idx#971, primary_use_ohe#1001, site_id_ohe#1035, ... 2 more fields]\n      +- Project [site_id#0, building_id#1, primary_use#2, square_feet#3, floor_count#4, row_id#5, year_built#6, latent_y#7, latent_s#8, latent_r#9, date#257, time#268, month#280, window#779-T5000ms, cloud_coverage#795, sea_level_pressure#799, wind_direction#801, wind_speed#803, dew_depression#816, nonideal_temp#829, primary_use_idx#943, site_id_idx#971, primary_use_ohe#1001, site_id_ohe#1035, UDF(struct(primary_use_ohe, primary_use_ohe#1001, site_id_ohe, site_id_ohe#1035, square_feet_double_VectorAssembler_dda2dbfd9182, cast(square_feet#3 as double), floor_count_double_VectorAssembler_dda2dbfd9182, cast(floor_count#4 as double), year_built_double_VectorAssembler_dda2dbfd9182, cast(year_built#6 as double), latent_y_double_VectorAssembler_dda2dbfd9182, cast(latent_y#7 as double), latent_s_double_VectorAssembler_dda2dbfd9182, cast(latent_s#8 as double), latent_r_double_VectorAssembler_dda2dbfd9182, cast(latent_r#9 as double), cloud_coverage_double_VectorAssembler_dda2dbfd9182, cast(cloud_coverage#795 as double), sea_level_pressure_double_VectorAssembler_dda2dbfd9182, cast(sea_level_pressure#799 as double), wind_direction_double_VectorAssembler_dda2dbfd9182, cast(wind_direction#801 as double), wind_speed_double_VectorAssembler_dda2dbfd9182, cast(wind_speed#803 as double), ... 4 more fields)) AS features#1078]\n         +- Project [site_id#0, building_id#1, primary_use#2, square_feet#3, floor_count#4, row_id#5, year_built#6, latent_y#7, latent_s#8, latent_r#9, date#257, time#268, month#280, window#779-T5000ms, cloud_coverage#795, sea_level_pressure#799, wind_direction#801, wind_speed#803, dew_depression#816, nonideal_temp#829, primary_use_idx#943, site_id_idx#971, primary_use_ohe#1001, UDF(cast(site_id_idx#971 as double), 0) AS site_id_ohe#1035]\n            +- Project [site_id#0, building_id#1, primary_use#2, square_feet#3, floor_count#4, row_id#5, year_built#6, latent_y#7, latent_s#8, latent_r#9, date#257, time#268, month#280, window#779-T5000ms, cloud_coverage#795, sea_level_pressure#799, wind_direction#801, wind_speed#803, dew_depression#816, nonideal_temp#829, primary_use_idx#943, site_id_idx#971, UDF(cast(primary_use_idx#943 as double), 0) AS primary_use_ohe#1001]\n               +- Project [site_id#0, building_id#1, primary_use#2, square_feet#3, floor_count#4, row_id#5, year_built#6, latent_y#7, latent_s#8, latent_r#9, date#257, time#268, month#280, window#779-T5000ms, cloud_coverage#795, sea_level_pressure#799, wind_direction#801, wind_speed#803, dew_depression#816, nonideal_temp#829, primary_use_idx#943, UDF(cast(site_id#0 as string)) AS site_id_idx#971]\n                  +- Project [site_id#0, building_id#1, primary_use#2, square_feet#3, floor_count#4, row_id#5, year_built#6, latent_y#7, latent_s#8, latent_r#9, date#257, time#268, month#280, window#779-T5000ms, cloud_coverage#795, sea_level_pressure#799, wind_direction#801, wind_speed#803, dew_depression#816, nonideal_temp#829, UDF(cast(primary_use#2 as string)) AS primary_use_idx#943]\n                     +- Project [site_id#0, building_id#1, primary_use#2, square_feet#3, floor_count#4, row_id#5, year_built#6, latent_y#7, latent_s#8, latent_r#9, date#257, time#268, month#280, window#779-T5000ms, cloud_coverage#795, sea_level_pressure#799, wind_direction#801, wind_speed#803, dew_depression#816, nonideal_temp#829]\n                        +- Join Inner, (site_id#0 = cast(site_id#67 as int))\n                           :- Relation [site_id#0,building_id#1,primary_use#2,square_feet#3,floor_count#4,row_id#5,year_built#6,latent_y#7,latent_s#8,latent_r#9] csv\n                           +- Project [site_id#67, date#257, time#268, month#280, window#779-T5000ms, cloud_coverage#795, sea_level_pressure#799, wind_direction#801, wind_speed#803, dew_depression#816, nonideal_temp#829]\n                              +- Project [site_id#67, date#257, time#268, month#280, window#779-T5000ms, cloud_coverage#795, dew_temperature#797, sea_level_pressure#799, wind_direction#801, wind_speed#803, dew_depression#816, nonideal_temp#829]\n                                 +- Project [site_id#67, date#257, time#268, month#280, window#779-T5000ms, air_temperature#793, cloud_coverage#795, dew_temperature#797, sea_level_pressure#799, wind_direction#801, wind_speed#803, dew_depression#816, POWER(cast((air_temperature#793 - cast(18 as decimal(2,0))) as double), cast(2 as double)) AS nonideal_temp#829]\n                                    +- Project [site_id#67, date#257, time#268, month#280, window#779-T5000ms, air_temperature#793, cloud_coverage#795, dew_temperature#797, sea_level_pressure#799, wind_direction#801, wind_speed#803, (air_temperature#793 - dew_temperature#797) AS dew_depression#816]\n                                       +- Aggregate [site_id#67, date#257, time#268, month#280, window#804-T5000ms], [site_id#67, date#257, time#268, month#280, window#804-T5000ms AS window#779-T5000ms, cast(avg(air_temperature#701) as decimal(5,3)) AS air_temperature#793, cast(avg(cloud_coverage#714) as decimal(5,3)) AS cloud_coverage#795, cast(avg(dew_temperature#727) as decimal(5,3)) AS dew_temperature#797, cast(avg(sea_level_pressure#740) as decimal(8,3)) AS sea_level_pressure#799, cast(avg(wind_direction#753) as decimal(5,3)) AS wind_direction#801, cast(avg(wind_speed#766) as decimal(5,3)) AS wind_speed#803]\n                                          +- Project [named_struct(start, knownnullable(precisetimestampconversion(((precisetimestampconversion(weather_ts#75-T5000ms, TimestampType, LongType) - CASE WHEN (((precisetimestampconversion(weather_ts#75-T5000ms, TimestampType, LongType) - 0) % 5000000) < cast(0 as bigint)) THEN (((precisetimestampconversion(weather_ts#75-T5000ms, TimestampType, LongType) - 0) % 5000000) + 5000000) ELSE ((precisetimestampconversion(weather_ts#75-T5000ms, TimestampType, LongType) - 0) % 5000000) END) - 0), LongType, TimestampType)), end, knownnullable(precisetimestampconversion((((precisetimestampconversion(weather_ts#75-T5000ms, TimestampType, LongType) - CASE WHEN (((precisetimestampconversion(weather_ts#75-T5000ms, TimestampType, LongType) - 0) % 5000000) < cast(0 as bigint)) THEN (((precisetimestampconversion(weather_ts#75-T5000ms, TimestampType, LongType) - 0) % 5000000) + 5000000) ELSE ((precisetimestampconversion(weather_ts#75-T5000ms, TimestampType, LongType) - 0) % 5000000) END) - 0) + 5000000), LongType, TimestampType))) AS window#804-T5000ms, site_id#67, month#280, timestamp#68, air_temperature#701, cloud_coverage#714, dew_temperature#727, sea_level_pressure#740, wind_direction#753, wind_speed#766, weather_ts#75-T5000ms, date#257, time#268]\n                                             +- Filter isnotnull(weather_ts#75-T5000ms)\n                                                +- Project [site_id#67, month#280, timestamp#68, air_temperature#701, cloud_coverage#714, dew_temperature#727, sea_level_pressure#740, wind_direction#753, coalesce(wind_speed#675, cast(3.5605274 as decimal(9,7))) AS wind_speed#766, weather_ts#75-T5000ms, date#257, time#268]\n                                                   +- Project [site_id#67, month#280, timestamp#68, air_temperature#701, cloud_coverage#714, dew_temperature#727, sea_level_pressure#740, coalesce(wind_direction#647, 35.0490762) AS wind_direction#753, wind_speed#675, weather_ts#75-T5000ms, date#257, time#268]\n                                                      +- Project [site_id#67, month#280, timestamp#68, air_temperature#701, cloud_coverage#714, dew_temperature#727, coalesce(sea_level_pressure#617, cast(1016.1580380 as decimal(12,7))) AS sea_level_pressure#740, wind_direction#647, wind_speed#675, weather_ts#75-T5000ms, date#257, time#268]\n                                                         +- Project [site_id#67, month#280, timestamp#68, air_temperature#701, cloud_coverage#714, coalesce(dew_temperature#585, cast(7.3501582 as decimal(9,7))) AS dew_temperature#727, sea_level_pressure#617, wind_direction#647, wind_speed#675, weather_ts#75-T5000ms, date#257, time#268]\n                                                            +- Project [site_id#67, month#280, timestamp#68, air_temperature#701, coalesce(cloud_coverage#551, cast(2.1493059 as decimal(9,7))) AS cloud_coverage#714, dew_temperature#585, sea_level_pressure#617, wind_direction#647, wind_speed#675, weather_ts#75-T5000ms, date#257, time#268]\n                                                               +- Project [site_id#67, month#280, timestamp#68, coalesce(air_temperature#515, 14.4181065) AS air_temperature#701, cloud_coverage#551, dew_temperature#585, sea_level_pressure#617, wind_direction#647, wind_speed#675, weather_ts#75-T5000ms, date#257, time#268]\n                                                                  +- Project [site_id#67, month#280, timestamp#68, air_temperature#515, cloud_coverage#551, dew_temperature#585, sea_level_pressure#617, wind_direction#647, wind_speed#675, weather_ts#75-T5000ms, date#257, time#268]\n                                                                     +- Project [site_id#67, month#280, timestamp#68, air_temperature#515, cloud_coverage#551, dew_temperature#585, sea_level_pressure#617, wind_direction#647, coalesce(wind_speed#471, wind_speed_site_mean#249) AS wind_speed#675, weather_ts#75-T5000ms, date#257, time#268, wind_speed_site_mean#249]\n                                                                        +- Project [site_id#67, month#280, timestamp#68, air_temperature#515, cloud_coverage#551, dew_temperature#585, sea_level_pressure#617, wind_direction#647, wind_speed#471, weather_ts#75-T5000ms, date#257, time#268, wind_speed_site_mean#249]\n                                                                           +- Project [site_id#67, month#280, timestamp#68, air_temperature#515, cloud_coverage#551, dew_temperature#585, sea_level_pressure#617, coalesce(wind_direction#443, wind_direction_site_mean#247) AS wind_direction#647, wind_speed#471, weather_ts#75-T5000ms, date#257, time#268, wind_direction_site_mean#247, wind_speed_site_mean#249]\n                                                                              +- Project [site_id#67, month#280, timestamp#68, air_temperature#515, cloud_coverage#551, dew_temperature#585, sea_level_pressure#617, wind_direction#443, wind_speed#471, weather_ts#75-T5000ms, date#257, time#268, wind_direction_site_mean#247, wind_speed_site_mean#249]\n                                                                                 +- Project [site_id#67, month#280, timestamp#68, air_temperature#515, cloud_coverage#551, dew_temperature#585, coalesce(sea_level_pressure#413, sea_level_pressure_site_mean#245) AS sea_level_pressure#617, wind_direction#443, wind_speed#471, weather_ts#75-T5000ms, date#257, time#268, sea_level_pressure_site_mean#245, wind_direction_site_mean#247, wind_speed_site_mean#249]\n                                                                                    +- Project [site_id#67, month#280, timestamp#68, air_temperature#515, cloud_coverage#551, dew_temperature#585, sea_level_pressure#413, wind_direction#443, wind_speed#471, weather_ts#75-T5000ms, date#257, time#268, sea_level_pressure_site_mean#245, wind_direction_site_mean#247, wind_speed_site_mean#249]\n                                                                                       +- Project [site_id#67, month#280, timestamp#68, air_temperature#515, cloud_coverage#551, coalesce(dew_temperature#381, dew_temperature_site_mean#243) AS dew_temperature#585, sea_level_pressure#413, wind_direction#443, wind_speed#471, weather_ts#75-T5000ms, date#257, time#268, dew_temperature_site_mean#243, sea_level_pressure_site_mean#245, wind_direction_site_mean#247, wind_speed_site_mean#249]\n                                                                                          +- Project [site_id#67, month#280, timestamp#68, air_temperature#515, cloud_coverage#551, dew_temperature#381, sea_level_pressure#413, wind_direction#443, wind_speed#471, weather_ts#75-T5000ms, date#257, time#268, dew_temperature_site_mean#243, sea_level_pressure_site_mean#245, wind_direction_site_mean#247, wind_speed_site_mean#249]\n                                                                                             +- Project [site_id#67, month#280, timestamp#68, air_temperature#515, coalesce(cloud_coverage#347, cloud_coverage_site_mean#241) AS cloud_coverage#551, dew_temperature#381, sea_level_pressure#413, wind_direction#443, wind_speed#471, weather_ts#75-T5000ms, date#257, time#268, cloud_coverage_site_mean#241, dew_temperature_site_mean#243, sea_level_pressure_site_mean#245, wind_direction_site_mean#247, wind_speed_site_mean#249]\n                                                                                                +- Project [site_id#67, month#280, timestamp#68, air_temperature#515, cloud_coverage#347, dew_temperature#381, sea_level_pressure#413, wind_direction#443, wind_speed#471, weather_ts#75-T5000ms, date#257, time#268, cloud_coverage_site_mean#241, dew_temperature_site_mean#243, sea_level_pressure_site_mean#245, wind_direction_site_mean#247, wind_speed_site_mean#249]\n                                                                                                   +- Project [site_id#67, month#280, timestamp#68, coalesce(air_temperature#311, air_temperature_site_mean#239) AS air_temperature#515, cloud_coverage#347, dew_temperature#381, sea_level_pressure#413, wind_direction#443, wind_speed#471, weather_ts#75-T5000ms, date#257, time#268, air_temperature_site_mean#239, cloud_coverage_site_mean#241, dew_temperature_site_mean#243, sea_level_pressure_site_mean#245, wind_direction_site_mean#247, wind_speed_site_mean#249]\n                                                                                                      +- Project [site_id#67, month#280, timestamp#68, air_temperature#311, cloud_coverage#347, dew_temperature#381, sea_level_pressure#413, wind_direction#443, wind_speed#471, weather_ts#75-T5000ms, date#257, time#268, air_temperature_site_mean#239, cloud_coverage_site_mean#241, dew_temperature_site_mean#243, sea_level_pressure_site_mean#245, wind_direction_site_mean#247, wind_speed_site_mean#249]\n                                                                                                         +- Join LeftOuter, (site_id#67 = site_id#20)\n                                                                                                            :- Project [site_id#67, month#280, timestamp#68, air_temperature#311, cloud_coverage#347, dew_temperature#381, sea_level_pressure#413, wind_direction#443, wind_speed#471, weather_ts#75-T5000ms, date#257, time#268]\n                                                                                                            :  +- Project [site_id#67, month#280, timestamp#68, air_temperature#311, cloud_coverage#347, dew_temperature#381, sea_level_pressure#413, wind_direction#443, coalesce(cast(wind_speed#74 as decimal(9,7)), wind_speed_site_month_mean#217) AS wind_speed#471, weather_ts#75-T5000ms, date#257, time#268, wind_speed_site_month_mean#217]\n                                                                                                            :     +- Project [site_id#67, month#280, timestamp#68, air_temperature#311, cloud_coverage#347, dew_temperature#381, sea_level_pressure#413, wind_direction#443, wind_speed#74, weather_ts#75-T5000ms, date#257, time#268, wind_speed_site_month_mean#217]\n                                                                                                            :        +- Project [site_id#67, month#280, timestamp#68, air_temperature#311, cloud_coverage#347, dew_temperature#381, sea_level_pressure#413, coalesce(cast(wind_direction#73 as decimal(9,7)), wind_direction_site_month_mean#215) AS wind_direction#443, wind_speed#74, weather_ts#75-T5000ms, date#257, time#268, wind_direction_site_month_mean#215, wind_speed_site_month_mean#217]\n                                                                                                            :           +- Project [site_id#67, month#280, timestamp#68, air_temperature#311, cloud_coverage#347, dew_temperature#381, sea_level_pressure#413, wind_direction#73, wind_speed#74, weather_ts#75-T5000ms, date#257, time#268, wind_direction_site_month_mean#215, wind_speed_site_month_mean#217]\n                                                                                                            :              +- Project [site_id#67, month#280, timestamp#68, air_temperature#311, cloud_coverage#347, dew_temperature#381, coalesce(cast(sea_level_pressure#72 as decimal(12,7)), sea_level_pressure_site_month_mean#213) AS sea_level_pressure#413, wind_direction#73, wind_speed#74, weather_ts#75-T5000ms, date#257, time#268, sea_level_pressure_site_month_mean#213, wind_direction_site_month_mean#215, wind_speed_site_month_mean#217]\n                                                                                                            :                 +- Project [site_id#67, month#280, timestamp#68, air_temperature#311, cloud_coverage#347, dew_temperature#381, sea_level_pressure#72, wind_direction#73, wind_speed#74, weather_ts#75-T5000ms, date#257, time#268, sea_level_pressure_site_month_mean#213, wind_direction_site_month_mean#215, wind_speed_site_month_mean#217]\n                                                                                                            :                    +- Project [site_id#67, month#280, timestamp#68, air_temperature#311, cloud_coverage#347, coalesce(cast(dew_temperature#71 as decimal(9,7)), dew_temperature_site_month_mean#211) AS dew_temperature#381, sea_level_pressure#72, wind_direction#73, wind_speed#74, weather_ts#75-T5000ms, date#257, time#268, dew_temperature_site_month_mean#211, sea_level_pressure_site_month_mean#213, wind_direction_site_month_mean#215, wind_speed_site_month_mean#217]\n                                                                                                            :                       +- Project [site_id#67, month#280, timestamp#68, air_temperature#311, cloud_coverage#347, dew_temperature#71, sea_level_pressure#72, wind_direction#73, wind_speed#74, weather_ts#75-T5000ms, date#257, time#268, dew_temperature_site_month_mean#211, sea_level_pressure_site_month_mean#213, wind_direction_site_month_mean#215, wind_speed_site_month_mean#217]\n                                                                                                            :                          +- Project [site_id#67, month#280, timestamp#68, air_temperature#311, coalesce(cast(cloud_coverage#70 as decimal(9,7)), cloud_coverage_site_month_mean#209) AS cloud_coverage#347, dew_temperature#71, sea_level_pressure#72, wind_direction#73, wind_speed#74, weather_ts#75-T5000ms, date#257, time#268, cloud_coverage_site_month_mean#209, dew_temperature_site_month_mean#211, sea_level_pressure_site_month_mean#213, wind_direction_site_month_mean#215, wind_speed_site_month_mean#217]\n                                                                                                            :                             +- Project [site_id#67, month#280, timestamp#68, air_temperature#311, cloud_coverage#70, dew_temperature#71, sea_level_pressure#72, wind_direction#73, wind_speed#74, weather_ts#75-T5000ms, date#257, time#268, cloud_coverage_site_month_mean#209, dew_temperature_site_month_mean#211, sea_level_pressure_site_month_mean#213, wind_direction_site_month_mean#215, wind_speed_site_month_mean#217]\n                                                                                                            :                                +- Project [site_id#67, month#280, timestamp#68, coalesce(cast(air_temperature#69 as decimal(9,7)), air_temperature_site_month_mean#207) AS air_temperature#311, cloud_coverage#70, dew_temperature#71, sea_level_pressure#72, wind_direction#73, wind_speed#74, weather_ts#75-T5000ms, date#257, time#268, air_temperature_site_month_mean#207, cloud_coverage_site_month_mean#209, dew_temperature_site_month_mean#211, sea_level_pressure_site_month_mean#213, wind_direction_site_month_mean#215, wind_speed_site_month_mean#217]\n                                                                                                            :                                   +- Project [site_id#67, month#280, timestamp#68, air_temperature#69, cloud_coverage#70, dew_temperature#71, sea_level_pressure#72, wind_direction#73, wind_speed#74, weather_ts#75-T5000ms, date#257, time#268, air_temperature_site_month_mean#207, cloud_coverage_site_month_mean#209, dew_temperature_site_month_mean#211, sea_level_pressure_site_month_mean#213, wind_direction_site_month_mean#215, wind_speed_site_month_mean#217]\n                                                                                                            :                                      +- Join LeftOuter, ((site_id#67 = site_id#20) AND (month#280 = month#109))\n                                                                                                            :                                         :- Project [site_id#67, timestamp#68, air_temperature#69, cloud_coverage#70, dew_temperature#71, sea_level_pressure#72, wind_direction#73, wind_speed#74, weather_ts#75-T5000ms, date#257, time#268, month(cast(timestamp#68 as date)) AS month#280]\n                                                                                                            :                                         :  +- Project [site_id#67, timestamp#68, air_temperature#69, cloud_coverage#70, dew_temperature#71, sea_level_pressure#72, wind_direction#73, wind_speed#74, weather_ts#75-T5000ms, date#257, CASE WHEN (hour(timestamp#68, Some(GMT+10)) <= 5) THEN 0-6h WHEN (hour(timestamp#68, Some(GMT+10)) <= 11) THEN 6-12h WHEN (hour(timestamp#68, Some(GMT+10)) <= 17) THEN 12-18h WHEN (hour(timestamp#68, Some(GMT+10)) <= 23) THEN 18-24h END AS time#268]\n                                                                                                            :                                         :     +- Project [site_id#67, timestamp#68, air_temperature#69, cloud_coverage#70, dew_temperature#71, sea_level_pressure#72, wind_direction#73, wind_speed#74, weather_ts#75-T5000ms, to_date(timestamp#68, None, Some(GMT+10), false) AS date#257]\n                                                                                                            :                                         :        +- EventTimeWatermark weather_ts#75: timestamp, 5 seconds\n                                                                                                            :                                         :           +- Project [r#65.site_id AS site_id#67, r#65.timestamp AS timestamp#68, r#65.air_temperature AS air_temperature#69, r#65.cloud_coverage AS cloud_coverage#70, r#65.dew_temperature AS dew_temperature#71, r#65.sea_level_pressure AS sea_level_pressure#72, r#65.wind_direction AS wind_direction#73, r#65.wind_speed AS wind_speed#74, r#65.weather_ts AS weather_ts#75]\n                                                                                                            :                                         :              +- Project [r#65]\n                                                                                                            :                                         :                 +- Generate explode(data#61), false, [r#65]\n                                                                                                            :                                         :                    +- Project [json_str#59, from_json(ArrayType(StructType(StructField(site_id,StringType,false),StructField(timestamp,TimestampType,false),StructField(air_temperature,DecimalType(5,3),true),StructField(cloud_coverage,DecimalType(5,3),true),StructField(dew_temperature,DecimalType(5,3),true),StructField(sea_level_pressure,DecimalType(8,3),true),StructField(wind_direction,DecimalType(5,3),true),StructField(wind_speed,DecimalType(5,3),true),StructField(weather_ts,TimestampType,false)),true), json_str#59, Some(GMT+10)) AS data#61]\n                                                                                                            :                                         :                       +- Project [cast(value#46 as string) AS json_str#59]\n                                                                                                            :                                         :                          +- StreamingRelationV2 org.apache.spark.sql.kafka010.KafkaSourceProvider@4e528bc6, kafka, org.apache.spark.sql.kafka010.KafkaSourceProvider$KafkaTable@526fce40, [kafka.bootstrap.servers=192.168.0.6:9092, subscribe=weather_data], [key#45, value#46, topic#47, partition#48, offset#49L, timestamp#50, timestampType#51], StreamingRelation DataSource(org.apache.spark.sql.SparkSession@41d95ac5,kafka,List(),None,List(),None,Map(kafka.bootstrap.servers -> 192.168.0.6:9092, subscribe -> weather_data),None), kafka, [key#38, value#39, topic#40, partition#41, offset#42L, timestamp#43, timestampType#44]\n                                                                                                            :                                         +- Aggregate [site_id#20, month#109], [site_id#20, month#109, avg(air_temperature#22) AS air_temperature_site_month_mean#207, avg(cloud_coverage#23) AS cloud_coverage_site_month_mean#209, avg(dew_temperature#24) AS dew_temperature_site_month_mean#211, avg(sea_level_pressure#25) AS sea_level_pressure_site_month_mean#213, avg(wind_direction#26) AS wind_direction_site_month_mean#215, avg(wind_speed#27) AS wind_speed_site_month_mean#217]\n                                                                                                            :                                            +- Project [site_id#20, timestamp#21, air_temperature#22, cloud_coverage#23, dew_temperature#24, sea_level_pressure#25, wind_direction#26, wind_speed#27, weather_ts#28, date#85, time#97, month(cast(timestamp#21 as date)) AS month#109]\n                                                                                                            :                                               +- Project [site_id#20, timestamp#21, air_temperature#22, cloud_coverage#23, dew_temperature#24, sea_level_pressure#25, wind_direction#26, wind_speed#27, weather_ts#28, date#85, CASE WHEN (hour(timestamp#21, Some(GMT+10)) <= 5) THEN 0-6h WHEN (hour(timestamp#21, Some(GMT+10)) <= 11) THEN 6-12h WHEN (hour(timestamp#21, Some(GMT+10)) <= 17) THEN 12-18h WHEN (hour(timestamp#21, Some(GMT+10)) <= 23) THEN 18-24h END AS time#97]\n                                                                                                            :                                                  +- Project [site_id#20, timestamp#21, air_temperature#22, cloud_coverage#23, dew_temperature#24, sea_level_pressure#25, wind_direction#26, wind_speed#27, weather_ts#28, to_date(timestamp#21, None, Some(GMT+10), false) AS date#85]\n                                                                                                            :                                                     +- Relation [site_id#20,timestamp#21,air_temperature#22,cloud_coverage#23,dew_temperature#24,sea_level_pressure#25,wind_direction#26,wind_speed#27,weather_ts#28] csv\n                                                                                                            +- Aggregate [site_id#20], [site_id#20, avg(air_temperature#22) AS air_temperature_site_mean#239, avg(cloud_coverage#23) AS cloud_coverage_site_mean#241, avg(dew_temperature#24) AS dew_temperature_site_mean#243, avg(sea_level_pressure#25) AS sea_level_pressure_site_mean#245, avg(wind_direction#26) AS wind_direction_site_mean#247, avg(wind_speed#27) AS wind_speed_site_mean#249]\n                                                                                                               +- Project [site_id#20, timestamp#21, air_temperature#22, cloud_coverage#23, dew_temperature#24, sea_level_pressure#25, wind_direction#26, wind_speed#27, weather_ts#28, date#85, time#97, month(cast(timestamp#21 as date)) AS month#109]\n                                                                                                                  +- Project [site_id#20, timestamp#21, air_temperature#22, cloud_coverage#23, dew_temperature#24, sea_level_pressure#25, wind_direction#26, wind_speed#27, weather_ts#28, date#85, CASE WHEN (hour(timestamp#21, Some(GMT+10)) <= 5) THEN 0-6h WHEN (hour(timestamp#21, Some(GMT+10)) <= 11) THEN 6-12h WHEN (hour(timestamp#21, Some(GMT+10)) <= 17) THEN 12-18h WHEN (hour(timestamp#21, Some(GMT+10)) <= 23) THEN 18-24h END AS time#97]\n                                                                                                                     +- Project [site_id#20, timestamp#21, air_temperature#22, cloud_coverage#23, dew_temperature#24, sea_level_pressure#25, wind_direction#26, wind_speed#27, weather_ts#28, to_date(timestamp#21, None, Some(GMT+10), false) AS date#85]\n                                                                                                                        +- Relation [site_id#20,timestamp#21,air_temperature#22,cloud_coverage#23,dew_temperature#24,sea_level_pressure#25,wind_direction#26,wind_speed#27,weather_ts#28] csv\n"
     ]
    }
   ],
   "source": [
    "# 6b\n",
    "\n",
    "\n",
    "building_6h = (\n",
    "    predictions\n",
    "        .groupBy(\n",
    "            \"building_id\",\n",
    "            \"window.start\",\n",
    "            \"window.end\",\n",
    "        )\n",
    "        .agg(F.sum(\"log_power_usage\").alias(\"total_power_6h\"))\n",
    ")\n",
    "# --- Print to console every 7 seconds ---\n",
    "query_building_6h = (\n",
    "    building_6h\n",
    "        .writeStream\n",
    "        .outputMode(\"update\")\n",
    "        .format(\"memory\")\n",
    "        .queryName(\"building_6h\")\n",
    "        .trigger(processingTime=\"7 seconds\")\n",
    "        .start()\n",
    ")\n",
    "spark.sql(\"select * from building_6h\").show()\n",
    "\n"
   ]
  },
  {
   "cell_type": "code",
   "execution_count": null,
   "metadata": {},
   "outputs": [],
   "source": [
    "# 6c\n",
    "site_daily = (\n",
    "    predictions\n",
    "        .groupBy(\n",
    "            \"site_id\", \n",
    "            \"date\"\n",
    "        .agg(F.sum(\"log_power_usage\").alias(\"total_power_day\"))\n",
    ")\n",
    "\n",
    "# --- Print to console every 14 seconds ---\n",
    "query_site_daily = (\n",
    "    site_daily\n",
    "        .writeStream\n",
    "        .outputMode(\"update\")\n",
    "        .format(\"memory\")\n",
    "        .queryName(\"site_daily\")\n",
    "        .trigger(processingTime=\"14 seconds\")\n",
    "        .start()\n",
    ")\n",
    "spark.sql(\"select * from site_daily\").show()\n",
    "\n"
   ]
  },
  {
   "cell_type": "markdown",
   "metadata": {},
   "source": [
    "7.\tSave the data from 6 to Parquet files as streams. (Hint: Parquet files support streaming writing/reading. The file keeps updating while new batches arrive.)"
   ]
  },
  {
   "cell_type": "code",
   "execution_count": null,
   "metadata": {},
   "outputs": [],
   "source": [
    "# 7a(save 6a)\n",
    "\n",
    "# Save predictions to Parquet incrementally\n",
    "query_live_parquet = (\n",
    "    predictions\n",
    "        .select(\"site_id\", \"building_id\", \"time\", \"log_power_usage\")\n",
    "        .writeStream\n",
    "        .outputMode(\"append\")\n",
    "        .format(\"parquet\")\n",
    "        .option(\"path\", \"data/live_predictions\")\n",
    "        .option(\"checkpointLocation\", checkpoint_dir + \"/live_predictions\")\n",
    "        .start()\n",
    ")"
   ]
  },
  {
   "cell_type": "code",
   "execution_count": null,
   "metadata": {},
   "outputs": [],
   "source": [
    "# 7b(save 6b)\n",
    "\n",
    "query_building_6h_parquet = (\n",
    "    building_6h\n",
    "        .writeStream\n",
    "        .outputMode(\"update\")\n",
    "        .format(\"parquet\")\n",
    "        .option(\"path\", \"data/building_6h\")\n",
    "        .option(\"checkpointLocation\", checkpoint_dir + \"/building_6h\")\n",
    "        .start()\n",
    ")"
   ]
  },
  {
   "cell_type": "code",
   "execution_count": null,
   "metadata": {},
   "outputs": [],
   "source": [
    "# 7c(save 6c)\n",
    "\n",
    "\n",
    "query_site_daily_parquet = (\n",
    "    site_daily\n",
    "        .writeStream\n",
    "        .outputMode(\"update\")\n",
    "        .format(\"parquet\")\n",
    "        .option(\"path\", \"data/site_daily\")\n",
    "        .option(\"checkpointLocation\", checkpoint_dir + \"/site_daily\")\n",
    "        .trigger(processingTime=\"14 seconds\")\n",
    "        .start()\n",
    ")z"
   ]
  },
  {
   "cell_type": "code",
   "execution_count": null,
   "metadata": {},
   "outputs": [],
   "source": [
    "spark.streams.awaitAnyTermination()"
   ]
  },
  {
   "cell_type": "markdown",
   "metadata": {},
   "source": [
    "8.\tRead the parquet files from task 7 as data streams and send them to Kafka topics with appropriate names.\n",
    "(Note: You shall read the parquet files as a streaming data frame and send messages to the Kafka topic when new data appears in the parquet file.)"
   ]
  },
  {
   "cell_type": "code",
   "execution_count": null,
   "metadata": {},
   "outputs": [],
   "source": [
    "import json\n",
    "# Stream 1\n",
    "live_predictions = (\n",
    "    spark.readStream\n",
    "         .format(\"parquet\")\n",
    "         .schema(predictions.schema)\n",
    "         .load(\"data/live_predictions\")\n",
    ")\n",
    "\n",
    "# send predictions to Kafka\n",
    "(\n",
    "    live_predictions\n",
    "        .selectExpr(\"CAST(\\\"predictions\\\") AS key\", \n",
    "                    \"json.dumps(live_predictions, ensure_ascii=False) AS value\")\n",
    "        .writeStream\n",
    "        .format(\"kafka\")\n",
    "        .option(\"kafka.bootstrap.servers\", \"localhost:9092\")\n",
    "        .option(\"topic\", \"live_predictions\")\n",
    "        .option(\"checkpointLocation\", \"checkpoints/predictions_to_kafka\")\n",
    "        .outputMode(\"append\")\n",
    "        .start()\n",
    ")\n"
   ]
  },
  {
   "cell_type": "code",
   "execution_count": null,
   "metadata": {},
   "outputs": [],
   "source": [
    "# Stream 2\n",
    "building_6h = (\n",
    "    spark.readStream\n",
    "         .format(\"parquet\")\n",
    "         .schema(predictions.schema)\n",
    "         .load(\"data/building_6h\")\n",
    ")\n",
    "\n",
    "# send predictions to Kafka\n",
    "(\n",
    "    building_6h\n",
    "        .selectExpr(\"CAST(\\\"predictions\\\") AS key\", \n",
    "                    \"json.dumps(building_6h, ensure_ascii=False) AS value\")\n",
    "        .writeStream\n",
    "        .format(\"kafka\")\n",
    "        .option(\"kafka.bootstrap.servers\", \"localhost:9092\")\n",
    "        .option(\"topic\", \"building_6h\")\n",
    "        .option(\"checkpointLocation\", \"checkpoints/predictions_to_kafka\")\n",
    "        .outputMode(\"append\")\n",
    "        .start()\n",
    ")\n"
   ]
  },
  {
   "cell_type": "code",
   "execution_count": null,
   "metadata": {},
   "outputs": [],
   "source": [
    "# Stream 3\n",
    "site_daily = (\n",
    "    spark.readStream\n",
    "         .format(\"parquet\")\n",
    "         .schema(predictions.schema)\n",
    "         .load(\"data/site_daily\")\n",
    ")\n",
    "\n",
    "# send predictions to Kafka\n",
    "(\n",
    "    site_daily\n",
    "        .selectExpr(\"CAST(\\\"predictions\\\") AS key\", \n",
    "                    \"json.dumps(site_daily, ensure_ascii=False) AS value\")\n",
    "        .writeStream\n",
    "        .format(\"kafka\")\n",
    "        .option(\"kafka.bootstrap.servers\", \"localhost:9092\")\n",
    "        .option(\"topic\", \"site_daily\")\n",
    "        .option(\"checkpointLocation\", \"checkpoints/predictions_to_kafka\")\n",
    "        .outputMode(\"append\")\n",
    "        .start()\n",
    ")"
   ]
  }
 ],
 "metadata": {
  "kernelspec": {
   "display_name": "Python 3 (ipykernel)",
   "language": "python",
   "name": "python3"
  },
  "language_info": {
   "codemirror_mode": {
    "name": "ipython",
    "version": 3
   },
   "file_extension": ".py",
   "mimetype": "text/x-python",
   "name": "python",
   "nbconvert_exporter": "python",
   "pygments_lexer": "ipython3",
   "version": "3.10.13"
  },
  "vscode": {
   "interpreter": {
    "hash": "5c7b89af1651d0b8571dde13640ecdccf7d5a6204171d6ab33e7c296e100e08a"
   }
  }
 },
 "nbformat": 4,
 "nbformat_minor": 4
}
