{
 "cells": [
  {
   "cell_type": "markdown",
   "id": "50d1d825",
   "metadata": {},
   "source": [
    "# Week 10 - Stream Join Processing\n",
    "Bounded Stream Join\n",
    "- There is a start and end\n",
    "Unbounded Stream Join\n",
    "There is a start but no end\n",
    "\n",
    "Due to network latency, some data arrives late\n",
    "Data which matches each other might be missed for a join operation\n",
    "Use 2 symmetric hash tables to avoid missing the join of any incoming tuple"
   ]
  }
 ],
 "metadata": {
  "language_info": {
   "name": "python"
  }
 },
 "nbformat": 4,
 "nbformat_minor": 5
}
