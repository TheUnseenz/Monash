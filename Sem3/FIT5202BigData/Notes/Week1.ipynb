{
 "cells": [
  {
   "cell_type": "markdown",
   "id": "54795b2e",
   "metadata": {},
   "source": [
    "scale up - add more resources for larger throughput\n",
    "speed up - more efficient resources\n",
    "\n",
    "linear speed up with more resources = ideal scenario\n",
    "more than linear = super-linear"
   ]
  },
  {
   "cell_type": "markdown",
   "id": "2aaabd05",
   "metadata": {},
   "source": [
    "RDD is data that is already split into partitions   \n",
    "Spark will do this for you  \n",
    "RDD is ready for parallel processing  "
   ]
  }
 ],
 "metadata": {
  "language_info": {
   "name": "python"
  }
 },
 "nbformat": 4,
 "nbformat_minor": 5
}
