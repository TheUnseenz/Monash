{
 "cells": [
  {
   "cell_type": "markdown",
   "id": "50d1d825",
   "metadata": {},
   "source": [
    "# Stream Data Processing\n",
    "Data stream is a real-time, continuous, time-ordered sequence of items\n",
    "\n",
    "We store accumulated statistics of data and not every data item due to memory constraints\n",
    "Stream window size determines processing needed\n",
    "\n",
    "Database\n",
    "- Bounded data\n",
    "- Relatively static data\n",
    "- Complex, adhoc query\n",
    "- Can backtrack during processing\n",
    "- Exact answer to a query\n",
    "- Tuples arrival rate is low\n",
    "\n",
    "Stream processing\n",
    "- Unbounded data\n",
    "- Dynamic data\n",
    "- Simple, continuous query\n",
    "- No backtracking, single pass operation\n",
    "- Approximate answer to a query\n",
    "- Tuples arrival rate is high"
   ]
  }
 ],
 "metadata": {
  "language_info": {
   "name": "python"
  }
 },
 "nbformat": 4,
 "nbformat_minor": 5
}
