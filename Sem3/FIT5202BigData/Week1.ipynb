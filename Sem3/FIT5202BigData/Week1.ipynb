{
 "cells": [
  {
   "cell_type": "markdown",
   "id": "54795b2e",
   "metadata": {},
   "source": [
    "scale up - add more resources for larger throughput\n",
    "speed up - more efficient resources\n",
    "\n",
    "linear speed up with more resources = ideal scenario\n",
    "more than linear = super-linear"
   ]
  }
 ],
 "metadata": {
  "language_info": {
   "name": "python"
  }
 },
 "nbformat": 4,
 "nbformat_minor": 5
}
