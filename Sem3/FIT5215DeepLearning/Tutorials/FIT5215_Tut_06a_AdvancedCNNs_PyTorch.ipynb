{
  "cells": [
    {
      "cell_type": "markdown",
      "metadata": {
        "id": "BznQidu_FHkT"
      },
      "source": [
        "# <span style=\"color:#0b486b\">  FIT3181/5215: Deep Learning (2025)</span>\n",
        "***\n",
        "*CE/Lecturer (Clayton):*  **Dr Trung Le** | trunglm@monash.edu <br/>\n",
        "*Lecturer (Clayton):* **A/Prof Zongyuan Ge** | zongyuan.ge@monash.edu <br/>\n",
        "*Lecturer (Malaysia):*  **Dr Arghya Pal** | arghya.pal@monash.edu <br/>\n",
        " <br/>\n",
        "*Head Tutor 3181:*  **Ms Ruda Nie H** |  \\[RudaNie.H@monash.edu \\] <br/>\n",
        "*Head Tutor 5215:*  **Ms Leila Mahmoodi** |  \\[leila.mahmoodi@monash.edu \\]\n",
        "\n",
        "<br/> <br/>\n",
        "Faculty of Information Technology, Monash University, Australia\n",
        "***"
      ]
    },
    {
      "cell_type": "markdown",
      "metadata": {
        "id": "icI3XA_4FHkU"
      },
      "source": [
        "## <span style=\"color:#0b486b\">Tutorial 06a: Advanced Convolutional Neural Networks</span> ##"
      ]
    },
    {
      "cell_type": "markdown",
      "metadata": {
        "id": "ed8_ps9GFHkV"
      },
      "source": [
        "**The purpose of this tutorial is to show you how to implement ResNet, the most popular CNN model. This ResNet implementation follows the original paper of ResNet.**\n",
        "\n",
        "\n",
        "**Acknowledgement:** *This tutorial is developed based on the material in chapter 7 of the book Dive Into Deep Learning*.\n",
        "\n",
        "**References and additional reading and resources**\n",
        "- Chapter 7 of Dive Into Deep Learning ([link](https://d2l.ai/chapter_convolutional-modern/index.html)).\n",
        "\n",
        "**Hint**: The implementations of ResNet in this tutorial would facilitate you in doing Part 3 of assignment 1.\n"
      ]
    },
    {
      "cell_type": "markdown",
      "metadata": {
        "id": "8CeDkzN6FHkV"
      },
      "source": [
        "## <span style=\"color:#0b486b\">I. Implementation of Residual Network (ResNet)</span> <span style=\"color:red\">*****</span> ##\n",
        "This is a **highly recommend-to-learn** knowledge because ResNet is the most widely popular architecture used in computer vision tasks. Moreover, we can apply what is learned here to assignment 1.  "
      ]
    },
    {
      "cell_type": "markdown",
      "metadata": {
        "id": "xkZBisUWFHkV"
      },
      "source": [
        "### <span style=\"color:#0b486b\">I.1. Residual Block</span> ###"
      ]
    },
    {
      "cell_type": "markdown",
      "metadata": {
        "id": "9N9YCfHFFHkW"
      },
      "source": [
        "The building block of ResNet is the **residual block** which has the following architecture: *[CONV2D, BatchNorm, RELU, CONV2D, BatchNorm]* together with the skip connection. For the skip connection, we have two options: `use 1x1 CONV1D` or `not use 1x1 CONV1D`. The following figure shows the architecture of the residual block for two options."
      ]
    },
    {
      "cell_type": "markdown",
      "metadata": {
        "id": "V8woyIdpFHkW"
      },
      "source": [
        "![ResidualBlock.png](data:image/png;base64,iVBORw0KGgoAAAANSUhEUgAAAroAAAGwCAYAAABGjsbiAAAAAXNSR0IArs4c6QAAAARnQU1BAACxjwv8YQUAAAAJcEhZcwAADsMAAA7DAcdvqGQAAF8WSURBVHhe7d13vBxV/f9xKxbKvYr0n0kUCzUXBQFFIEoRkYQWFNSECIgIJAGkSUekiJQoVQhN0KAGQVBEjBQRQSMiICIiEpAmitjL95/5+T7wCSfDZ/fubs7Mzsy+/ng+7t05s7OzOzOf895p+6L/+7//ywAAAICmIegCAACgkQi6AAAAaCSCLgAAABqJoAsAAIBGIugCAACgkQi6AAAAaCSCLgAAABqJoAsAAIBGIujW0Ny5c93hAFBlTz31FPULQKkIujXzwAMPZMPDw6HD8NoBoKpmz56dTZw40W0DgCIQdGvmlFNOyV70oheFDsNrB4CqUshV/dIXdq8dAFIj6NbM+PHjQ0cxMjLitgNAFSncqnbJkUce6Y4DAKkRdGsk7ihk/vz57ngAUDV2NErGjh3rjgMAqRF0ayTuKGTKlCnueABQNXY0ynBRGoAyEHRrZMyYMYt0FFyUBqAO8kejhIvSAJSBoFsTOk1BnYPtFbHQy0VpAKpO5+TG9YuL0gCUhaBbE9ZRHH744eHv1ltvnQ0NDbFXBEDl6Yu56tWkSZNC/dpjjz3CX76oAygaQbdGdE7bbbfdFjqIE044gb0hAGpBp1jpqNQRRxwR6tc999xD/QJQCoJuzdxxxx2hozj22GPddgCoqmOOOSbUr5///OduOwCkRtCtmbvvvjt0FNyHEkDdHH/88aF+3X777W47AKRG0K2Z++67L3QUhxxyiNsOAFV18sknh/p1yy23uO0AkBpBt2Z++9vfho7igAMOcNsBoKpmzZoV6tcNN9zgtgNAagTdmnn44YdDRzF9+nS3HQCq6qyzzgr163vf+57bDgCpEXRr5vHHHw8dxV577eW2A0BVnXfeeaF+XXPNNW47AKRG0K2ZP/7xj6Gj2G233dx2AKiqiy66KNSvK6+80m0HgNT6GnSnTp2abbrppujCxhtvHDqKFVZYwW3H6PjZZCyuP/3pT+66hfbWWGONUL/WXHNNtx3tfepTn3LXRwCt9TXoquABZfv+97/vro9Ap7QOeesWUDRvfQTQWt+D7srrTMj2vDFDF3b77j/c4Whv3WnP3qyeoIvFZUFX65S3rqG1Xa/+szsc7amvJOgC3SPoYmAQdJEKQRdlI+gCvSHoYmAQdJEKQRdlI+gCvSHoYmAQdJEKQRdlI+gCvSHoYmAQdJEKQRdlI+gCvSHoYmAQdJEKQRdlI+gCvSHoYmAQdJEKQRdlI+gCvSHoYmAQdJEKQRdlI+gCvSHolmytHWeG95w37t3bZducfqP7nFY0LfHaZMfz7wzT7ratqQi6SGUQg67VDM/ak/fLdpnzkPu8VlYa2TRM02uTdvVttNrXRPqcCbpA9wi6JVNxf8v7dg2h1qy769FhuD6PbsKuniNem2hamma3bU1F0EUqgxh0rWa8c5/Tw/+y5XFXhvq11Apjs6VXHJdNu+YZ97keTUvT8NqkXX0brfY1EUEX6A1Bt2QqzuoYvDZ1FgrBXptntGLfLsy2a2sqgi5SGeSg64VTa1Pwzbe10mpapl19G632NRFBF+gNQbdkKs6tgu6yq44sEnR1KFCnNCyx1HDwlq2mLbLHZLRi3y7MtmtrKoIuUiHoLtqmuqS2OOhqvGXftE4Yrr2979p31iLPaTUt066+jVb7moigC/SGoFsyFed80FWgtRBmHYU6DnUOCr5q17ls4zbadpHPa7Ri3y7MtmtrKoIuUiHoPj/czt1dYsmhhV/EbVyd5qBhqmtqj2ufN61Yu/o2Wu1rIoIu0BuCbslUnPW+87Q3N94bog4i7jjE9prYBRyjFft2YbZdW1MRdJHKIAddj76ExxeW6XH+NKwJh1wUjkzZYz2PoNs5gi7QG4JuyVSc44vRLNCqE4jH0xXF6hT0+cT0mek5Nq12xb5dmNXrtWprKoIuUhnkoBtfjKZAqyNP+bsn2MVpce2y0xjsy7v+1zTi58Xa1bfRal8TWf331kcArRF0S6binD91QR2HPos47CoMq7PQuHnWOYxW7K1jivcKG01HbfnhTUbQRSqDHHTz4VQ1SF/K49uL6cu71bo8G8+bVkxf9lvVt9FqXxMRdIHeEHRLZsXfG67OwkKpxokfi/5Xx9rpqQvqUPQZ5/cWi56n0yXyw5uMoItUCLrPD1edUbCNa7nqS/7UBdUtfV6d7tG1HQD5L+p6rNro1dEmI+gCvSHolkwdgFegrbPQXRb0OBTz/z22Oy2I/tcwK/whrL5pnWzirJtewKarQ4vqFCYcevHCNt3cXZ99N7cCagKCLlIh6C7alj8qpdqix3anBdU31ar4i7m1x3VLbI+v1UA9b8vPXhXa9Fd9hobbeIOCoAv0hqBbslZBVzRcn4kFUO0B0fgaJjqVIT4XLm7Ls3HUWYTzff/XMVibpjNoIVcIukiFoPvCdtWj+CiUwq9qjdUd7eG1NrHheXF9VL3Tl/W4Xa8T18FBQdAFekPQxcAg6CKVQQy66C+CLtAbgi4GBkEXqRB0UTaCLtAbgi4GBkEXqRB0UTaCLtAbgi4GBkEXqRB0UTaCLtAbgi4GBkEXqRB0UTaCLtAbgi4GBkEXqRB0UTaCLtAbgi4GBkEXqRB0UTaCLtAbgi4GBkEXqRB0UTaCLtAbgi4GBkEXqRB0UTaCLtCbSgRdoCwEXaRgQddbx4CiEHSB7vU96AJle+yxx9z1EejUww8/7K5bQJHescGG7voIoLW+Bl30Zu7cudkDDzzgtgFAlZ1yyinucAAoAkG3hiZOnEhnAaB2nnrqqWx4eJgv6gBKQ9CtGXUQOoQ1MjLitgNAVc2ePTvUryOPPNJtB4DUCLo1ow7CztdirwiAOhk/fnyoXWPHjnXbASA1gm7NjBkzZmHQnT59ujsOAFTN/PnzF9Yu0WNvPABIiaBbI7oILe4o2CsCoC6mTJmySP3iizqAMhB0ayTfUQh7RQDUwdDQ0CK1SxeleeMBQEoE3ZrQ1crqHDbZZJPwV3de0F+FX298AKgKuwjNvqxb/dJRKm98AEiFoFsTdtrCmWeeGf5OmDAhXNihc3a98QGgKnSagurW7rvvHv4edthh4S+nLwAoGkG3RrRX94knnggdxJ577sldFwDUhurX+eefH+rXNddcw2lXAEpB0K2ZRx99NHQUe++9t9sOAFV1zjnnhPr13e9+120HgNQIujVjv7HPIT8AdXPGGWeE+nX99de77QCQGkG3Zh588MHQUey///5uOwBU1axZs0L9uuGGG9x2AEiNoFszv/nNb0JHceCBB7rtAFBVp5xySqhfN998s9sOAKkRdGvmV7/6VegoDj30ULcdAKrqpJNOCvXrRz/6kdsOAKkRdGtCd1iYN29edvDBB4eOYssttwyPufMCgKrTHRauuOKKbLPNNgv166ijjgr1yxsXAFIi6FacbrQ+MjISOodW1H7BBRe4zweAftDtxKZOnRp+qtyrW2bSpEnZ97//fXcaALC4CLoVpcJvHcQrlhzKVhrZNFt316OzCYdclG38qfPC37V2nBmGv2KpZ39aU+PTYQDotyOPPDIbGhoOdWmpFcZm4zbaNtSvbU6/Mdv4gC9l79zn9Owt79s1W3bV57/Eb7rppiEce9MDgF4RdCvIfi5TFGanXfNMtueNWUtqV6dhz9HzvekCQJFsL67q0BL/+4KuQOvVrNiO59+5MPCO+d+XdX5IAkBKBN2KsZCrvbhbHnel2zG0ovH1PMIugH7YZJNNQv3RkaZd5jzk1qlWtMdXz9WeYMIugFQIuhWi0w5U6JdZceyoe3Fb0fP0fE2H0xgAlGXKlCmh7ug0Ba82dUKnNmgaa48f4TQGAEkQdCvk9WPGhCKvYu91Ap2yzkKHAb3XAYCU7Eu6zsft9Uu60elampaCs/daANANgm5F6OINFXcVea/4d8s6C92g3Xs9AEjFTllY3C/poqCswKzpcftEAIuLoFsRY8aMyZbu4JQFnfe27rRj3LaYncKgOzF4rwcAKeh8WoVSXRDr1aKYgrDuGOO1xeyo1PTp093XBIBOEXQrQHstVNQ7ObfNOgCvLU/TG22viM6D0z14586d67YDQDv2s76dBFhdcKYL1by2PE1T9wj3XtOots2YMYPzeQG0RNCtAOso1Al4BT/WTdC1q5i9OzAo2NptgGTixIkvGAcARmOnLeg2YV4dinUTdDWeppt/PftyHv+QDneZAdAKQbcC7Pzcdue3qYPQKQtv2WpaGFf/G298sVCs6et1bO9H/EtFw8PDIfCee+654YISFO/Xv/71C9YBoK4s6Ho1SOx0K1l5nQnZ0iuOW/i43V5guze43Wos/+VcVMtU36688kp3WwOqjNvolYOgWwEWdNvdd1J7N8RurG6PxRtftIdF4x500EELOyNUgzrovfbay10fgDoZP378qHXIapUuMtMPSdjjdhff2hEpHfHSNQz5bQhoAu1s2mabbbLf/e537vaFxUfQrYBO9uiabk5dyO/R1eE9naJgG5jRMO0p0Xgo3j777JNtscUW4bNfbrnlXrA+AHUy2h7dWDenLtidY7TnS6crKPAqVFvdEoWEHXbYIVy05m1rQJUdeOCB2bbbPnstjdxxxx3uNobFQ9CtgKLP0dX049fTKQz5vSTcs7J8KnRhWe65p9sO1IEF3U5+Ca2boKvxNN386+lwr4Lt0NCzvwIpXEyLOpszZ05Yj1dYYYXs6aefdsdB7wi6FdDN7XnC+W4dBGKxuy60Ow9IbQq5dBT9ceKJJ4ZlpELntQNVp9CpdbiTnyzXF/VO7s4gmqa+jHuvaVS3dESq3Z1lgDrQkQut8zNnznTb0TuCbkXoV9F0kYZX8Hul8+FG6yjQX/fee28obvvvv7/bDlSdfVFP9WM3YtcXcB9dDJKVVlop23DDDd029I6gWxF2GLvTvbWjsdMWNF3v9VAdm266aeC1AXVgp0F1couxTthFt9rL5b0e0ETqB7Tee23oHUG3InSxxTLLPHvO2eJ2FrY3RNPjRurVR9BF3ekUAtWcZd+0jluTumFf0rm3NwYNQbcYBN0K0V0RUnQWtjeEm6jXA0EXTWB3dFmco1Lxl3TOu8WgIegWg6BbMXZhh8Jut3t2Nb6ep+dzblt9EHTRBDp6ZLf/Wnvyftm0a55x61QrupjtFUsNh+dzygIGEUG3GATdCtJdELSyq+i/a99ZbqeQ9859Tg/PEW4VVi8EXTRFHHZ1cW0n9wZXIB737u3Cc7QnlzvAYFARdItB0K0onXZg5+xqL632kEw49OKFe3n1V4813PbianxOV6gfgi6aRGHXjkyJfvZXP/e75WevCrdHVLCdOOum8CVeP2lue3F1QVu7WyECTUfQLQZBt8LUYWjvrAXeVtSu8bjwrJ4IumginX7QyU+PK+DyBR0g6BaFoFsTOpxnPxv4rne9a+H/HOarP4IumkxfwBVkVa+0p3errbYK/+vXGdmDCzyPoFsMgm4NcQ5usxB0MSjstAavDRh0BN1iEHRrRh2FNgQO9TUHQReDQnVL9YvTrIAXIugWg6BbMzrcpw2Bm6k3B0EXg8Lutas65rUDg4ygWwyCbs3YrXuEG6o3gy7YmTBhgtsGNIXqldWukZERdxxgkBF0i0HQrZG4oxBd0OGNh3rZeOONCbpoPDsaZbgQDVgUQbcYBN0aUbCNO4qxY8e646Fe3v3ud2fvec973DagKeKjUcJFtcCiCLrFIOjWiO43aZ3E0NCz99bl9mL1t9FGG2Xvfe973TagCfJHo2R4eNgdFxhUBN1iEHRrQof5tAHYDdi1N8T+euOjPnRfZIIumsx+Kc0uRrP6xd1jgOcRdItB0K0J/cqQDv1dccUVYUPQTdfVWXBPyvp75zvfmW222WZuG9AEOj9XX9It4J588smhnqmueeMDg4igWwyCbs0sWLAgbAgzZsxw21E/G264Ybb55pu7bUCTnH322aF+XXfddW47MMgIusUg6NbMI488EjaEfffd121H/WywwQYEXQyEc889N9Sv73znO247MMgIusUg6NbMY489FjaET37yk2476mf99dfPtthiC7cNaJLzzz8/1K9rrrnGbQcGGUG3GATdmnnyySfDhrDnnnu67aifd7zjHdmWW27ptgFNcuGFF4b6ddVVV7ntwCAj6BaDoFsz+o14bQi777672476IehiUFx88cWhfn3zm99024FBRtAtBkG3Zp5++umwIUybNs1tR/2st9562fve9z63DWiSSy+9NNSvb3zjG247MMgIusXoOujq17m0MFrxbhejHzXwxjXeT9lqz6U3biz/HNHttrxxTdXnz/tZTN1r0tr1c7HaEFZcccWFw3TrnvxzdIN2a/dMmjTpBc+RqVOnuuOb0ebP0+/50+t74xrvXp6ajjeuSfnzy+uuu264XZzXhrS8ZRnTdp1/zmg1z/vRFtUZb1zj3RZwEGreGmusEeqX/tqwVPNHzXveaPPnrbPoPy0bgm56PQVd3Q+xlVZFyxvXtCqq3rix/HNERdUb19Rx/lS0rF0/F6sNYYUVVlg4rFVRtXaPbtyef47oPpfe+KZVUfXGNVWfP7Xnn6PpeOOKfqFO85F/Tq/e/va3Z+9///vdNqTlLc9Yq6DrjWu80KDt2BvXDGrNs6C7+uqrLxyWav6oec9rN3/6VU1vnUX/EXSLwakLNfPPf/4zbAg777yz2476edvb3kbQxUDQKQuqXzqFwWsHBhlBtxg9BV1vrwfK8Z///CdsCDvttJPbjvpZZ511sq233tptQ1rUrv7SRWiqX5dcconbDgwygm4xug66dvjDa0M5tCHsuOOObhvqZ2RkJPvABz7gtiEdhVxtO95hZZRDtxXTMtBtxrx2YJARdItB0K2hl770pdl2223ntqF+9Jv/BN3i6VxQdSLe+Z0ox9VXXx2WgX44wmsHBhlBtxgE3RpaYoklWl64gPpZe+21CbolIOj2n376V8tAPwXstQODjKBbDIJuDb3qVa8iGPWRvmSkvOvCWmutlW2zzTZuG9Ih6PbfddddF5bB2Wef7bajWDp9Z3h4mLsuVBRBtxgE3RpacskluUq/j1JvA2uuuSZBtwQE3f6zZXDGGWe47SgW20C1EXSLQdCtoWWWWYafjO2jIoIup6IUj06+/37wgx+EZTBr1iy3HcViG6g2gm4xCLo19JrXvCbbbLPN3DYUL/U2oJvot/pVJKRDJ99/N910U1gGp512mtuOYrENVBtBtxgE3Rp63etel02YMMFtQ/FSbwP6lSiCbvG4vVj/3XLLLWEZfP7zn3fbUSyCbrURdIvRddAVbrreX8svvzxfNvooddBdbbXVsm233dZtQ1rUrv669dZbQ0d+0kknue0oFkG32gi6xegp6KK/VlpppWyjjTZy21C81EH3rW99K/dFxkC4/fbbQ0d+wgknuO0oFkG32gi6xSDo1tAqq6ySbbjhhm4bipc66L7lLW8h6GIgzJ8/P3Tkxx13nNuOYj3wwAME3Qoj6Bajr0F3r732CgsW3XnlK1+ZLb300m4bRueti91QZ60Ow2vrxZvf/OZs++23d9tQXd66hfbWW2+90JGPGzfObUd7M2fOdNfFbmivLqfwVJOWMUE3vb4GXS1QoGwq9N762C9vetObsh122MFtQzXZIWCgbN76iGYg6Baj66CrQx7Tp09327qlBaoF67UBqWnd1TpXtaC76qqrEnRLonqT4lehONexd//973/d4WiPENR8LONidB10U56fSNBFmaoadN/4xjdmO+64o9uGdFKGU4IuykYIaj6WcTEIuhgYVQ26b3jDG7LJkye7bUiHoIs6IwQ1H8u4GARdDIxUQVc/ODB79my3rRcE3XIQdFFnqULQjBkzwgW1Xhv6i6BbDIIuBkaqoJtyGxBdgb7TTju5bUiHoIs6SxGCWG+rjaBbDIIuBkZVg+7YsWOzD37wg24b0iHoos4Ius1H0C0GQRcDo6pBd8yYMdmHPvQhtw3pEHRRZwTd5iPoFoOgi4FR1aD7+te/nqBbAvtVLoIu6oig23wE3WJ0HXS1oaS4D6VogdYh6Go+Y5rnSZMmdX1Cv36NptPPzgqS14beVDXo/r//9/+ynXfe2W1DWrqQMMWv2tUlMNg6b4aHh0P90vBufx1Ln1un9UvTT7mNgKA7CAi6xeg66KakBVqXoKsO0kK+FXF1Gt10mt0EJIJuetbpVy3orrLKKtkuu+zitqGa6hZ0Nb+iu4Vo2NDQUNe1t5v3q/FSbiMg6A4Cgm4xCLod0Hzmw5H2hnRbMAi6/aVl5S3LbqUOuiuvvDJBt2bqEhhsnc8P1xd2De/mi3o371fjEXTTIug2H0G3GATdDmg+WwXd+H6q6jx0Bb2Gi/b4Wrt1OMaeo59T1nj58a0g6bG1a9rtQpo6Fk1Pp1XY60ydOnWRQ5T5ecy3a5heU3/1uvY+9bx4PnTaRjzvek2bRlXZMmj3GXYi9X10V1pppezDH/6w24ZqqktgsHU+P9yCbrztx9uzqDbb6Vk2TCzAKiTHtWZkZGTh+Hpdq0fWrunFr5encbRtWX3SvOS3s7iOqv3UU09dpE2vOWXKlNA+ceLEsJy8+dC8W6iQlNtzUWx+vbZu6LPo9rQ7lCPVMsaiCLod0HwqEKqQGs33+PHjF46jwqnxVKj1WAVdBVfF2MZRwbVOQjQdHUK04GUBU0XIOlK9hqat6alwqxOw5+dp2vE82DRaPdZ0Nf14GdhrqiMUG6Y7A9h8qF3vS+9Pj226Nn5V6fPWfNrnXRUKuh/5yEfcNlSTrfNap7z2qrB1Xn9j2n6tDoj+Vy2yAKRtXdu8ao6Nk3+/qgNWn/RY9cDqk8bT+ApVqhE2PY1jz8/T+BrHtk+bhk1f04rrpf7qsb0Pe18WcI2mYbVK70+PNZ7VKwvB+r/KCEHNxzIuRk8Xo4nX1i0t0LoEXU+8N1R/445DrMja43zQVVGPOw7RNOKgG3/W+enl5advw+w11AHk222a1sHp//zejfww64Dicbz3UjU23/FnWgUrrrgiQbck2gNowWlx2HZTl3U+T0Evnndt//kvqmqP64WeZ8+xwBh/lqqBare/CqHWJvnp5cXTF01Hw2x71f/52qSQmg/XVpPFllM8TPMQB/h8DawqQlDzsYyL0XXQVZFoV6y6oQVal6CbD0e2hyI+ZK9hKrYaZitsvNLmPztvusYr0DYsHi+maef3mGiYdR7a+xJ3JEbTjPfe5ucpP0zT0LTiceLXqSrNn/f++k1B96Mf/ajbhnQsnKVYT21brMs6nx9uR4/i4Kj3pPFVu+z0gXy9svdrz7e2PI0XP7fVsJim16r22Oedb7fh+t97r3G7ydeqVtOuGkJQ87GMi0HQ7UCrIhgXVrVrL4kVUT22Amrj5z+7VtOV/HNbDYvZa7ca5rWLptlt0I3fh7SadpVo/rz3128rrLBC20O6SMO2nxTracppFcnWea9N26zt2dR42gOr9VAhVl8KNCzezuP3q3rRarqSf26rYTFNr1Xt0U4Er92Wg/7X9PPzFLebfK2ycfLTrhpCUPOxjItB0O1AqyKoTkF7de3//F7O/F6P/GenjkWH3uyxaBo6fcEr0N6wWL6A54epU8t/3jZNO2znvdf8MK/D8l67ajR/3vvrlj6rFIe/zfLLL0/QLYGt6ynW05TTKpKt8/nhOlKkL+a23nm1KH+qU/x+be+41Q2xUw28kCzesJie2672aB7zn7fm2Wqw915tOcXD8rXKxsm/dtWkCkHz5s1b5EghqoOgWwyCbgc0n/mL0fRYw+28XP1Vx2GFX3s89FjjWCjS83RIUIUmfs4VV1wRxtH5gza+V6C9YbF8Ac8Ps85Jj/UamkddKR0vT7XnC35+mJ6fXwe8164azZ/3/rql95p//4tjueWWC+uT14Z0bPtJsZ6mnFaRbJ3X35i2ewVHq036gq1arAAkVovi9Vzj67Qsq3FqszstaDpah+3Lvl4jv414w2LethkP0/NVLy+44IKF9VKPrQarXePHz7flFA/TPGjc/Dj5166aFCFIn5umEb9/VAdBtxgE3Q7Ye45pb0d8fps6B+0d0XsStasD0LhWQPVYex/iDkZFWsP0HHUSdgqBPdem32pYTHs34nnyhmleNA29nu3Fib/dq02vY4+9YZpefu+P99pVYx3h4nZo+jzaLYduve51r8t23XVXtw3pWKBJ0cmnnFaRtE3a+hpTrYq3af2v+mN1Qe2qRRo3npba7HQHq3kapudpuNU1r0Z4w2J6rdFqT1wv9ddCrth7tcei5+aH5WuVjZN/7apJEYLqst4OKoJuMQi6GBhVDbrLLrssQbcEgxh00RwE3eYj6BaDoIuBUdWg+9rXvjabNm2a24Z0CLqoM4Ju8xF0i9F10NUG0u7wUze0QAm6KEtVg+5rXvOa7GMf+5jbhrS03Oz0oMVBYEDZCLrNR9AtRtdBNyUtUIIuylLVoKsLagi69UJgQNkIus1H0C0GQRcDo6pBVxfz7Lbbbm4bqonAgLIRdJuPoFsMgi4GRqqgq6vL7f6jKSyzzDLZ7rvv7rahmggMKFuKEKQ7ZeiLdYrTd5AeQbcYBF0MjFRBNzWCbv0QdFE2QlDzsYyL0VPQje+7ujgIuihTVYPu0ksvne2xxx5uG9JKVbsIuigbIaj5WMbF6Dropjw/kaCLMlU16C611FLZxz/+cbcN6SjkavnHPzLQK4IuykYIaj6WcTEqEXSBsmidq1rQXXLJJbM999zTbUM6KcOpTctbx4CiEIKajWVcjL4G3Q033DAsVKBM9jOlVfHqV7+aoFuClEH3oYceesF6BRRNQchbH9EMBN1i9DXoojcKavFvtaNcqe+68KpXvSr7xCc+4bYhHU43qAbVrlTnSqM7+tx1327uulBNBN1iEHRrSB21wpbXhuKl3gZe+cpXZnvttZfbhnQIutUwfvx4vqj3CdtAtRF0i0HQraExY8aEjaFqh+AHRept4BWveAVBtwR08v2nmqVlMDIy4rajWGwD1UbQLQZBt2asUEmKq8fRvdTbwBJLLJF98pOfdNuQDp18/02fPn1h/eKLevnYBqqNoFsMgm7N6NxQ6yjGjh3rjoNipd4GXv7yl2d7772324Z0Ut5eDL2xo1Gi0OuNg+IQdKuNoFuMroOuOgsuJOgPu5DAOgqZP3++Oy6KkzrovuxlLyPoloTa1T+6ACquXXxRLx9Bt9oIusXoOuiif3QBR9xRSMqr/9GZ1EH3pS99abbPPvu4bUBTxEejDFf/l4ugW20E3WIQdGtE4Uobga5atr/aw+uNi+IUEXT33Xdftw1oAjttxGqYncLAF/Vy2cWABN1qIugWg6BbE+oo1DmoY1h55ZXDxqBzDYeGhsK3dO85KIZOF0l5Ic1LXvISgi4aTTVKteqMM84Itev1r399CL2qad74KI6WBafwVBNBtxgE3ZpRgZowYULYGChWzfDiF7+YC3PQeKpXd999d6hdkydPpn4BOQTdYnQddHXIg8Me/WVB12tD/WhZzpgxw21DWupIOC+0fxYsWLAw6HrtwCAj6Baj66Cb+vxEdI+g2xz//e9/Cbol4UKc/iPoAq0RdItB0K0hgm5z/Oc//wnLcubMmW470iHo9h9BF2iNoFsMgm4NEXT7SxcBpvqt/n//+99hWe63335uO9Ih6PYfQbf/dPSI+69XE0G3GATdGiLo9lfKbeBf//oXQbckBN3+I+j2F9tAtRF0i0HQrSGCbn+l3Ab++c9/hmW5//77u+1Ih06+/wi6/cU2UG0E3WL0NehqgQJle+yxx9z1sVMpt4F//OMfYZ4OOOAAtx3ppOzkH3744UXWKaAMG2ywobs+doqgW20E3WL0Peiuvf6EbJfpx6ALG26+Xbb2BnxuvdA6p2LvrY+dSrkN/P3vfw/zRNAtns5LTNXJW2Dw1jG0t8Z6G2cbbbWT24bW1FdqnfPWx04RdKuNoFuMroOuNpRU96HUAtXGe/X9GVA4dRZa56oYdD/1qU+57UhLFxKm+FW7OOh66xqQGkG3+Qi6xeg66KakBUrQRVmqGHT/9re/hXk68MAD3XZUE0EXZSPoNh9BtxgEXQyMKgbdv/71r2GeDjroILcd1UTQRdkIus1H0C0GQRcDI1XQTXkf3b/85S9hngi69ULQRdlSBF2ZPn0699GtKIJuMQi6GBipgm5KzzzzTJingw8+2G1HNRF0UbZUQRfVRdAtRk8Xo6UKClqgBF2UpYpB989//nOYp0MOOcRtR1qnnnoqF6Ohlgi6zUfQLUbXQTfl+YlaoARdlKWKQffpp58O80TQLV5Rtxfz1jUgNYJu8xF0i0HQxcCoYtD905/+FObp0EMPdduRjoVTgi7qiKDbfATdYhB0MTBSBV3tGUxx+Fv++Mc/hnn69Kc/7bYjHYIu6ixV0J03b1721FNPuW3oL4JuMQi6XTj+0huzSbvuF36ZbL+TLnbHSWHO/Geyjx8+K7yOOtLZNzzkjpen+dtsh2nhMxU9V9Pyxh1EqYJuym1AHY7miaBbvEEPujNPvCjUB1Gt8MZJYdZVdy6sk6pj3jgezV/41cfn6leRNbaO9JlonfPWx07pC3qqbQDpEXSLQdDt0GFnXRnmd+LUmdku+x6dLb/y2ELmXcF0+VXGZWutv2l4nQ022zZbcpnhUcOu5kvz997tdw3Ps3nUc9XxeM8ZNFUOuocddpjbjnQGOeiqLrx66aFQF1Qr9L+CpTfu4lCAjuvQG1Ybyd64+jruuEY1T+Nonqy+2jwq+HrPGUQpgm7KbQDpEXSLQdDtkEKjiq89VvDU/KcOkXscdnp4rXhPrDoLdRzxeDF1WJqXfMcVQnNBgbyOqhh0//CHP4R5Ovzww912pDOoQddqVbwXV2FSX4Lj8VLI1yrVoPxr5+nLfL7miWqrnquaGA8fVATd5iPoFoOg2yEV6rgQe51HbPKeh2YX3LDgBcM1TG354UbTzYdn7d1tF3TbBWHNX9xR6D2oc9bnLvo/fl8K8wrMeo6No73ZatO8aV7y86dx4y8BVVXFoPvkk0+GeSLoFm9Qg66273yd0jarPabxMHPQ6ZdnW0ze3W0bbQ+raoPqhD3Wa+tzshqSZ3W01d5lDY+fq/Hbnd6g+qTXtFO4NK7VK03Hm38F7VbzVyV6P/qsvPWxUwTdaiPoFqProKsNRL+s4rV1SwtUG6+3UVeVCu3hZ18VDrUpYHrjiALtkksPh04jHrbSmFXdAOxR56SOVB1SPlzG2nUUeZpnUWEX/R8fWlRHoT09Cs56fQVYTd86So2fD7XaG9Pp6/dTFYPuE088EebpiCOOcNuRlpbb3Llz3bZu1CnoxlRHFA61jWuvrjeOqE7lw67qRFzP2lHYPOHSm0KwbFcnVTf0OcZftlvRvGu+FUxVj/Rc1cb4fWhadtqX1Tfbc22hOg61mqaGxeG8qgi6zUfQLUbXQTclLdC6BV0VUBVXzftoF1rEYVe6CbkqwPY6+oxadQQq+BrHgmg71qnERV3T1etYUFUnke+YFGStM9F48SFPdRqaZicdVb9VMeg+/vjjYZ7oeOqlrkFXIVHbu64DiAOfJw673YRcieukLkzzxhGNp3G8tjzNu+pTPCxf08Iyea5WiQVZq4+aRnz0S1/a89OsKoJu8xF0i0HQ7ZEFzLioeizsSqchN6YAmd/rmm/XfHQSdDWvXlHXMNtLq//z7ykeZq9nnaQ6jXanVVRJFYPuY489FuaJjqde6hp0jbZnzf9oezIVdl+z3IpdhdyYfWFvVSd1CoXmw2vLi79wx/R8q3/x/157/ot6/CW/6gi6zUfQLQZBdzF4exjy1EFY0O21s7BQrU7Da2/Xkeg56owVUDVOq6BrYXW0oCsWbjVNdRqj7RmqilRBd+LEidmUKVPctm49+uijdDw1VPegK2H+W9QNoy/YCrqtztnthL5Et/qiPlptU22xI2cpgq5YuNW09b/qWDx+VaUIurrLy9DQUJLTd5AeQbcYBN0OqBBqr2o+0I0WdC3kak9ufBqDN65Rp5A/B1avq8+qVUFW6NShSK9dbSrm+l+dRLw3w8QdSCdBV/Oj6aiz0HPjcassVdBN6fe//32Yp6OOOsptRzXVKehqe/WCpuY/vlA1Lz5dwTtn16M6md9DOtrpAapP9kU7pnqmumZtmkZ+PDs1wYKy/h8t6GoadgqD97pVlSLootoIusUg6HZIBVzzamFShVPznw+/5qSv3vKC0xU6CbvqJDRdK9x6PXU47ToKHX5UZ6Hx4udZsLOOR8M0Xtw5K8BqHDuE2UnQFQVchd18KK+yKgbdRx55JMwTQbccqX4Rqk5B1+pDfK6stlsNa3XqQhxyTSdhV7VCz7U6qXqkOtEuUNsXec2fPU/zpQvZNI9W06w2WmjVuPmL3eL2VsM0PU1X82XTrgOCbvMRdIvRddBNeX6iFmhdgq4Krwqq5ll7GfQ3H/5iKuzeObka1q7oizohTV8dhv6q87AOoBUVbI2n8U0Itbl5VKdiRV70f7wHptOgq8d6jVYdZRVVMeg+/PDDYZ6OPvpotx3p2I9znHLKKW57N+oUdMW2e9Uubff6otruS3qrL+OjBV3VKatDVr/a1UmjGqR50vhGj/NB1OqO1WDV5HgcDRst6IqeV6ejUULQbT6CbjEIul1SUc0XzSKow9DrdBskNb6eN9o8lvU+qqTKQfeYY45x25GOhdMU50PXLegabfP58FgEqy+jfUHPs+e1q3tWG8t4H1VC0G0+gm4xCLoYGFUMugsWLAjzRNAtHkEXdUbQbT6CbjEIuhgYqYJuyrsuWNA99thj3XakQ9BFnaUIujp9Z3h4mLsuVBRBtxgEXQyMVEE35Tbw0EPP/lrTZz7zGbcd6RB0UWcpgm7KbQDpEXSLQdDFwKhi0P3d734X5um4445z25EOQRd1RtBtPoJuMQi6GBhVDLoPPvhgmCeCbvEIuqgzgm7zEXSLQdDFwKhi0P3tb38b5umzn/2s2450Bvn2Yqg/gm7zEXSL0XXQVWeR6qbrWqAEXZSlikH3gQceCPN0/PHHu+1IK1XtIuiibATd5iPoFqProJuSFihQtioF3d/85jdhngi69WKBASibtz52iqBbbQTdYvQ16GpjQ2+mT5/uDsfovHWxGymD7v333x8K2wknnOC2o7q8dQujO+igg9zh6Iy3LnbKjiAt7nRQDIJuMfoadNEbfStPcZ4hejN//vzQYXht3fr1r38dCtuJJ57otgNNoy/pqbYfdE/9R6pTeJAWQbcYBN0a0o8VjB071m1Dvdx3330EXQyUMWPGhLDrtQGDjKBbjK6DborDJ+idvonrl220MWjPojcO6uNXv/pVWJYnnXSS24601JHwq1D9o89e6ztf1IEXIugWo+ugm/L8RHRv9uzZYUOQVD9Di/6xoPu5z33ObUc6XIjTf6pZVr/4wgEsiqBbDIJuzeizt45Ce3a9cVAf9957b1iWBN3iEXT7S0ejrHYJX9SBRRF0i0HQrRG7YjamPbzeuCiOLgRM9bn/8pe/DMvx5JNPdtuRDkG3v+KjUYaLoso3Y8YMTnurKIJuMQi6NaIOOt9RTJw40R0XxUm5Ddxzzz1hOX7+859325EOQbe/xo8fnw0NDS1Sv/iiXi62gWoj6BaDoFsjulpZ3vGOd4SNQSFXf7lVT7lSbgN33313WIYE3eLRyfePHY2yc3RXW221EHpHRkbc8VEMtoFqI+gWg6BbI7oljw6br7766mFjUNFSx0HQLVfKbeCuu+4Ky5L7IhePTr5/dKhcteprX/taWAb6sq7lwG3GysU2UG0E3WIQdGtowoTF/81z9C7lNvCLX/wiLMtTTz3VbUc6Clt08v21YMGCsAwmT57stqNYBN1qI+gWo+ugqw2F28L0F0G3v1IG3TvvvDMsS4JuObTnnCMg/UPQ7S+CbrURdIvRddBF/xF0+ytl0P35z38eluVpp53mtgNNQtDtL4JutRF0i0HQrSGCbn+lDLp33HFHWJann3662w40CUG3vwi61UbQLQZBt4YIuv2V8j66P/vZz8KynDVrltsONAlBt/90ASD30a0mgm4xCLo1RNBtDoIuBglBF2iNoFuMni5GE68N5SDoNofdCeALX/iC2460dNEfF6P1D0EXaI2gW4yug27K8xPRG4Juc/z0pz8Ny/KLX/yi2450uL1Y/xF0gdYIusUg6NYQQbc5fvKTnxB0S8KFOP1H0AVaI+gWg6BbQwTd/tKewVSHv2+//fawLM844wy3HekQdPuPoNt/8+bNy5566im3Df1F0C1GX4PunDlzQqeD7owbN25hh43ueetiN1JuA7fddltYlmeeeabbjnRSB938eoXR7bfffmEZrLHGGm472lOf6a2LndIX9JTbQCu6K01+3jG6sWPH0rcvBm9dlL4GXS1QoGyLezFlym3gxz/+cZgngm7xUgZdmxZQNm997FRZRzXy8wyUoVXf3vegu/I6E7I9b8zQhWnf+Wv24a897LahtXWnHdN2Y+hUym3g1ltvDfN01llnue1Ip4igq3XKW9fQ2i5f/V2223X/ctvQmvpKrXPe+tipMoPu2utPyI6/9EZ04dAz5mYHnj7HbUNru0xv37cTdDEwqhh0f/SjH4V5Ovvss912pEPQRZ3VMehefX8GFC550NUGol9W8dq6pRkj6KIsVQy6t9xyS5gngm45tNzmzp3rtnWDoIuyEXQBX/Kgm5JmjKCLslQx6P7whz8M83TOOee47agmgi7KRtAFfARd4DlVDrrnnnuu245qIuiibARdwEfQBZ6TKuhOnDgxmzJlitvWrZtvvjnME0G3Xgi6KFuKoKv75w4NDSU5facdzSdBF2Uh6ALPSRV0U7rpppvCPH3pS19y21FNBF2ULUXQLYvmk6CLshB0gedUMejeeOONYZ7OO+88tx1ppfpFKIIuykbQBXzJg27K8xM1Y4MWdNfacWZ4z3lrT94v2/H8O93ntKJpidcmmp6m3W1bU1Ux6N5www1hngi6xVPI1Wd9yimnuO3dGMSgazXD8659Z2XTrnnGfV4rK41s2rbmtatvo9W+JtLnrHXOWx+rRvNJ0EVZCLoVo+Iu6+569CKWWuHZn/7rJuzatLw22eb0Z/cWdtvWVFUMuj/4wQ/CPJ1//vluO9KxcJriQpxBDLpWM97yvl0XqV0KnEssOZQt+6Z13Oe1omlpml6btKtvo9W+JiLoQj+OMOuqO922QUbQrRgVZ3UO+eHaG6Kwq04k39bKaMWeoLuoKgbdefPmhXnSb8N77UiHoLt4rGZ44bRdWyujjd+uvo1W+5qIoFu8PQ47PVtr/U3dtpTmzH8mW3KZ4RBcvfaYxt1sh2nhMzV6rsKdN/4gIuhWjIqzF3Rl2VVHsnEbbbvwscLvW7aaFvaUiE5viA8PjlbsrfPptq2pUgVd3XEh1V0XLDARdItH0F087cKs6pLaJhxy0cJhOjo17t3bZUssNRzqfNwmraZl2tW30WpfE6UIujp9Z3h4mLsuOGaeeFGY76KDrvbIvnH1dcJrjRZ0FXI17htWG1lkXAVyPX+XfY9eZPxBRdCtGBVnL+i+c59nV9wtj7ty4TAFX42vzkD0OP68Riv21jF129ZUqYJuym3g+uuvD/N0wQUXuO1Ih6C7eKxm6G88fJc5D4Uv5Dp9Qf9rmEJu+Hz+V+s0vuqa2uOw600r1q6+jVb7mihF0E25DbSj16hT0FW4ffXSQ+FvkUFXAVV7Y9+7/a7hMxot6CrIar4UeL02TSvfpiB9wqU3LTIsT+M06RQIgm7FqDjrfefptAWFXRtP/6tjiPfgqhPRuHYe72jFvl2YbdfWVFUMut/73vfCPF144YVuO9Ih6C4eqxkefQmPQ6uOTMVHp0QhV3t37bGeR9DtHEG3OAqes294KITH0YKu2g86/fIXDF9pzKohyOaHxzR9C7f6jEYLusuvPDbMm9emgBuHXAXX5VcZF4KxnqcQrL3U1q75njh1ZthDrHH0+vrfpqFh+fnXa2+w2baLDKsigm7FqDjrPFwVeNEej/yeDtEFHkuvOC50pDF9ZhaIRyv21jF5bdrD0qqtqezzq1LQve6668I8XXTRRW470iHoLh6rJ6o/Vr8UZnVaVf4iWn1xV22Pa5f2+ur59uVd/2sa8fNi7erbaLWviQi6xesk6IpC7RaTd2/5uBP6jEYLuhpH8+S1xRRWbU+xDbNTMWzPrd5X/JoK9gq3Nn0LwfZ8UXsclquKoFsxKs75Uxf0WJ9FfNqCwrA6C7XlWecwWrG3jineK2w0HbXlhzcZQXewcXuxxWP1JB9OtTdXe2rjOqPxrNbl2ekN3rRi+rLfqr6NVvuaiKBbvE6Drli47SXkij6jToJuJ0HTQm3+NAad26sAq//1vvLvTY8t6CoQaxoKwHqsaSroxuNXVfKgq84i1U3XNWME3WflOwuNoz26+fE03MYZrdjbqQ5xgDYK0nrN/PAmq2LQ/e53vxvm6eKLL3bbkVaq2kXQfX646oyOSunCMxumupS/z632+up+u/bYm1bMrlvIf1HXY9VK7qPbPYJue90EXXnpS18Wgq7XNhp9Rqn26Gochdr8cO3htfejvxZ6TRx0JQ7GOmWh1WkTVZM86KakGSPoPssu3rDbi1nnocN9No7aNMz2iGhaOmw4cdZNL2DP0TjqFCYcenHoINSxWOCLzwkeBFUMutdee22Yp0suucRtRzURdBdtU01Tm32p1qlY8WPVHtWq+Iu52hV887XL6pvVQPURGq5p6K8CtZ5r4w0Kgm7xugm6ZezR1by0+hz1XJ2uYOcW6//8OHq+vZ98qPWG6RxdneerPcOav7pcsEbQrZhWQVess7CORH/thyRE/8edjKZlbXk2jjoHnUcXt6nzGLSQK1UMut/5znfCPBF064Wg+8J276iUxjeqV9YmcVssro/aAaDpxu16nD8neBCkCLoPPPBAmAZB19dp0M2H217Crj6j0YLuYWc9ey2Nd/qC9r7qojP9b6cdxMHUztu1C8w6CboWcLVX16ZdBwTdBtCeixR7L9Q5DNpekFiqoDt//vzQYXht3fr2t78d5unLX/6y245qGsSg2yvVnTjg9kLPV8Be3OnUWYqgK1p3U53C04rms6lBV+2T9zz0BcMVdke760JMn9FoQVd0+oDG1Y9GfPzwWSHU2d0V4mCr+dLw/U66ODv87KvC56+wauftdhJ0xV6vm/fSbwRd4Dmpgm5K11xzTZinSy+91G1HNRF0UbZUQbcMms86Bl3tOc2fx1oUhcxOTw3Qnl2dM6vniMKoXTQWs6Bu48QXp+l95fcMe8MUvvV8b/pVlTzo6pBHqsMemjGCLspSxaB79dVXh3ki6JZj0003TfKrUARdlI2gC/iSB92U5ydqxgi6KEsVg+63vvWtME+XXXaZ2450LJym+KJO0EXZCLqAj6ALPKeKQfeqq64K8/SVr3zFbUc6BF3UGUEX8BF0geekCrr6wYHZs2e7bd268spnr6ol6BaPoIs6SxV0Z8yYES6o9dpS0XwSdFEWgi7wnFRBN+U2YEH3q1/9qtuOdAi6qLMUQTflNtCOXoOgi7IQdIHnVDHofvOb3wzzNGfOHLcd6RB0UWcEXcBH0AWeQ9AdbARd1BlBF/DVIuiqswDK0G5j6FTKbeCKK64I83T55Ze77UhH5yXqs04ddIEy1DHoKoAAZdA6lyzo6h6UKe5DKZoxoGz33nuvuz52KmXQ1bakefra177mtiMtXUiY4lft7rrrrhesV0AZvPWxU2UF3XXXW+8F8w0UrdVFll0HXfSffr4x1ZcNdC9l0P3GN74RNlCCLgYFtat/ygq62pmg10L3jj32WHc4Rueti0LQrSHtlZoyZYrbhuKlDLpf//rXQ8ejv1470DQTJ05Mdns+dEdhoIygi97oS6C2D68NvSPo1tD48eNDsdKeXa8dxdIXDfHauqU9uVqW2rPrtQNNotNGtL7TmffP9OnTC7+PLnqj7ULbR4rTq/A8gm7N2AU1wl6R+tNFaFqWHM7FINAXRKtfdObA87TjyraNVDtS8Kyug+5o50KgWPo2bhvDyMiIOw7qQ7cV07Ik6Jbj1FNPJWD10ZgxY+jMAUf8JXDs2LHuOOhN10E35fmJ6N7Q0NDCjUHotOtNv4im5ajbjHntSCfl7cXQvfholNCZA8+zUxINp5ekQ9CtEe31izcE0R5eb1zUw1e+8pWwHPXDEV470uFCnP7SBbRx7RI6c+CFXwKFC87TIejWiJ2obof/9Je9IuXTXvRUe9IJuuUh6PaXjkbZXis7MkVnXr558+ZxIXPF2CmJtl1oOxkeHnbHRfcIujWiDUBhd9y4ceF/ddj6yznT5Uq5DVx22WVhGV555ZVuO9Ih6PaPHY363Oc+F/6uuuqqdOZ9oC/obAPVo4BrO660fOx8XS44T4OgWyP6Fq5CNWHCsz8FaY+9cVGclNvApZdeGpYlQbd4BN3+Uq26++67wzKYPHlyeMyexXKxDVSTtgWdvrDuuusu7NvZgZUOQbeGLOh6bSheym3gy1/+cliWBN3i0cn334IFC8IyUND12lEstoFq23TTTenbC0DQrSGCbn+l3AYuueSSsCyvuuoqtx3p0Mn3H0G3v9gGqo2gW4yug642EK707y+Cbn+lDLoXX3xxWJbf+ta33HakpeXGPYv7h6DbXwTdaiPoFqProIv+I+j2V8qge9FFFxF0MTAIuv1F0K02gm4xCLo1RNDtr5RB98ILLwzL8uqrr3bbgSYh6PYXQbfaCLrFIOjWEEG3v3SLt1T3/7zgggvCsrzmmmvcdqBJCLr9pav5dSsrTt+pJoJuMfoadDfccMOwUIEyVemWbLpPouaJoFsvDz300AvWK6BoCkLe+ohmIOgWo69B1zZcdEc/GLHccsu5bWhP65wO33nrYz+cf/75YZ6+/e1vu+1IK9V9W+0QsLeOoTWd8rPsssuGH4zw2tEeIajZWMbF6Dropjw/0ToKrw1ITeelaZ2rYtD9zne+47YjHYVcfdb61SGvvRuc64iyEYKaj2VcDIIuBkYVg+55550X5omgW7yU4ZSgi7IRgpqPZVwMgi4GRhWD7pe+9KUwT9dee63bjnQIuqgzQlDzsYyLQdDFwEgVdHXHhVR3XTj33HPDPH33u99125EOQRd1liIE6fSd4eFh7rpQUQTdYhB0MTBSBd2U28A555wT5omgWzyCLuosRQhiva02gm4xCLoYGFUMumeffXaYp+uuu85tRzoEXdQZQbf5CLrFIOhiYFQx6J511llhnr73ve+57UiHoIs6I+g2H0G3GARdDIwqBt0zzzwzzNP111/vtiMdbi+GOiPoNh9BtxhdB111Fqluuq4FWoegq/nMGxkZ6fqEfv0iV6cFxgqS14beVDHonnHGGWGeCLrlSFW76hIYbJ3PmzRpUjZ//nz3Oa3oPeuX/Ly2PL1uqm0EzyLoNh9BtxhdB92UtEDrEnS1F0hFwuiqew3v5udkuwlIVpC8NvSmikH3i1/8YpJ5Qrls+6xL0NX8Gn1BHz9+fPiy7j2nlW7er8Yj6KZF0G0+gm4xCLod0HyqQHjD8wVDe4zmzZsX5PcetQpICssaPw7NVpD0v02zm71R2lvTbo+Npt8upOu5+Xabz3g+bFg8XlXFnb7X3qmUQfcLX/hCmKe6fIZ4Vl0Cg63z+eEKuxqerxG2PXvrY6v3q88iP77Gs22klxrRrj55dShPz8+3673m52O0OlklKUKQPrs6rLeDiqBbDIJuBzSf+XCkIqrh8aG86dOnh2HaWzJmzJjwv50PaB2OsWnYiq3n6O+MGTNCW9yR6u/Q0FD42+7QoToW7WnWnhobX//HBV/T030Ubf7UHhf6+DXFhul19demq45Sr9XqdarI3ld+WXZLn1erTrhbs2bNCvPUbRBAf8Xbp9deFbbO54dre9a2a4/jWqQ6or+qE1Yb9NhYgFXb2LFjw3RUT+L7s+p1VRM0TasR8fQ8Gkc1RePZc6ZOnbqwXfOoUy40PK6XVnf0mpo3a5s4cWJYThomNk3Ns4bHr6Paba9TValCkN571Wv1oEq1jLEogm4HNJ8quCqkouKqYhn/aIAKuMaLC7kFX3tsBdce6/nqICw02TTUWVhHqnGsKGl6Ks72/DxNW8/Rc/VY01Uht7BtYdXaNV11BuqQbBpqV0eh59p7sWE2H/Y6Nt14vm06VWSdvr3/KrCg+4Mf/MBtRzXZ9ql1ymuvClvnrXaJapnqTvylWcM1zLZx/dV2rvpg4+Tfr8aP21UPrD5pPI1vr6Hpafy4ZuZp/LjOaHoaZnXIq5d6bPNkr6k6qXHElpMFWU1bNVFsuvY6+r/KCEHNxzIuRtdBV8UkLnaLQwu0LkFXBdiCqqhQat6t6FpRjZ9nwdIe23PtcRxCjaYRF+h4mjYsHj+Wn74Ns+Wl//MdjV4rfh39H3eA3jDrUOJx4g6nqmy+48+0304//fQwTzfccIPbjrS0zab4QmbbYl3WeasNYns87eiRKPRZLTOqFRrfHsfv195//ByFSA3XX42nmmBtomHx9PI0vXw91LB2tckL1xaUxeYzHqZ5iAO6jWOvU1WEoOZjGRej66BrxdJr65YWaF2Cbr4IqnCqw4jnX+Po0JqtrAqy8Uqb/+y86RorvqMNi2na+UNwGmadU/x/TNO0DsSbp/wwr8NqNe0qsY6w1WfeD6eddlqYJ4Ju8Wz7SbGeppxWkWydzw+3ozBxsNT/ql06WqU2BdV4O4/fb/5LfJ7Gy9cIb1hM02tVe+zzzrfbcP3vvde43eRrVatpVw0hqPlYxsUg6HagVRGMC6v2Eul/BU2NG++VtfHzn503XdtDkn9uq2GxfAHPD/PaJZ4Pb57ywzSN+H1Iq2lXiebPe3/9dOqpp4Z5uvHGG912pGPbT4r1NOW0imTrvNembda2Y9UtO8Jk24eeG2/n8fu1929txvac5p/balhM08tvmzZM0/Xare7qf++9evOpebD3EY+Tn3bVEIKaj2VcDIJuB1oVQX0Odnguf5hP8oVXh8vicfTc/KkE2kus53kF2hsW07TjAp4fptfS3pq43fbMWMD23mt+mKaXf6/ea1eN5s97f91SGMgfQu2VpqV5uummm9x2pGPbT4r1NOW0imTrfH64gqMO+dsRIO+92Ola9jgex/YIx9uSaoiGqU3j5WuENyyWn15+mIJ4fh5V0zSf+l9tGj9ut+UUD8vXKhsn/9pVkyoE6ZQVOz8Z1ULQLQZBtwOaz/zFaLqAS8PtfD8LLBdccEG4gl7jKchqmBUVDVPnYkXW9kbosZ6j11Ax9/YGizcsli/g+WGarqav0yv0eppXzU8ctjX9fMHPD9P08uuA99pVo/nz3l+39F7z779Xn//858M8EXSLZ9tPivU05bSKZOu8/hrVGW33qgW2B9YuSlVdENUItccXqqqeqV7blzyFZH1xVh254oorwri2Xeh18tuINyzmbZvxsHy91F89thpsj+Pn23KKh2keNG5+nPxrV02KEGTvNX7/qA6CbjEIuh2w9xxToch/K9Ywa1cnoE5E/1sBVdC0vbq2B1Vt9hy12XBNW8Ns2q2GxfSa+T2N+WGavu19FgX0eHwNy7+v/DBNz/YEGe+1q8Y6wsXt0Oyz89q6dfLJJ4d5uvnmm912pJOyk69LYNA2aeurUZ3Rdm8hV/R/XBf0PKtNNp4CpR7HX4zjmqf/bVyvRnjDYprGaLUnXy/jbdneqz0Wr2bma5WNk3/tqiHoNh9BtxgEXQwMFXetc3Hn2IuU28DnPve5ME8//OEP3Xakk7KTJzCgbATd5iPoFoOgi4FRxaB70kknhXki6BZPe+xSdfIEBpSNoNt8BN1idB10dfjKzolaXFqgBF2UpYpB98QTTwzzdMstt7jtSEuH7O30oMVBYEDZCLrNR9AtRtdBNyUtUIIuylLFoHvCCSeEefrRj37ktqOaCAwoG0G3+Qi6xSDoYmAQdJEKgQFlI+g2H0G3GARdDIxUQVeHv/N3q+jV8ccfH+bp1ltvddtRTQQGlC1VCNJdJ6p+h4lBRdAtBkEXAyNV0E3ps5/9bJinH//4x247qomgi7IRgpqPZVyMroOuCnyqoKAFStBFWaoYdI877rgwTwTdcugnl7kYDXVECGo+lnExug66Kc9P1AIl6KIsVQy6n/nMZ8I83XbbbW470uH2YqgzQlDzsYyL0fegC5StSkH32GOPDfN0++23u+1IJ2U4tWkBZfPWRzQDQbcYfQ26e+21V1iw6N5GG23kDsfovHWxGzr0neLwtxxzzDGhsP3kJz9x25FO6r2w3roFFGnmzJnuutiNefPmLfLzz6gOLWOCbnp9DbrojQ7Bxr/VjnKl3AaOPvpogm5JON2gGlL9aAe6p8+dbaC6CLrFIOjWkG4PMzIy4raheCm3gaOOOioUtp/+9KduO9Ih6FbDmDFjkt2eD91hG6g2gm4xCLo1NDQ0FDYG9or0R8ptQB2OliX3tSwenXz/2QWBY8eOddtRLLaBaiPoFoOgWzNz584NG4Joz643DopF0K0nOvn+mzJlysL6xTpfPraBaiPoFqProKsNhIDVPxMnTlzYUbBXpD+KCLo/+9nP3HakpeWmL4teG4pnR6NEodcbB8Uh6FYbQbcYXQdd9I+ulLVOwtBply9l0D3iiCPCcrzjjjvcdqApdAFtXLuGh4fd8VAcgm61EXSLQdCtEV3AEXcUwl6R8qUMuocffnhYjgRdNF18NMpw95hyEXSrjaBbDIJujYwfPz4c+tM9dLUxKGzpL/dELJc67FRfMA477LCwDH/+85+77UAT2G2tLOyuvfbaCx9746MY6ivUh3AksJoIusUg6NaECpQFrFVXXTVsDNobovDL3Rfq69Of/nRYlnfeeafbDjSBLjxTrbLTF9Zcc81Qzwi6wPMIusUg6NbQhAkT2Bga4tBDDyXoloijH/21YMGCsL5PnjzZbQcGGUG3GF0H3ZTnJ6I3BN3mOOSQQ8Ky/MUvfuG2Ix27mJMfK+gfgi7QGkG3GATdGiLoNsfBBx8cluVdd93ltiMdLsTpP4Iu0BpBtxgE3Roi6DbHQQcdRNAtCUG3/wi6QGsE3WIQdGuIoNtfuiAw1V0XDjzwwLAs7777brcd6RB0+4+g2186fUf3L+auC9VE0C0GQbeGCLr9lXIb+NSnPhWW5T333OO2Ix2Cbv8RdPuLbaDaCLrF6GvQfeyxx8KGh+6ss846YWPw2jA6b13sBkG3nrTsU3by+fUKo5szZ05YBurQvXa099BDD7nrYqc0jZTbANIi6Bajr0FXCxQom4q9tz52KuU2cMABB4R5+uUvf+m2I52UnbxNCyibtz52iqBbbQTdYvQ96K69/oRsl+nHoAvv2W5q9s4ttnfb0J7WuSoF3f333z/M07333uu2I52UtxezwOCtY2hvg822zTbf8WNuG1pTX6l1zlsfO0XQrTaCbjG6DrrqLFLddF0LVBvv1fdnQOHUWWidq1LQ3W+//cI8/epXv3LbkVaq2hUHXW9dA1Ij6DYfQbcYXQfdlLRACbooSxWD7syZM8M8EXTrhaCLshF0m4+gWwyCLgZGFYPujBkzwjzdd999bjuqiaCLsqUIug888ECYBkG3mgi6xSDoYmCkCrrz588PHYbX1q3p06eHefr1r3/ttqOaCLooW4qgK1p3U53Cg7QIusUg6GJgpAq6Ke27775hngi69ULQRdlSBV1UF0G3GF0HXR3ySHXYQwuUoIuyVDHo7rPPPmGe7r//frcdaakjSfGrUARdlI2g23wE3WJ0HXRTnp+oBUrQRVmqGHT33nvvME+/+c1v3HakY+E0xRd1gi7KRtBtPoJuMQi6GBhVDLqf/OQnwzwRdItH0EWdEXSbj6BbDIIuBkaqoDt79uzAa+uWBd1UF7ehNYIu6ixV0NWdXnRBrdeG/iLoFoOg24WZJ14U5lcm7bpfNmf+M+54i2vWVXdmG26+XXgd/T3+0hvd8fJs/vS5LrnMcHiupuWNO4hSBd2U28Bee+0V5um3v/2t2450BjnoqlZpXq1+7XfSxe54KcR1crMdpnVUJzWOauobV18nfK76q/ktqsbWkdV2b33sVMptAOkRdItB0O3QHoednr166aFQxBU837DaSCjG3riLY/YND4WQ+t7tdw2vs8u+R4fPabSwu9b6m4b50/gaVzRM0yLsPquKQfcTn/hEmCeCbvEGOeiqFqhmHXbWlaGGqVZMnDrTHXdxaNr6XFQvVYP0c7/LrzKubWBVfVKdWn7lsQvrq/7qsWosYfdZBN3mI+gWg6DbIRVdhUh7rECq+R8tgHZLnY86pHiYHiv4xsNiFoa9QKsOrohAXkdVDLp77rlnmKcHH3zQbUc6gxp0VRc0r6pZNkxBVOEyHi8F1ck4QCuk6rUVsOPxYqpvkg+0emxf3uPhg4qg23wE3WIQdLsQF2LrPFrtLT3o9Mvd4dKuTfIFf7Sgq86lVbvmLw7j6ux0OFGdnOj0hrgDVCelTlDDbRwdUlSb5kvBOR/u1RHVoTOqYtD9+Mc/Hubpd7/7nduOdHReoj7rQdyjm68p2s4VIuNh5qSv3tKyRqk2eMNj8Wvpf31OrXYIWB1tFYQ1PK6xmo4FPu0pzn/+qk8aPx7Hpq2/Xn+jvc7tgnhVEHSbj6BbjK6Dru5BmeI+lKIFWqegKwqFHz98Viig7cKnOorXLLdidsENCxYZrr2rowVdo+KrwKkgG4fRPH2OOtTntcXU6Si4Wmcg+UOLatP01KGpXX/j6as9/77tlI54WBVVMejuscceYZ4IuuU45ZRTklz4V7ega7RN64trvE3nqWYtufTwC+rUFpN3D+Jhrahe6Txg1TvVGG8csfqSD+Iehdzwmf/vS7Wmr/qY/5Kvdg1Tm96r2lTzNH0L3fH71nidvn6/EXSbj6BbjK6DbkpaoHULuiqSCnsqpqNdkKaOQh2GOg7pJuSqkNvr6DNS0fbGs+Lfao9JTPOuceN51v8KqranRq8p1i7ao2x7bDUNdRzWpset9gxVTRWD7u677x7m6aGHHnLbUU11Dbrak2t1JQ58efmw203IFauTqg3tLkhTXdHn6LXlKTDna5MFVdsRoP/j96W6qWFWHxV84+Cdf1xlBN3mI+gWg6DbIxVWFfHRDtlb2PX2kHTK9rp6baLPUQXfa4tpXvMdhWiYnVen//PvKT8s3oOrecvv4a2qKgbd3XbbLczTggUL3HZUU12DrtH2q/lv9wXZwu7aG0zoKuTGFHDze11jtkfXa8vTdLx6G78P7z3Fw+I9uKIv7Z3Uziog6DYfQbcYBN3FoOLtBceYdRai/71xRqMirc+q1V5ddQDxBSAxPdfOw20XdK0j6iTo2l4QdRTt5qtqUgVdHf4Wr61bH/vYx8I8EXTrpe5BV8L8O8ExptqxxCte1fOXdNFrtPqint/jmqcgbLUtRdAV25stdTkaJSmCrkyfPp376FYUQbcYBN0OWKDLf/NXAGx32Cs+/Gd7dkcLu5pefprxXoh4uFFHYOeh5ds0LRV2/a9OwxtP7fGpC6MFXeuc9Bybdh2kCropTZs2LczTww8/7LajmuoUdG3vbbzdW02zIzMeO10hrmPeeDFvmqPtEFAN8foBzaPqlX0JVy2z/40CrF7Tvmzr/9GCruql1dlWOwiqKFXQRXURdIvRddBVgU8VFLRA67JHV0VR59jauWB2yC1fVI3XOXQSdi3UWmehAj7ahW/qEHQercbTBSB6zgmX3hT2xmhaFtA1XnzOnOh/DbP31UnQFXVO6oQsINdBFYPurrvuGuaJoFuOU089deAuRmu13Wsb1v/ec/Ln5HYadhUcVYcseFqdbHd6gGqo5k/16vCzrwrP1V/V23geLdTqYmA9Vs3SOHGIVvtoQVfP0zCxulcHBN3mI+gWo+ugm/L8RC3QugRdFVuFTSuQKsDtivfkPQ91OwUNG+18NzukZq+lzqNVh2Rs/uLnaR7zRV+diDoGG0cB2Tol6TToWgdWp46CoDvYBvn2YtrGta1rnkXbdLzdx3R7Ma9GKewqWOaHx/J1UvWo3V5jk69Lounk64tqblzjNE5cGzVstKArei19HvGwqiPoNh9BtxgEXQyMKgbdqVOnhnl65JFH3HakY+F0EIMu6o+g23wE3WIQdDEwUgVdHfpOcfhbpkyZEubp97//vduOdAi6qLNUQXfevHnZU0895bahvwi6xSDoYmCkCropt4GPfvSjYZ4effRRtx3pEHRRZymCrr6gp9oGkB5BtxgEXQyMKgbdj3zkI2GeCLrFI+iizlIE3ZTbANIj6BaDoIuBUcWg++EPfzjM02OPPea2Ix2CLuqMoNt8BN1iEHQxMKoYdHfZZZcwT48//rjbjnQIuqgzgm7zEXSL0XXQ1QaiX1bx2rqlBUrQRVmqGHR33nnnME8E3XJouc2dO9dt6wZBF2Uj6DYfQbcYXQfdlLRAtfHqHodA0aoYdD/0oQ+FeXriiSfcdlRTHHS9dQ1IjaDbfATdYvQ96AJlq1LQ/eAHPxjm6cknn3TbUU0WGICyeetjpwi61UbQLUZfg+7s2bPDBofu6fQRbzhG562L3Zg4cWLgtXVrp512CoWNoFs/3rqF0VG7ejdnzhx3XeyU7p87NDSU5PQdpEfQLUZfgy56oyKV6jxp9JcF3T/84Q9uO9A0+pEU/Ryz1wYMMoJuMQi6NaS9iWPHjnXbUC+TJ08OhY1fKioHn3P/aY+iwq7XBgwygm4xug66Kc9PRPfUUWtDEA4/1d+OO+5I0C2JbTunnHKK247i6XQ1LYPh4WG3HRhkBN1iEHRrRp20NgRhr0j97bDDDmFZ/vGPf3TbkQ4X4vSfjkZZ/VLo9cYBBhVBtxgE3ZoZP378wo5C2BNYb9tvv31Yjn/605/cdqRD0O2vBx54YJHaleqCTqApCLrFIOjWiC7giDsKYa9I+bQnPdXe9O222y4sR4Ju8Qi6/RUfjTIKv964KIZ2jOi0EU57qyaCbjEIujWiOy1oI9DFHPZ3ZGTEHRfFSbkNbLvttmFZPv3002470iHo9teYMWMW1i7D+dLlYhuoNoJuMQi6NaJOQp2Fnb6gvYr6y16RcqXcBiZNmhSW4Z///Ge3HenQyfePHY2yL+vrrLNOqGfcPaZcbAPVRtAtBkG3JnTISacp6JDTaqutFjYGFS3tESHolivlNmAX5xB0i0cn3z+qUfrcr7322rAM1ltvvVDPOPWqXGwD1UbQLQZBt4YmTFj83zxH71JuA9tss01Yls8884zbjnS4vVj/LViwICwD3T/aa0exCLrVRtAtRtdBV50FV/r3F0G3v1IG3Q984ANhWf7lL39x25EWtau/CLr9RdCtNoJuMboOuug/gm5/EXSB3hB0+4ugW20E3WIQdGuIoNtfRQTdv/71r2470CQE3f6yexkTdKuJoFsMgm4NEXT7S1eQp7oAcOuttw7L8m9/+5vbDjQJQbf/tFeXU3iqiaBbDIJuDRF0m+P9739/WJZ///vf3XagSQi6QGsE3WJ0HXR1yIPDHv1F0G2OrbbaiqBbInUk/CpU/xB0gdYIusXoOujq3ET9Gte8efMW4Y0rOsSbH9e0O/zrjS86bOyNL2rzniPe+NLL/Omwjze+lDF/utm6NoZWh5/6PX+ml/nrZZ0Qb3wpc/568b73vS8sy3/84x9uO9KxC3GmTp26yDItc5voZf2uwvylqimXX355WAbq0L3xpd389bLNlvn5pZ4/b3zjjS+9zB+qgaBbjJ6CrhZEnndxjjYqb9yYt+G1eg3j3WTc+x31mG7Mn3+OCoI3biz/HLFfJmvF22OkveDeuMabPxVAb9xY/jky2vypw88/Z7T506+w5Z8z2vzpN9XzzxH9GpI3vvHmz35RqRW1559jwaaVVvOn4d74xpu/Xm255ZZhmv/85z/ddqTTbn317q07Wk0ps+almr9ea15ZNbmomldWTU5Z83qpyb3WPFQDQbcYXQddFQxtgHmtDgeq2Hnji1e8pdVrGK+jUAH3xjWtwklZ86cC6Y1r1J5/jnjzN27cuLAx9Hv+NJ12n1+rXz0qc/68cU2rdbaX+evVFltsEZYlQbccrdZX1Y/8uL2uP+22iZTbbNXnz9tm99tvv7C+r7HGGu42K/2cv1irmtJu/upa81ANBN1icDFaDXGObnNsvvnmYVn+61//ctuBJuEcXaA1gm4xCLo1RNBtjs022ywsy3//+99uO9AkBF2gNYJuMQi6NUTQbY73vve9BF0MDIIu0BpBtxgE3Roi6DbHe97znrAs//Of/7jtQJMQdIHWCLrFIOjWEEG3OSzo/ve//3XbgSYh6AKtEXSLQdCtIYJuc9iyJOhiEBB0gdYIusUg6NYQQbc5KGwYJARdoDX6g2IQdGuIoNscSy+9dChuXhvQNARdoLW3v/3t2TLLLOO2oXcE3Roi6DbDD3/4w7AcDzjgALcdaBqCLtDaa17zmvBrmV4bekfQrSGCbv3ddddd4deh9O398ccfd8cBmoagC/iuvvrqsG3oF+y8dvSOoFtDTQi6uvhK947VT9/+/e9/z/76179mzzzzTPb000+Hn7F88sknQwB89NFHs0ceeSR7+OGHs4ceeih78MEHw8+13n///dl9992X3Xvvvdk999wTguOdd96Z3XHHHeGnMX/yk59kt912W3brrbdmt9xyS3bzzTdnN954YzZv3rzs+uuvz6677rrs2muvzb797W+HAnPVVVdlV155ZXbFFVdk3/jGN7Kvfe1r2Zw5c7KvfOUr2aWXXppdcskl2UUXXZRdcMEF2fnnn5996Utfys4555zsrLPOys4444xs1qxZ2WmnnRZ+HvTkk0/OTjrppOyEE07IPvvZz2af+cxnsmOOOSY76qijshkzZmTvfOc7s6WWWiosw5tuusn9fIAmIugCL6Rwq+1CPwnvtWPxEHRraNy4cWGj0Lmdi2PjjTfONtpooxC8Nthgg+wd73hHtu6662Zve9vbspGRkWzttdfO1lxzzWz11VfP3vrWt2ZvfvObs1VXXTV7wxvekI0dOzZ7/etfn6288srZSiutlK2wwgrZcsstly277LLh8MvQ0FA4/3TJJZfMXvWqV2WveMUrspe//OXZS1/60uzFL35xmP9Bpb2422+/ffbEE0+4yxdoKgu6qhVeTQIGyfrrr5+99rWvDduEjvB52wwWH0G3hhQm4+DUq5e85CXZy172smyJJZbIXvnKV2avfvWrw55GBbHh4eGwAb7uda/Lll9++WzFFVcMgXaVVVYJAVdBV4FXwVcBWEFYgXittdbKxo8fn62zzjrhxPr11lsvbMwbbrhh9q53vSt797vfnW2yySZhr7R+FWzzzTcP5yRttdVW2dZbb5194AMfyCZOnJhtu+22IQzuuOOO2U477ZTtvPPO2Yc//OHsox/9aDZ16tRs2rRp2W677Zbtscce2Z577pnttdde2d57753tu+++Ya/pfvvtF859PfDAA7ODDz44O/TQQ7PDDjssO+KII8K356OPPjo79thjwx5X7XnVHljtidUeWe2Z1R7aL37xi9mZZ56ZnX322dm5556bnXfeedns2bOzCy+8MLv44ouzL3/5y9lll12WffWrX80uv/zy7Otf/3o2d+7c7Jvf/GbYQ6w9xdpjrD3H2oOsPcm33367u0yBQWBBF8CLQj87adIkTlcoGEG3hjhHF0AdceoCgLIRdGuIoAugjgi6AMpG0K0hgi6AOiLoAigbQbeGCLoA6oigC6BsBN0aIugCqCOCLoCyEXRriKALoI4IugDKRtCtIYIugDoi6AIoG0G3hgi6AOqIoAugbATdGiLoAqgjgi6AshF0a4igC6COCLoAykbQrSGCLoA6IugCKBtBt4YIugDqiKALoGwE3Ro6//zzsyOOOMJtA4AqO+igg7LLLrvMbQOA1Ai6AAAAaCSCLgAAABqJoAsAAIBGIugCAACgkQi6AAAAaCSCLgAAABqJoAsAAIBGIugCAACgkQi6AAAAaCSCLgAAABqJoAsAAIBGIugCAACgkQi6AAAAaCSCLgAAABqJoAsAAIBGIujWxPz587OJEydmm266aTZ9+vTsqaeeyk455ZQwTG3ecwCgCmbPnh1ql6huqX6pjk2ZMiX87z0HAFIg6NaIOogXvehF2dixY0PncOSRRxJyAdTCJptsEuqXhVt9SSfkAigaQbdmrLPQnhHtJfHGAYCqeeCBB7KhoaFQvxRy9dgbDwBSIujWTNxZfP/733fHAYAqsqNSw8PD7M0FUAqCbs0o6I4fPz50FnYKgzceAFSNjkKNGTMm1C+do+uNAwApEXRrRKFW57fpfwu7dBYA6kDXE2iPLkelAJSJoFsT6hwmTZqUTZ06NTxWwFVHIZyrC6DKFGh1usLcuXPDF/aRkZFQuzgqBaBoBF0AAAA0EkEXAAAAjUTQBQAAQCMRdAEAANBIBF0AAAA0EkEXAAAAjUTQBQAAQCMRdAEAANBIBF0AAAA0EkEXAAAADfR/2f8HuObU78xUWnEAAAAASUVORK5CYII=)"
      ]
    },
    {
      "cell_type": "markdown",
      "metadata": {
        "id": "Wlb0-YcPFHkW"
      },
      "source": [
        "In what follows, we are going to implement the class `Residual`."
      ]
    },
    {
      "cell_type": "code",
      "execution_count": 1,
      "metadata": {
        "id": "Y2qinBlH67yV"
      },
      "outputs": [],
      "source": [
        "import torch\n",
        "import torch.nn as nn"
      ]
    },
    {
      "cell_type": "code",
      "execution_count": 7,
      "metadata": {
        "id": "Azx5UPSg69Xr"
      },
      "outputs": [],
      "source": [
        "class Residual(nn.Module):\n",
        "    def __init__(self, num_channels, use_1x1conv=False, strides=1):\n",
        "        super().__init__()\n",
        "        self.conv1 = nn.LazyConv2d(num_channels, kernel_size=3, stride=strides, padding=1)\n",
        "        self.conv2 = nn.LazyConv2d(num_channels, kernel_size=3, padding=1)\n",
        "        self.conv3 = None\n",
        "        if use_1x1conv:\n",
        "            self.conv3 = nn.LazyConv2d(num_channels, kernel_size=1, stride=strides)\n",
        "        self.bn1 = nn.BatchNorm2d(num_channels)\n",
        "        self.bn2 = nn.BatchNorm2d(num_channels)\n",
        "        self.relu = nn.ReLU()\n",
        "\n",
        "    def forward(self, X):\n",
        "      Y = self.relu(self.bn1(self.conv1(X)))\n",
        "      Y = self.bn2(self.conv2(Y))\n",
        "      if self.conv3 is not None:\n",
        "        X = self.conv3(X)\n",
        "      Y += X\n",
        "      return self.relu(Y)"
      ]
    },
    {
      "cell_type": "markdown",
      "metadata": {
        "id": "amBaFBP1FHkY"
      },
      "source": [
        "Consider the case when we do not apply 1x1 Conv1D, hence it requires the `num_channels` is equal to the `input_depth` (equal to 3 in the following example)."
      ]
    },
    {
      "cell_type": "code",
      "execution_count": 8,
      "metadata": {
        "colab": {
          "base_uri": "https://localhost:8080/"
        },
        "id": "e3yf5PkxFHkZ",
        "outputId": "0f4a8d5d-513b-4c3b-aab2-2f7a16e8e01a"
      },
      "outputs": [
        {
          "name": "stdout",
          "output_type": "stream",
          "text": [
            "torch.Size([4, 3, 6, 6])\n"
          ]
        }
      ],
      "source": [
        "blk = Residual(3)\n",
        "X = torch.rand((4, 3, 6, 6))\n",
        "Y = blk(X)\n",
        "print(Y.shape)"
      ]
    },
    {
      "cell_type": "markdown",
      "metadata": {
        "id": "0QOGIbFMFHkZ"
      },
      "source": [
        "If we apply 1x1 Conv1D, the output shape of the residual block can be different from the input shape."
      ]
    },
    {
      "cell_type": "code",
      "execution_count": 9,
      "metadata": {
        "colab": {
          "base_uri": "https://localhost:8080/"
        },
        "id": "ZmMzFR8BjaUY",
        "outputId": "209e6289-828a-4105-865b-1d97cb289b69"
      },
      "outputs": [
        {
          "name": "stdout",
          "output_type": "stream",
          "text": [
            "torch.Size([10, 3, 32, 32])\n"
          ]
        }
      ],
      "source": [
        "blk = Residual(num_channels=3, use_1x1conv=False, strides=1)\n",
        "X = torch.rand((10, 3, 32, 32))\n",
        "Y = blk(X)\n",
        "print(Y.shape)"
      ]
    },
    {
      "cell_type": "code",
      "execution_count": 10,
      "metadata": {
        "colab": {
          "base_uri": "https://localhost:8080/"
        },
        "id": "3SNFHc2zFHkZ",
        "outputId": "8653bb5b-c440-4d3f-d76d-cc825e47d6c0"
      },
      "outputs": [
        {
          "name": "stdout",
          "output_type": "stream",
          "text": [
            "torch.Size([10, 6, 16, 16])\n"
          ]
        }
      ],
      "source": [
        "blk = Residual(6, use_1x1conv=True, strides=2)\n",
        "X = torch.rand((10, 3, 32, 32))\n",
        "Y = blk(X)\n",
        "print(Y.shape)"
      ]
    },
    {
      "cell_type": "markdown",
      "metadata": {
        "id": "lHhetaCsFHkZ"
      },
      "source": [
        "### <span style=\"color:#0b486b\">I.2. ResNet Block</span> ###"
      ]
    },
    {
      "cell_type": "markdown",
      "metadata": {
        "id": "iDfHgoeGFHkZ"
      },
      "source": [
        "We now implement **ResNet block**. A ResNet block consists of several residual blocks and we need to declare the number of residual blocks as `num_residuals` and the common number of channels of residual blocks in a ResNet block as `num_channels`."
      ]
    },
    {
      "cell_type": "code",
      "execution_count": 6,
      "metadata": {
        "id": "wih5BpZhFHkZ"
      },
      "outputs": [],
      "source": [
        "class ResnetBlock(nn.Module):\n",
        "    def __init__(self, num_channels, num_residuals, first_block=False, **kwargs):\n",
        "        super(ResnetBlock, self).__init__(**kwargs)\n",
        "        self.residual_layers = []\n",
        "        for i in range(num_residuals):\n",
        "            if i == 0 and not first_block:\n",
        "                self.residual_layers.append(\n",
        "                    Residual(num_channels, use_1x1conv=True, strides=2))\n",
        "            else:\n",
        "                self.residual_layers.append(Residual(num_channels))\n",
        "        self.residual_blk = nn.ModuleList(self.residual_layers)\n",
        "\n",
        "    def forward(self, X):\n",
        "        for layer in self.residual_blk:\n",
        "            X = layer(X)\n",
        "        return X"
      ]
    },
    {
      "cell_type": "markdown",
      "metadata": {
        "id": "To3YfA4HFHkZ"
      },
      "source": [
        "Note that from the second ResNet block, we apply `1x1 Conv1D` over the skip connection of every first residual block."
      ]
    },
    {
      "cell_type": "markdown",
      "metadata": {
        "id": "ElVWNjayFHkZ"
      },
      "source": [
        "### <span style=\"color:#0b486b\">I.3. Residual Network</span> ###"
      ]
    },
    {
      "cell_type": "markdown",
      "metadata": {
        "id": "4IPnzatiFHkZ"
      },
      "source": [
        "We now declare our ResNet. Note that we set `input_shape = [28,28,1]` because we will train our ResNet on Fashion MNIST dataset."
      ]
    },
    {
      "cell_type": "code",
      "execution_count": 4,
      "metadata": {
        "id": "8fCkG-oAFHkZ"
      },
      "outputs": [],
      "source": [
        "class create_ResNet(nn.Module):\n",
        "  def __init__(self):\n",
        "    super().__init__()\n",
        "    self.layers = nn.ModuleList([\n",
        "                  nn.LazyConv2d(64, kernel_size=7, stride=2, padding=3),\n",
        "                  nn.LazyBatchNorm2d(),\n",
        "                  nn.ReLU(),\n",
        "                  nn.MaxPool2d(kernel_size=3, stride=2, padding=1),\n",
        "                  ResnetBlock(64, 2, first_block=True),\n",
        "                  ResnetBlock(128, 2),\n",
        "                  ResnetBlock(256, 2),\n",
        "                  nn.AdaptiveAvgPool2d((1, 1)),\n",
        "                  nn.Flatten(1),\n",
        "                  nn.LazyLinear(10),\n",
        "                  # nn.Softmax(dim=-1)\n",
        "                  ])\n",
        "  def forward(self, X):\n",
        "    for _, layer in enumerate(self.layers):\n",
        "      X = layer(X)\n",
        "    return X\n"
      ]
    },
    {
      "cell_type": "markdown",
      "metadata": {
        "id": "5rPy1tUKFHka"
      },
      "source": [
        "We feed a batch $X$ with batch size $1$ to our ResNet and print out the output shapes. Your task is to explain the results."
      ]
    },
    {
      "cell_type": "code",
      "execution_count": 11,
      "metadata": {
        "colab": {
          "base_uri": "https://localhost:8080/"
        },
        "id": "PSLqiVYxFHka",
        "outputId": "21db3bdc-5e26-4bf6-ad1a-329c23e011b0"
      },
      "outputs": [
        {
          "name": "stdout",
          "output_type": "stream",
          "text": [
            "Conv2d output shape:\t [1, 64, 14, 14]\n",
            "BatchNorm2d output shape:\t [1, 64, 14, 14]\n",
            "ReLU output shape:\t [1, 64, 14, 14]\n",
            "MaxPool2d output shape:\t [1, 64, 7, 7]\n",
            "ResnetBlock output shape:\t [1, 64, 7, 7]\n",
            "ResnetBlock output shape:\t [1, 128, 4, 4]\n",
            "ResnetBlock output shape:\t [1, 256, 2, 2]\n",
            "AdaptiveAvgPool2d output shape:\t [1, 256, 1, 1]\n",
            "Flatten output shape:\t [1, 256]\n",
            "Linear output shape:\t [1, 10]\n"
          ]
        }
      ],
      "source": [
        "X = torch.rand(size=(1, 1, 28, 28))\n",
        "for _, layer in enumerate(create_ResNet().layers):\n",
        "    X = layer(X)\n",
        "    print(layer.__class__.__name__,'output shape:\\t', list(X.shape))"
      ]
    },
    {
      "cell_type": "markdown",
      "metadata": {
        "id": "B7OF2P3dFHka"
      },
      "source": [
        "### <span style=\"color:#0b486b\">I.4. Test our ResNet</span> ###"
      ]
    },
    {
      "cell_type": "code",
      "execution_count": 2,
      "metadata": {
        "id": "iSIRoG_0FHka"
      },
      "outputs": [],
      "source": [
        "import numpy as np\n",
        "import torchvision\n",
        "import torchvision.transforms as transforms\n",
        "from torch.utils.data import Dataset, DataLoader"
      ]
    },
    {
      "cell_type": "code",
      "execution_count": null,
      "metadata": {
        "colab": {
          "base_uri": "https://localhost:8080/"
        },
        "id": "OHiQGyfJM-hB",
        "outputId": "67854819-d6fe-4552-ee58-cb21f4ee18af"
      },
      "outputs": [
        {
          "name": "stdout",
          "output_type": "stream",
          "text": [
            "Downloading http://fashion-mnist.s3-website.eu-central-1.amazonaws.com/train-images-idx3-ubyte.gz\n",
            "Downloading http://fashion-mnist.s3-website.eu-central-1.amazonaws.com/train-images-idx3-ubyte.gz to ./data/FashionMNIST/raw/train-images-idx3-ubyte.gz\n"
          ]
        },
        {
          "name": "stderr",
          "output_type": "stream",
          "text": [
            "100%|██████████| 26421880/26421880 [00:02<00:00, 12722561.31it/s]\n"
          ]
        },
        {
          "name": "stdout",
          "output_type": "stream",
          "text": [
            "Extracting ./data/FashionMNIST/raw/train-images-idx3-ubyte.gz to ./data/FashionMNIST/raw\n",
            "\n",
            "Downloading http://fashion-mnist.s3-website.eu-central-1.amazonaws.com/train-labels-idx1-ubyte.gz\n",
            "Downloading http://fashion-mnist.s3-website.eu-central-1.amazonaws.com/train-labels-idx1-ubyte.gz to ./data/FashionMNIST/raw/train-labels-idx1-ubyte.gz\n"
          ]
        },
        {
          "name": "stderr",
          "output_type": "stream",
          "text": [
            "100%|██████████| 29515/29515 [00:00<00:00, 205806.17it/s]\n"
          ]
        },
        {
          "name": "stdout",
          "output_type": "stream",
          "text": [
            "Extracting ./data/FashionMNIST/raw/train-labels-idx1-ubyte.gz to ./data/FashionMNIST/raw\n",
            "\n",
            "Downloading http://fashion-mnist.s3-website.eu-central-1.amazonaws.com/t10k-images-idx3-ubyte.gz\n",
            "Downloading http://fashion-mnist.s3-website.eu-central-1.amazonaws.com/t10k-images-idx3-ubyte.gz to ./data/FashionMNIST/raw/t10k-images-idx3-ubyte.gz\n"
          ]
        },
        {
          "name": "stderr",
          "output_type": "stream",
          "text": [
            "100%|██████████| 4422102/4422102 [00:04<00:00, 1052348.73it/s]\n"
          ]
        },
        {
          "name": "stdout",
          "output_type": "stream",
          "text": [
            "Extracting ./data/FashionMNIST/raw/t10k-images-idx3-ubyte.gz to ./data/FashionMNIST/raw\n",
            "\n",
            "Downloading http://fashion-mnist.s3-website.eu-central-1.amazonaws.com/t10k-labels-idx1-ubyte.gz\n",
            "Downloading http://fashion-mnist.s3-website.eu-central-1.amazonaws.com/t10k-labels-idx1-ubyte.gz to ./data/FashionMNIST/raw/t10k-labels-idx1-ubyte.gz\n"
          ]
        },
        {
          "name": "stderr",
          "output_type": "stream",
          "text": [
            "100%|██████████| 5148/5148 [00:00<00:00, 20389307.83it/s]"
          ]
        },
        {
          "name": "stdout",
          "output_type": "stream",
          "text": [
            "Extracting ./data/FashionMNIST/raw/t10k-labels-idx1-ubyte.gz to ./data/FashionMNIST/raw\n",
            "\n",
            "Traing set\n",
            "\t-Number of samples:\t50000\n",
            "\t-Shape of 1 sample:\t[1, 28, 28]\n",
            "Valid set\n",
            "\t-Number of samples:\t10000\n",
            "\t-Shape of 1 sample:\t[1, 28, 28]\n",
            "Test set\n",
            "\t-Number of samples:\t10000\n",
            "\t-Shape of 1 sample:\t[1, 28, 28]\n"
          ]
        },
        {
          "name": "stderr",
          "output_type": "stream",
          "text": [
            "\n"
          ]
        }
      ],
      "source": [
        "train_set = torchvision.datasets.FashionMNIST(\"./data\", download=True, transform=transforms.Compose([transforms.ToTensor()]))\n",
        "test_set = torchvision.datasets.FashionMNIST(\"./data\", download=True, train=False, transform=transforms.Compose([transforms.ToTensor()]))\n",
        "\n",
        "train_set, valid_set = torch.utils.data.random_split(train_set, [50000, 10000], generator=torch.Generator().manual_seed(42))\n",
        "print(\"Traing set\\n\\t-Number of samples:\\t{}\\n\\t-Shape of 1 sample:\\t{}\".format(len(train_set), list(train_set[0][0].shape)))\n",
        "print(\"Valid set\\n\\t-Number of samples:\\t{}\\n\\t-Shape of 1 sample:\\t{}\".format(len(valid_set), list(valid_set[0][0].shape)))\n",
        "print(\"Test set\\n\\t-Number of samples:\\t{}\\n\\t-Shape of 1 sample:\\t{}\".format(len(test_set), list(test_set[0][0].shape)))\n",
        "\n",
        "train_loader = torch.utils.data.DataLoader(train_set, batch_size=64, shuffle=True)\n",
        "test_loader = torch.utils.data.DataLoader(test_set, batch_size=64)\n",
        "valid_loader = torch.utils.data.DataLoader(valid_set, batch_size=64)"
      ]
    },
    {
      "cell_type": "code",
      "execution_count": 12,
      "metadata": {
        "id": "RKEYtXAHi45-"
      },
      "outputs": [],
      "source": [
        "class BaseTrainer:\n",
        "    def __init__(self, model, criterion, optimizer, train_loader, val_loader):\n",
        "        self.model = model\n",
        "        self.criterion = criterion  #the loss function\n",
        "        self.optimizer = optimizer  #the optimizer\n",
        "        self.train_loader = train_loader  #the train loader\n",
        "        self.val_loader = val_loader  #the valid loader\n",
        "        self.stop_training = False\n",
        "\n",
        "    #the function to train the model in many epochs\n",
        "    def fit(self, num_epochs):\n",
        "        self.num_batches = len(self.train_loader)\n",
        "\n",
        "        for epoch in range(num_epochs):\n",
        "            if self.stop_training:\n",
        "                break\n",
        "            print(f'Epoch {epoch + 1}/{num_epochs}')\n",
        "\n",
        "            train_loss, train_accuracy = self.train_one_epoch()\n",
        "            val_loss, val_accuracy = self.validate_one_epoch()\n",
        "            print(\n",
        "                f'{self.num_batches}/{self.num_batches} - loss: {train_loss:.4f} - accuracy: {train_accuracy:.4f} - val_loss: {val_loss:.4f} - val_accuracy: {val_accuracy:.4f}'\n",
        "            )\n",
        "\n",
        "    #train in one epoch\n",
        "    def train_one_epoch(self):\n",
        "        self.model.train()\n",
        "        running_loss, correct, total = 0.0, 0, 0\n",
        "\n",
        "        for i, data in enumerate(self.train_loader):\n",
        "            inputs, labels = data\n",
        "            inputs, labels = inputs.to(device), labels.to(device)\n",
        "            self.optimizer.zero_grad()\n",
        "            outputs = self.model(inputs)\n",
        "            loss = self.criterion(outputs, labels)\n",
        "            loss.backward()\n",
        "            self.optimizer.step()\n",
        "\n",
        "            running_loss += loss.item()\n",
        "            _, predicted = torch.max(outputs.data, 1)\n",
        "            total += labels.size(0)\n",
        "            correct += (predicted == labels).sum().item()\n",
        "        train_accuracy = correct / total\n",
        "        train_loss = running_loss / self.num_batches\n",
        "        return train_loss, train_accuracy\n",
        "\n",
        "    #return the train_acc, train_loss, val_acc, val_loss\n",
        "    #be called at the end of each epoch\n",
        "    def validate_one_epoch(self):\n",
        "        self.model.eval()\n",
        "        val_loss, correct, total = 0.0, 0, 0\n",
        "        with torch.no_grad():\n",
        "            for data in self.val_loader:\n",
        "                inputs, labels = data\n",
        "                inputs, labels = inputs.to(device), labels.to(device)\n",
        "                outputs = self.model(inputs)\n",
        "                loss = self.criterion(outputs, labels)\n",
        "                val_loss += loss.item()\n",
        "                _, predicted = torch.max(outputs.data, 1)\n",
        "                total += labels.size(0)\n",
        "                correct += (predicted == labels).sum().item()\n",
        "\n",
        "        val_accuracy = correct / total\n",
        "        val_loss = val_loss / len(self.val_loader)\n",
        "        return val_loss, val_accuracy\n"
      ]
    },
    {
      "cell_type": "code",
      "execution_count": 13,
      "metadata": {
        "id": "wejKCXYZjCvk"
      },
      "outputs": [],
      "source": [
        "device = torch.device(\"cuda:0\" if torch.cuda.is_available() else \"cpu\")\n",
        "my_resnet = create_ResNet().to(device)\n",
        "criterion = nn.CrossEntropyLoss()\n",
        "num_epochs = 10\n",
        "optimizer = torch.optim.Adam(my_resnet.parameters(), lr=0.001)"
      ]
    },
    {
      "cell_type": "code",
      "execution_count": null,
      "metadata": {
        "colab": {
          "base_uri": "https://localhost:8080/"
        },
        "id": "Nmv4493cjKZx",
        "outputId": "52b6d7d7-e542-4e50-a005-355bc48694db"
      },
      "outputs": [
        {
          "name": "stdout",
          "output_type": "stream",
          "text": [
            "Epoch 1/10\n",
            "782/782 - loss: 0.3024 - accuracy: 0.8884 - val_loss: 0.3258 - val_accuracy: 0.8856\n",
            "Epoch 2/10\n",
            "782/782 - loss: 0.2602 - accuracy: 0.9041 - val_loss: 0.2693 - val_accuracy: 0.9028\n",
            "Epoch 3/10\n",
            "782/782 - loss: 0.2312 - accuracy: 0.9126 - val_loss: 0.2772 - val_accuracy: 0.8991\n",
            "Epoch 4/10\n",
            "782/782 - loss: 0.2104 - accuracy: 0.9207 - val_loss: 0.2632 - val_accuracy: 0.9040\n",
            "Epoch 5/10\n",
            "782/782 - loss: 0.1901 - accuracy: 0.9282 - val_loss: 0.2714 - val_accuracy: 0.8984\n",
            "Epoch 6/10\n",
            "782/782 - loss: 0.1738 - accuracy: 0.9356 - val_loss: 0.2491 - val_accuracy: 0.9121\n",
            "Epoch 7/10\n",
            "782/782 - loss: 0.1561 - accuracy: 0.9404 - val_loss: 0.2390 - val_accuracy: 0.9152\n",
            "Epoch 8/10\n",
            "782/782 - loss: 0.1407 - accuracy: 0.9469 - val_loss: 0.2506 - val_accuracy: 0.9133\n",
            "Epoch 9/10\n",
            "782/782 - loss: 0.1263 - accuracy: 0.9511 - val_loss: 0.3410 - val_accuracy: 0.8955\n",
            "Epoch 10/10\n",
            "782/782 - loss: 0.1098 - accuracy: 0.9567 - val_loss: 0.2487 - val_accuracy: 0.9220\n"
          ]
        }
      ],
      "source": [
        "trainer = BaseTrainer(my_resnet, criterion, optimizer, train_loader, valid_loader)\n",
        "trainer.fit(num_epochs)"
      ]
    },
    {
      "cell_type": "markdown",
      "metadata": {
        "id": "L795iLBbFHka"
      },
      "source": [
        "**<span style=\"color:red\">Exercise 1</span>**: Implement VGG network and test on Fashion MNIST dataset. Note that you can refer to the code [here](https://d2l.ai/chapter_convolutional-modern/vgg.html)."
      ]
    }
  ],
  "metadata": {
    "accelerator": "GPU",
    "colab": {
      "collapsed_sections": [
        "icI3XA_4FHkU"
      ],
      "gpuType": "T4",
      "provenance": []
    },
    "kernelspec": {
      "display_name": "Python 3",
      "name": "python3"
    },
    "language_info": {
      "codemirror_mode": {
        "name": "ipython",
        "version": 3
      },
      "file_extension": ".py",
      "mimetype": "text/x-python",
      "name": "python",
      "nbconvert_exporter": "python",
      "pygments_lexer": "ipython3",
      "version": "3.13.1"
    }
  },
  "nbformat": 4,
  "nbformat_minor": 0
}
