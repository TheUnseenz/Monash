{
 "cells": [
  {
   "cell_type": "markdown",
   "id": "d2a46b71",
   "metadata": {},
   "source": [
    "Recap:  \n",
    "Supervised learning requires labeled data, unsupervised learning does not  \n",
    "One hot encoding is used for categorical features  \n",
    "Cross entropy loss   \n",
    "    = -$\\sum$ $p_i$ log $q_i$  \n",
    "    = measure of surprise e.g. shaved beard  \n"
   ]
  }
 ],
 "metadata": {
  "language_info": {
   "name": "python"
  }
 },
 "nbformat": 4,
 "nbformat_minor": 5
}
