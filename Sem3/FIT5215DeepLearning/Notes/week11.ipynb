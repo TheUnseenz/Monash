{
 "cells": [
  {
   "cell_type": "markdown",
   "id": "50d1d825",
   "metadata": {},
   "source": [
    "one-hot encoding\n",
    "continuous bag of words vs skipgram\n",
    "skip-gram predicts context words from target word\n",
    "CBOW predicts target word from context words\n",
    "\n",
    "multi head self attention\n",
    "positional encoding in transformers"
   ]
  }
 ],
 "metadata": {
  "language_info": {
   "name": "python"
  }
 },
 "nbformat": 4,
 "nbformat_minor": 5
}
