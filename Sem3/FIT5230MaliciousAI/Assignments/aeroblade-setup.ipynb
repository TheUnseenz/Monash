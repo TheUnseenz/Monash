{
 "cells": [
  {
   "cell_type": "markdown",
   "id": "9b16e505",
   "metadata": {},
   "source": [
    "# Google colab version"
   ]
  },
  {
   "cell_type": "code",
   "execution_count": null,
   "id": "4b0b45ca",
   "metadata": {},
   "outputs": [
    {
     "name": "stdout",
     "output_type": "stream",
     "text": [
      "c:\\PersonalStuff\\Monash\\Sem3\\FIT5230MaliciousAI\\Assignments\\cloned_repos\\aeroblade\n"
     ]
    },
    {
     "name": "stderr",
     "output_type": "stream",
     "text": [
      "c:\\Users\\adria\\miniconda3\\envs\\aeroblade\\lib\\site-packages\\IPython\\core\\magics\\osm.py:417: UserWarning: using dhist requires you to install the `pickleshare` library.\n",
      "  self.shell.db['dhist'] = compress_dhist(dhist)[-100:]\n"
     ]
    }
   ],
   "source": [
    "# Clone the repository\n",
    "# !git clone https://github.com/jonasricker/aeroblade.git\n",
    "\n",
    "# Navigate into the cloned directory\n",
    "%cd aeroblade\n",
    "\n",
    "# Install a specific Python version using a more stable method for Colab\n",
    "# Note: This will restart the kernel.\n",
    "!pip install -q virtualenv\n",
    "!virtualenv -p python3.10 aeroblade_env\n",
    "!source aeroblade_env/bin/activate"
   ]
  },
  {
   "cell_type": "code",
   "execution_count": null,
   "id": "0044defd",
   "metadata": {},
   "outputs": [],
   "source": [
    "# Install the core and pip-managed packages.\n",
    "# We are now pinning a compatible version of peft.\n",
    "!pip install -v --no-cache-dir --no-input \\\n",
    "    --extra-index-url https://download.pytorch.org/whl/cu128 \\\n",
    "    torch==2.8.0+cu128 torchvision==0.23.0+cu128 \\\n",
    "    peft==0.7.0 \\\n",
    "    scipy numpy \\\n",
    "    scikit-learn scikit-image \\\n",
    "    seaborn tqdm \\\n",
    "    networkx pyarrow \\\n",
    "    diffusers==0.25.1 huggingface-hub==0.25.2 \\\n",
    "    requests PyYAML filelock \\\n",
    "    pillow opencv-python \\\n",
    "    jupyter-client ipykernel ipython jupyter-core \\\n",
    "    clip-interrogator==0.6.0 joblib==1.5.2 lpips==0.1.4 pyiqa==0.1.14.1\n",
    "    \n",
    "# Install the project in editable mode\n",
    "!pip install -e ."
   ]
  },
  {
   "cell_type": "markdown",
   "id": "55527868",
   "metadata": {},
   "source": [
    "# Locally run version. You may need to run this as administrator."
   ]
  },
  {
   "cell_type": "code",
   "execution_count": 1,
   "id": "bfea4dbf",
   "metadata": {},
   "outputs": [
    {
     "name": "stdout",
     "output_type": "stream",
     "text": [
      "c:\\PersonalStuff\\Monash\\Sem3\\FIT5230MaliciousAI\\Assignments\\cloned_repos\\aeroblade\n"
     ]
    }
   ],
   "source": [
    "# # Clone the repository\n",
    "# !git clone https://github.com/jonasricker/aeroblade.git\n",
    "\n",
    "# # Navigate into the cloned directory\n",
    "%cd aeroblade"
   ]
  },
  {
   "cell_type": "code",
   "execution_count": 7,
   "id": "b966bbfc",
   "metadata": {},
   "outputs": [
    {
     "name": "stdout",
     "output_type": "stream",
     "text": [
      "Found conda at: C:\\Users\\adria\\miniconda3\\condabin\\conda.BAT\n",
      "Installing conda packages...\n",
      "Successfully installed conda packages.\n"
     ]
    }
   ],
   "source": [
    "import sys\n",
    "import subprocess\n",
    "import shutil\n",
    "\n",
    "# Find the full path to the conda executable\n",
    "conda_path = shutil.which(\"conda\")\n",
    "if conda_path is None:\n",
    "    print(\"Error: conda executable not found. Please ensure conda is installed and in your system PATH.\")\n",
    "    # You might want to exit the script here.\n",
    "else:\n",
    "    print(f\"Found conda at: {conda_path}\")\n",
    "\n",
    "    # List of conda-managed packages\n",
    "    conda_packages = [\n",
    "        'python=3.10',\n",
    "        'numpy=1.26.3',\n",
    "        'pandas=2.1.4',\n",
    "        'scipy=1.12.0',\n",
    "        'matplotlib=3.8.2',\n",
    "        'scikit-learn=1.4.0',\n",
    "        'scikit-image=0.22.0',\n",
    "        'seaborn=0.13.2',\n",
    "        'tqdm=4.66.1',\n",
    "        'networkx=3.2.1',\n",
    "        'pyarrow=15.0.0',\n",
    "        'pip'\n",
    "    ]\n",
    "\n",
    "    # Install conda packages\n",
    "    print(\"Installing conda packages...\")\n",
    "    try:\n",
    "        subprocess.run([conda_path, 'install', '-y', '-c', 'conda-forge'] + conda_packages, check=True)\n",
    "        print(\"Successfully installed conda packages.\")\n",
    "    except subprocess.CalledProcessError as e:\n",
    "        print(f\"Failed to install conda packages: {e}\")"
   ]
  },
  {
   "cell_type": "code",
   "execution_count": 8,
   "id": "8b28b61b",
   "metadata": {},
   "outputs": [
    {
     "name": "stdout",
     "output_type": "stream",
     "text": [
      "Installing pip packages...\n",
      "Successfully installed pip packages.\n",
      "Installing in editable mode...\n",
      "Successfully installed in editable mode.\n"
     ]
    }
   ],
   "source": [
    "import sys\n",
    "import subprocess\n",
    "\n",
    "# List of pip-managed packages\n",
    "pip_packages = [\n",
    "    '--extra-index-url', 'https://download.pytorch.org/whl/cu128',\n",
    "    'torch==2.8.0+cu128',\n",
    "    'torchvision==0.23.0+cu128',\n",
    "    'diffusers==0.25.1',\n",
    "    'huggingface-hub==0.25.2',\n",
    "    'transformers==4.37.2',\n",
    "    'requests==2.31.0',\n",
    "    'PyYAML==6.0.1',\n",
    "    'filelock==3.13.1',\n",
    "    'pillow==10.2.0',\n",
    "    'opencv-python==4.9.0.80',\n",
    "    'jupyter-client==8.6.0',\n",
    "    'ipykernel==6.28.0',\n",
    "    'ipython==8.20.0',\n",
    "    'jupyter-core==5.7.1',\n",
    "    'clip-interrogator==0.6.0',\n",
    "    'joblib==1.5.2',\n",
    "    'lpips==0.1.4',\n",
    "    'pyiqa==0.1.14.1'\n",
    "]\n",
    "\n",
    "# Install pip packages\n",
    "print(\"Installing pip packages...\")\n",
    "try:\n",
    "    subprocess.run([sys.executable, '-m', 'pip', 'install', '--no-cache-dir', '--no-input'] + pip_packages, check=True)\n",
    "    print(\"Successfully installed pip packages.\")\n",
    "except subprocess.CalledProcessError as e:\n",
    "    print(f\"Failed to install pip packages: {e}\")\n",
    "\n",
    "# Replicates !pip install -e . Might need administrator access.\n",
    "print(\"Installing in editable mode...\")\n",
    "try:\n",
    "    subprocess.run([sys.executable, '-m', 'pip', 'install', '-e', '.'], check=True)\n",
    "    print(\"Successfully installed in editable mode.\")\n",
    "except subprocess.CalledProcessError as e:\n",
    "    print(f\"Failed to install in editable mode: {e}\")"
   ]
  },
  {
   "cell_type": "markdown",
   "id": "60999fe8",
   "metadata": {},
   "source": [
    "# Run the scripts. \n",
    "This is the same whether on colab or locally run.\n",
    "Input your adversarial images as png images into example_images, or specify the folder directory manually."
   ]
  },
  {
   "cell_type": "code",
   "execution_count": null,
   "id": "f72f0247",
   "metadata": {},
   "outputs": [],
   "source": [
    "### SET IMAGE DIRECTORY HERE\n",
    "IMG_DIR = \"real_img/real_1024\""
   ]
  },
  {
   "cell_type": "code",
   "execution_count": null,
   "id": "43febd42",
   "metadata": {},
   "outputs": [],
   "source": [
    "# Preprocess images with vaeround - increases robustness to generated images\n",
    "import os\n",
    "from PIL import Image\n",
    "\n",
    "VAEROUND_DIR = f\"{IMG_DIR}/vaeround\"\n",
    "\n",
    "def list_images(input_dir):\n",
    "    exts = ('.jpg', '.jpeg', '.png', '.webp', '.bmp', '.tiff')\n",
    "    for root, _, files in os.walk(input_dir):\n",
    "        for f in files:\n",
    "            if f.lower().endswith(exts):\n",
    "                yield os.path.join(root, f)\n",
    "\n",
    "def save_img(img: Image.Image, src_path, out_root, transform_name, input_root):\n",
    "    rel = os.path.relpath(src_path, start=input_root)   # key fix\n",
    "    dest_dir = os.path.join(out_root, transform_name, os.path.dirname(rel))\n",
    "    os.makedirs(dest_dir, exist_ok=True)\n",
    "    dest_path = os.path.join(dest_dir, os.path.basename(rel))\n",
    "    img.save(dest_path, quality=95)\n",
    "    return dest_path\n",
    "\n",
    "\n",
    "def vae_roundtrip_pil(img: Image.Image, vae=None, device=\"cpu\"):\n",
    "    \"\"\"\n",
    "    Convert PIL image -> latent via SD VAE encoder -> decode back.\n",
    "    vae should be an AutoencoderKL or compatible model from diffusers.\n",
    "    Works at 1024 resolution expected; will resize image to 1024x1024.\n",
    "    \"\"\"\n",
    "    if vae is None:\n",
    "        raise RuntimeError(\"VAE model not provided\")\n",
    "    import torch\n",
    "    from torchvision import transforms\n",
    "    img = img.convert(\"RGB\")\n",
    "    img_resized = img.resize((1024, 1024), resample=Image.BICUBIC)\n",
    "    to_tensor = transforms.ToTensor()\n",
    "    x = to_tensor(img_resized).unsqueeze(0).to(device) * 2.0 - 1.0  # [-1,1]\n",
    "    with torch.no_grad():\n",
    "        latent = vae.encode(x).latent_dist.sample() * vae.scaling_factor\n",
    "        decoded = vae.decode(latent / vae.scaling_factor).sample\n",
    "    decoded = (decoded / 2 + 0.5).clamp(0, 1)\n",
    "    decoded = (decoded[0].cpu().permute(1, 2, 0).numpy() * 255).astype('uint8')\n",
    "    return Image.fromarray(decoded)\n",
    "\n",
    "inp = IMG_DIR\n",
    "out = IMG_DIR\n",
    "\n",
    "vae = None\n",
    "try:\n",
    "    from diffusers import AutoencoderKL\n",
    "    # choose a VAE checkpoint compatible with SD. Adjust repo/model as needed.\n",
    "    vae = AutoencoderKL.from_pretrained(\"stabilityai/sd-vae-ft-mse\").to(\"cuda\")\n",
    "    vae.eval()\n",
    "    print(\"Loaded VAE.\")\n",
    "except Exception as e:\n",
    "    print(\"Failed to load VAE (skipping). Exception:\", e)\n",
    "    vae = None\n",
    "\n",
    "for path in list_images(inp):\n",
    "    try:\n",
    "        img = Image.open(path).convert('RGB')\n",
    "    except Exception as e:\n",
    "        print(\"skip\", path, e)\n",
    "        continue\n",
    "    \n",
    "    # VAE roundtrip    \n",
    "    try:\n",
    "        vr = vae_roundtrip_pil(img, vae=vae, device=\"cuda\")\n",
    "        save_img(vr, path, out, \"vaeround\", inp)\n",
    "    except Exception as e:\n",
    "        print(\"vae roundtrip failed for\", path, e)\n",
    "\n",
    "print(\"Done. Preprocessed folders in:\", out)"
   ]
  },
  {
   "cell_type": "code",
   "execution_count": null,
   "id": "c36bf8d5",
   "metadata": {},
   "outputs": [
    {
     "name": "stderr",
     "output_type": "stream",
     "text": [
      "c:\\Users\\adria\\miniconda3\\envs\\aeroblade\\lib\\site-packages\\tqdm\\auto.py:21: TqdmWarning: IProgress not found. Please update jupyter and ipywidgets. See https://ipywidgets.readthedocs.io/en/stable/user_install.html\n",
      "  from .autonotebook import tqdm as notebook_tqdm\n",
      "c:\\Users\\adria\\miniconda3\\envs\\aeroblade\\lib\\site-packages\\diffusers\\utils\\outputs.py:63: FutureWarning: `torch.utils._pytree._register_pytree_node` is deprecated. Please use `torch.utils._pytree.register_pytree_node` instead.\n",
      "  torch.utils._pytree._register_pytree_node(\n",
      "c:\\Users\\adria\\miniconda3\\envs\\aeroblade\\lib\\site-packages\\diffusers\\utils\\outputs.py:63: FutureWarning: `torch.utils._pytree._register_pytree_node` is deprecated. Please use `torch.utils._pytree.register_pytree_node` instead.\n",
      "  torch.utils._pytree._register_pytree_node(\n",
      "PROGRESS (compute_distances):   0%|          | 0/3 [00:00<?, ?it/s]c:\\Users\\adria\\miniconda3\\envs\\aeroblade\\lib\\site-packages\\huggingface_hub\\file_download.py:1142: FutureWarning: `resume_download` is deprecated and will be removed in version 1.0.0. Downloads always resume when possible. If you want to force a new download, use `force_download=True`.\n",
      "  warnings.warn(\n",
      "Reconstructing with CompVis/stable-diffusion-v1-1.: 100%|██████████| 500/500 [11:53<00:00,  1.43s/it]\n",
      "C:\\PersonalStuff\\Monash\\Sem3\\FIT5230MaliciousAI\\Assignments\\cloned_repos\\aeroblade\\src\\aeroblade\\distances.py:40: UserWarning: ds_a and ds_b contain files with different file endings. Make sure that is does not cause issues, e.g., you should not have different images with the same name but different file endings.\n",
      "  warnings.warn(\n"
     ]
    },
    {
     "name": "stdout",
     "output_type": "stream",
     "text": [
      "Images saved to aeroblade_output\\reconstructions\\643235ac5ed4bcd82abc3917c198526e\\1.\n",
      "Setting up [LPIPS] perceptual loss: trunk [vgg], v[0.1], spatial [on]\n",
      "Loading model from: c:\\Users\\adria\\miniconda3\\envs\\aeroblade\\lib\\site-packages\\lpips\\weights\\v0.1\\vgg.pth\n"
     ]
    },
    {
     "name": "stderr",
     "output_type": "stream",
     "text": [
      "Computing LPIPS: 100%|██████████| 500/500 [02:00<00:00,  4.16it/s]\n",
      "c:\\Users\\adria\\miniconda3\\envs\\aeroblade\\lib\\site-packages\\joblib\\_store_backends.py:226: CacheWarning: Unable to cache to disk. Possibly a race condition in the creation of the directory. Exception: LZ4 is not installed. Install it with pip: https://python-lz4.readthedocs.io/.\n",
      "  warnings.warn(\n",
      "PROGRESS (compute_distances):  33%|███▎      | 1/3 [14:04<28:09, 844.71s/it]c:\\Users\\adria\\miniconda3\\envs\\aeroblade\\lib\\site-packages\\huggingface_hub\\file_download.py:1142: FutureWarning: `resume_download` is deprecated and will be removed in version 1.0.0. Downloads always resume when possible. If you want to force a new download, use `force_download=True`.\n",
      "  warnings.warn(\n",
      "Reconstructing with stabilityai/stable-diffusion-2-base.: 100%|██████████| 500/500 [11:40<00:00,  1.40s/it]\n",
      "C:\\PersonalStuff\\Monash\\Sem3\\FIT5230MaliciousAI\\Assignments\\cloned_repos\\aeroblade\\src\\aeroblade\\distances.py:40: UserWarning: ds_a and ds_b contain files with different file endings. Make sure that is does not cause issues, e.g., you should not have different images with the same name but different file endings.\n",
      "  warnings.warn(\n"
     ]
    },
    {
     "name": "stdout",
     "output_type": "stream",
     "text": [
      "Images saved to aeroblade_output\\reconstructions\\5a19b4385f1c55a314753b37f685d7bc\\1.\n",
      "Setting up [LPIPS] perceptual loss: trunk [vgg], v[0.1], spatial [on]\n",
      "Loading model from: c:\\Users\\adria\\miniconda3\\envs\\aeroblade\\lib\\site-packages\\lpips\\weights\\v0.1\\vgg.pth\n"
     ]
    },
    {
     "name": "stderr",
     "output_type": "stream",
     "text": [
      "Computing LPIPS: 100%|██████████| 500/500 [01:57<00:00,  4.25it/s]\n",
      "c:\\Users\\adria\\miniconda3\\envs\\aeroblade\\lib\\site-packages\\joblib\\_store_backends.py:226: CacheWarning: Unable to cache to disk. Possibly a race condition in the creation of the directory. Exception: LZ4 is not installed. Install it with pip: https://python-lz4.readthedocs.io/.\n",
      "  warnings.warn(\n",
      "PROGRESS (compute_distances):  67%|██████▋   | 2/3 [27:45<13:50, 830.91s/it]c:\\Users\\adria\\miniconda3\\envs\\aeroblade\\lib\\site-packages\\huggingface_hub\\file_download.py:1142: FutureWarning: `resume_download` is deprecated and will be removed in version 1.0.0. Downloads always resume when possible. If you want to force a new download, use `force_download=True`.\n",
      "  warnings.warn(\n",
      "You are using a model of type xlm-roberta to instantiate a model of type M-CLIP. This is not supported for all configurations of models and can yield errors.\n",
      "Reconstructing with kandinsky-community/kandinsky-2-1.: 100%|██████████| 500/500 [15:42<00:00,  1.89s/it]\n",
      "C:\\PersonalStuff\\Monash\\Sem3\\FIT5230MaliciousAI\\Assignments\\cloned_repos\\aeroblade\\src\\aeroblade\\distances.py:40: UserWarning: ds_a and ds_b contain files with different file endings. Make sure that is does not cause issues, e.g., you should not have different images with the same name but different file endings.\n",
      "  warnings.warn(\n"
     ]
    },
    {
     "name": "stdout",
     "output_type": "stream",
     "text": [
      "Images saved to aeroblade_output\\reconstructions\\67252c6648f501f03984100cb7f348b6\\1.\n",
      "Setting up [LPIPS] perceptual loss: trunk [vgg], v[0.1], spatial [on]\n",
      "Loading model from: c:\\Users\\adria\\miniconda3\\envs\\aeroblade\\lib\\site-packages\\lpips\\weights\\v0.1\\vgg.pth\n"
     ]
    },
    {
     "name": "stderr",
     "output_type": "stream",
     "text": [
      "Computing LPIPS: 100%|██████████| 500/500 [01:56<00:00,  4.29it/s]\n",
      "c:\\Users\\adria\\miniconda3\\envs\\aeroblade\\lib\\site-packages\\joblib\\_store_backends.py:226: CacheWarning: Unable to cache to disk. Possibly a race condition in the creation of the directory. Exception: LZ4 is not installed. Install it with pip: https://python-lz4.readthedocs.io/.\n",
      "  warnings.warn(\n",
      "PROGRESS (compute_distances): 100%|██████████| 3/3 [45:40<00:00, 913.44s/it]"
     ]
    },
    {
     "name": "stdout",
     "output_type": "stream",
     "text": [
      "                                        dir  image_size  \\\n",
      "0     real_img\\real_1024_processed\\vaeround        1024   \n",
      "1     real_img\\real_1024_processed\\vaeround        1024   \n",
      "2     real_img\\real_1024_processed\\vaeround        1024   \n",
      "3     real_img\\real_1024_processed\\vaeround        1024   \n",
      "4     real_img\\real_1024_processed\\vaeround        1024   \n",
      "...                                     ...         ...   \n",
      "1995  real_img\\real_1024_processed\\vaeround        1024   \n",
      "1996  real_img\\real_1024_processed\\vaeround        1024   \n",
      "1997  real_img\\real_1024_processed\\vaeround        1024   \n",
      "1998  real_img\\real_1024_processed\\vaeround        1024   \n",
      "1999  real_img\\real_1024_processed\\vaeround        1024   \n",
      "\n",
      "                            repo_id transform distance_metric      file  \\\n",
      "0     CompVis/stable-diffusion-v1-1     clean     lpips_vgg_2  0000.jpg   \n",
      "1     CompVis/stable-diffusion-v1-1     clean     lpips_vgg_2  0001.jpg   \n",
      "2     CompVis/stable-diffusion-v1-1     clean     lpips_vgg_2  0002.jpg   \n",
      "3     CompVis/stable-diffusion-v1-1     clean     lpips_vgg_2  0003.jpg   \n",
      "4     CompVis/stable-diffusion-v1-1     clean     lpips_vgg_2  0004.jpg   \n",
      "...                             ...       ...             ...       ...   \n",
      "1995                            max     clean     lpips_vgg_2  0495.jpg   \n",
      "1996                            max     clean     lpips_vgg_2  0496.jpg   \n",
      "1997                            max     clean     lpips_vgg_2  0497.jpg   \n",
      "1998                            max     clean     lpips_vgg_2  0498.jpg   \n",
      "1999                            max     clean     lpips_vgg_2  0499.jpg   \n",
      "\n",
      "      distance  \n",
      "0    -0.020004  \n",
      "1    -0.024200  \n",
      "2    -0.013115  \n",
      "3    -0.013634  \n",
      "4    -0.030853  \n",
      "...        ...  \n",
      "1995 -0.009468  \n",
      "1996 -0.007439  \n",
      "1997 -0.007965  \n",
      "1998 -0.006367  \n",
      "1999 -0.013145  \n",
      "\n",
      "[2000 rows x 7 columns]\n",
      "\n",
      "Saving distances to aeroblade_output\\distances.csv.\n",
      "Done.\n"
     ]
    },
    {
     "name": "stderr",
     "output_type": "stream",
     "text": [
      "\n"
     ]
    }
   ],
   "source": [
    "# Image directory specified above\n",
    "# !python scripts/run_aeroblade.py --files-or-dirs path/to/img.png path/to/dir\n",
    "\n",
    "%run scripts/run_aeroblade.py --files-or-dirs {VAEROUND_DIR} #real_img/real_1024_processed/vaeround\n",
    "\n",
    "# # Runs on the images in example_images\n",
    "# %run scripts/run_aeroblade.py "
   ]
  },
  {
   "cell_type": "code",
   "execution_count": null,
   "id": "80687fe8",
   "metadata": {},
   "outputs": [
    {
     "name": "stdout",
     "output_type": "stream",
     "text": [
      "Saved predictions to aeroblade_output/predictions.csv\n",
      "\n",
      "Prediction counts (all images):\n",
      "prediction\n",
      "true    15\n",
      "\n",
      "Accuracy (on 15 images with ground truth): 0.0000\n",
      "\n",
      "Confusion Matrix (only known ground truths):\n",
      "Predicted  true\n",
      "Actual         \n",
      "fake         15\n"
     ]
    }
   ],
   "source": [
    "import pandas as pd\n",
    "import os\n",
    "\n",
    "# Input / output paths\n",
    "input_csv = \"aeroblade_output/distances.csv\"\n",
    "output_csv = \"aeroblade_output/predictions.csv\"\n",
    "\n",
    "# Load distances\n",
    "df = pd.read_csv(input_csv)\n",
    "\n",
    "# Keep only 'max' rows (final aggregated distance per image)\n",
    "df_max = df[df[\"repo_id\"] == \"max\"].copy()\n",
    "\n",
    "# Classification rule\n",
    "def classify(distance):\n",
    "    if 0 >= distance >= -0.001:\n",
    "        return \"fake\"\n",
    "    elif distance < -0.001:\n",
    "        return \"true\"\n",
    "    else:\n",
    "        return \"unknown\"\n",
    "\n",
    "df_max[\"prediction\"] = df_max[\"distance\"].apply(classify)\n",
    "\n",
    "# Extract ground-truth labels from dir or file\n",
    "def extract_label(path, filename):\n",
    "    path_str = f\"{path} {filename}\".lower()\n",
    "    if \"real\" in path_str:\n",
    "        return \"true\"\n",
    "    elif \"fake\" in path_str:\n",
    "        return \"fake\"\n",
    "    else:\n",
    "        return \"unknown\"\n",
    "\n",
    "df_max[\"ground_truth\"] = df_max.apply(\n",
    "    lambda row: extract_label(row[\"dir\"], row[\"file\"]), axis=1\n",
    ")\n",
    "\n",
    "# Select requested columns\n",
    "df_pred = df_max[[\"dir\", \"image_size\", \"file\", \"prediction\", \"ground_truth\"]]\n",
    "\n",
    "# Save predictions\n",
    "os.makedirs(os.path.dirname(output_csv), exist_ok=True)\n",
    "df_pred.to_csv(output_csv, index=False)\n",
    "print(f\"Saved predictions to {output_csv}\")\n",
    "\n",
    "# --- Summary stats ---\n",
    "# Count predictions overall\n",
    "counts = df_pred[\"prediction\"].value_counts(dropna=False)\n",
    "print(\"\\nPrediction counts (all images):\")\n",
    "print(counts.to_string())\n",
    "\n",
    "# Evaluate only where ground-truth is known\n",
    "valid = df_pred[df_pred[\"ground_truth\"] != \"unknown\"]\n",
    "if not valid.empty:\n",
    "    accuracy = (valid[\"prediction\"] == valid[\"ground_truth\"]).mean()\n",
    "    print(f\"\\nAccuracy (on {len(valid)} images with ground truth): {accuracy:.4f}\")\n",
    "\n",
    "    # Confusion matrix\n",
    "    confusion = pd.crosstab(valid[\"ground_truth\"], valid[\"prediction\"],\n",
    "                            rownames=[\"Actual\"], colnames=[\"Predicted\"], dropna=False)\n",
    "    print(\"\\nConfusion Matrix (only known ground truths):\")\n",
    "    print(confusion)\n",
    "else:\n",
    "    print(\"\\n⚠️ No ground-truth labels detected (check filenames or directories).\")\n"
   ]
  },
  {
   "cell_type": "code",
   "execution_count": null,
   "id": "43aa438f",
   "metadata": {},
   "outputs": [],
   "source": []
  }
 ],
 "metadata": {
  "kernelspec": {
   "display_name": "aeroblade",
   "language": "python",
   "name": "python3"
  },
  "language_info": {
   "codemirror_mode": {
    "name": "ipython",
    "version": 3
   },
   "file_extension": ".py",
   "mimetype": "text/x-python",
   "name": "python",
   "nbconvert_exporter": "python",
   "pygments_lexer": "ipython3",
   "version": "3.10.18"
  }
 },
 "nbformat": 4,
 "nbformat_minor": 5
}
