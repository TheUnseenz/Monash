{
 "cells": [
  {
   "cell_type": "markdown",
   "id": "1a6ff1a2",
   "metadata": {},
   "source": [
    "What are your opponents doing? That's important for your defender/attacker strategy\n",
    "\n",
    "* Exam unit! MCQs and mock final assessments to prepare\n",
    "\n",
    "AI can be broadly classified to:\n",
    "1. Classification\n",
    "2. Regression\n",
    "3. Clustering\n",
    "\n"
   ]
  }
 ],
 "metadata": {
  "language_info": {
   "name": "python"
  }
 },
 "nbformat": 4,
 "nbformat_minor": 5
}
