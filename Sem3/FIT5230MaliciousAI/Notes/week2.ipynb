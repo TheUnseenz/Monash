{
 "cells": [
  {
   "cell_type": "markdown",
   "id": "e952acb5",
   "metadata": {},
   "source": [
    "# Overview  \n",
    "• Benign vs Adversarial: attacks on INTegrity  \n",
    "• Semantic adversarial attack  \n",
    "• Noise attack  \n",
    "• Fast Gradient Sign (FGS)  \n",
    "• Fast Gradient Value (FGV)  \n",
    "• Zeroth-Order Optimization (ZOO)  \n",
    "• Recent adversarial attacks on AI  "
   ]
  },
  {
   "cell_type": "markdown",
   "id": "623d2242",
   "metadata": {},
   "source": [
    "Attacker wants to break integrity, make learning outcome biased, while remaining undetected  \n",
    "\n",
    "- By attacker knowledge\n",
    "    - White-box: Full model access, e.g., FSGM\n",
    "        - Pertube data in direction of max change\n",
    "    - Black-box: Only API queries, assumes unlimited trials, e.g., Zeroth-Order Optimization\n",
    "        - Query model to identify direction of gradient\n",
    "    - Restricted black-box (no-box): Black-box, but finite/no trials\n",
    "\n",
    "- By goal\n",
    "    - Targeted: Force classification to a specific class, e.g., cat → dog\n",
    "    - Untargeted: Cause any misclassification, e.g., cat → not cat\n",
    "\n",
    "- By timing\n",
    "    - Poisoning: Corrupt training data, e.g., biased hiring algorithm.\n",
    "    - Evasion: Fool model at test time, e.g., adversarial stop signs"
   ]
  },
  {
   "cell_type": "markdown",
   "id": "62a45f71",
   "metadata": {},
   "source": [
    "# Fast Gradient Value (FGV) Method\n",
    "• perturbation: use gradient ∇ of the loss J wrt the input image 𝒙, aiming to maximise that loss  \n",
    "• 𝒙’ = 𝒙 + 𝛿 = 𝒙 + 𝜀*sign( ∇𝒙J(θ,𝒙,y) ) ↔ FGS (Fast Gradient Sign)  \n",
    "• 𝒙’ = 𝒙 + 𝛿 = 𝒙 + 𝜀*∇𝒙J(θ,𝒙,y) ↔ FGV (Fast Gradient Value)  \n",
    "\n",
    "With FGS, each pixel changes the same magnitude (+/- 𝜀), but we still calculate the magnitude\n",
    "because we can't have the same sign all the way, so we calculate it to determine the direction  \n",
    "\n",
    "FGV scales the pertubation proportionally tot he pixel's contribution to the loss  \n",
    "\n",
    "# Zeroth-Order Optimization (ZOO) Method  \n",
    "black-box attack: use output differences to approximate gradients  \n",
    "adjust input to maximize error to cause misclassification  "
   ]
  },
  {
   "cell_type": "markdown",
   "id": "085f020c",
   "metadata": {},
   "source": [
    "# Tutorial\n",
    "1. Define the terms ”AI for Security” and ”Security attacks AI”. Provide one real-world example for each.  \n",
    "\n",
    "\n",
    "2. Explain the difference between conventional AI and robust AI in the context of security threats.\n",
    "Why is conventional AI considered ”too idealistic”?  \n",
    "Robust AI: More secure and comprehensive against security attacks  \n",
    "\n",
    "3. What are adversarial attacks in AI? How can they compromise the integrity of machine learning models?  \n",
    "\n",
    "\n",
    "4. Discuss how collaborative multi-party AI (e.g., facial recognition across countries) could introduce\n",
    "bias into machine learning outcomes. What are the security implications?  \n",
    "\n",
    "\n",
    "5. Explain the concept of Generative Adversarial Networks (GANs). How do they relate to security in\n",
    "terms of both attack and defense?  \n",
    "\n",
    "\n",
    "6. In adversarial gaming (e.g., attacker vs. defender), why is the playing field often considered unfair?\n",
    "Compare this to AI vs. human games like Chess or Go.  \n",
    "Initiative, not needing to sleep  \n",
    "\n",
    "7. A self-driving car’s AI misclassifies a stop sign due to an adversarial attack. What security goal\n",
    "(confidentiality, integrity, availability) is violated, and how could this be mitigated?  \n",
    "Verification  \n",
    "\n",
    "8. In a cybersecurity arms race, AI-powered malware evolves to bypass AI-powered defenses.\n",
    "Analyze this scenario using the adversarial gaming framework. Who has the upper hand, and why?  \n"
   ]
  }
 ],
 "metadata": {
  "language_info": {
   "name": "python"
  }
 },
 "nbformat": 4,
 "nbformat_minor": 5
}
