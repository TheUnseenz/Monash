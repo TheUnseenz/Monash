{
 "cells": [
  {
   "cell_type": "markdown",
   "id": "50d1d825",
   "metadata": {},
   "source": [
    "# Deepfakes\n",
    "\n",
    "## Security Properties\n",
    "CIA triad:\n",
    "1. CONFidentiality: protect information from accidental or intentional disclosure.  \n",
    "    - Encryption  \n",
    "2. INTegrity: protect information from accidental or intentional (malicious) modification.  \n",
    "    - Digital Hash, Digital signature  \n",
    "3. AVAILability: ensuring information is available to those who need it and when they need it (to authorized users).  \n",
    "    - Load balancing, multi-cloud  "
   ]
  },
  {
   "cell_type": "markdown",
   "id": "e22187e7",
   "metadata": {},
   "source": [
    "## AI attacks security\n",
    "1. CONF: inference attacks vs privacy/CONF  \n",
    "- putting data from different sources together to deduce classified information  \n",
    "- k-anonymity: obscure more information so you can't deduce information so easily\n",
    "- ℓ-diversity: have more diversity within same group  \n",
    "- t-closeness: bucket data into larger groups to obscure details  "
   ]
  },
  {
   "cell_type": "markdown",
   "id": "7145b279",
   "metadata": {},
   "source": [
    "## Deepfakes: Motion Representation\n",
    "In media, motion vectors can be combined with static images to create a video representation  \n",
    "This can be applied to deepfakes to generate videos of a given image doing something else e.g. mona lisa in action   \n",
    "\n",
    "## Deepfakes: Warping\n",
    "Just like motion representation, gradually change one image to another via these transformations\n",
    "\n"
   ]
  }
 ],
 "metadata": {
  "language_info": {
   "name": "python"
  }
 },
 "nbformat": 4,
 "nbformat_minor": 5
}
