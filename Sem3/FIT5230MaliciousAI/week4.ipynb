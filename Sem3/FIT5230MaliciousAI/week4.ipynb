{
 "cells": [
  {
   "cell_type": "markdown",
   "id": "50d1d825",
   "metadata": {},
   "source": [
    "# Deepfakes\n",
    "\n",
    "## Security Properties\n",
    "CIA triad:\n",
    "1. CONFidentiality: protect information from accidental or intentional disclosure.  \n",
    "    - Encryption  \n",
    "2. INTegrity: protect information from accidental or intentional (malicious) modification.  \n",
    "    - Digital Hash, Digital signature  \n",
    "3. AVAILability: ensuring information is available to those who need it and when they need it (to authorized users).  \n",
    "    - Load balancing, multi-cloud  "
   ]
  },
  {
   "cell_type": "markdown",
   "id": "e22187e7",
   "metadata": {},
   "source": [
    "## AI attacks security\n",
    "1. CONF: inference attacks vs privacy/CONF  \n",
    "- putting data from different sources together to deduce classified information  \n",
    "- k-anonymity: obscure more information so you can't deduce information so easily\n",
    "- ℓ-diversity: have more diversity within same group  \n",
    "- t-closeness: bucket data into larger groups to obscure details  "
   ]
  },
  {
   "cell_type": "markdown",
   "id": "7145b279",
   "metadata": {},
   "source": [
    "## Deepfakes: Motion Representation\n",
    "In media, motion vectors can be combined with static images to create a video representation  \n",
    "This can be applied to deepfakes to generate videos of a given image doing something else e.g. mona lisa in action   \n",
    "\n",
    "## Deepfakes: Warping\n",
    "Just like motion representation, gradually change one image to another via these transformations\n",
    "\n"
   ]
  },
  {
   "cell_type": "markdown",
   "id": "4136a276",
   "metadata": {},
   "source": [
    "# Tutorial\n",
    "1. Outline the primary stages of a typical classification task. Discuss the importance of each stage in\n",
    "achieving accurate pattern recognition.   \n",
    "- Data collection  \n",
    "- Data preprocessing  \n",
    "- Training  \n",
    "\n",
    "2. Consider a critical infrastructure company that outsources the training of its AI model, which is\n",
    "designed to detect anomalies in sensor data. Describe how a malicious actor could leverage a\n",
    "BadNet attack in this scenario. What immediate and long-term consequences could such an attack\n",
    "have on the infrastructure?  \n",
    "- Loss of trust  \n",
    "- Failure of model  \n",
    "\n",
    "3. Differentiate between an ”Untargetted attack” and a ”Targetted attack” within the context of\n",
    "changing labels. Provide a unique real-world example for each type of attack.  \n",
    "- Untargetted attack: make ChatGPT racist  \n",
    "- Targetted attack: make algorithm hire you  \n",
    "\n",
    "4. If a training dataset contains 50,000 samples and an attacker decides to poison 0.5% of these\n",
    "samples with a backdoor, how many samples would be affected? Additionally, explain how an\n",
    "attacker might manipulate parameters like ”step size” (learning rate), ”batch size,” and ”epochs” to\n",
    "minimize their cost function during this attack.  \n",
    "- Bigger batch size = more hidden, but harder to train it  \n",
    "- More epoch = more prone to overfitting  \n",
    "\n",
    "5. Compare and contrast the adversarial capabilities and limitations of an attacker in BadNet versus\n",
    "TrojanNet. Highlight the key differences in their access to training data and model parameters.  \n",
    "- Poisoned dataset vs extra model added  \n",
    "- BadNet can be countered by adversarial training, but not TrojanNet  \n",
    "- But TrojanNet can be countered by a code review  \n",
    "\n",
    "6. Imagine you are a product manager at a company that develops autonomous vehicles, and your\n",
    "team is considering purchasing pre-trained machine learning models from a third-party vendor.\n",
    "What specific security risks would you be concerned about, and what initial verification steps\n",
    "would you propose before integrating such models into your vehicles?  "
   ]
  }
 ],
 "metadata": {
  "language_info": {
   "name": "python"
  }
 },
 "nbformat": 4,
 "nbformat_minor": 5
}
