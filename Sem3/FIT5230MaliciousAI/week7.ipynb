{
 "cells": [
  {
   "cell_type": "markdown",
   "id": "50d1d825",
   "metadata": {},
   "source": [
    "# Tutorial\n",
    "1. How does the adversarial training dynamic in GANs resemble a security game, and what\n",
    "challenges does this analogy introduce in terms of model stability and convergence?  \n",
    "\n",
    "The attacker's win is the defender's loss and vice versa, so the models will oscillate.\n",
    "\n",
    "\n",
    "2. Given the minimax nature of GAN training, discuss how the interdependence of generator and\n",
    "discriminator loss functions affects the learning process. What strategies can be used to stabilize training?  \n",
    "\n",
    "\n",
    "\n",
    "\n",
    "3. CycleGAN uses cycle consistency loss to enforce semantic preservation. Propose a scenario where\n",
    "this loss might fail to preserve meaningful content, and suggest how the architecture could be\n",
    "modified to address it.  \n",
    "\n",
    "\n",
    "\n",
    "4. You observe that your GAN consistently generates high-quality but visually similar outputs.\n",
    "Identify the likely cause and propose a multi-step strategy to improve diversity without sacrificing realism.  \n",
    "\n",
    "\n",
    "\n",
    "5. Compare the implications of using a GAN vs a CycleGAN for translating CT scans to MRI images.\n",
    "What factors would influence your choice of model architecture and loss functions?  \n",
    "\n",
    "\n",
    "\n",
    "6. You are evaluating two GAN models: Model A with low FID but high PPL, and Model B with\n",
    "moderate FID and low PPL. Which model would you choose for a generative art application, and why?  \n",
    "FID = inception score, realism score, lower = better  \n",
    "PPL = perceptual loss, model controlablity, lower = better  \n",
    "PPL would be more important for art, since \"correct\" or \"good\" in art is subjective\n",
    "\n"
   ]
  }
 ],
 "metadata": {
  "language_info": {
   "name": "python"
  }
 },
 "nbformat": 4,
 "nbformat_minor": 5
}
