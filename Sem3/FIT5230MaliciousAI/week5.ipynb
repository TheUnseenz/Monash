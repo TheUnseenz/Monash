{
 "cells": [
  {
   "cell_type": "markdown",
   "id": "50d1d825",
   "metadata": {},
   "source": [
    "# Deepfakes II\n",
    "## Anti-Deepfakes\n",
    "Deepfakes  \n",
    "- AI attacks Security property of INT  \n",
    "Anti-Deepfakes  \n",
    "- not always possible to prevent deepfakes, just like crypto  \n",
    "- detect deepfakes  \n",
    "    - Check metadata for media  \n",
    "    - Watermark  \n",
    "        - Can disrupt deepfake image to look different\n",
    "        - Attention mask maximizes differences in deepfake from minimal embedding  "
   ]
  },
  {
   "cell_type": "markdown",
   "id": "49dc2fdf",
   "metadata": {},
   "source": [
    "Vision Transformer (ViT)  \n",
    "Deepfake artefacts are often subtle and can span non-contiguous regions (e.g., inconsistent lighting across the entire face, unnatural reflections in eyes, irregularities in hair boundaries).  \n",
    "\n",
    "What’s wrong with CNN?  \n",
    "CNNs struggled to model global relationships between different parts of an image.  \n",
    "The self-attention mechanism of ViT inherently captures global dependencies across all image patches in a single layer.  \n",
    "This allows ViT to detect inconsistencies in the global coherence of an image that might be missed by models focusing on local features.  \n"
   ]
  },
  {
   "cell_type": "markdown",
   "id": "779869d8",
   "metadata": {},
   "source": [
    "# Tutorial\n",
    "1. What are the three core security properties discussed in the lecture, and how can AI compromise each of them?  \n",
    "- Confidentiality\n",
    "    - Inference attack\n",
    "- Integrity \n",
    "    - AI generates deepfakes\n",
    "- Authenticity\n",
    "    - AI mimic biometrics/deepfakes to impersonate  \n",
    "\n",
    "2. Explain the difference between encryption and inference attacks in the context of confidentiality.\n",
    "How does AI enhance the threat of inference attacks?  \n",
    "- ML models are great at identifying anonymous data - you need less data to break confidentiality  \n",
    "\n",
    "3. What is the role of keypoint detection in the First Order Motion Model for image animation? Why\n",
    "is it critical for generating realistic deepfakes?  \n",
    "- Keypoints help models map movements from person to person  \n",
    "\n",
    "4. Describe the brightness constancy assumption in optical flow. Why is this assumption important\n",
    "for motion estimation in deepfake generation?  \n",
    "- Brightness of point should not change as it moves around a frame.  \n",
    "  This helps motion to be tracked better without being confused by lighting.  \n",
    "\n",
    "5. In motion-supervised co-part segmentation, how is motion used to identify and segment object\n",
    "parts? What advantages does this self-supervised approach offer over traditional supervised methods?  \n",
    "-  Motion is an extra cue to identify keypoint segments  \n",
    "\n",
    "6. Compare affine and projective warping transformations. How do these affect the realism and\n",
    "accuracy of deepfake animations?  \n",
    "Projective adds depth and perspective (makes it look more 3D)  \n",
    "Affine stretches/rotates the image  \n",
    "\n",
    "7. A company uses facial recognition for employee authentication. A deepfake video mimics an\n",
    "employee’s facial gestures to gain unauthorized access. What type of biometric authentication is\n",
    "being attacked, and how could the system be improved to resist such deepfake threats?  \n",
    "Attacker targets soft biometrics, which are not unique enough\n",
    "Improvements - MFA:\n",
    "- Something you know: password  \n",
    "- Something you have: id card  \n",
    "- Something you are: fingerprint  \n"
   ]
  }
 ],
 "metadata": {
  "language_info": {
   "name": "python"
  }
 },
 "nbformat": 4,
 "nbformat_minor": 5
}
