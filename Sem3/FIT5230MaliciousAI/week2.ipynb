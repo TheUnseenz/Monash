{
 "cells": [
  {
   "cell_type": "markdown",
   "id": "e952acb5",
   "metadata": {},
   "source": [
    "Overview  \n",
    "• Benign vs Adversarial: attacks on INTegrity  \n",
    "• Semantic adversarial attack  \n",
    "• Noise attack  \n",
    "• Fast Gradient Sign (FGS)  \n",
    "• Fast Gradient Value (FGV)  \n",
    "• Zeroth-Order Optimization (ZOO)  \n",
    "• Recent adversarial attacks on AI  "
   ]
  },
  {
   "cell_type": "markdown",
   "id": "623d2242",
   "metadata": {},
   "source": [
    "Attacker wants to break integrity, make learning outcome biased, while remaining undetected  \n",
    "\n",
    "- By attacker knowledge\n",
    "    - White-box: Full model access, e.g., FSGM\n",
    "        - Pertube data in direction of max change\n",
    "    - Black-box: Only API queries, assumes unlimited trials, e.g., Zeroth-Order Optimization\n",
    "        - Query model to identify direction of gradient\n",
    "    - Restricted black-box (no-box): Black-box, but finite/no trials\n",
    "\n",
    "- By goal\n",
    "    - Targeted: Force classification to a specific class, e.g., cat → dog\n",
    "    - Untargeted: Cause any misclassification, e.g., cat → not cat\n",
    "\n",
    "- By timing\n",
    "    - Poisoning: Corrupt training data, e.g., biased hiring algorithm.\n",
    "    - Evasion: Fool model at test time, e.g., adversarial stop signs"
   ]
  },
  {
   "cell_type": "markdown",
   "id": "62a45f71",
   "metadata": {},
   "source": [
    "Fast Gradient Value (FGV) Method\n",
    "• perturbation: use gradient ∇ of the loss J wrt the input image 𝒙, aiming to maximise that loss  \n",
    "• 𝒙’ = 𝒙 + 𝛿 = 𝒙 + 𝜀*sign( ∇𝒙J(θ,𝒙,y) ) ↔ FGS (Fast Gradient Sign)  \n",
    "• 𝒙’ = 𝒙 + 𝛿 = 𝒙 + 𝜀*∇𝒙J(θ,𝒙,y) ↔ FGV (Fast Gradient Value)  \n",
    "\n",
    "With FGS, each pixel changes the same magnitude (+/- 𝜀), but we still calculate the magnitude\n",
    "because we can't have the same sign all the way, so we calculate it to determine the direction  \n",
    "\n",
    "FGV scales the pertubation proportionally tot he pixel's contribution to the loss  \n",
    "\n",
    "Zeroth-Order Optimization (ZOO) Method"
   ]
  }
 ],
 "metadata": {
  "language_info": {
   "name": "python"
  }
 },
 "nbformat": 4,
 "nbformat_minor": 5
}
