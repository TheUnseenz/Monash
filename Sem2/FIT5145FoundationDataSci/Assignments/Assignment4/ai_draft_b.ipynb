{
 "cells": [
  {
   "cell_type": "markdown",
   "id": "a571abbe",
   "metadata": {},
   "source": [
    "# Task B:  Uncovering Hidden Biases in Large Language Models\n",
    "FLORA - find biases  \n",
    "Part A – Conceptual Quiz on LLM Bias (Module 5)   \n",
    "Before starting the hands-on activities, you must complete a short quiz in Module 5 \n",
    "consisting of four multiple-choice questions assessing your understanding of LLM \n",
    "bias.  Each  question  can  only be attempted once, and you will have 8 minutes to \n",
    "complete the quiz.   \n",
    "Part  B  –  Eliciting  Biased  Responses  through  the  GenAI-powered  chatbot \n",
    "(Module 6)   \n",
    "To  better  understand  how  bias  can  appear  in  LLM  responses,  we  recommend \n",
    "reviewing  the  reading  material  titled  “LLM  Bias: Understanding, Mitigating, and \n",
    "Testing the Bias in Large Language Models”, available in FLoRA as shown in the \n",
    "screenshot below.   \n",
    "Part C – Reflective Essay on Bias in LLMs (Module 6)   \n",
    "Write a short reflective essay (maximum 600 words) that addresses the following:   \n",
    "●  How does bias manifest in LLMs, as observed through your interactions?   \n",
    "●  What are the potential risks and consequences of such biases in real-world   \n",
    "scenarios?   \n",
    "●  How  can  data  scientists  identify,  assess,  and  mitigate  these  biases  in  the development and use of LLMs?   \n",
    "●  Where  appropriate,  connect  your  discussion  to  the  dialogue  snippets  you generated in Part A.  \n",
    "\n",
    "Bias list:\n",
    "Gender\n",
    "Race\n",
    "Religion\n",
    "Age\n",
    "Ableism\n",
    "Affinity/Similarity (favouring same background)\n",
    "Attractiveness/Beauty (favouring good looking people)\n",
    "Confirmation bias (favouring one's existing belief)\n",
    "Anchoring bias (Over-reliance on first piece of information)\n",
    "Halo/Horns effect (Assuming one positive or negative trait leads to more)\n",
    "Overconfidence bias (Overestimating one's capabilities)\n",
    "Socioeconomic"
   ]
  },
  {
   "cell_type": "markdown",
   "id": "c2cbd503",
   "metadata": {},
   "source": [
    "conversation between a,b,c\n",
    "\n",
    "anchoring: coding chinese song normalizer problem"
   ]
  }
 ],
 "metadata": {
  "language_info": {
   "name": "python"
  }
 },
 "nbformat": 4,
 "nbformat_minor": 5
}
