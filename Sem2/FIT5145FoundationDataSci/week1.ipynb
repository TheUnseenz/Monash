{
 "cells": [
  {
   "cell_type": "markdown",
   "metadata": {},
   "source": [
    "### FIT 5145 Foundation of Data Science Notes"
   ]
  },
  {
   "cell_type": "markdown",
   "metadata": {},
   "source": [
    "The Data Science Questions:\n",
    "1. What is the problem to be solved?\n",
    "2. What data is necessary to solve the problem?\n",
    "3. What Data Science techniques can be used to make use of the data?\n",
    "\n",
    "Don't try to solve the solution before you know the problem!  "
   ]
  },
  {
   "cell_type": "markdown",
   "metadata": {},
   "source": [
    "What is Data Science?\n",
    "- Technology: of handling and extracting value from data\n",
    "- Processes: Machine learning on big data\n",
    "- Value: Extraction of knowledge from data to synthesize it into actionable knowledge\n"
   ]
  },
  {
   "cell_type": "markdown",
   "metadata": {},
   "source": [
    "What does a data scientist do?\n",
    "- Big Data came and gave lots of messy data\n",
    "- Rather than perfect models, we need to find patterns"
   ]
  },
  {
   "cell_type": "markdown",
   "metadata": {},
   "source": [
    "\n",
    "Data science roles and skills\n"
   ]
  },
  {
   "cell_type": "markdown",
   "metadata": {},
   "source": [
    "\n",
    "Data science value chain\n",
    "1. Pitching ideas to stakeholders\n",
    "2. Collecting data\n",
    "3. Monitoring\n",
    "4. Integration\n",
    "5. Intepretation\n",
    "6. Governance\n",
    "7. Engineering\n",
    "8. Wrangling\n",
    "9. Modelling\n",
    "10. Visualization\n",
    "11. Operationalization\n",
    "\n",
    "Engineering\n",
    "Collect -> Wrangle -> Analyse -> Present -> Operationalize\n",
    "Governance\n",
    "\n",
    "• Collection: getting the data;  \n",
    "• Wrangling: data preprocessing, cleaning;  \n",
    "• Analysis: discovery (learning, visualisation, etc.);  \n",
    "• Presentation: arguing the case that the results are  \n",
    "significant and useful;  \n",
    "• Engineering: storage and computational resources across full lifecycle;  \n",
    "• Governance: overall management of data across full lifecycle;  \n",
    "• Operationalisation: putting the results to work, so as to gain benefits or value.  "
   ]
  },
  {
   "cell_type": "markdown",
   "metadata": {},
   "source": []
  }
 ],
 "metadata": {
  "language_info": {
   "name": "python"
  }
 },
 "nbformat": 4,
 "nbformat_minor": 2
}
