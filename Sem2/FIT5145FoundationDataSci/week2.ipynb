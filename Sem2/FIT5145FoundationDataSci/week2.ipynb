{
 "cells": [
  {
   "cell_type": "markdown",
   "metadata": {},
   "source": [
    "## Week 2 Notes"
   ]
  },
  {
   "cell_type": "markdown",
   "metadata": {},
   "source": [
    "Data science comprises of 3 broad fields:\n",
    "\n",
    "- Data Engineering includes techniques that harness resources for building scalable data systems when the characteristics of the datasets require architectures for collection, storage, manipulation, and analysis.\n",
    "  \n",
    "- Data Analysis includes techniques that pre-process, statistically analyse, and then present results of analysis, for instance in visualisations. There are many variations of these field and specialisations of it exist in many application domains.\n",
    "  \n",
    "- Data Management includes techniques to manage data through its lifecycle and in accordance with regulations and best practices to address issues such as privacy, security, and appropriate access. Often the terms governance and curation are used too.\n",
    "\n"
   ]
  }
 ],
 "metadata": {
  "language_info": {
   "name": "python"
  }
 },
 "nbformat": 4,
 "nbformat_minor": 2
}
