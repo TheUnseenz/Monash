{
 "cells": [
  {
   "cell_type": "markdown",
   "metadata": {},
   "source": [
    "## Week 2 Notes"
   ]
  },
  {
   "cell_type": "markdown",
   "metadata": {},
   "source": [
    "Data science comprises of 3 broad fields:\n",
    "\n",
    "- Data Engineering includes techniques that harness resources for building scalable data systems when the characteristics of the datasets require architectures for collection, storage, manipulation, and analysis.\n",
    "  \n",
    "- Data Analysis includes techniques that pre-process, statistically analyse, and then present results of analysis, for instance in visualisations. There are many variations of these field and specialisations of it exist in many application domains.\n",
    "  \n",
    "- Data Management includes techniques to manage data through its lifecycle and in accordance with regulations and best practices to address issues such as privacy, security, and appropriate access. Often the terms governance and curation are used too.\n",
    "\n"
   ]
  },
  {
   "cell_type": "markdown",
   "metadata": {},
   "source": [
    "## Week 2 Workshop\n",
    "\n",
    "#### Our life on the cloud\n",
    "This provides many, many, many advantages:  \n",
    "• e.g. personal agents, computerised support for health, but also  \n",
    "some disadvantages:  \n",
    "<br>\n",
    "• e.g. security and privacy breaches  \n",
    "• corporate leakage to government (security, tax, etc.)  \n",
    "• what if you don’t have rights to access/delete data?  \n",
    "• the department of pre-crime (e.g., having recidivism)  \n",
    "• corporate mergers  \n",
    "• “the science is settled” and government mandates  \n",
    "\n",
    "\n",
    "#### The end of Theory?\n",
    "Science is largely driven by laborious studies to find complex causal\n",
    "models, sometimes using reductionism. The intent is to find an\n",
    "explanation that can be used for future prediction.  \n",
    "<br>\n",
    "Chris Anderson (Editor-in-chief of Wired magazine) says:\n",
    "<br>\n",
    "Google’s founding philosophy is that we don’t know why this page is better\n",
    "than that one: If the statistics of incoming links say it is, that’s good enough. No\n",
    "semantic or causal analysis is required.  \n",
    "<br>\n",
    "Petabytes allow us to say: \"Correlation is enough.\" We can stop looking for\n",
    "models. We can analyze the data without hypotheses about what it might show.   \n",
    "<br>\n",
    "The new availability of huge amounts of data [...] offers a whole new way of\n",
    "understanding the world. Correlation supersedes causation,  \n",
    "<br>\n",
    "NB. When Google is delivering an advert, it doesn’t need to be right, it\n",
    "just needs a good guess, so causality, models, etc., are not important.  \n",
    "\n",
    "#### Or, not the end of Theory?\n",
    "Philosopher Massimo Pigliucci says:  \n",
    "But, if we stop looking for models and hypotheses, are we\n",
    "still really doing science? Science, unlike advertizing, is not about\n",
    "finding patterns–...–it is about finding explanations for those\n",
    "patterns.  \n",
    "<br>\n",
    "science advances only if it can provide explanations.  \n",
    "<br>\n",
    "Data scientist Drew Conway says in some areas the data doesn’t\n",
    "exist.  \n",
    "<br>\n",
    "Statistician Andrew Gelman says:  \n",
    "... you’ll still have to worry about ... all the ... reasons\n",
    "why people say things like, “correlation is not causation” and\n",
    "“the future is different from the past.”\n",
    "\n",
    "\n",
    "\n",
    "\n"
   ]
  },
  {
   "cell_type": "markdown",
   "metadata": {},
   "source": []
  }
 ],
 "metadata": {
  "language_info": {
   "name": "python"
  }
 },
 "nbformat": 4,
 "nbformat_minor": 2
}
