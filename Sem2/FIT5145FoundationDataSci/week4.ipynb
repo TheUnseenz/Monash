{
 "cells": [
  {
   "cell_type": "markdown",
   "metadata": {},
   "source": [
    "# Week 4 Notes"
   ]
  },
  {
   "cell_type": "markdown",
   "metadata": {},
   "source": [
    "### Analytic Levels  \n",
    "• Descriptive analytics: What happened?  \n",
    "• Predictive analytics: What will happen?  \n",
    "• Prescriptive analytics: What should we do about it?  "
   ]
  },
  {
   "cell_type": "markdown",
   "metadata": {},
   "source": [
    "#### Descriptive Analytics: gain insight from historical data  \n",
    "• plot sales results by region and product category  \n",
    "• correlate with advertising revenue per region  "
   ]
  },
  {
   "cell_type": "markdown",
   "metadata": {},
   "source": [
    "#### Predictive analytics: \n",
    "- make prediction using statistical and machine learning techniques  \n",
    "    - predict next quarter’s sales results using economic projections and advertising targets  \n",
    "- analyze current and historical facts to make predictions about future or otherwise unknown events.  \n",
    "\n",
    "##### Common Use Cases:\n",
    "• Business: Forecasting demand, identifying fraud, targeting marketing campaigns.  \n",
    "• Education: Predicting student dropout risk or performance.  \n",
    "• Healthcare: Predicting disease outbreaks or patient readmission.  \n",
    "• Finance: Credit scoring, risk assessment  "
   ]
  },
  {
   "cell_type": "markdown",
   "metadata": {},
   "source": [
    "#### Prescriptive analytics\n",
    "- recommend decisions using optimisation, simulation, etc.  \n",
    "    - recommend which regions to advertise in given a fixed budget  \n",
    "- goes one step beyond predictive analytics.  \n",
    "\n",
    "• While predictive analytics tells you what is likely to happen,\n",
    "prescriptive analytics tells you what actions to take to\n",
    "influence or optimize future outcomes.  \n",
    "\n",
    "##### Common Use Cases:\n",
    "• Business: Recommends inventory levels to minimize costs\n",
    "while meeting demand.  \n",
    "• Education: After predicting which students are at risk,\n",
    "prescriptive analytics might suggest tailored learning\n",
    "strategies or interventions.  \n",
    "• Healthcare: Recommends treatment plans based on patients  "
   ]
  },
  {
   "cell_type": "markdown",
   "metadata": {},
   "source": [
    "### Where to find data?\n",
    "1. Sharing data\n",
    "2. Open data\n",
    "3. Utilising data\n",
    "4. Data standards\n",
    "5. Combining data\n",
    "6. Scripting languages and tools"
   ]
  },
  {
   "cell_type": "markdown",
   "metadata": {},
   "source": [
    "#### Shared data provides opportunities\n",
    "- New combinations of data\n",
    "    - Attributes from one dataset can be merged into another given similar properties\n",
    "- New relationships in data\n",
    "- New visualisations of data\n",
    "- New understandings of data\n",
    "- Also creates new data!"
   ]
  },
  {
   "cell_type": "markdown",
   "metadata": {},
   "source": [
    "#### Open data\n",
    "• Data that is “freely available to everyone to use and\n",
    "republish as they wish, without restrictions from copyright,\n",
    "patents or other mechanisms of control” – Wikipedia  \n",
    "    - Free – accessible, costs nothing  \n",
    "    - Free – unrestricted usage  \n",
    "    - Free – simple, non-proprietary format  \n",
    "• Commonly associated with open government data  \n",
    "\n",
    "##### Open data opportunities\n",
    "open data provides new opportunities for business, new products\n",
    "and services, and can raise productivity  \n",
    "• open data supports public understanding and citizen engagement  \n",
    "• scientists need to better publicise their data (with help from\n",
    "universities, etc.)  \n",
    "• industry sectors should work with regulators and coordinate\n",
    "industry collaboration  \n",
    "• collaboration across sectors in both public and private settings,  \n",
    "• e.g., disaster response, education  \n",
    "\n",
    "##### Open data problems\n",
    "- Data is not always usable  \n",
    "- Need the right skills to make use of it  \n"
   ]
  },
  {
   "cell_type": "markdown",
   "metadata": {},
   "source": [
    "#### Utilising data sources\n",
    "Data requires work to clean up\n",
    "Be creative about sources\n",
    "Combine many sources\n",
    "Some might need to be generated\n",
    "Fine-grained data really helps, but is hard to use\n",
    "\n",
    "Many companies offer a free, public API\n",
    "- Facebook\n",
    "- Twitter\n",
    "- Google maps\n",
    "- Youtube\n",
    "- Amazon\n",
    "- New york times"
   ]
  },
  {
   "cell_type": "markdown",
   "metadata": {},
   "source": [
    "#### Data standards\n",
    "Standardization is more efficient  \n",
    "Efficiency lowers cost  \n",
    "E.g. XML, json, csv are standards that tell you how to arrange your data\n",
    "\n",
    "##### Data formats\n",
    "• Machine-readable data: data (or metadata) which is in a\n",
    "format that can be understood by a computer,\n",
    "e.g., XML, JSON  \n",
    "• Markup language: system for annotating a document in a\n",
    "way that is syntactically distinguishable from the text\n",
    "e.g., Markdown, Javadoc  \n",
    "• Digital container: file format whose specification describes\n",
    "how different elements of data and metadata coexist in a\n",
    "computer file, e.g., MPEG  \n",
    "\n",
    "##### Metadata\n",
    "- Data about data  \n",
    "- Structured for computer interpretation and processing  \n",
    "- Tells you when, where, how the data was collected  \n",
    "\n",
    "• Descriptive: describes content for identification and\n",
    "retrieval, e.g. title, author of a book  \n",
    "• Structural: documents relationships and links, e.g.\n",
    "chapters in a book, elements in XML, containers in MPEG  \n",
    "• Administrative: helps to manage information, e.g. version\n",
    "number, archiving date, Digital Rights Management (DRM)  \n",
    "\n",
    "##### Why metadata?\n",
    "• Facilitate data discovery  \n",
    "• Help users determine the applicability of the data  \n",
    "• Enable interpretation and reuse  \n",
    "• Clarify ownership and restrictions on reuse  \n",
    "• Metadata helps set standards  \n",
    "• Metadata should also be standardised   \n",
    "    • Archiving data  \n",
    "    • Sharing data  \n",
    "    • Searching data  \n",
    "\n"
   ]
  },
  {
   "cell_type": "markdown",
   "metadata": {},
   "source": [
    "#### Combining data\n",
    "Relationships in data  \n",
    "- Tabular data  \n",
    "    - Tables  \n",
    "    - Relational database  \n",
    "- Graph data  \n",
    "    - Nodes: entities  \n",
    "    - Edges: relationship between entities  \n",
    "    - Graph database  \n",
    "\n",
    "For datasets to be joined, they must have something in common  \n",
    "\n",
    "##### Joining datasets\n",
    "• Can be temporary  \n",
    "    - Just for the current analysis  \n",
    "• Can be permanent  \n",
    "    - Store the combined data  \n",
    "• Can have conditions  \n",
    "    - Can you share the combined data?  \n",
    "• Can be costly  \n",
    "    - Memory  \n",
    "    - Processing time & capacity  \n",
    "        ‣ joining  \n",
    "        ‣ searching  \n",
    "        ‣ analysing  \n"
   ]
  },
  {
   "cell_type": "markdown",
   "metadata": {},
   "source": [
    "#### Scripting languages and tools\n",
    "• A script is a series of commands to be performed  \n",
    "• A script is executable on demand  \n",
    "    - not compiled to an executable form  \n",
    "    - interpreted command-by-command as it is executed, like on a command line\n",
    "• Examples:  \n",
    "    - R  \n",
    "    - Python  \n",
    "    - Unix shell  \n",
    "\n",
    "##### Unix shell script\n",
    "• Command-line code for Unix (+ Linux & Mac OS)  \n",
    "• Commonly include:  \n",
    "    - Wildcards: *, ?  \n",
    "    e.g., ./Customer??Loc*.txt  \n",
    "    - Piping: output from one command streams as input to another  \n",
    "    e.g., cat product*v1.txt | sort  \n",
    "    - / in filepaths  \n",
    "    - ; to separate commands  \n",
    "    - > and < to indicate the input and output  \n",
    "    e.g. cat product*v1.txt > contents  \n",
    "\n",
    "• Piping shells commands buffers their execution  \n",
    "    - Don’t try to do everything at once, just enough for the\n",
    "    next command  \n",
    "    - Tend to work through text files line by line  \n",
    "    - Allows different commands to be working on different\n",
    "    parts of the data  \n",
    "    - Scales up well for big files!  \n",
    "        ‣ Reduces the memory overload  \n",
    "\n",
    "##### Standardising workflow\n",
    "• Need to standardise how data is accessed  \n",
    "• Need to be able to reproduce  \n",
    "    - Wrangling  \n",
    "    - Analysis  \n",
    "    - All other stages of the value chain!  \n",
    "• Scripting allows these to be recorded  \n",
    "• Scripting allows these to be shared  \n",
    "• Scripting allows these to be modified  \n",
    "\n",
    "• It is also vital to understand why certain steps are used  \n",
    "    - Why was the wrangling done  \n",
    "    - What was the analysis for  \n",
    "• The context of working with data also needs to be\n",
    "recorded  \n",
    "\n",
    "• So how can you standardise data?  \n",
    "    - Access  \n",
    "    - Format  \n",
    "    - Value & vocabulary  \n",
    "    - Metadata  \n",
    "    - Software & tools  \n",
    "    - Process & workflow  \n",
    "• What role do data scientists and data science play in\n",
    "standardising things related to data?  \n",
    "    - Establishing the standards  \n",
    "    - Enacting the standards  "
   ]
  },
  {
   "cell_type": "markdown",
   "metadata": {},
   "source": [
    "You can use a new method on an existing dataset or on your own country and that counts as novel\n",
    "Only R is allowed, no python!"
   ]
  }
 ],
 "metadata": {
  "language_info": {
   "name": "python"
  }
 },
 "nbformat": 4,
 "nbformat_minor": 2
}
