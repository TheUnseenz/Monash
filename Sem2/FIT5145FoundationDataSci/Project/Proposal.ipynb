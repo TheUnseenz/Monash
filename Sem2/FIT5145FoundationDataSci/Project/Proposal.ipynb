{
 "cells": [
  {
   "cell_type": "markdown",
   "metadata": {},
   "source": [
    "Project must be done on one of the following fields:\n",
    "○ Data Science in Agriculture\n",
    "○ Data Science in Education\n",
    "○ Data Science in Finance\n",
    "○ Data Science in Gaming Industry\n",
    "○ Data Science in Healthcare\n",
    "○ Data Science in Social Media\n",
    "○ Data Science in Sports\n",
    "\n",
    "Project must be novel\n",
    "Result does not need to outperform previous works\n",
    "\n",
    "Find the dataset first\n",
    "Can use kaggle"
   ]
  }
 ],
 "metadata": {
  "language_info": {
   "name": "python"
  }
 },
 "nbformat": 4,
 "nbformat_minor": 2
}
