{
 "cells": [
  {
   "cell_type": "markdown",
   "metadata": {},
   "source": [
    "# The Unspoken Epidemic - Analysis to Combat the Rise of 'Brain Rot'\n",
    "## Introduction\n",
    "The world's population is increasingly being online today, especially in the recent post-pandemic years. A concerning trend is arising: short-form, low quality but addictive content, usually on social media, is exploding in popularity (Ortiz-Ospina, 2019). For instance, TikTok has exploded in user base to 1.925 billion users since its launch in 2018 (How Many Users on TikTok? Statistics & Facts (2025), n.d.), Instagram Reels has similarly soared to 2 billion users, 726.8 million of which use Reels, despite Instagram Reels only having launched in August 2020 (Connell, 2025), and Youtube Short's has ballooned to 90 billion viewed videos in 2024 compared to 30 billion in 2021 (Ch, 2025). Moreover, video content has also been shortening in length in general. Social media, where brain rot content is typically found, has grown by an absurd 2.52x in the last 10 years, putting it at 5.24 billion people now - a solid majority of the world (Team, 2025). This phenomenon has come to be dubbed as \"brain rot\" (Heaton, 2024). While the pandemic lockdowns certainly exacerbated this trend, with increased time spent online globally, it is crucial to recognize that the rise of 'brain rot' content was already underway prior to this period. With how our behaviours shape us, it is vital to understand its impact, as research already shows a multitude of negative effects: shortened attention spans, reinforcement of existing viewpoints, dampened critical thinking, worsened academic anxiety, academic engagement and mindfulness, and causes depression - and this list is non-exhaustive. These are societal-level problems, that left unchecked, will have deep-running implications arising in the future. This project aims to have the joint goals of raising public awareness of the dangers of brain rot addiction, and discovering what works to mitigate this to help people live healthier lives.\n",
    "\n",
    "## Related Work\n",
    "Naturally, as this is a very recent phenomenon, long-term effects of brain rot content cannot be studied just yet. Research shows that brain rot consumption shorten people's attention spans, reinforce existing viewpoints and dampens critical thinking (Kim, 2024). Another study on students (Li et al., 2024) found that brain rot content significantly affects student academic anxiety, academic engagement, and mindfulness for the worse. Li et al. (2024) also notes that practicing mindfulness mediates the effects on academic anxiety, thus showing an answer as to dampen the negative effects of brain rot addiction. Yet another study (Qu et al., 2023) shows that brain rot content addiction causes depression, which is known to cause many other negative effects. The combined results of these research highlights the significant negative impact of the consumption of brain rot content, and what to do about it. While there are many blogs and articles offering advice on how to deal with \"brain rot\", for example Curtis (2025) or Boys & Girls Clubs of America (2025), there is a lack of hard research to validate these. This project distinguishes itself by quantifying how bad the effects are and what helps with data.\n",
    "\n",
    "## Business Model\n",
    "The project evaluates how 'brain rot' addiction impacts academic performance, quantifies its negative effects, and identifies effective mitigation strategies. It will have the joint goals of raising public awareness of the dangers of brain rot addiction, and discovering what works to mitigate this to help people live healthier lives. This project will be put best to use in educational and mental health institutions, and is also of great benefit to governments and society as a whole, to help implement mitigation strategies. The primary stakeholders who will benefit from this project are:\n",
    "1. Educators  \n",
    "    Brain rot affects educational outcomes through reduced focus and increased anxiety in students (Li et al., 2024). By understanding its roots, educators can tailor interventions to improve student performance at its fundamental cause.\n",
    "2. Mental health practitioners  \n",
    "    Brain rot excarbates depression, alongside other mental health problems (Qu et al., 2023), making it more difficult for clients to engage in healthier living. Through a better understanding of this phenomenon, counsellors and therapists will be able to better guide their clients towards healthier lives with improved well-being.\n",
    "3. Government regulators  \n",
    "    Brain rot poses a significant detriment to society, contributing to reduced productivity (Kim,2024) and increased mental health costs (Qu et al., 2023) at a societal level, thereby hindering both economic and technological progress. Providing concrete evidence of these impacts is crucial for driving government action. With compelling data, governments globally can be urged to recognize the urgency of combating brain rot and implement effective measures, such as regulations on social media/content creators and public mental health campaigns to promote awareness.\n",
    "4. Parents  \n",
    "    The developmental impact of brain rot on children and adolescents is a serious concern (Kim,2024). This project will empower parents to take proactive steps to shield their children from the addictive nature of this content, fostering healthier growth. Furthermore, it will provide guidance for parents seeking to mitigate the negative effects of brain rot in situations where children are already exposed (Boys & Girls Clubs of America, 2025).\n",
    "5. Society as a whole  \n",
    "    The general population will have better resources to better their well-being and productivity.\n",
    "6. Research  \n",
    "    This contributes to society's knowledge of the impact of our behaviours on our lives.\n",
    "\n",
    "## References\n",
    "1. Ortiz-Ospina, E. (2019, September 18). The rise of social media. Our World in Data. https://ourworldindata.org/rise-of-social-media\n",
    "2. How many users on TikTok? Statistics & Facts (2025). (n.d.). https://seo.ai/blog/how-many-users-on-tiktok\n",
    "3. Connell, A. (2025, January 1). 32 Top Instagram Reels Statistics for 2025. Adam Connell. https://adamconnell.me/instagram-reels-statistics/\n",
    "4. Ch, D. (2025, January 8). YouTube shorts statistics. SendShort - Create Viral Shorts Instantly With SendShort. https://sendshort.ai/statistics/shorts/\n",
    "5. Team, B. (2025, February 10). Social Media Usage & Growth Statistics. Backlinko. https://backlinko.com/social-media-users\n",
    "6. Heaton, B. (2024, December 2). ‘Brain rot’ named Oxford Word of the Year 2024. Oxford University Press. https://corp.oup.com/news/brain-rot-named-oxford-word-of-the-year-2024/\n",
    "7. Kim, I. (2024). EXPLORING THE COGNITIVE AND SOCIAL EFFECTS OF TIKTOK ON ADOLESCENT MINDS: a STUDY OF SHORT-FORM VIDEO CONSUMPTION. ierj.in. https://doi.org/10.21276/IERJ24769489007345\n",
    "8. Li, G., Geng, Y., & Wu, T. (2024). Effects of short-form video app addiction on academic anxiety and academic engagement: The mediating role of mindfulness. Frontiers in Psychology, 15. https://doi.org/10.3389/fpsyg.2024.1428813\n",
    "9. Qu, D., Liu, B., Jia, L., Zhang, X., Chen, D., Zhang, Q., Feng, Y., & Chen, R. (2023). The longitudinal relationships between short video addiction and depressive symptoms: A cross-lagged panel network analysis. Computers in Human Behavior, 152, 108059. https://doi.org/10.1016/j.chb.2023.108059\n",
    "10. Curtis, L. (2025, January 6). 12 habits to Prevent \"Brain Rot\" Health. https://www.health.com/habits-to-prevent-brain-rot-8766150\n",
    "11. Boys & Girls Clubs of America. (2025, February 26). Supporting Digital Well-being: 12 Ways to Help Teens Unplug from Technology - Boys & Girls Clubs of America. https://www.bgca.org/news-stories/2025/February/unplugging/\n",
    "\n"
   ]
  },
  {
   "cell_type": "markdown",
   "metadata": {},
   "source": [
    "\n",
    "4.  Characterising and Analysing Data:\n",
    "  -  Discuss potential data sources and analyze their characteristics (e.g., the 4 V's), evaluate the required platforms, software, and tools for data processing and storage based on the specific characteristics of the data or consider potential options (e.g., platforms, software, and tools) if your project expands in the future.\n",
    "  -  Specify the data analysis techniques and statistical methods (e.g., decision tree or regression tree) applicable to the project. Provide a rationale for the selected methods and discuss the expected high-level outcomes. Note: The specification of data analysis and statistical methods should be different from the demonstration below and must be described separately.\n",
    "  -  Demonstration: identify a usable dataset for the proposed project and perform some basic analysis on the identified dataset to demonstrate the feasibility of the project, using R (e.g., detailing the information/features contained in the dataset, analyse the basic characteristics of the dataset, etc.), and report the analysis process and result in the demonstration section of a final report.\n",
    "\n",
    "Note: Please include a link to download the dataset in the final report, and upload the R markdown file created for data analysis on Moodle.\n"
   ]
  },
  {
   "cell_type": "markdown",
   "metadata": {},
   "source": [
    "## 4. Characterising and Analysing Data\n",
    "Points to identify. Link by trends over time and by geographic location\n",
    "- when/where is rise of brain rot (reels/shorts)\n",
    "- attention span: is media content getting shorter?\n",
    "- linguistic simplification: is language getting dumber?\n",
    "- educational performance trends: are we getting dumber?\n",
    "- are reading and information retention declining?\n",
    "\n",
    "Datasets used: \n",
    "- mobile engagement trends of shorts/reels (rise of brain rot, attention span)\n",
    "- reading trends average book length (attention span, in-depth reading/information retention)\n",
    "- wikipedia dwell time data (attention span, in-depth reading/information retention)\n",
    "- neuroscience data (if possible) (attention span)\n",
    "- commoncrawl/google books ngrams viewer (language trends)\n",
    "- academic score trends (academic trends)\n",
    "\n",
    "### 4.1 Potential Data Sources and Characteristics\n",
    "\n",
    "This sub-section addresses: \"Discuss potential data sources and analyze their characteristics (e.g., the 4 V's), evaluate the required platforms, software, and tools for data processing and storage based on the specific characteristics of the data or consider potential options (e.g., platforms, software, and tools) if your project expands in the future.\" \n",
    "\n",
    "    Introduction to Data:\n",
    "        Start by defining the broad type of data relevant to a study on social media impact on academic performance (e.g., behavioral data, survey data, demographic data).\n",
    "    Potential Data Sources:\n",
    "        Primary Data (e.g., Surveys):\n",
    "            Description: Data collected directly from individuals through questionnaires, interviews, or observations. Your current dataset is an example of primary survey data.\n",
    "            Pros: Directly addresses research questions, specific to context.\n",
    "            Cons: Time-consuming, resource-intensive, potential for self-report bias.\n",
    "        Secondary Data (e.g., Social Media APIs, University Records):\n",
    "            Description: Data collected by others for different purposes but usable for your study.\n",
    "            Pros: Cost-effective, readily available, large scale.\n",
    "            Cons: May not perfectly align with research questions, data quality can vary, ethical/privacy concerns with sensitive data.\n",
    "            Examples for future expansion:\n",
    "                Social Media APIs (e.g., Facebook Graph API, Twitter API): Collect public posts, engagement metrics, sentiment.\n",
    "                University Student Records: Academic transcripts, attendance data (requires strict ethical approval and anonymization).\n",
    "                Wearable Devices/App Usage Trackers: Objective data on screen time, sleep patterns (highly intrusive, significant privacy hurdles).\n",
    "    Data Characteristics (The 4 V's):\n",
    "        Volume: The sheer amount of data.\n",
    "            Current Project: Relatively small (hundreds of rows).\n",
    "            Future Expansion: Could become very large (terabytes) if integrating social media streams, university records, or longitudinal studies. Requires scalable storage.\n",
    "        Variety: The different types of data.\n",
    "            Current Project: Structured (numeric: age, usage; categorical: gender, platform).\n",
    "            Future Expansion: Could include unstructured (text from posts, images/videos from social media), semi-structured (JSON from APIs). Requires diverse processing capabilities.\n",
    "        Velocity: The speed at which data is generated and needs to be processed.\n",
    "            Current Project: Static (collected once).\n",
    "            Future Expansion: Could be high velocity (real-time social media streams, continuous sensor data). Requires streaming analytics.\n",
    "        Veracity: The accuracy and trustworthiness of the data.\n",
    "            Current Project: Self-reported survey data, prone to bias and inaccuracies (e.g., memory recall, social desirability).\n",
    "            Future Expansion: Data from APIs might have bots/fake accounts; university data generally high veracity but sensitive. Requires robust data validation and cleaning.\n",
    "    Platforms, Software, and Tools for Processing and Storage:\n",
    "        Current Project (Basic):\n",
    "            Tools: R (for analysis and visualization), RStudio (IDE).\n",
    "            Platforms/Storage: Local machine storage. CSV format.\n",
    "        Future Expansion (Advanced/Big Data):\n",
    "            Data Storage: Cloud storage solutions (AWS S3, Google Cloud Storage, Azure Blob Storage for raw data); NoSQL databases (MongoDB, Cassandra for unstructured data); Data Warehouses (Snowflake, BigQuery for structured, analytical data).\n",
    "            Data Processing: Distributed computing frameworks (Apache Spark, Hadoop MapReduce); Cloud-based data processing services (AWS Glue, Google Dataflow, Azure Data Factory).\n",
    "            Tools: Python (for more complex data pipelines, machine learning), specialized visualization tools (Tableau, Power BI), workflow orchestration tools (Apache Airflow).\n",
    "            Rationale for Selection: Choice depends on scale, real-time needs, data variety, and budget. Open-source options (Spark, Hadoop) versus managed cloud services.\n",
    "\n"
   ]
  },
  {
   "cell_type": "markdown",
   "metadata": {},
   "source": [
    "\n",
    "5.  Standard for Data Science Process, Data Governance and Management\n",
    "  -  Describe any standards used in your data science process\n",
    "  -  Describe any practices for data governance and management in the project, e.g., how to address key issues such as data accessibility, security, and confidentiality, as well as potential ethical concerns related to data usage."
   ]
  },
  {
   "cell_type": "markdown",
   "metadata": {},
   "source": []
  },
  {
   "cell_type": "markdown",
   "metadata": {},
   "source": []
  },
  {
   "cell_type": "markdown",
   "metadata": {},
   "source": [
    "4.2 - where is multiple regression analysis, VIF, confidence interval tests in this?\n",
    "\n",
    "4.3 - add visualisations\n",
    "Most_Used_Platform can be grouped in same variable, don't need to rename\n",
    "visualise regression models - coefficient plots, colour coded for p-value\n",
    "don't forget the box plots\n",
    "maybe turn box plots into violin plots"
   ]
  }
 ],
 "metadata": {
  "language_info": {
   "name": "python"
  }
 },
 "nbformat": 4,
 "nbformat_minor": 2
}
