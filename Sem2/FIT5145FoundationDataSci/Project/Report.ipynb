{
 "cells": [
  {
   "cell_type": "markdown",
   "metadata": {},
   "source": [
    "# Report specifications\n",
    "1.  Assignment 3: Report\n",
    "Weight: 15% of the unit mark\n",
    "Submission format: one PDF file and one RMD file (for demonstration in the Characterising and Analysing Data section)\n",
    "Size: up to 2500 words\n",
    "\n",
    "This report is your comprehensive analysis of how data science can be used to help solve a significant real-world problem. Please answer the following question in the FIRST page of your Assignment 3 submission:\n",
    "  ●  Have you selected a topic for Assignment 3 that is different from the one that you used for Assignment 1 (i.e., have you rewrote the first three sections of the report)?\n",
    "\n",
    "Your report should have the following sections:\n",
    "\n",
    "1.  Introduction\n",
    "  -  Clear articulation of the specific problem the project aims to solve.\n",
    "  -  Background and context of the problem.\n",
    "  -  Importance of the problem (why it matters).\n",
    "  -  Specific goals of the project.\n",
    "\n",
    "2.  Related Work\n",
    "  -  Summary of existing research, projects, or industry solutions related to the problem.\n",
    "  -  Identification of gaps in current approaches.\n",
    "  -  Why or how your project should be considered as novel.\n",
    "\n",
    "3.  Business Model\n",
    "  -  Analysis about the business/application area the project sits in.\n",
    "  -  What kind of benefits or values the project can create for the specific business area?\n",
    "  -  Who are the primary stakeholders and how will they benefit from the project?\n",
    "\n",
    "4.  Characterising and Analysing Data:\n",
    "  -  Discuss potential data sources and analyze their characteristics (e.g., the 4 V's), evaluate the required platforms, software, and tools for data processing and storage based on the specific characteristics of the data or consider potential options (e.g., platforms, software, and tools) if your project expands in the future.\n",
    "  -  Specify the data analysis techniques and statistical methods (e.g., decision tree or regression tree) applicable to the project. Provide a rationale for the selected methods and discuss the expected high-level outcomes. Note: The specification of data analysis and statistical methods should be different from the demonstration below and must be described separately.\n",
    "  -  Demonstration: identify a usable dataset for the proposed project and perform some basic analysis on the identified dataset to demonstrate the feasibility of the project, using R (e.g., detailing the information/features contained in the dataset, analyse the basic characteristics of the dataset, etc.), and report the analysis process and result in the demonstration section of a final report.\n",
    "\n",
    "Note: Please include a link to download the dataset in the final report, and upload the R markdown file created for data analysis on Moodle.\n",
    "\n",
    "5.  Standard for Data Science Process, Data Governance and Management\n",
    "  -  Describe any standards used in your data science process\n",
    "  -  Describe any practices for data governance and management in the project, e.g., how to address key issues such as data accessibility, security, and confidentiality, as well as potential ethical concerns related to data usage.\n",
    "\n",
    "The sections would present aspects of Weeks 1-10 of the unit for your chosen case study.\n",
    "\n",
    "The maximum word limit for the report (Assignment 3) is 2500 words.  It may include some/all of your Assignment 1, modified if needed (counted in the 2500 word total). References at the end of the report (i.e., URLs and academic publications) are not included in the word count. Note that staying within the word limit demonstrates your ability to write concisely."
   ]
  },
  {
   "cell_type": "markdown",
   "metadata": {},
   "source": [
    "Assignment 3 report:  You will be assessed on your ability to:\n",
    "\n",
    "  ●  define the problem, provide background and significance, outline specific goals, analyze the business domain and its value creation, identify key stakeholders and their benefits, summarize existing research or industry solutions, highlight gaps in current approaches, and justify the project's novelty and potential impact (You can reuse the content from Assignment 1 for this section);  \n",
    "  ●  discuss potential data sources and analyze their characteristics (e.g., the 4 V's) and evaluate the required platforms, software, and tools for data processing and storage based on the specific characteristics of the data or consider potential options (e.g., platforms, software, and tools) if your project expands in the future;  \n",
    "  ●  specify the data analysis techniques and statistical methods (e.g., decision tree or regression tree) applicable to the project. Provide a rationale for the selected methods and discuss the expected high-level outcomes;  \n",
    "  ●  identify a usable dataset for the proposed project and perform some basic analysis on the identified dataset to demonstrate the feasibility of the project, using R (e.g., detailing the information/features contained in the dataset, analyse the basic characteristics of the dataset, etc.), and report the analysis process and result in the demonstration section of a final report;  \n",
    "  ●  describe any standards used in your data science process and practices for data governance and management in the project, e.g., how to address key issues such as data accessibility, security, and confidentiality, as well as potential ethical concerns related to data usage;  \n",
    "  ●  think critically and creatively, providing justification and analysis;  \n",
    "  ●  provide a good quality of report in terms of structure, expression, grammar and spelling.  \n",
    "\n",
    "For both assignments, make sure that any resources you use are acknowledged in your report. You may need to review the FIT citation style to make yourself familiar with appropriate citing and referencing for this assessment. Also, review the demystifying citing and referencing guide for help."
   ]
  },
  {
   "cell_type": "markdown",
   "metadata": {},
   "source": [
    "Assignment 3: Presentation (Slides + Verbal) + Peer-review Evaluation \n",
    "Weight: 10% of the unit mark \n",
    "Submission format: one PDF file (Slides) \n",
    "Size: a maximum of 10 slides (Slides) \n",
    "You need to submit your presentation slides along with your final report. The 4 minute presentation \n",
    "is given in Week 12 during your assigned applied class and after your presentation, the tutor will ask \n",
    "at  least  one  question  to  the  presenter  (1  minute).  You will also be required to review and provide \n",
    "feedback on presentations of other students (peer-review) during the applied class in Week 12, using \n",
    "the Google Form provided."
   ]
  },
  {
   "cell_type": "markdown",
   "metadata": {},
   "source": [
    "Section 1-3 can be copy pasted from Assignment 1. Only need to do section 4, 5 and the presentation slides."
   ]
  },
  {
   "cell_type": "markdown",
   "metadata": {},
   "source": [
    "# The Unspoken Epidemic - Analysis to Combat the Rise of 'Brain Rot'\n",
    "## Introduction\n",
    "The world's population is increasingly being online today, especially in the recent post-pandemic years. A concerning trend is arising: short-form, low quality but addictive content, usually on social media, is exploding in popularity (Ortiz-Ospina, 2019). For instance, TikTok has exploded in user base to 1.925 billion users since its launch in 2018 (How Many Users on TikTok? Statistics & Facts (2025), n.d.), Instagram Reels has similarly soared to 2 billion users, 726.8 million of which use Reels, despite Instagram Reels only having launched in August 2020 (Connell, 2025), and Youtube Short's has ballooned to 90 billion viewed videos in 2024 compared to 30 billion in 2021 (Ch, 2025). Moreover, video content has also been shortening in length in general. Social media, where brain rot content is typically found, has grown by an absurd 2.52x in the last 10 years, putting it at 5.24 billion people now - a solid majority of the world (Team, 2025). This phenomenon has come to be dubbed as \"brain rot\" (Heaton, 2024). While the pandemic lockdowns certainly exacerbated this trend, with increased time spent online globally, it is crucial to recognize that the rise of 'brain rot' content was already underway prior to this period. With how our behaviours shape us, it is vital to understand its impact, as research already shows a multitude of negative effects: shortened attention spans, reinforcement of existing viewpoints, dampened critical thinking, worsened academic anxiety, academic engagement and mindfulness, and causes depression - and this list is non-exhaustive. These are societal-level problems, that left unchecked, will have deep-running implications arising in the future. This project aims to have the joint goals of raising public awareness of the dangers of brain rot addiction, and discovering what works to mitigate this to help people live healthier lives.\n",
    "\n",
    "## Related Work\n",
    "Naturally, as this is a very recent phenomenon, long-term effects of brain rot content cannot be studied just yet. Research shows that brain rot consumption shorten people's attention spans, reinforce existing viewpoints and dampens critical thinking (Kim, 2024). Another study on students (Li et al., 2024) found that brain rot content significantly affects student academic anxiety, academic engagement, and mindfulness for the worse. Li et al. (2024) also notes that practicing mindfulness mediates the effects on academic anxiety, thus showing an answer as to dampen the negative effects of brain rot addiction. Yet another study (Qu et al., 2023) shows that brain rot content addiction causes depression, which is known to cause many other negative effects. The combined results of these research highlights the significant negative impact of the consumption of brain rot content, and what to do about it. While there are many blogs and articles offering advice on how to deal with \"brain rot\", for example Curtis (2025) or Boys & Girls Clubs of America (2025), there is a lack of hard research to validate these. This project distinguishes itself by quantifying how bad the effects are and what helps with data.\n",
    "\n",
    "## Business Model\n",
    "The project evaluates how 'brain rot' addiction impacts academic performance, quantifies its negative effects, and identifies effective mitigation strategies. It will have the joint goals of raising public awareness of the dangers of brain rot addiction, and discovering what works to mitigate this to help people live healthier lives. This project will be put best to use in educational and mental health institutions, and is also of great benefit to governments and society as a whole, to help implement mitigation strategies. The primary stakeholders who will benefit from this project are:\n",
    "1. Educators\n",
    "    Brain rot affects educational outcomes through reduced focus and increased anxiety in students (Li et al., 2024). By understanding its roots, educators can tailor interventions to improve student performance at its fundamental cause.\n",
    "2. Mental health practitioners\n",
    "    Brain rot excarbates depression, alongside other mental health problems (Qu et al., 2023), making it more difficult for clients to engage in healthier living. Through a better understanding of this phenomenon, counsellors and therapists will be able to better guide their clients towards healthier lives with improved well-being.\n",
    "3. Government regulators\n",
    "    Brain rot poses a significant detriment to society, contributing to reduced productivity (Kim,2024) and increased mental health costs (Qu et al., 2023) at a societal level, thereby hindering both economic and technological progress. Providing concrete evidence of these impacts is crucial for driving government action. With compelling data, governments globally can be urged to recognize the urgency of combating brain rot and implement effective measures, such as regulations on social media/content creators and public mental health campaigns to promote awareness.\n",
    "4. Parents\n",
    "    The developmental impact of brain rot on children and adolescents is a serious concern (Kim,2024). This project will empower parents to take proactive steps to shield their children from the addictive nature of this content, fostering healthier growth. Furthermore, it will provide guidance for parents seeking to mitigate the negative effects of brain rot in situations where children are already exposed (Boys & Girls Clubs of America, 2025).\n",
    "5. Society as a whole\n",
    "    The general population will have better resources to better their well-being and productivity.\n",
    "6. Research\n",
    "    This contributes to society's knowledge of the impact of our behaviours on our lives.\n",
    "\n",
    "## References\n",
    "1. Ortiz-Ospina, E. (2019, September 18). The rise of social media. Our World in Data. https://ourworldindata.org/rise-of-social-media\n",
    "2. How many users on TikTok? Statistics & Facts (2025). (n.d.). https://seo.ai/blog/how-many-users-on-tiktok\n",
    "3. Connell, A. (2025, January 1). 32 Top Instagram Reels Statistics for 2025. Adam Connell. https://adamconnell.me/instagram-reels-statistics/\n",
    "4. Ch, D. (2025, January 8). YouTube shorts statistics. SendShort - Create Viral Shorts Instantly With SendShort. https://sendshort.ai/statistics/shorts/\n",
    "5. Team, B. (2025, February 10). Social Media Usage & Growth Statistics. Backlinko. https://backlinko.com/social-media-users\n",
    "6. Heaton, B. (2024, December 2). ‘Brain rot’ named Oxford Word of the Year 2024. Oxford University Press. https://corp.oup.com/news/brain-rot-named-oxford-word-of-the-year-2024/\n",
    "7. Kim, I. (2024). EXPLORING THE COGNITIVE AND SOCIAL EFFECTS OF TIKTOK ON ADOLESCENT MINDS: a STUDY OF SHORT-FORM VIDEO CONSUMPTION. ierj.in. https://doi.org/10.21276/IERJ24769489007345\n",
    "8. Li, G., Geng, Y., & Wu, T. (2024). Effects of short-form video app addiction on academic anxiety and academic engagement: The mediating role of mindfulness. Frontiers in Psychology, 15. https://doi.org/10.3389/fpsyg.2024.1428813\n",
    "9. Qu, D., Liu, B., Jia, L., Zhang, X., Chen, D., Zhang, Q., Feng, Y., & Chen, R. (2023). The longitudinal relationships between short video addiction and depressive symptoms: A cross-lagged panel network analysis. Computers in Human Behavior, 152, 108059. https://doi.org/10.1016/j.chb.2023.108059\n",
    "10. Curtis, L. (2025, January 6). 12 habits to Prevent \"Brain Rot\" Health. https://www.health.com/habits-to-prevent-brain-rot-8766150\n",
    "11. Boys & Girls Clubs of America. (2025, February 26). Supporting Digital Well-being: 12 Ways to Help Teens Unplug from Technology - Boys & Girls Clubs of America. https://www.bgca.org/news-stories/2025/February/unplugging/\n",
    "\n"
   ]
  },
  {
   "cell_type": "markdown",
   "metadata": {},
   "source": [
    "\n",
    "4.  Characterising and Analysing Data:\n",
    "  -  Discuss potential data sources and analyze their characteristics (e.g., the 4 V's), evaluate the required platforms, software, and tools for data processing and storage based on the specific characteristics of the data or consider potential options (e.g., platforms, software, and tools) if your project expands in the future.\n",
    "  -  Specify the data analysis techniques and statistical methods (e.g., decision tree or regression tree) applicable to the project. Provide a rationale for the selected methods and discuss the expected high-level outcomes. Note: The specification of data analysis and statistical methods should be different from the demonstration below and must be described separately.\n",
    "  -  Demonstration: identify a usable dataset for the proposed project and perform some basic analysis on the identified dataset to demonstrate the feasibility of the project, using R (e.g., detailing the information/features contained in the dataset, analyse the basic characteristics of the dataset, etc.), and report the analysis process and result in the demonstration section of a final report.\n",
    "\n",
    "Note: Please include a link to download the dataset in the final report, and upload the R markdown file created for data analysis on Moodle.\n"
   ]
  },
  {
   "cell_type": "markdown",
   "metadata": {},
   "source": [
    "\n",
    "5.  Standard for Data Science Process, Data Governance and Management\n",
    "  -  Describe any standards used in your data science process\n",
    "  -  Describe any practices for data governance and management in the project, e.g., how to address key issues such as data accessibility, security, and confidentiality, as well as potential ethical concerns related to data usage."
   ]
  }
 ],
 "metadata": {
  "language_info": {
   "name": "python"
  }
 },
 "nbformat": 4,
 "nbformat_minor": 2
}
