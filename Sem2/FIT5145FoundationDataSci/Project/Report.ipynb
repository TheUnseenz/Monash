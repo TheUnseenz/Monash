{
 "cells": [
  {
   "cell_type": "markdown",
   "metadata": {},
   "source": [
    "# Report specifications\n",
    "1.  Assignment 3: Report\n",
    "Weight: 15% of the unit mark\n",
    "Submission format: one PDF file and one RMD file (for demonstration in the Characterising and Analysing Data section)\n",
    "Size: up to 2500 words\n",
    "\n",
    "This report is your comprehensive analysis of how data science can be used to help solve a significant real-world problem. Please answer the following question in the FIRST page of your Assignment 3 submission:\n",
    "  ●  Have you selected a topic for Assignment 3 that is different from the one that you used for Assignment 1 (i.e., have you rewrote the first three sections of the report)?\n",
    "\n",
    "Your report should have the following sections:\n",
    "\n",
    "1.  Introduction\n",
    "  -  Clear articulation of the specific problem the project aims to solve.\n",
    "  -  Background and context of the problem.\n",
    "  -  Importance of the problem (why it matters).\n",
    "  -  Specific goals of the project.\n",
    "\n",
    "2.  Related Work\n",
    "  -  Summary of existing research, projects, or industry solutions related to the problem.\n",
    "  -  Identification of gaps in current approaches.\n",
    "  -  Why or how your project should be considered as novel.\n",
    "\n",
    "3.  Business Model\n",
    "  -  Analysis about the business/application area the project sits in.\n",
    "  -  What kind of benefits or values the project can create for the specific business area?\n",
    "  -  Who are the primary stakeholders and how will they benefit from the project?\n",
    "\n",
    "4.  Characterising and Analysing Data:\n",
    "  -  Discuss potential data sources and analyze their characteristics (e.g., the 4 V's), evaluate the required platforms, software, and tools for data processing and storage based on the specific characteristics of the data or consider potential options (e.g., platforms, software, and tools) if your project expands in the future.\n",
    "  -  Specify the data analysis techniques and statistical methods (e.g., decision tree or regression tree) applicable to the project. Provide a rationale for the selected methods and discuss the expected high-level outcomes. Note: The specification of data analysis and statistical methods should be different from the demonstration below and must be described separately.\n",
    "  -  Demonstration: identify a usable dataset for the proposed project and perform some basic analysis on the identified dataset to demonstrate the feasibility of the project, using R (e.g., detailing the information/features contained in the dataset, analyse the basic characteristics of the dataset, etc.), and report the analysis process and result in the demonstration section of a final report.\n",
    "\n",
    "Note: Please include a link to download the dataset in the final report, and upload the R markdown file created for data analysis on Moodle.\n",
    "\n",
    "5.  Standard for Data Science Process, Data Governance and Management\n",
    "  -  Describe any standards used in your data science process\n",
    "  -  Describe any practices for data governance and management in the project, e.g., how to address key issues such as data accessibility, security, and confidentiality, as well as potential ethical concerns related to data usage.\n",
    "\n",
    "The sections would present aspects of Weeks 1-10 of the unit for your chosen case study.\n",
    "\n",
    "The maximum word limit for the report (Assignment 3) is 2500 words.  It may include some/all of your Assignment 1, modified if needed (counted in the 2500 word total). References at the end of the report (i.e., URLs and academic publications) are not included in the word count. Note that staying within the word limit demonstrates your ability to write concisely."
   ]
  },
  {
   "cell_type": "markdown",
   "metadata": {},
   "source": [
    "Assignment 3 report:  You will be assessed on your ability to:\n",
    "\n",
    "  ●  define the problem, provide background and significance, outline specific goals, analyze the business domain and its value creation, identify key stakeholders and their benefits, summarize existing research or industry solutions, highlight gaps in current approaches, and justify the project's novelty and potential impact (You can reuse the content from Assignment 1 for this section);  \n",
    "  ●  discuss potential data sources and analyze their characteristics (e.g., the 4 V's) and evaluate the required platforms, software, and tools for data processing and storage based on the specific characteristics of the data or consider potential options (e.g., platforms, software, and tools) if your project expands in the future;  \n",
    "  ●  specify the data analysis techniques and statistical methods (e.g., decision tree or regression tree) applicable to the project. Provide a rationale for the selected methods and discuss the expected high-level outcomes;  \n",
    "  ●  identify a usable dataset for the proposed project and perform some basic analysis on the identified dataset to demonstrate the feasibility of the project, using R (e.g., detailing the information/features contained in the dataset, analyse the basic characteristics of the dataset, etc.), and report the analysis process and result in the demonstration section of a final report;  \n",
    "  ●  describe any standards used in your data science process and practices for data governance and management in the project, e.g., how to address key issues such as data accessibility, security, and confidentiality, as well as potential ethical concerns related to data usage;  \n",
    "  ●  think critically and creatively, providing justification and analysis;  \n",
    "  ●  provide a good quality of report in terms of structure, expression, grammar and spelling.  \n",
    "\n",
    "For both assignments, make sure that any resources you use are acknowledged in your report. You may need to review the FIT citation style to make yourself familiar with appropriate citing and referencing for this assessment. Also, review the demystifying citing and referencing guide for help."
   ]
  }
 ],
 "metadata": {
  "language_info": {
   "name": "python"
  }
 },
 "nbformat": 4,
 "nbformat_minor": 2
}
