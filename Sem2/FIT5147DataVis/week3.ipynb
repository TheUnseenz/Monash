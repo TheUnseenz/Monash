{
 "cells": [
  {
   "cell_type": "markdown",
   "metadata": {},
   "source": [
    "### Week 3 - Analysis of Trends and Patterns in Tabular Data"
   ]
  },
  {
   "cell_type": "markdown",
   "metadata": {},
   "source": [
    "Programming Exercise 1:\n",
    "● Data Visualisation for Checking and Cleaning  \n",
    "Use visualisation to help you check and find the errors  \n",
    "● Data Visualisation for Exploration  \n",
    "Look at the questions, create data visualisations with Tableau to help you\n",
    "explore the data and answer these questions - also called visual\n",
    "analytics.  \n",
    "● Data Visualisation for Presentation  \n",
    "Polish up your visualisations, make them clear and presentable.  "
   ]
  },
  {
   "cell_type": "markdown",
   "metadata": {},
   "source": [
    "### Common Analytics\n",
    "- Visualizations aren't enough\n",
    "- Visualizations must play a part in the overall narrative, which needs to be interpreted\n",
    "\n",
    "Common Analytics for Tabular Data\n",
    "1. Ranking/Ordering – sorting\n",
    "2. Filtering – reducing\n",
    "3. Aggregation – reducing and calculating\n",
    "4. Summary Statistics – calculating\n",
    "5. Correlation – relationships\n",
    "6. Curve fitting / Regression – relationships\n",
    "7. Clustering – relationships\n",
    "\n"
   ]
  }
 ],
 "metadata": {
  "language_info": {
   "name": "python"
  }
 },
 "nbformat": 4,
 "nbformat_minor": 2
}
