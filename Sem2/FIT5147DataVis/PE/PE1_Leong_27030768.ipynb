{
 "cells": [
  {
   "cell_type": "markdown",
   "metadata": {},
   "source": [
    "### VISUAL ANALYSIS QUESTIONS TO BE ADDRESSED\n",
    "Using the data and visual analytics, you will need to answer the following questions:\n",
    "1A. What are the most common event names?\n",
    "To answer this question, discuss how you are going to identify, measure and visualise\n",
    "what are the most common events.\n",
    "\n",
    "\n",
    "1B. How many events started each year over the last 25 years?\n",
    "To answer this question, discuss how you are going to identify, measure and visualise\n",
    "the number of events started each year.\n",
    "\n",
    "\n",
    "1C. How many events were run or performed by each organisation?\n",
    "To answer this question, treat each Organisations value as a single organisation, even\n",
    "if it includes different groups. Discuss how you are going to measure and visualise the\n",
    "number of events for each organisation.\n",
    "\n",
    "\n",
    "1D. How many organisations started events each year over the last 25 years?\n",
    "To answer this question, discuss how you are going to identify, measure and visualise\n",
    "the number of events started each year.\n",
    "\n",
    "\n",
    "1E. How long did each event run for?\n",
    "To answer this question, discuss how you are going to identify, measure and visualise\n",
    "the number of years each event ran in.\n",
    "\n",
    "\n",
    "2. Based on the visualisations and findings for 1A-E, is it possible for you to now\n",
    "explain who (i.e., Organisation) ran or performed what events over the last 25\n",
    "years?\n",
    "\n",
    "For this question, you need to discuss whether your visual analytics for 1A-E have\n",
    "enabled you to answer this question or not. Be sure to explain how you came to that\n",
    "conclusion."
   ]
  },
  {
   "cell_type": "markdown",
   "metadata": {},
   "source": [
    "### Data Exploration using Tableau:"
   ]
  },
  {
   "cell_type": "markdown",
   "metadata": {},
   "source": [
    "1. Load the dataset in Tableau Public/Desktop"
   ]
  },
  {
   "cell_type": "markdown",
   "metadata": {},
   "source": [
    "2. Use data visualisation in Tableau to check for and find at least two aforementioned\n",
    "irregularities in the dataset. Each type of irregularity may occur multiple times in the\n",
    "data. These irregularities are not related to missing data.\n",
    "\n",
    "Irregularities:\n",
    "Some last date fields are null (12)\n",
    "Some organizations are null (8)\n",
    "Apparently a lot more nulls than that when visualizing?\n",
    "\n",
    "All data is in victoria, australia, but on the map some are in NSW\n"
   ]
  },
  {
   "cell_type": "markdown",
   "metadata": {},
   "source": [
    "3. Amend the data to correct these errors using any tool of your choice (e.g., Excel,\n",
    "Python, R, Tableau) and justify your choice of correction based on the irregularity.\n"
   ]
  },
  {
   "cell_type": "markdown",
   "metadata": {},
   "source": [
    "4. Use Tableau to create at least one visualisation per question (not more than 2 per\n",
    "question) to conduct your visual analysis and answer the above question.\n",
    "Remember to select appropriate visual variables to suit the data and your chosen\n",
    "visualisation."
   ]
  },
  {
   "cell_type": "markdown",
   "metadata": {},
   "source": [
    "\n",
    "5. Polish up your visualisations for presentation, e.g., add a suitable title, correctly label\n",
    "your axis, make sure labels and values are not truncated, include a legend. Ensure\n",
    "the font, font size and colour are suitable and legible for your report."
   ]
  },
  {
   "cell_type": "markdown",
   "metadata": {},
   "source": [
    "\n",
    "6. Write a report that presents and describes your data exploration process and visual\n",
    "analysis. See below for details."
   ]
  }
 ],
 "metadata": {
  "language_info": {
   "name": "python"
  }
 },
 "nbformat": 4,
 "nbformat_minor": 2
}
