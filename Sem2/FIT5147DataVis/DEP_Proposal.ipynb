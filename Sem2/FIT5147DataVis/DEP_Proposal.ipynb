{
 "cells": [
  {
   "cell_type": "markdown",
   "metadata": {},
   "source": [
    "# Data Exploration Project Proposal"
   ]
  },
  {
   "cell_type": "markdown",
   "metadata": {},
   "source": [
    "Project topic: \n",
    "\n",
    "Choice of leisure and academic performance/income?\n",
    "\n",
    "Stress in students - causal or confounding variable?\n",
    "\n",
    "Academic performance vs class engagement vs geographic location?\n",
    "\n",
    "\n",
    "\n",
    "\n"
   ]
  }
 ],
 "metadata": {
  "language_info": {
   "name": "python"
  }
 },
 "nbformat": 4,
 "nbformat_minor": 2
}
