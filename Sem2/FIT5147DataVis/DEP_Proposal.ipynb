{
 "cells": [
  {
   "cell_type": "markdown",
   "metadata": {},
   "source": [
    "# Data Exploration Project Proposal"
   ]
  },
  {
   "cell_type": "markdown",
   "metadata": {},
   "source": [
    "get a dataset that is a combination quantitative and categorical, esp time series, avoid surveys\n",
    "avoid looking for correlations, trends, predictions\n",
    "look for relationships\n",
    "\n",
    "\n",
    "Project topic:\n",
    "What makes people leave jobs?\n",
    "- \n",
    "\n",
    "\n",
    "\n",
    "\n",
    "Factors affecting academic performance\n",
    "- leisure choice: screen time behaviour/\n",
    "- fitness: fitbit data\n",
    "- stress: fitbit data\n",
    "\n",
    "\n",
    "\n"
   ]
  },
  {
   "cell_type": "markdown",
   "metadata": {},
   "source": [
    "\n",
    "\n",
    "\n",
    "Project topic:\n",
    "Impact of \"brain rot\" content. Common denominator for linking datasets: trends over time and by geographic location\n",
    "- Over the last 5 years, when and where is the rise brain rot content, specifically short form reels? data: mobile engagement trends from tik tok/youtube shorts/instagram reels\n",
    "- attention-span: is media content getting shorter? \n",
    "    - data: goodreads reading trends average book length/wikipedia dwell time data\n",
    "    - neuroscience data: ideal if possible? openneuro brain imaging data, stanford media neuroscience lab?\n",
    "- linguistic simplification: is language getting dumber? trends: vocabulary simplicity. potentially difficult to analyze?\n",
    "    - data: opensubtitles dataset - is movie dialogue getting shorter? google books ngrams viewer, commoncrawl\n",
    "- educational performance trends: are we getting dumber?\n",
    "- are reading and information retention declining?\n",
    "\n",
    "\n"
   ]
  },
  {
   "cell_type": "markdown",
   "metadata": {},
   "source": [
    "\n",
    "Project topic summary:\n",
    "Impact of \"brain rot\" content. Linked by trends over time and geographic location\n",
    "- When and where is the rise of brain rot content?\n",
    "- Is attention-span declining?\n",
    "- Is language getting dumber? (if possible)\n",
    "- Are we getting academically dumber?\n",
    "- Are in-depth reading and information retention declining?\n",
    "\n",
    "Datasets used: \n",
    "- mobile engagement trends of shorts/reels (rise of brain rot, attention span)\n",
    "- reading trends average book length (attention span, in-depth reading/information retention)\n",
    "- wikipedia dwell time data (attention span, in-depth reading/information retention)\n",
    "- neuroscience data (if possible) (attention span)\n",
    "- commoncrawl/google books ngrams viewer (language trends)\n",
    "- academic score trends (academic trends)\n",
    "\n",
    "\n",
    "\n"
   ]
  }
 ],
 "metadata": {
  "language_info": {
   "name": "python"
  }
 },
 "nbformat": 4,
 "nbformat_minor": 2
}
