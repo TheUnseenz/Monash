{
 "cells": [
  {
   "cell_type": "markdown",
   "metadata": {},
   "source": [
    "## Week 2 "
   ]
  },
  {
   "cell_type": "markdown",
   "metadata": {},
   "source": [
    "### Multivariate data\n",
    "\n",
    "Going past 2d = problem of leaving flatland: how to show more than 2 dimensions on a 2d screen?  \n",
    "\n",
    "1. add colour contours  \n",
    "2. 3D graphics for 3D objects/point clouds/surfaces  \n",
    "3. animate motion over time  \n",
    "4. additional visual attributes e.g. face encoding  \n",
    "5. multiple charts  \n",
    "6. scatter plots   \n",
    "    - A related approach is to use a coordinated display comprising multiple simple charts which may be of different kinds. Each shows a different aspect of the data and these are placed together in a large display. User interaction techniques such as brushing and filtering allow the viewer to understand how the data attributes in each chart are linked together. For instance, when the user hovers over a point in one chart, all elements corresponding to the same data point will be highlighted in the other charts.  \n",
    "7. overlay graphic elements e.g. compound/stacked bar charts  \n",
    "8. parallel coordinates (multiple axis on same graph)  \n",
    "9. dimensional scaling\n"
   ]
  }
 ],
 "metadata": {
  "language_info": {
   "name": "python"
  }
 },
 "nbformat": 4,
 "nbformat_minor": 2
}
