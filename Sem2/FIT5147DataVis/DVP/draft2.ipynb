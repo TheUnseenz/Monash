{
 "cells": [
  {
   "cell_type": "markdown",
   "id": "6655dd95",
   "metadata": {},
   "source": [
    "Don't use\n",
    "Scatter plot\n",
    "Box plot\n",
    "Area graph\n",
    "Normal distribution\n",
    "Etc etc no stats stuff\n",
    "Can put in 5DS in sheet 1-4 but not in sheet 5, non-tech people won't know these stuff\n",
    "\n",
    "\n",
    "Story must not change but implementation can change"
   ]
  },
  {
   "cell_type": "markdown",
   "id": "558c7e52",
   "metadata": {},
   "source": [
    "Proportional symbol scatter plot?"
   ]
  }
 ],
 "metadata": {
  "language_info": {
   "name": "python"
  }
 },
 "nbformat": 4,
 "nbformat_minor": 5
}
