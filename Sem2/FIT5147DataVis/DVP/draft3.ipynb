{
 "cells": [
  {
   "cell_type": "markdown",
   "id": "40f52271",
   "metadata": {},
   "source": [
    "Data points:\n",
    "Finding A: Income Disparity in Air Pollution Deaths\n",
    "Finding B: Geographical Distribution of Air Pollution Death Rate Residuals\n",
    "Finding C: Plastic Waste Outliers (China, India vs. GDP)\n",
    "Finding D: Relationship between GDP Growth Share and Mismanaged Plastic Waste Share\n",
    " \n",
    "Extra infographic:\n",
    "    Mismanaged plastic waste vs pollution deaths: who suffers for who's actions?\n",
    "Interactive display on selecting a country: \n",
    "\n",
    "\n",
    "Shortlisted 5 design sheet visualizations to include:\n",
    "Segmented Bar Chart: Excellent for showing the overall disparity in burden. - A\n",
    "Interactive Choropleth Map of Residuals - B\n",
    "Treemap or Circle Packing chart where each rectangle or circle represents a country, and its size is proportional to its share of global mismanaged plastic waste. You can color-code the shapes by income group or continent - C\n",
    "Connected Dot Plot - D\n",
    "Quadrant analysis - Extra infographic\n",
    "Radar chart - Interactive display on selecting a country\n",
    "\n",
    "Rejected\n",
    "density plot\n",
    "violin plot\n",
    "bullet graph\n",
    "scatter plot\n",
    "parallel sets\n",
    "waffle chart"
   ]
  }
 ],
 "metadata": {
  "language_info": {
   "name": "python"
  }
 },
 "nbformat": 4,
 "nbformat_minor": 5
}
