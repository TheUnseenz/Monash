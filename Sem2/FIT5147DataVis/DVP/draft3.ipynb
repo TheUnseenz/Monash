{
 "cells": [
  {
   "cell_type": "markdown",
   "id": "40f52271",
   "metadata": {},
   "source": [
    "Data points:\n",
    "Finding A: Income Disparity in Air Pollution Deaths\n",
    "Finding B: Regional/National Outliers in Air Pollution Deaths (vs. GDP)\n",
    "           Geographical Distribution of Air Pollution Death Rate Residuals\n",
    "Finding C: Plastic Waste Outliers (China, India vs. GDP)\n",
    "           Mismanaged Plastic Waste Share by Country\n",
    "Finding D: Growth in GDP Share & Existing Plastic Burden (China, India)\n",
    "           Relationship between GDP Growth Share and Mismanaged Plastic Waste Share\n",
    " \n",
    "Additional synthesized points:\n",
    "Extra infographic:\n",
    "    Mismanaged plastic waste vs pollution deaths: who suffers for who's actions?\n",
    "        Approach 1: Layered Map Focusing on Deviations (Residuals)\n",
    "        Approach 3: Interactive Map with Toggleable Layers\n",
    "Interactive display on selecting a country: \n",
    "    Radar chart -  GDP, Death rates, Plastic waste\n",
    "\n",
    "Shortlisted 5 design sheet visualizations to include:\n",
    "\n",
    "Segmented Bar Chart/Treemap: Excellent for showing the overall disparity in burden. - A\n",
    "Interactive Choropleth Map of Residuals - B\n",
    "A Treemap or Circle Packing chart where each rectangle or circle represents a country, and its size is proportional to its share of global mismanaged plastic waste. You can color-code the shapes by income group or continent - C\n",
    "\n",
    "Quadrant analysis\n",
    "\n",
    "\n",
    "Stuff that would be great to include\n",
    "Dumbbell plot"
   ]
  }
 ],
 "metadata": {
  "language_info": {
   "name": "python"
  }
 },
 "nbformat": 4,
 "nbformat_minor": 5
}
