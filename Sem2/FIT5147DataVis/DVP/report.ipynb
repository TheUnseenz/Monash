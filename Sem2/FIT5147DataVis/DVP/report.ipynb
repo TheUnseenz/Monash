{
 "cells": [
  {
   "cell_type": "markdown",
   "id": "82fb9cfa",
   "metadata": {},
   "source": [
    "1. Identify which findings from your Data Exploration Project you wish to communicate. You can be selective, and you do not need to share everything you have found. The visualisations and accompanying narration should reflect the answers to (one or more of) the questions in your Project Proposal.\n",
    "2. Clearly define your intended audience. The audience might be the elderly, young children, your classmates, the general public, politicians or whoever you like, although the choice should make sense for the data and topic of choice. Your subsequent interactive narrative visualisation submission should be designed specifically for the intended audience.\n",
    "3. Design an interactive narrative visualisation using the Five Design Sheet methodology.\n",
    "4. Prepare a short presentation based on your five design sheets (one sheet per slide).\n",
    "5. Attach 5DS as appendix\n",
    "7. Implement your visualisation using either R (Shiny) or JavaScript (D3). The use of other visualisation libraries and packages is subject to approval by your Teaching Associate (see the section “Notes on Implementation”). Note that you are not allowed to use R Markdown.\n",
    "8. Write a report and export it to PDF.\n",
    "9. Submit your report and your source code (see the section “How to Submit”) at the start of the exam period."
   ]
  },
  {
   "cell_type": "markdown",
   "id": "bf9e217e",
   "metadata": {},
   "source": [
    "1. Project title\n",
    "Title of your narrative visualisation. This should be included in the cover page.\n",
    "2. Your identity\n",
    "Your full name, student ID, Applied session number, and Teaching Associate’s name. This should be included in the cover page.\n",
    "3. Introduction [Approx. ½-1 page]\n",
    "A precise and succinct description of what findings and messages you wanted your narrative visualisation to convey, and who your intended audience is.\n",
    "4. Design Process [Approx. 3-5 pages]\n",
    "A description and justification of your narrative visualisation design process. This should briefly refer to each of your five design sheets (you must provide each of your 5 design sheets in the Appendix), and justify your design choices based on the theoretical content of the unit (throughout Weeks 1-12), for instance: identifying consistency in your design and interaction; choice of visualisation, choice of visual variables, reasons for a particular colour\n",
    "palette; justifying your layout structure, choice of typography, aspects of Munzner’s what-why-how framework, choice of genre and/or narrative style, and aspects of the human visual system; etc. It is important that this section is not simply a description of which charts you chose in the different sheets, but must justify your ideas and the process that lead you to your final design choices. Be sure to cite suitable references. All visualisations in your design process should be relevant for your data and there should be a clear indication of how\n",
    "your choice of audience has influenced your design process.\n",
    "5. Implementation\n",
    "5.1. Technical Implementation [Approx. ½ - 1 page]\n",
    "This section contains a high-level description of your implementation, including libraries used, references to external code sources such as templates, and reasons for any differences between your final design (that was justified and explained in Design Process) and the implemented design (described in the following section), if applicable. You are not required to explain the code in detail. You should briefly explain the reasons why your project was challenging (e.g., extensive wrangling was required, advanced use of D3, etc. - see Marking\n",
    "Criteria 4 for further information).\n",
    "5.2. Interactive Narrative Visualisation Implementation [Approx. 2-5 pages]\n",
    "Document and describe your final implemented submission, including screenshots of your final implementation where suitable. This section should clearly explain the final implementation and how its narrative portrays the data insights to your audience.\n",
    "5.3. Using the Implementation [Approx. 1 page]\n",
    "This section contains instructions for how to run, view and use your interactive narrative visualisation. This should emphasise any parts of your visualisation that may be easily missed by a reader (e.g., some interaction you have implemented that might not be immediately visible).\n",
    "6. Conclusion [Approx. ½ page]\n",
    "Summarise your findings and what you have achieved with your narrative visualisation. Reflect on what you have learnt in this project, including what in hindsight you might have done differently to improve the result and any future work that you would like to do.\n",
    "7. Bibliography\n",
    "Appropriate references of all resources that have influenced your work in IEEE or APA style. This should include any code templates, design influences and references to design theory, as well as any sources that have influenced any data insights.\n",
    "8. Appendix\n",
    "Include your five design sheets in the Appendix. Make sure you provide clear images and any handwriting is readable.\n",
    "\n",
    "Your report should contain high-quality images of your narrative visualisation and five design sheets, indicating interaction when relevant. Where possible, avoid using a single screenshot of the entire page since the resolution might be low; instead, crop and explain individual sections of the page. It is also recommended that you export your PDF using a local word processor (e.g., Microsoft Word), as\n",
    "exporting your document as a PDF directly from Google Docs will result in low-quality images. Make sure you can read and understand the PDF document and its images at A4 size without requiring further enlargement."
   ]
  },
  {
   "cell_type": "markdown",
   "id": "5a043790",
   "metadata": {},
   "source": [
    "# Data Points:\n",
    "1. Income Disparity in Air Pollution Deaths\n",
    "2. Geographical Distribution of Air Pollution Death Rate Residuals\n",
    "3. Plastic Waste Outliers (vs World GDP Share)\n",
    "4. Relationship between GDP Growth Share and Mismanaged Plastic Waste Share\n",
    "5. Who Pollutes vs Who Suffers?\n",
    "6. Country stats breakdown\n",
    "\n",
    "Objective - Target audience are policymakers e.g. governments. Keep it short and clear.\n",
    "\n",
    "\n",
    "# Layout/Visualizations to be used:\n",
    "1. Income Disparity in Air Pollution Deaths - Parallel sets (Income vs Plastic Waste Share vs Air Pollution Deaths)\n",
    "2. Geographical Distribution of Air Pollution Death Rate Residuals - Choropleth world map\n",
    "3. Plastic Waste Outliers (vs World GDP Share) - Circle packing (big circles = income group, smaller circles in it are the countries in it)\n",
    "4. Relationship between GDP Growth Share and Mismanaged Plastic Waste Share - Connected dot plot of current world GDP share, past world GDP share, current mismanaged plastic waste share\n",
    "5. Who Pollutes vs Who Suffers? - Quadrant Analysis\n",
    "6. Country stats breakdown - Radar Chart (GDP, Deaths, Plastic Waste, Import % of GDP, Export % of GDP, the radar chart itself is colour-coded by income group)\n",
    "\n",
    "# Operations:\n",
    "Clicking or hovering on a country brings up the interactive display\n",
    "Checkboxes are provided to apply filters for countries, to reduce clutter on the visualizations (removes data outside the filter)\n",
    "\n",
    "Make sure that in all the visualizations used, the same colour scheme is used to represent each income groups (which are Low income, Lower middle income, Upper middle income, High income)."
   ]
  }
 ],
 "metadata": {
  "language_info": {
   "name": "python"
  }
 },
 "nbformat": 4,
 "nbformat_minor": 5
}
