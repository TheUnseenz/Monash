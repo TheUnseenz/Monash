{
 "cells": [
  {
   "cell_type": "markdown",
   "id": "a5f4e47c",
   "metadata": {},
   "source": [
    "# Interactive Data Visualisation"
   ]
  },
  {
   "cell_type": "markdown",
   "id": "aa867626",
   "metadata": {},
   "source": [
    "## Workshop Notes\n",
    "-What, why, how is data visualized?\n",
    "\n",
    "Interface Design\n",
    "- The interface mediates the interaction & dialog between people and the computer  \n",
    "    - Physically: e.g., pressing keys  \n",
    "    - Perceptually: what they can see, hear and touch  \n",
    "- Conceptually people interact with a system/devices through their mental model of the system  \n",
    "- Controls need to be obvious and understandable  \n",
    "- Information needs to be organised  \n",
    "\n",
    "Shneiderman's 8 Golden Rules of Interface Design\n",
    "1. Strive for consistency  \n",
    "2. Enable frequent users to use shortcuts  \n",
    "3. Offer informative feedback  \n",
    "4. Design dialog to yield closure  \n",
    "5. Offer simple error handling  \n",
    "6. Permit easy reversal of actions  \n",
    "7. Support internal locus of control (support agency)  \n",
    "8. Reduce short-term memory load  \n",
    "\n",
    "Interaction supports the following user tasks:\n",
    "- Search/filter for elements satisfying some criteria  \n",
    "- Identify properties of a single data element  \n",
    "- Compare or rank items  \n",
    "- Visually identify patterns  \n",
    "- Calculate derived properties/analytics  \n",
    "- Building and running models  \n",
    "- Visualisation, configuring views  \n",
    "\n",
    "Usability\n",
    "PACT (People, Activities, Context & Technology)  \n",
    "People: Involve end-users from the very start and really listen to them  \n",
    "Activities: Think about the goals, tasks and actions that the user has\n",
    "(visual tasks are important to take into account - see the next slides)  \n",
    "Context: Consider the environment, circumstances, social context,\n",
    "background knowledge  \n",
    "Technology: Design for one type, or test on various. Is the technology\n",
    "appropriate, accessible, responsive? (Is there latency?)  \n",
    "\n",
    "Visualisation Task Types  \n",
    "- Specify the data or view  \n",
    "    - Choose how to visualize  \n",
    "    - Filter to be specific to what you want  \n",
    "    - Sort data by some order based on desired pattern  \n",
    "    - Derive new insights by computing on the data  \n",
    "- Manipulate the view  \n",
    "    - Choose which to highlight, filter, manipulate  \n",
    "    - Navigate: go through high & low level details  \n",
    "    - Coordinate different views to link them  \n",
    "    - Organize multiple views  \n",
    "- Process the data & keep track  \n",
    "    - Record: the analysis histories  \n",
    "    - Annotate patterns to keep track of what you discover  \n",
    "    - Share views/annotations to collaborate with others  \n",
    "    - Guide users with analysis tasks or stories  \n"
   ]
  },
  {
   "cell_type": "markdown",
   "id": "efdd5483",
   "metadata": {},
   "source": [
    "## Tutorial - Presentation Observation Notes\n",
    "With only 3 minutes, no time to talk in detail  \n",
    "- Talk about main data, and then talk about types of maps, don't go in detail about the maps\n",
    "- \"So after considering some types of maps to show these, I shortlisted these, because ...\"\n",
    "- Intended audience - **Policymakers e.g. governments** (I forgot to put it in slides)\n",
    "\n",
    "Final visualisations used:\n",
    "1. Parallel sets\n",
    "2. Choropleth map\n",
    "3. Circle packing\n",
    "4. Connected dot plot\n",
    "5. Quadrant analysis\n",
    "6. Radar chart\n",
    "\n",
    "Presentation Script:\n",
    "Hi, I'm Adrian, and today I will be presenting on pollution and how much it is killing us.\n",
    "I want to uncover these points:\n",
    "- Who's more at risk from dying from pollution?\n",
    "- Who's doing the polluting?\n",
    "\n",
    "[Sheet 1]\n",
    "so these are the visualisations i first considered. \n",
    "since policymakers are busy people, i decided to cut out the data-heavier ones and focus on infographics.\n",
    "these visualisations have different focuses, being\n",
    "- geography\n",
    "- inter-relations\n",
    "- outliers\n",
    "and one last one for country analysis.\n",
    "[Sheet 2, 3, 4]\n",
    "these are the drafts i went through to shortlist my final design. \n",
    "in all of these visualisations, you can click a country to bring up a separate display to tell you the country analysis.\n",
    "there will also be checkboxes and/or sliders to apply filters for these countries, and navigation buttons to move between these easily.\n",
    "\n",
    "[Sheet 5]\n"
   ]
  },
  {
   "cell_type": "markdown",
   "id": "84edbc0e",
   "metadata": {},
   "source": [
    "## Assignment Notes\n",
    "Report and visualisation will both be considered\n",
    "\n"
   ]
  },
  {
   "cell_type": "markdown",
   "id": "2598cf50",
   "metadata": {},
   "source": [
    "this guys 5ds is way too cluttered"
   ]
  }
 ],
 "metadata": {
  "language_info": {
   "name": "python"
  }
 },
 "nbformat": 4,
 "nbformat_minor": 5
}
