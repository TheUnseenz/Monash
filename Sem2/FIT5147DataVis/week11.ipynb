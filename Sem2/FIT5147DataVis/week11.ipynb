{
 "cells": [
  {
   "cell_type": "markdown",
   "id": "a5f4e47c",
   "metadata": {},
   "source": [
    "# Interactive Data Visualisation"
   ]
  },
  {
   "cell_type": "markdown",
   "id": "efdd5483",
   "metadata": {},
   "source": [
    "## Tutorial - Presentation Observation Notes\n",
    "With only 3 minutes, no time to talk in detail  \n",
    "- Talk about main data, and then talk about types of maps, don't go in detail about the maps\n",
    "- \"So after considering some types of maps to show these, I shortlisted these, because ...\"\n",
    "- Intended audience - **Policymakers e.g. governments** (I forgot to put it in slides)\n",
    "\n",
    "Final visualisations used:\n",
    "1. Parallel sets\n",
    "2. Choropleth map\n",
    "3. Circle packing\n",
    "4. Connected dot plot\n",
    "5. Quadrant analysis\n",
    "6. Radar chart\n",
    "\n",
    "Presentation Script:\n",
    "Hi, I'm Adrian, and today I will be presenting on pollution and how much it is killing us.\n",
    "I want to uncover these points:\n",
    "- Who's more at risk from dying from pollution?\n",
    "- Who's doing the polluting?\n",
    "\n",
    "[Sheet 1]\n",
    "so these are the visualisations i first considered. \n",
    "since policymakers are busy people, i decided to cut out the data-heavier ones and focus on infographics.\n",
    "these visualisations have different focuses, being\n",
    "- geography\n",
    "- inter-relations\n",
    "- outliers\n",
    "and one last one for country analysis.\n",
    "[Sheet 2, 3, 4]\n",
    "these are the drafts i went through to shortlist my final design. \n",
    "in all of these visualisations, you can click a country to bring up a separate display to tell you the country analysis.\n",
    "there will also be checkboxes and/or sliders to apply filters for these countries, and navigation buttons to move between these easily.\n",
    "\n",
    "[Sheet 5]\n"
   ]
  },
  {
   "cell_type": "markdown",
   "id": "84edbc0e",
   "metadata": {},
   "source": [
    "## Assignment Notes\n",
    "Report and visualisation will both be considered\n",
    "\n"
   ]
  },
  {
   "cell_type": "markdown",
   "id": "2598cf50",
   "metadata": {},
   "source": [
    "this guys 5ds is way too cluttered"
   ]
  }
 ],
 "metadata": {
  "language_info": {
   "name": "python"
  }
 },
 "nbformat": 4,
 "nbformat_minor": 5
}
