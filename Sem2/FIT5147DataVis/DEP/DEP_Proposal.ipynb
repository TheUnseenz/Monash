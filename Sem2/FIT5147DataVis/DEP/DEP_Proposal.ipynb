{
 "cells": [
  {
   "cell_type": "markdown",
   "metadata": {},
   "source": [
    "# Data Exploration Project Proposal"
   ]
  },
  {
   "cell_type": "markdown",
   "metadata": {},
   "source": [
    "get a dataset that is a combination quantitative and categorical, esp time series, avoid surveys\n",
    "avoid looking for correlations, trends, predictions\n",
    "look for relationships\n",
    "\n",
    "\n",
    "Project topic:\n",
    "What makes people leave jobs?\n",
    "- \n",
    "\n",
    "\n",
    "\n",
    "\n",
    "Factors affecting academic performance\n",
    "- leisure choice: screen time behaviour/\n",
    "- fitness: fitbit data\n",
    "- stress: fitbit data\n",
    "\n",
    "\n",
    "\n"
   ]
  },
  {
   "cell_type": "markdown",
   "metadata": {},
   "source": [
    "\n",
    "\n",
    "\n",
    "Project topic:\n",
    "Impact of \"brain rot\" content. Common denominator for linking datasets: trends over time and by geographic location\n",
    "- Over the last 5 years, when and where is the rise brain rot content, specifically short form reels? data: mobile engagement trends from tik tok/youtube shorts/instagram reels\n",
    "- attention-span: is media content getting shorter? \n",
    "    - data: goodreads reading trends average book length/wikipedia dwell time data\n",
    "    - neuroscience data: ideal if possible? openneuro brain imaging data, stanford media neuroscience lab?\n",
    "- linguistic simplification: is language getting dumber? trends: vocabulary simplicity. potentially difficult to analyze?\n",
    "    - data: opensubtitles dataset - is movie dialogue getting shorter? google books ngrams viewer, commoncrawl\n",
    "- educational performance trends: are we getting dumber?\n",
    "- are reading and information retention declining?\n",
    "\n",
    "\n"
   ]
  },
  {
   "cell_type": "markdown",
   "metadata": {},
   "source": [
    "\n",
    "Project topic summary:  \n",
    "Introduction:  \n",
    "The world's population is increasingly being online today, especially in the recent post-pandemic years. A notable trend has risen in this time-frame: an abundance of low quality, but addictive content has been emerging on the Internet. Subsequently, this rise of low quality, addictive content has been dubbed \"brain rot\". I wish to investigate this phenomenon and how it impacts society.  \n",
    "\n",
    "Motivation:  \n",
    "I am fascinated by behavioural psychology to know what drives people's behaviours. \n",
    "\n",
    "Impact of \"brain rot\" content. Linked by trends over time and geographic location\n",
    "- When and where is the rise of brain rot content?\n",
    "- Is brain rot making us dumber?\n",
    "    - Language\n",
    "    - Academic performance\n",
    "- Is brain rot making us lose our attention span and focus?\n",
    "    - In-depth reading\n",
    "    - Information retention\n",
    "\n",
    "Datasets used: \n",
    "- mobile engagement trends of shorts/reels (rise of brain rot, attention span)\n",
    "- reading trends average book length (attention span, in-depth reading/information retention)\n",
    "- wikipedia dwell time data (attention span, in-depth reading/information retention)\n",
    "- neuroscience data (if possible) (attention span)\n",
    "- commoncrawl/google books ngrams viewer (language trends)\n",
    "- academic score trends (academic trends)\n",
    "\n",
    "\n",
    "\n",
    "so far, i'm looking at the relation between trade openness (split to imports and exports), income, plastic waste mismanagement, and the death rates attributed to indoor and outdoor pollution.\n",
    "\n",
    "this would answer the following questions: "
   ]
  },
  {
   "cell_type": "markdown",
   "metadata": {},
   "source": [
    "Part 1: Project Proposal (2%)\n",
    "Write a one-page PDF document consisting of the following sections:\n",
    "1. Project Title\n",
    "A descriptive title for your project.\n",
    "2. Topic Introduction\n",
    "One paragraph introducing the topic. This should include why it is a topical subject (for example,\n",
    "has it been in the news recently), and who might benefit from the insights you seek from your\n",
    "questions.\n",
    "3. Motivation\n",
    "One paragraph describing why you personally are motivated to study this topic.\n",
    "4. Questions\n",
    "Three questions you wish to answer using the data.\n",
    "5. Data source(s)\n",
    "Briefly describe the data source(s) you will use. This should include: URLs of data source(s) and a\n",
    "description for each source: what is the data about, what is the size of the data (e.g., number of\n",
    "rows, number of columns), the type of data (e.g., tabular, spatial, relational, or textual), the type of\n",
    "attributes (e.g., categorical, ordinal, etc.) and the temporal intervals and period (e.g., monthly\n",
    "between 2019 and 2023).\n",
    "6. References\n",
    "The bibliographical details of any references you have cited in the previous sections.\n",
    "Include your full name, student ID, tutor names, and Applied Session class number. This can be in the\n",
    "document header or footer. There should be no cover page."
   ]
  },
  {
   "cell_type": "markdown",
   "metadata": {},
   "source": [
    "Name: Adrian Leong Tat Wei, Student ID: 27030768, Tutor: Dr. Grace Ting Chai Wen, Applied Session Friday 2-4pm Malaysia  \n",
    "\n",
    "## Project Title: The Price of Progress: How the Pursuit of Income and Trade Fuels Pollution Mortality.  \n",
    "\n",
    "### Introduction  \n",
    "Climate change is a long-running problem that by now is common knowledge, yet, society broadly sweeps under the rug. Aside from climate change's many problems, however, pollution also causes its own fair share of problems, a cost I want to investigate to bring more light to.\n",
    "\n",
    "### Motivation\n",
    "The treadmill of materialism concerns me, and I am wary of the butterfly effect - where one small action today leads to greater consequences in the future. I want to show what this unending growth is doing.\n",
    "\n",
    "Questions:\n",
    "1. How much is pollution killing us, and how does it vary across income levels?\n",
    "2. How does a country's income level influence its disposition to pollute?\n",
    "3. How do trade dynamics conflate with waste management and pollution-related mortality?\n",
    "\n",
    "Data sources:\n",
    "1. GDP per capita, 2023. ~7k rows x 4 columns. Columns are country, country code, year of data, GDP per capita, PPP (adjusted for capita and purchasing power parity). \n",
    "https://ourworldindata.org/grapher/gdp-per-capita-worldbank\n",
    "2. Pollution death rates, 2019. 197 rows x 4 columns. Columns are country, country code, year of data, age-standardized mortality rate attributed to household and ambient air pollution. \n",
    "https://ourworldindata.org/grapher/death-rate-household-and-ambient-air-pollution\n",
    "3. Plastic waste mismanagement, 2019. 171 rows x 4 columns. Columns are country, country code, year of data, share of global mismanaged plastic waste\n",
    " https://ourworldindata.org/grapher/share-of-global-mismanaged-plastic-waste\n",
    "4. Imports as % of GDP, 2023. ~270 rows x ~50 columns. Represents imports of goods and services in % of GDP with each row containing the country, country code and an array of data for each year from 1960 to 2023. https://data.worldbank.org/indicator/NE.IMP.GNFS.ZS?view=map\n",
    "5. Exports as % of GDP, 2023. ~270 rows x ~50 columns. Represents exports of goods and services in % of GDP with each row containing the country, country code and an array of data for each year from 1960 to 2023.  https://data.worldbank.org/indicator/NE.EXP.GNFS.ZS?view=map\n",
    "\n"
   ]
  }
 ],
 "metadata": {
  "language_info": {
   "name": "python"
  }
 },
 "nbformat": 4,
 "nbformat_minor": 2
}
