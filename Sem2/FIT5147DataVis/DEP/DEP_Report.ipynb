{
 "cells": [
  {
   "cell_type": "markdown",
   "id": "a4e5f2e7",
   "metadata": {},
   "source": [
    "# DEP Report"
   ]
  },
  {
   "cell_type": "markdown",
   "id": "9ad553e9",
   "metadata": {},
   "source": [
    "For GDP exports and GDP imports, they had to be converted into a long data format, \n",
    "so I used R to read them and flatten their data into a long data format.\n",
    "I then converted them into a .csv format to match the rest of the data\n",
    "\n",
    "The header names of the data are very long, so I shortened their names e.g. \n",
    "\"Imports of goods and services (% of GDP)\" -> Import GDP Ratio"
   ]
  }
 ],
 "metadata": {
  "language_info": {
   "name": "python"
  }
 },
 "nbformat": 4,
 "nbformat_minor": 5
}
