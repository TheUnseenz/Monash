{
 "cells": [
  {
   "cell_type": "markdown",
   "id": "a4e5f2e7",
   "metadata": {},
   "source": [
    "# DEP Report"
   ]
  },
  {
   "cell_type": "markdown",
   "id": "9ad553e9",
   "metadata": {},
   "source": [
    "For GDP exports and GDP imports, they had to be converted into a long data format, \n",
    "so I used R to read them and flatten their data into a long data format.\n",
    "I then converted them into a .csv format to match the rest of the data\n",
    "\n",
    "The header names of the data are very long, so I shortened their names e.g. \n",
    "\"Imports of goods and services (% of GDP)\" -> Import GDP Ratio\n",
    "\n",
    "Several different data sources are used together. They have country and year in common, so they are merged according to country and year.\n",
    "An analysis will be carried out to observe GDP related trend correlations with pollution data"
   ]
  },
  {
   "cell_type": "markdown",
   "id": "f1ad3fad",
   "metadata": {},
   "source": []
  }
 ],
 "metadata": {
  "language_info": {
   "name": "python"
  }
 },
 "nbformat": 4,
 "nbformat_minor": 5
}
