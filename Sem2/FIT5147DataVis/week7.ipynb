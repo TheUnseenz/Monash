{
 "cells": [
  {
   "cell_type": "markdown",
   "id": "cbd8829d",
   "metadata": {},
   "source": [
    "# Week 7 - Textual Data Analysis & Visualisation"
   ]
  },
  {
   "cell_type": "markdown",
   "id": "ac0a9f69",
   "metadata": {},
   "source": [
    "When you read text in there are a number of basic preprocessing steps that you will probably need to do\n",
    "\n",
    "- remove punctuation\n",
    "- remove numbers\n",
    "- convert to lower (or upper) case\n",
    "- expand contractions like “it’s”\n",
    "- remove “stop words.” These are common words that have little meaning and include “a”, “the”, “and” and so on.\n",
    "- recognise compound words like “New Zealand” or “data science” and mark these to be treated as a single word\n",
    "- stem words by removing common word endings such as “s” or “ed” or “ing.”\n",
    "\n",
    "More advanced preprocessing will perform spelling correction and slang replacement."
   ]
  },
  {
   "cell_type": "markdown",
   "id": "6300ab73",
   "metadata": {},
   "source": [
    "Text sentiment\n",
    "- how positive or negative do people feel towards topics of interest?"
   ]
  },
  {
   "cell_type": "markdown",
   "id": "64b4c54d",
   "metadata": {},
   "source": [
    "Before doing the design, plan out the architectural design first\n",
    "Decide on what attributes are needed first\n",
    "Find the appropriate tools to match it\n",
    "Evaluate what tools are best, and why"
   ]
  },
  {
   "cell_type": "markdown",
   "id": "c8ebf8db",
   "metadata": {},
   "source": [
    "5 categories\n",
    "Varying number of messages\n",
    "Median scores fairly close to each other"
   ]
  },
  {
   "cell_type": "markdown",
   "id": "a1090db9",
   "metadata": {},
   "source": [
    "# Workshop"
   ]
  },
  {
   "cell_type": "markdown",
   "id": "f0566de6",
   "metadata": {},
   "source": [
    "Natural Language Programming (NLP) and related text mining often looks at  \n",
    "- Understanding – get the “gist” of a document  \n",
    "- Grouping – cluster for overview or classification  \n",
    "- Comparison – compare document collections, or inspect evolution of collection\n",
    "over time  \n",
    "- Correlation – compare patterns in text to those in other data, e.g., correlate with\n",
    "social network  \n",
    "Key parts of this analysis includes statistical analysis of  \n",
    "- Term frequency – which words are important  \n",
    "- Colocation – which words are used together  \n",
    "For all of these, knowing the context of the text and its component parts is vital.  \n",
    "\n",
    "Many text visualizations do not represent the text directly. They represent the\n",
    "output of a language model (word counts, word sequences, etc.)  \n",
    "- Language model: input is text, output is some statistics of / predictions\n",
    "about the input text  \n",
    "- “A language model uses AI to assign probabilities to words, creating a\n",
    "probability distribution over words or word sequences”  \n",
    "Words have meanings and relations  \n",
    "- Correlations: Hong Kong, San Francisco, Bay Area  \n",
    "- Order: April, February, January, June, March, May  \n",
    "- Membership: Tennis, Running, Swimming, Hiking, Piano  \n",
    "- Hierarchy, antonyms & synonyms, entities, …  "
   ]
  }
 ],
 "metadata": {
  "language_info": {
   "name": "python"
  }
 },
 "nbformat": 4,
 "nbformat_minor": 5
}
