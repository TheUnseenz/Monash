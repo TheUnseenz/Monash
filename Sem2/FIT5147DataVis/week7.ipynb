{
 "cells": [
  {
   "cell_type": "markdown",
   "id": "cbd8829d",
   "metadata": {},
   "source": [
    "# Week 7 - Textual Data Analysis & Visualisation"
   ]
  },
  {
   "cell_type": "markdown",
   "id": "6300ab73",
   "metadata": {},
   "source": [
    "Text sentiment\n",
    "- how positive or negative do people feel towards topics of interest?"
   ]
  },
  {
   "cell_type": "markdown",
   "id": "64b4c54d",
   "metadata": {},
   "source": [
    "Before doing the design, plan out the architectural design first\n",
    "Decide on what attributes are needed first\n",
    "Find the appropriate tools to match it\n",
    "Evaluate what tools are best, and why"
   ]
  },
  {
   "cell_type": "markdown",
   "id": "c8ebf8db",
   "metadata": {},
   "source": [
    "5 categories\n",
    "Varying number of messages\n",
    "Median scores fairly close to each other"
   ]
  }
 ],
 "metadata": {
  "language_info": {
   "name": "python"
  }
 },
 "nbformat": 4,
 "nbformat_minor": 5
}
