{
 "cells": [
  {
   "cell_type": "markdown",
   "metadata": {},
   "source": [
    "## Week 3 workshop notes\n",
    "\n",
    "Expected Value E(x) = $\\displaystyle\\sum_{x\\subset X} x.P(x)$\n",
    "For continuous probability function, integrate instead of sum\n",
    "\n",
    "Discrete probability functions are written as P(x), upper case  \n",
    "Continuous probability functions are written as p(x), lower case  \n",
    "\n",
    "Reminder example:  \n",
    "simple triangular distribution p(x) = 1 - |x|  \n",
    "\n",
    "$E[x] = \\int_{-1}^{0} x(1+x) \\,dx + \\int_{0}^{1} x(1-x) \\,dx $  \n",
    "substitute a = -x  \n",
    "$E[x] = \\int_{1}^{0} a(1-a) \\,da + \\int_{0}^{1} x(1-x) \\,dx $  \n",
    "$E[x] = -\\int_{0}^{1} a(1-a) \\,da + \\int_{0}^{1} x(1-x) \\,dx $ = 0  \n",
    "\n",
    "\n",
    "Variance:  \n",
    "$V[X] = E[(X-E[X])^2]$  \n",
    "alternatively, through quadratic expansion and linearity of expectation where  \n",
    "E[g(X)E[f(X)]] = E[f(X)]E[g(X)]:  \n",
    "<br>\n",
    "$V[X] = E[X^2] - E[X]^2$  \n",
    "\n",
    "\n"
   ]
  }
 ],
 "metadata": {
  "language_info": {
   "name": "python"
  }
 },
 "nbformat": 4,
 "nbformat_minor": 2
}
