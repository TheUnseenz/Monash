{
 "cells": [
  {
   "cell_type": "markdown",
   "metadata": {
    "id": "X9V5ptJAIEbw"
   },
   "source": [
    "# FIT5197 2025 S1 Assignment - Covers the lecture and tutorial materials up to, and including, week 8\n",
    "\n",
    "**SPECIAL NOTE:** Please refer to the [assessment page]() for rules, general guidelines and marking rubrics of the assessment (the marking rubric for the kaggle competition part will be released near the deadline in the same page). Failure to comply with the provided information will result in a deduction of mark (e.g., late penalties) or breach of academic integrity.\n"
   ]
  },
  {
   "cell_type": "markdown",
   "metadata": {},
   "source": [
    "# Part 1 Point Estimation (30 marks)\n",
    "**WARNING:** you should strictly follow the 3-steps strategy as detailed in [question 2 of week 5 tutorial]() \\(or any answer formats presented in the [Week 5 quiz]()\\) to answer for the questions that are related to MLE estimators presented in this part. Any deviations from the answer format might result in a loss of marks!"
   ]
  },
  {
   "cell_type": "markdown",
   "metadata": {},
   "source": [
    "## Question 1 (7.5 marks)\n",
    "\n",
    "Let $X\\,{\\sim}\\,\\mathcal{IG}\\left(\\theta: \\left(\\mu, \\lambda\\right)\\right),\\;\\,\\forall\\, \\mu>0 \\text{ and } \\lambda>0$. This means\n",
    "the random varible $X$ follows the **inverse Gaussian distribution** with the set $\\left(\\theta: \\left(\\mu, \\lambda\\right)\\right)$ acting as the parameters of said distribution. Given that we observe a sample of size $n$ that is independently and identically distributed from this distribution ([i.i.d](https://en.wikipedia.org/wiki/Independent_and_identically_distributed_random_variables)), $\\mathbf{x}=$ $\\left(x_{1}, \\ldots, x_{n}\\right)$, please find the [maximum likelihood estimate](https://en.wikipedia.org/wiki/Maximum_likelihood_estimation) for $\\mu$ and $\\lambda$, that is $\\mu_{\\text{MLE}}$ and $\\lambda_{\\text{MLE}}$. The probability density function (**PDF**) is as follows:\n",
    "\n",
    "$$\n",
    "f(x \\mid \\mu, \\lambda)=\\left\\{\\begin{array}{cc}\n",
    "\\left(\\frac{\\lambda}{2 \\pi x^{3}}\\right)^{1 / 2} e^{\\frac{-\\lambda(x-\\mu)^{2}}{2 \\mu^{2} x}}, & x>0 \\\\\n",
    "0, & x \\leq 0\n",
    "\\end{array}\\right.\n",
    "$$"
   ]
  },
  {
   "cell_type": "markdown",
   "metadata": {},
   "source": [
    "### ANSWER"
   ]
  },
  {
   "cell_type": "markdown",
   "metadata": {
    "vscode": {
     "languageId": "python"
    }
   },
   "source": [
    "##### Step 1. Likelihood Function\n",
    "\n",
    "The likelihood function $L(\\mu, \\lambda)$ is:\n",
    "$$\n",
    "L(\\mu, \\lambda) = \\prod_{i=1}^{n} \\left( \\frac{\\lambda}{2 \\pi x_i^{3}} \\right)^{1 / 2} \\exp\\left( \\frac{-\\lambda(x_i-\\mu)^{2}}{2 \\mu^{2} x_i} \\right)\n",
    "$$\n",
    "$$\n",
    "L(\\mu, \\lambda) = \\left( \\frac{\\lambda}{2 \\pi} \\right)^{n/2} \\left( \\prod_{i=1}^{n} x_i^{-3/2} \\right) \\exp\\left( -\\frac{\\lambda}{2 \\mu^{2}} \\sum_{i=1}^{n} \\frac{(x_i-\\mu)^{2}}{x_i} \\right)\n",
    "$$\n",
    "\n",
    "##### Step 2. Negative Log-Likelihood Function\n",
    "\n",
    "The negative log-likelihood function $-\\ell(\\mu, \\lambda) = -\\ln(L(\\mu, \\lambda))$ is:\n",
    "$$\n",
    "-\\ell(\\mu, \\lambda) = -\\frac{n}{2} \\ln\\left( \\frac{\\lambda}{2 \\pi} \\right) + \\frac{3}{2} \\sum_{i=1}^{n} \\ln(x_i) + \\frac{\\lambda}{2 \\mu^{2}} \\sum_{i=1}^{n} \\left( x_i - 2\\mu + \\frac{\\mu^2}{x_i} \\right)\n",
    "$$\n",
    "$$\n",
    "-\\ell(\\mu, \\lambda) = -\\frac{n}{2} \\ln(\\lambda) + \\frac{n}{2} \\ln(2 \\pi) + \\frac{3}{2} \\sum_{i=1}^{n} \\ln(x_i) + \\frac{\\lambda}{2} \\left( \\mu^{-2} \\sum_{i=1}^{n} x_i - 2 \\mu^{-1} \\sum_{i=1}^{n} 1 + \\sum_{i=1}^{n} \\frac{1}{x_i} \\right)\n",
    "$$\n",
    "or alternatively:\n",
    "$$\n",
    "-\\ell(\\mu, \\lambda) = -\\frac{n}{2} \\ln(\\lambda) + \\frac{n}{2} \\ln(2 \\pi) + \\frac{3}{2} \\sum_{i=1}^{n} \\ln(x_i) + \\frac{\\lambda}{2 \\mu^{2}} \\left( n\\bar{x} - 2n\\mu + n\\mu^2 \\overline{1/x} \\right)\n",
    "$$\n",
    "where $\\bar{x} = \\frac{1}{n} \\sum_{i=1}^{n} x_i$ and $\\overline{1/x} = \\frac{1}{n} \\sum_{i=1}^{n} \\frac{1}{x_i}$.\n",
    "\n",
    "##### Step 3. Differentiating the Negative Log-Likelihood\n",
    "Derivative with respect to $\\lambda$:\n",
    "$$\n",
    "\\frac{\\partial (-\\ell)}{\\partial \\lambda} = -\\frac{n}{2\\lambda} + \\frac{1}{2 \\mu^{2}} \\left( n\\bar{x} - 2n\\mu + n\\mu^2 \\overline{1/x} \\right)\n",
    "$$\n",
    "Setting $\\frac{\\partial (-\\ell)}{\\partial \\lambda} = 0$:\n",
    "$$\n",
    "\\frac{n}{\\lambda} = \\frac{1}{\\mu^{2}} \\left( n\\bar{x} - 2n\\mu + n\\mu^2 \\overline{1/x} \\right)\n",
    "$$\n",
    "$$\n",
    "\\hat{\\lambda} = \\frac{n \\mu^2}{n\\bar{x} - 2n\\mu + n\\mu^2 \\overline{1/x}} = \\frac{\\mu^2}{\\bar{x} - 2\\mu + \\mu^2 \\overline{1/x}}\n",
    "$$\n",
    "\n",
    "Derivative with respect to $\\mu$:\n",
    "$$\n",
    "-\\ell(\\mu, \\lambda) = -\\frac{n}{2} \\ln(\\lambda) + \\frac{n}{2} \\ln(2 \\pi) + \\frac{3}{2} \\sum_{i=1}^{n} \\ln(x_i) + \\frac{\\lambda}{2} \\left( \\mu^{-2} \\sum_{i=1}^{n} x_i - 2 \\mu^{-1} \\sum_{i=1}^{n} 1 + \\sum_{i=1}^{n} \\frac{1}{x_i} \\right)\n",
    "$$\n",
    "$$\n",
    "\\frac{\\partial (-\\ell)}{\\partial \\mu} = - \\frac{\\lambda}{2} \\left( -2 \\mu^{-3} \\sum x_i + 2 \\mu^{-2} \\sum 1 \\right) (-1) = \\frac{\\lambda}{2} \\left( -2 \\mu^{-3} \\sum x_i + 2 \\mu^{-2} \\sum 1 \\right)\n",
    "$$\n",
    "Setting $\\frac{\\partial (-\\ell)}{\\partial \\mu}$ = 0:\n",
    "$$\n",
    "- 2 \\mu^{-3} (n\\bar{x}) + 2 \\mu^{-2} (n) = 0\n",
    "$$\n",
    "$$\n",
    "- \\frac{2n\\bar{x}}{\\mu^3} + \\frac{2n}{\\mu^2} = 0\n",
    "$$\n",
    "Multiply by $\\mu^3 / (2n)$:\n",
    "$$\n",
    "-\\bar{x} + \\mu = 0 \\implies \\hat{\\mu} = \\bar{x}\n",
    "$$\n",
    "Now, substitute $\\hat{\\mu} = \\bar{x}$ into the equation for $\\hat{\\lambda}$:\n",
    "$$\n",
    "\\hat{\\lambda} = \\frac{\\bar{x}^2}{\\bar{x} - 2\\bar{x} + \\bar{x}^2 \\overline{1/x}} = \\frac{\\bar{x}^2}{-\\bar{x} + \\bar{x}^2 \\overline{1/x}} = \\frac{\\bar{x}^2}{\\bar{x}(\\bar{x} \\overline{1/x} - 1)} = \\frac{\\bar{x}}{\\bar{x} \\overline{1/x} - 1}\n",
    "$$\n",
    "$$\n",
    "\\hat{\\lambda} = \\frac{1}{\\overline{1/x} - 1/\\bar{x}}\n",
    "$$\n"
   ]
  },
  {
   "cell_type": "markdown",
   "metadata": {},
   "source": [
    "## Question 2 (7.5 marks)\n",
    "Suppose that we know that the random variable $X{\\,\\sim\\,}\\mathcal{Dist}(\\mu=\\theta, \\sigma^2=\\theta^2)$ follows the PDF given below:\n",
    "\n",
    "$$\n",
    "\\begin{equation}\n",
    "f\\left(x|\\theta\\right)=\n",
    "\\begin{cases}\n",
    "\\frac{1}{\\theta} \\exp(-\\frac{x}{\\theta}) & x > 0 \\\\\n",
    "0 & \\text{otherwise.}\n",
    "\\end{cases}\n",
    "\\end{equation}\n",
    "$$\n",
    "\n",
    "Given a sample of $n$ [i.i.d](https://en.wikipedia.org/wiki/Independent_and_identically_distributed_random_variables) observations $\\mathbf{x}=$ $\\left(x_{1}, \\ldots, x_{n}\\right)$ from this distribution, please answer the following questions:\n",
    "\n",
    "**(a)** Derive the MLE estimator for $\\theta$, i.e., $\\hat{\\theta}_{\\text{MLE}}$, and show that it is unbiased. [2.5 Marks]\n",
    "\n",
    "**(b)** Find an estimator with better MSE (i.e smaller MSE) compared to the $\\hat{\\theta}_{\\text{MLE}}$ obtained from (a). [5 Marks]"
   ]
  },
  {
   "cell_type": "markdown",
   "metadata": {},
   "source": [
    "### ANSWER"
   ]
  },
  {
   "cell_type": "markdown",
   "metadata": {},
   "source": [
    "### Q2(a) MLE Estimator $\\hat{\\theta}_{\\text{MLE}}$\n",
    "##### Step 1. Likelihood function, $p(x | \\theta )$:\n",
    "$$\n",
    "p(x | \\theta ) = \\prod_{i=1}^{n} \\left( \\frac{1}{\\theta} \\exp(-\\frac{x_i}{\\theta}) \\right)\n",
    "$$\n",
    "$$\n",
    "p(x | \\theta ) = \\left( \\frac{1}{\\theta} \\right)^n \\exp\\left( -\\frac{\\sum_{i=1}^{n} x_i}{\\theta} \\right)\n",
    "$$\n",
    "$$\n",
    "p(x | \\theta ) = \\frac{1}{\\theta^n} \\exp\\left( -\\frac{\\sum_{i=1}^{n} x_i}{\\theta} \\right)\n",
    "$$\n",
    "\n",
    "##### Step 2. Negative log likelihood function, $\\ell(x;\\theta)$:\n",
    "$$\n",
    "\\ell(x;\\theta) = \\ln\\left( \\frac{1}{\\theta^n} \\exp\\left( -\\frac{\\sum_{i=1}^{n} x_i}{\\theta} \\right) \\right)\n",
    "$$\n",
    "$$\n",
    "\\ell(x;\\theta) = -n \\ln(\\theta) - \\frac{\\sum_{i=1}^{n} x_i}{\\theta}\n",
    "$$\n",
    "##### Step 3. Solving for MLE, $\\hat{\\theta}_{\\text{MLE}}$:  \n",
    "Derivative of negative log likelihood function with respect to $\\theta{} $:\n",
    "$$\n",
    "\\frac{d\\ell(\\theta)}{d\\theta} = -\\frac{n}{\\theta} + \\frac{\\sum_{i=1}^{n} x_i}{\\theta^2}\n",
    "$$\n",
    "\n",
    "Set derivative = 0 and solve for $\\theta$:  \n",
    "$$\n",
    "-\\frac{n}{\\theta} + \\frac{\\sum_{i=1}^{n} x_i}{\\theta^2} = 0\n",
    "$$\n",
    "$$\n",
    "-n\\theta + \\sum_{i=1}^{n} x_i = 0\n",
    "$$\n",
    "$$\n",
    "\\hat{\\theta} = \\frac{\\sum_{i=1}^{n} x_i}{n} = \\text{sample mean, } \\bar{x} \n",
    "$$\n",
    "\n",
    "For MLE = $\\frac{\\sum_{i=1}^{n} x_i}{n}$ to be unbiased, the expected value of the MLE must be equal to $f(x|\\theta)$  \n",
    "\n",
    "$E[f(x|\\theta)] = \\theta$ as it is an exponential distribution with parameter $1/\\theta$  \n",
    "$E[\\hat{\\theta}_{\\text{MLE}}]$:  \n",
    "$$E[\\hat{\\theta}_{\\text{MLE}}] = E\\left[ \\frac{1}{n} \\sum_{i=1}^{n} X_i \\right] = \\frac{1}{n} \\sum_{i=1}^{n} E[X_i]$$\n",
    "Since $E[X_i] = \\theta$ for all $i$:  \n",
    "$$\n",
    "E[\\hat{\\theta}] = \\frac{1}{n} \\sum_{i=1}^{n} \\theta = \\frac{1}{n} (n\\theta) = \\theta\n",
    "$$\n",
    "Thus, the MLE $\\hat{\\theta} = \\bar{X}$ is an unbiased estimator for $\\theta$.\n",
    "\n"
   ]
  },
  {
   "cell_type": "markdown",
   "metadata": {},
   "source": [
    "### Q2(b) Estimator with smaller MSE\n",
    "\n",
    "The MSE of an estimator $\\hat{\\theta}$ is $MSE(\\hat{\\theta}) = Var(\\hat{\\theta}) + (Bias(\\hat{\\theta}))^2$.  \n",
    "For the MLE $\\hat{\\theta}_{MLE} = \\bar{X}$, $Bias(\\hat{\\theta}_{MLE}) = 0$ and $Var(\\bar{X}) = \\frac{\\theta^2}{n}$, so $MSE(\\hat{\\theta}_{MLE}) = \\frac{\\theta^2}{n}$.\n",
    "\n",
    "If we modify the estimator to be $\\hat{\\theta}_b = c \\bar{X}$:  \n",
    "- The bias is $Bias(\\hat{\\theta}_b) = (c-1)\\theta$.  \n",
    "- The variance is $Var(\\hat{\\theta}_b) = c^2 \\frac{\\theta^2}{n}$.  \n",
    "- The MSE is $MSE(\\hat{\\theta}_b) = c^2 \\frac{\\theta^2}{n} + (c-1)^2 \\theta^2 = \\theta^2 \\left( \\frac{c^2}{n} + c^2 - 2c + 1 \\right)$.  \n",
    "\n",
    "To minimize the MSE with respect to $c$, we set the derivative to zero, which yields $c = \\frac{n}{n+1}$.\n",
    "The optimal biased estimator is $\\hat{\\theta}^* = \\frac{n}{n+1} \\bar{X}$.\n",
    "\n",
    "The MSE of this estimator is:\n",
    "$$\n",
    "MSE(\\hat{\\theta}^*) = \\left( \\frac{n}{n+1} \\right)^2 \\frac{\\theta^2}{n} + \\left( \\frac{n}{n+1} - 1 \\right)^2 \\theta^2\n",
    "$$\n",
    "$$\n",
    "MSE(\\hat{\\theta}^*) = \\frac{n^2}{(n+1)^2} \\frac{\\theta^2}{n} + \\left( -\\frac{1}{n+1} \\right)^2 \\theta^2\n",
    "$$\n",
    "$$\n",
    "MSE(\\hat{\\theta}^*) = \\frac{n \\theta^2}{(n+1)^2} + \\frac{\\theta^2}{(n+1)^2} = \\frac{(n+1) \\theta^2}{(n+1)^2} = \\frac{\\theta^2}{n+1}\n",
    "$$\n",
    "Since $\\frac{\\theta^2}{n+1} < \\frac{\\theta^2}{n}$ for $n > 0$, the biased estimator $\\hat{\\theta}^* = \\frac{n}{n+1} \\bar{X}$ has a smaller MSE than the unbiased MLE $\\bar{X}$."
   ]
  },
  {
   "cell_type": "markdown",
   "metadata": {},
   "source": [
    "## Question 3 (7.5 marks)\n",
    "Suppose that we know that a random variable $X$ follows the distribution given below:\n",
    "\n",
    "$$\n",
    "f\\left(x|\\theta\\right)= \\frac{{2 \\choose x}\\theta^x\\left(1-\\theta\\right)^{2-x}}{1-\\left(1-\\theta\\right)^2}, \\; x= \\{1,2\\}\n",
    "$$\n",
    "\n",
    "Imagine that we observe a sample of $\\textbf{n}$ [i.i.d](https://en.wikipedia.org/wiki/Independent_and_identically_distributed_random_variables) random varaibles $\\mathbf{x}=$ $\\left(x_{1}, \\ldots, x_{n}\\right)$ and want to model them using this distribution. Please use the concept of maximum likelihood to estimate for the parameter $\\theta$."
   ]
  },
  {
   "cell_type": "markdown",
   "metadata": {},
   "source": [
    "### ANSWER"
   ]
  },
  {
   "cell_type": "markdown",
   "metadata": {},
   "source": [
    "##### Step 1. The Likelihood Function\n",
    "Likelihood function $L(\\theta) = \\prod_{i=1}^{n} f(x_i|\\theta)$:\n",
    "$$\n",
    "L(\\theta) = \\prod_{i=1}^{n} \\frac{{2 \\choose x_i}\\theta^{x_i}\\left(1-\\theta\\right)^{2-x_i}}{1-\\left(1-\\theta\\right)^2}\n",
    "$$\n",
    "$$\n",
    "L(\\theta) = \\frac{\\prod_{i=1}^{n} {2 \\choose x_i} \\cdot \\theta^{\\sum_{i=1}^{n} x_i} \\cdot \\left(1-\\theta\\right)^{\\sum_{i=1}^{n} (2-x_i)}}{\\left(1-\\left(1-\\theta\\right)^2\\right)^n}\n",
    "$$\n",
    "Let $T = \\sum_{i=1}^{n} x_i$. Substituting this, we get:\n",
    "$$\n",
    "L(\\theta) = \\frac{\\left( \\prod_{i=1}^{n} {2 \\choose x_i} \\right) \\theta^{T} \\left(1-\\theta\\right)^{2n-T}}{\\left(1-\\left(1-\\theta\\right)^2\\right)^n}\n",
    "$$\n",
    "Expanding the denominator, $1 - (1-\\theta)^2 = 1 - (1 - 2\\theta + \\theta^2) = 2\\theta - \\theta^2 = \\theta(2-\\theta)$. This becomes:\n",
    "$$\n",
    "L(\\theta) = \\frac{\\left( \\prod_{i=1}^{n} {2 \\choose x_i} \\right) \\theta^{T} \\left(1-\\theta\\right)^{2n-T}}{\\left(\\theta(2-\\theta)\\right)^n} = \\frac{\\left( \\prod_{i=1}^{n} {2 \\choose x_i} \\right) \\theta^{T-n} \\left(1-\\theta\\right)^{2n-T}}{(2-\\theta)^n}\n",
    "$$\n",
    "\n",
    "##### Step 2. The Negative Log-Likelihood Function\n",
    "\n",
    "The negative log-likelihood function $-\\ell(\\theta) = -\\ln(L(\\theta))$ is:\n",
    "$$\n",
    "-\\ell(\\theta) = -\\ln\\left( \\prod_{i=1}^{n} {2 \\choose x_i} \\right) - (T-n) \\ln(\\theta) - (2n-T) \\ln(1-\\theta) + n \\ln(2-\\theta)\n",
    "$$\n",
    "Let $-C = -\\ln\\left( \\prod_{i=1}^{n} {2 \\choose x_i} \\right)$, which is a constant with respect to $\\theta$. Then,\n",
    "$$\n",
    "-\\ell(\\theta) = -C - (T-n) \\ln(\\theta) - (2n-T) \\ln(1-\\theta) + n \\ln(2-\\theta)\n",
    "$$\n",
    "\n",
    "##### Step 3. Differentiating the Negative Log-Likelihood\n",
    "\n",
    "Derivative of $-\\ell(\\theta)$ with respect to $\\theta$:\n",
    "$$\n",
    "\\frac{d(-\\ell(\\theta))}{d\\theta} = -\\frac{T-n}{\\theta} - \\frac{2n-T}{1-\\theta} - \\frac{n(-1)}{2-\\theta}\n",
    "$$\n",
    "$$\n",
    "\\frac{d(-\\ell(\\theta))}{d\\theta} = -\\frac{T-n}{\\theta} - \\frac{2n-T}{1-\\theta} + \\frac{n}{2-\\theta}\n",
    "$$\n",
    "\n",
    "Setting the derivative to zero and solving for $\\theta$:\n",
    "$$\n",
    "-\\frac{T-n}{\\theta} - \\frac{2n-T}{1-\\theta} + \\frac{n}{2-\\theta} = 0\n",
    "$$\n",
    "$$\n",
    "-(T-n)(1-\\theta)(2-\\theta) - (2n-T)\\theta(2-\\theta) + n\\theta(1-\\theta) = 0\n",
    "$$\n",
    "$$\n",
    "-(T-n)(2 - 3\\theta + \\theta^2) - (4n\\theta - 2n\\theta^2 - 2T\\theta + T\\theta^2) + (n\\theta - n\\theta^2) = 0\n",
    "$$\n",
    "$$\n",
    "-2(T-n) + 3(T-n)\\theta - (T-n)\\theta^2 - 4n\\theta + 2n\\theta^2 + 2T\\theta - T\\theta^2 + n\\theta - n\\theta^2 = 0\n",
    "$$\n",
    "Expressing in terms of $\\theta$:\n",
    "$$\n",
    "\\theta^2 (-T + n + 2n - T + n) + \\theta (3T - 3n - 4n + 2T + n) + (-2T + 2n) = 0\n",
    "$$\n",
    "$$\n",
    "\\theta^2 (-2T + 4n) + \\theta (5T - 6n) + (2n - 2T) = 0\n",
    "$$\n",
    "Multiply by -1:\n",
    "$$\n",
    "2(T - 2n) \\theta^2 - (5T - 6n) \\theta + 2(T - n) = 0\n",
    "$$\n",
    "Solve for $\\theta$ as a quadratic equation:\n",
    "$$\n",
    "\\hat{\\theta} = \\frac{(5T - 6n) \\pm \\sqrt{(5T - 6n)^2 - 4(2(T - 2n))(2(T - n))}}{2(2(T - 2n))}\n",
    "$$\n",
    "$$\n",
    "\\hat{\\theta} = \\frac{(5T - 6n) \\pm \\sqrt{(5T - 6n)^2 - 16(T - 2n)(T - n)}}{4(T - 2n)}\n",
    "$$\n",
    "where $T = \\sum_{i=1}^{n} x_i$ and $\\theta$ is in the range $(0, 1)$\n",
    "\n",
    "To confirm this is a minimum point of the negative log-likelihood,\n",
    "Second derivative:\n",
    "$$\n",
    "\\frac{d(-\\ell(\\theta))}{d\\theta} = -\\frac{T-n}{\\theta} - \\frac{2n-T}{1-\\theta} + \\frac{n}{2-\\theta}\n",
    "$$\n",
    "$$\n",
    "\\frac{d^2(-\\ell(\\theta))}{d\\theta^2} = \\frac{T-n}{\\theta^2} + \\frac{2n-T}{(1-\\theta)^2} + \\frac{n}{(2-\\theta)^2}\n",
    "$$\n",
    "Since $n > 0$ and $x \\in \\{1, 2\\}$, we have $n \\le T \\le 2n$. Each term in the second derivative is non-negative, and at least one term will be strictly positive for $\\theta \\in (0, 1)$.\n",
    "Therefore, the second derivative is positive, hence it is a minimum point of the negative log-likelihood, which corresponds to a maximum point of the log-likelihood.\n",
    "\n",
    "The final MLE $\\hat{\\theta}$ will be one of the roots of the quadratic equation that lies in the interval $(0, 1)$."
   ]
  },
  {
   "cell_type": "markdown",
   "metadata": {},
   "source": [
    "## Question 4 (7.5 marks)\n",
    "Suppose that we know that the random variable $X$ follows the PDF given below:\n",
    "\n",
    "$$\n",
    "\\begin{equation}\n",
    "    f\\left(x|\\theta\\right)= \n",
    "    \\begin{cases}\n",
    "         e^{-(x-\\theta)} & x\\geq\\theta \\\\\n",
    "         0 & \\text{otherwise.}\n",
    "    \\end{cases}\n",
    "\\end{equation}\n",
    "$$\n",
    "\n",
    "Given a sample of $n$ [i.i.d](https://en.wikipedia.org/wiki/Independent_and_identically_distributed_random_variables) observations $\\mathbf{x}=$ $\\left(x_{1}, \\ldots, x_{n}\\right)$ from this distribution, please answer the following questions:\n",
    "\n",
    "**(a)** Derive the MLE estimator for $\\theta$, i.e., $\\hat{\\theta}_{\\text{MLE}}$. [4.5 Marks]\n",
    "\n",
    "**(b)** Show that the estimator $\\hat{\\theta} = \\overline{X} - 1$ (where $\\overline{X} = \\frac{1}{n}\\sum_{i=1}^n X_i$) is an unbiased and consistent estimator for the given distribution. [3 Marks]"
   ]
  },
  {
   "cell_type": "markdown",
   "metadata": {},
   "source": [
    "### ANSWER"
   ]
  },
  {
   "cell_type": "markdown",
   "metadata": {},
   "source": [
    "#### Q4(a) MLE Estimator\n",
    "##### Step 1. Likelihood Function\n",
    "The likelihood function $L(\\theta)$ is:\n",
    "$$\n",
    "L(\\theta) = \\prod_{i=1}^{n} e^{-(x_i-\\theta)} = \\exp\\left( -\\sum_{i=1}^{n} (x_i-\\theta) \\right) = \\exp\\left( -\\left( \\sum_{i=1}^{n} x_i - n\\theta \\right) \\right)\n",
    "$$\n",
    "\n",
    "$$\n",
    "L(\\theta) = \\exp\\left( -n\\overline{x} + n\\theta \\right)\n",
    "$$\n",
    "where $\\overline{x} = \\frac{1}{n}\\sum_{i=1}^n x_i$ is the sample mean.  \n",
    "This has the constraint $\\theta \\leq x_{(1)} = \\min(x_1, \\ldots, x_n)$, as $f(x_i|\\theta)$ is non-zero only when $x_i \\geq \\theta$.  \n",
    "\n",
    "##### Step 2. Negative Log-Likelihood Function\n",
    "The negative log-likelihood function $-\\ell(\\theta)$ is:\n",
    "$$\n",
    "-\\ell(\\theta) = n\\overline{x} - n\\theta\n",
    "$$\n",
    "\n",
    "##### Step 3. Differentiating the Negative Log-Likelihood\n",
    "\n",
    "To find the value of $\\theta$ that minimizes $-\\ell(\\theta) = n\\overline{x} - n\\theta$, subject to the constraint $\\theta \\leq x_{(1)}$.  \n",
    "The first derivative of $-\\ell(\\theta)$ with respect to $\\theta$ is:\n",
    "$$\n",
    "\\frac{dg(\\theta)}{d\\theta} = -n\n",
    "$$\n",
    "Since $n > 0$, the derivative is always negative, indicating that $-\\ell(\\theta)$ is a strictly decreasing function of $\\theta$.\n",
    "\n",
    "To minimize a strictly decreasing function over an interval, we need to choose the largest possible value of $\\theta$ within that interval. The constraint is $\\theta \\leq x_{(1)}$, so the largest possible value for $\\theta$ is $x_{(1)}$.\n",
    "\n",
    "Therefore, the value of $\\theta$ that minimizes the negative log-likelihood is:\n",
    "$$\n",
    "\\hat{\\theta}_{\\text{MLE}} = x_{(1)} = \\min(X_1, \\ldots, X_n)\n",
    "$$\n",
    "\n"
   ]
  },
  {
   "cell_type": "markdown",
   "metadata": {},
   "source": [
    "#### Q4(b) Unbiased and consistent estimator\n",
    "##### Expected Value of $X$\n",
    "The expected value of $X$ is $E[X|\\theta] = \\theta + 1$.\n",
    "\n",
    "##### Unbiasedness of $\\hat{\\theta} = \\overline{X} - 1$\n",
    "$$\n",
    "E[\\hat{\\theta}] = E[\\overline{X} - 1] = E\\left[ \\frac{1}{n} \\sum_{i=1}^n X_i - 1 \\right] = \\frac{1}{n} \\sum_{i=1}^n E[X_i] - 1\n",
    "$$\n",
    "$$\n",
    "E[\\hat{\\theta}] = \\frac{1}{n} \\sum_{i=1}^n (\\theta + 1) - 1 = \\frac{1}{n} (n(\\theta + 1)) - 1 = \\theta + 1 - 1 = \\theta\n",
    "$$\n",
    "Since $E[\\hat{\\theta}] = \\theta$, the estimator $\\hat{\\theta} = \\overline{X} - 1$ is unbiased for $\\theta$.\n",
    "\n",
    "##### Variance of $X$\n",
    "The variance of $X$ is $Var(X|\\theta) = 1$.\n",
    "\n",
    "##### Consistency of $\\hat{\\theta} = \\overline{X} - 1$\n",
    "The Mean Squared Error (MSE) is $MSE(\\hat{\\theta}) = Var(\\hat{\\theta}) + (Bias(\\hat{\\theta}))^2$.\n",
    "Since $\\hat{\\theta}$ is unbiased, $Bias(\\hat{\\theta}) = 0$, so $MSE(\\hat{\\theta}) = Var(\\hat{\\theta})$.\n",
    "$$\n",
    "Var(\\hat{\\theta}) = Var(\\overline{X} - 1) = Var(\\overline{X}) = Var\\left( \\frac{1}{n} \\sum_{i=1}^n X_i \\right) = \\frac{1}{n^2} \\sum_{i=1}^n Var(X_i)\n",
    "$$\n",
    "$$\n",
    "Var(\\hat{\\theta}) = \\frac{1}{n^2} \\sum_{i=1}^n 1 = \\frac{n}{n^2} = \\frac{1}{n}\n",
    "$$\n",
    "As $n \\to \\infty$, $MSE(\\hat{\\theta}) = Var(\\hat{\\theta}) = \\frac{1}{n} \\to 0$. Therefore, the estimator $\\hat{\\theta} = \\overline{X} - 1$ is consistent for $\\theta$."
   ]
  },
  {
   "cell_type": "markdown",
   "metadata": {},
   "source": [
    "# Part 2 Confidence Interval Estimation & Central Limit Theorem (30 marks)\n",
    "**WARNING:** If it is not explicitly stated, please assume the 95% confidence or 5% significant level."
   ]
  },
  {
   "cell_type": "markdown",
   "metadata": {},
   "source": [
    "## Question 1 (5 marks)\n",
    "The [SETU](https://www.monash.edu/ups/setu) score of FIT units is known to follow a $\\mathcal{N}(\\mu=4$, $\\sigma^2=0.25)$ distribution. You take a sample of the units and check their last semester's SETU. How many units do you have to sample to have a 95% confidence interval for $\\mu$ with width 0.1?"
   ]
  },
  {
   "cell_type": "markdown",
   "metadata": {},
   "source": [
    "### ANSWER"
   ]
  },
  {
   "cell_type": "markdown",
   "metadata": {},
   "source": [
    "To have a 95\\% confidence interval for $\\mu$ with a width of 0.1, the required sample size $n$ is found by the formula for the width of a confidence interval for the population mean when the population standard deviation is known:\n",
    "$$W = 2 \\times z_{\\alpha/2} \\frac{\\sigma}{\\sqrt{n}}$$\n",
    "Given a 95\\% confidence level, $\\alpha = 0.05$, so $z_{\\alpha/2} = z_{0.025} \\approx 1.96$. The population standard deviation is $\\sigma = \\sqrt{0.25} = 0.5$, and the desired width $W = 0.1$. Plugging these values into the formula:\n",
    "$$0.1 = 2 \\times 1.96 \\times \\frac{0.5}{\\sqrt{n}}$$\n",
    "$$0.1 = \\frac{1.96}{\\sqrt{n}}$$\n",
    "$$\\sqrt{n} = \\frac{1.96}{0.1}$$\n",
    "$$\\sqrt{n} = 19.6$$\n",
    "$$n = (19.6)^2$$\n",
    "$$n = 384.16$$\n",
    "Rounding up to the nearest whole number to ensure the desired width is met, the required sample size is 385."
   ]
  },
  {
   "cell_type": "markdown",
   "metadata": {},
   "source": [
    "## Question 2 (5 marks)\n",
    "You do a poll to see what fraction $p$ of the students participated in the FIT5197 SETU survey. You then take the average frequency of all surveyed people as an estimate $\\hat p$  for $p$. Now it is necessary to ensure that there is at least $99\\%$ certainty that the difference between the surveyed rate $\\hat p$   and the actual rate $p$ is not more than $5\\%$. At least how many people should take the survey?"
   ]
  },
  {
   "cell_type": "markdown",
   "metadata": {},
   "source": [
    "### ANSWER"
   ]
  },
  {
   "cell_type": "markdown",
   "metadata": {},
   "source": [
    "To ensure with at least 99\\% certainty that the difference between the surveyed rate $\\hat{p}$ and the actual rate $p$ is not more than 5\\%, we need to determine the minimum sample size $n$ for a confidence interval of a population proportion. The margin of error $E$ is given by:\n",
    "$$\n",
    "E = z_{\\alpha/2} \\sqrt{\\frac{\\hat{p}(1-\\hat{p})}{n}}\n",
    "$$\n",
    "For a 99\\% confidence level, $\\alpha = 0.01$, so $z_{\\alpha/2} = z_{0.005} \\approx 2.576$. The desired margin of error is $E = 0.05$. Since we don't have a prior estimate for $p$, we use the most conservative estimate $\\hat{p} = 0.5$ to maximize the sample size:\n",
    "$$\n",
    "0.05 = 2.576 \\sqrt{\\frac{0.5(1-0.5)}{n}}\n",
    "$$\n",
    "$$\n",
    "0.05 = 2.576 \\sqrt{\\frac{0.25}{n}}\n",
    "$$\n",
    "$$\n",
    "\\frac{0.05}{2.576} = \\sqrt{\\frac{0.25}{n}}\n",
    "$$\n",
    "$$\n",
    "0.019417 \\approx \\sqrt{\\frac{0.25}{n}}\n",
    "$$\n",
    "Squaring both sides:\n",
    "$$\n",
    "(0.019417)^2 \\approx \\frac{0.25}{n}\n",
    "$$\n",
    "$$\n",
    "0.0003769 \\approx \\frac{0.25}{n}\n",
    "$$\n",
    "$$\n",
    "n \\approx \\frac{0.25}{0.0003769}\n",
    "$$\n",
    "$$\n",
    "n \\approx 663.4\n",
    "$$\n",
    "Rounding up to the nearest whole number, at least 664 people should take the survey."
   ]
  },
  {
   "cell_type": "markdown",
   "metadata": {},
   "source": [
    "## Question 3 (5 marks)\n",
    "Suppose you repeated the above polling process multiple times and obtained $100$ confidence intervals, each with confidence level of $99\\%$. About how many of them would you expect to be \"wrong\"? That is, how many of them would not actually contain the parameter being estimated? Should you be surprised if $4$ of them are wrong?"
   ]
  },
  {
   "cell_type": "markdown",
   "metadata": {},
   "source": [
    "### ANSWER"
   ]
  },
  {
   "cell_type": "markdown",
   "metadata": {},
   "source": [
    "If you construct 100 confidence intervals, each with a 99\\% confidence level, this means that for each interval, there is a 99\\% probability that it contains the true population parameter $p$. Therefore, there is a $1\\% = 0.01$ probability that any given interval will not contain the true parameter.\n",
    "\n",
    "The expected number of \"wrong\" intervals out of 100 would be:\n",
    "$$ \\text{Expected number of wrong intervals} = 100 \\times (1 - 0.99) = 100 \\times 0.01 = 1 $$\n",
    "So, you would expect about 1 of the 100 confidence intervals to not contain the true proportion $p$.\n",
    "\n",
    "To determine if observing 4 wrong intervals is surprising, we can consider the binomial distribution $B(n=100, p=0.01)$, where $n$ is the number of intervals and $p$ is the probability of an interval being wrong. The expected number of wrong intervals is $\\mu = np = 100 \\times 0.01 = 1$, and the standard deviation is $\\sigma = \\sqrt{np(1-p)} = \\sqrt{100 \\times 0.01 \\times 0.99} = \\sqrt{0.99} \\approx 0.995$.\n",
    "\n",
    "Observing 4 wrong intervals is a deviation of $4 - 1 = 3$ from the expected value. In terms of standard deviations, this is approximately $\\frac{3}{0.995} \\approx 3.015$ standard deviations above the mean.\n",
    "\n",
    "A deviation of more than 2 or 3 standard deviations from the mean is often considered statistically significant or surprising. Therefore, observing 4 wrong intervals might be considered a somewhat surprising result, as it is more than 3 standard deviations away from the expected number of wrong intervals."
   ]
  },
  {
   "cell_type": "markdown",
   "metadata": {},
   "source": [
    "## Question 4 (5 marks)\n",
    "\n",
    "Consider the random variable $X$ following the Bernoulli distribution with a parameter $\\theta$, i.e., $X\\sim \\text{Be}(\\theta)$, where $\\theta=0.9$. Given that you collect $n$ random variable $X_1, X_2,\\ldots, X_n$. Calculate the smallest sample size, ${n}$, you have to observe to guarantee that\n",
    "\n",
    "$$\n",
    "P\\left(\\left|\\frac{\\sum_1^n X_i}{n} - \\theta \\right| >0.01\\right) < 0.1.\n",
    "$$"
   ]
  },
  {
   "cell_type": "markdown",
   "metadata": {},
   "source": [
    "### ANSWER"
   ]
  },
  {
   "cell_type": "markdown",
   "metadata": {},
   "source": [
    "Let $X_1, X_2, \\ldots, X_n$ be $n$ independent and identically distributed Bernoulli random variables with parameter $\\theta = 0.9$. The sample mean is $\\bar{X}_n = \\frac{\\sum_{i=1}^n X_i}{n}$. We have $E[X_i] = 0.9$ and $\\text{Var}(X_i) = 0.9(1-0.9) = 0.09$. By the Central Limit Theorem, $\\bar{X}_n \\approx \\mathcal{N}\\left(0.9, \\frac{0.09}{n}\\right)$. We want to find the smallest $n$ such that:\n",
    "$$\n",
    "P\\left(\\left|\\frac{\\sum_{i=1}^n X_i}{n} - 0.9 \\right| >0.01\\right) < 0.1\n",
    "$$\n",
    "Standardizing the sample mean, $Z = \\frac{\\bar{X}_n - 0.9}{\\sqrt{0.09/n}} = \\frac{\\bar{X}_n - 0.9}{0.3/\\sqrt{n}} \\approx \\mathcal{N}(0, 1)$. The inequality becomes:\n",
    "$$\n",
    "P\\left(\\left|Z \\right| > \\frac{0.01}{0.3/\\sqrt{n}}\\right) < 0.1\n",
    "$$\n",
    "$$\n",
    "P\\left(|Z| > \\frac{0.01 \\sqrt{n}}{0.3}\\right) < 0.1\n",
    "$$\n",
    "$$\n",
    "P\\left(|Z| > \\frac{\\sqrt{n}}{30}\\right) < 0.1\n",
    "$$\n",
    "Let $z_{\\alpha/2}$ be the critical value for $\\alpha = 0.1$, so $\\alpha/2 = 0.05$. We have $z_{0.05} \\approx 1.645$. Thus, we need:\n",
    "$$\n",
    "\\frac{\\sqrt{n}}{30} > 1.645\n",
    "$$\n",
    "$$\n",
    "\\sqrt{n} > 30 \\times 1.645\n",
    "$$\n",
    "$$\n",
    "\\sqrt{n} > 49.35\n",
    "$$\n",
    "$$\n",
    "n > (49.35)^2\n",
    "$$\n",
    "$$\n",
    "n > 2435.4225\n",
    "$$\n",
    "The smallest integer $n$ satisfying this condition is $n = 2436$."
   ]
  },
  {
   "cell_type": "markdown",
   "metadata": {},
   "source": [
    "## Question 5 (5 Marks)\n",
    "\n",
    "The error for the production of a machine is uniformly distribute over [-0.75, 0.75] unit. Assuming that there are 100 machines working at the same time, approximate the probability that the final production differ from the exact production by more than 4.5 unit?\n"
   ]
  },
  {
   "cell_type": "markdown",
   "metadata": {},
   "source": [
    "### ANSWER"
   ]
  },
  {
   "cell_type": "markdown",
   "metadata": {},
   "source": [
    "Let $X_i$ be the error for the $i$-th machine, $X_i \\sim U[-0.75, 0.75]$. The mean and variance of $X_i$ are $E[X_i] = 0$ and $\\text{Var}(X_i) = 0.1875$. For $n=100$ machines, the total error is $S_{100} = \\sum_{i=1}^{100} X_i$. By the Central Limit Theorem, $S_{100}$ is approximately normally distributed with mean $E[S_{100}] = 100 \\times 0 = 0$ and variance $\\text{Var}(S_{100}) = 100 \\times 0.1875 = 18.75$. The standard deviation is $\\sigma_{S_{100}} = \\sqrt{18.75} \\approx 4.3301$.\n",
    "\n",
    "We want to find $P(|S_{100}| > 4.5) = P(S_{100} > 4.5) + P(S_{100} < -4.5)$. We standardize the values:\n",
    "$$ \n",
    "Z_1 = \\frac{4.5 - 0}{4.3301} \\approx 1.0392 \n",
    "$$\n",
    "$$ \n",
    "Z_2 = \\frac{-4.5 - 0}{4.3301} \\approx -1.0392 \n",
    "$$\n",
    "So, we need to calculate $P(|Z| > 1.0392) = P(Z > 1.0392) + P(Z < -1.0392)$, where $Z \\sim \\mathcal{N}(0, 1)$.\n",
    "Using the standard normal distribution table or a calculator:\n",
    "$$ \n",
    "P(Z > 1.0392) \\approx 1 - P(Z \\le 1.0392) \\approx 1 - 0.8505 = 0.1495 \n",
    "$$\n",
    "$$ \n",
    "P(Z < -1.0392) \\approx 0.1495 \n",
    "$$\n",
    "Therefore, the approximate probability is:\n",
    "$$ \n",
    "P(|S_{100}| > 4.5) \\approx 0.1495 + 0.1495 = 0.2990 \n",
    "$$"
   ]
  },
  {
   "cell_type": "markdown",
   "metadata": {},
   "source": [
    "## Question 6 (5 Marks)\n",
    "\n",
    "Let $X_{1}, X_{2}, \\ldots, X_{n}$ be a random sample from a Poisson distribution with mean\n",
    "$\\lambda .$ Thus, $Y=\\sum_{i=1}^{n} X_{i}$ has a Poisson distribution with mean $n \\lambda .$ Moreover, by the Central limit Theorem, $\\bar{X}=Y / n$ has, approximately, a Normal $(\\lambda, \\lambda / n)$ distribution for large $n$. Show that for large values of $n,$ the distribution of\n",
    "$$\n",
    "2 \\sqrt{n}\\left(\\sqrt{\\frac{Y}{n}}-\\sqrt{\\lambda}\\right)\n",
    "$$\n",
    "is independent of $\\lambda$."
   ]
  },
  {
   "cell_type": "markdown",
   "metadata": {},
   "source": [
    "### ANSWER"
   ]
  },
  {
   "cell_type": "markdown",
   "metadata": {},
   "source": [
    "We are given that $\\bar{X} = Y/n$ has an approximate normal distribution $\\mathcal{N}(\\lambda, \\lambda/n)$ for large $n$. We consider the statistic\n",
    "$$\n",
    "W = 2 \\sqrt{n}\\left(\\sqrt{\\frac{Y}{n}}-\\sqrt{\\lambda}\\right) = 2 \\sqrt{n}\\left(\\sqrt{\\bar{X}}-\\sqrt{\\lambda}\\right).\n",
    "$$\n",
    "We use a first-order Taylor series expansion of $g(x) = \\sqrt{x}$ around $x = \\lambda$:\n",
    "$$\n",
    "g(x) \\approx g(\\lambda) + g'(\\lambda)(x - \\lambda)\n",
    "$$\n",
    "Here, $g(x) = \\sqrt{x}$ and $g'(x) = \\frac{1}{2\\sqrt{x}}$, so $g(\\lambda) = \\sqrt{\\lambda}$ and $g'(\\lambda) = \\frac{1}{2\\sqrt{\\lambda}}$. Thus,\n",
    "$$\n",
    "\\sqrt{\\bar{X}} \\approx \\sqrt{\\lambda} + \\frac{1}{2\\sqrt{\\lambda}}(\\bar{X} - \\lambda).\n",
    "$$\n",
    "Substituting this into the expression for $W$:\n",
    "$$\n",
    "W = 2 \\sqrt{n}\\left(\\left(\\sqrt{\\lambda} + \\frac{1}{2\\sqrt{\\lambda}}(\\bar{X} - \\lambda)\\right) - \\sqrt{\\lambda}\\right) = 2 \\sqrt{n}\\left(\\frac{1}{2\\sqrt{\\lambda}}(\\bar{X} - \\lambda)\\right) = \\frac{\\sqrt{n}}{\\sqrt{\\lambda}}(\\bar{X} - \\lambda).\n",
    "$$\n",
    "We know that $\\bar{X} \\sim \\mathcal{N}(\\lambda, \\lambda/n)$, which implies that $\\bar{X} - \\lambda \\sim \\mathcal{N}(0, \\lambda/n)$.\n",
    "Let $Z = \\bar{X} - \\lambda$. Then $Z \\sim \\mathcal{N}(0, \\lambda/n)$.\n",
    "The statistic $W$ can be written as $W = \\frac{\\sqrt{n}}{\\sqrt{\\lambda}} Z$.\n",
    "The mean of $W$ is $E[W] = \\frac{\\sqrt{n}}{\\sqrt{\\lambda}} E[Z] = \\frac{\\sqrt{n}}{\\sqrt{\\lambda}} \\times 0 = 0$.\n",
    "The variance of $W$ is $\\text{Var}(W) = \\left(\\frac{\\sqrt{n}}{\\sqrt{\\lambda}}\\right)^2 \\text{Var}(Z) = \\frac{n}{\\lambda} \\times \\frac{\\lambda}{n} = 1$.\n",
    "Therefore, for large $n$, the distribution of $W$ is approximately $\\mathcal{N}(0, 1)$, which is independent of $\\lambda$."
   ]
  },
  {
   "cell_type": "markdown",
   "metadata": {},
   "source": [
    "# Part 3 Hypothesis Testing (15 marks)"
   ]
  },
  {
   "cell_type": "markdown",
   "metadata": {},
   "source": [
    "## Question 1 (7.5 marks)\n",
    "\n",
    "As a motivation for students to attend the tutorial, Levin is offering a lot of hampers this semester. He has designed a spinning wheel (This is an example https://spinnerwheel.com/) where there are four choices on it: \"Hamper A\", \"Hamper B\", \"Hamper C\", and \"Better Luck Next Time\". These choices are evenly distributed on the wheel. If a student completes the attendance form for one of the tutorials, they will get a chance to spin the wheel. \n",
    "\n",
    "As a hard-working student yourself, you have earned 12 chances at the end of the semester. When you finished your spins, the result showed \\{\"N\", \"A\", \"N\", \"N\", \"B\", \"C\", \"N\", \"N\", \"N\", \"A\", \"A\", \"N\"\\} (\"A\",\"B\" and \"C\" denote three hampers respectively, while \"N\" denotes \"Better Luck Next Time\"). You are shocked by the result and feel the game might be faulty. Before questioning Levin, you would like to perform a hypothesis test to check whether you are really unlucky or has Levin secretly done something that had influenced the probability of winning or not. State your hypothesis, perform the test and interpret the result."
   ]
  },
  {
   "cell_type": "markdown",
   "metadata": {},
   "source": [
    "### ANSWER"
   ]
  },
  {
   "cell_type": "markdown",
   "metadata": {},
   "source": [
    "#### 1. Hypothesis\n",
    "\n",
    "Null Hypothesis ($H_0$): The spinning wheel is fair, and each outcome (\"Hamper A\", \"Hamper B\", \"Hamper C\", \"Better Luck Next Time\") has a probability of 0.25.  \n",
    "Alternative Hypothesis ($H_1$): The spinning wheel is not fair, and the probabilities of the outcomes are not all equal to 0.25.  \n",
    "\n",
    "#### 2. Hypothesis test\n",
    "We use a chi-square goodness-of-fit test.\n",
    "\n",
    "Observed Frequencies ($O_i$):\n",
    "- Hamper A: 3\n",
    "- Hamper B: 1\n",
    "- Hamper C: 1\n",
    "- Better Luck Next Time (N): 7\n",
    "\n",
    "Total Number of Spins ($n$): 12\n",
    "Number of Categories ($k$): 4\n",
    "Expected Frequencies ($E_i$) under $H_0$: $E_i = n \\times p_i = 12 \\times 0.25 = 3$ for each category.\n",
    "\n",
    "\n",
    "The chi-square test statistic ($\\chi^2$) is calculated as:\n",
    "$$\\chi^2 = \\sum_{i=1}^{k} \\frac{(O_i - E_i)^2}{E_i}$$\n",
    "\n",
    "Plugging in the values:\n",
    "$$\\chi^2 = \\frac{(3 - 3)^2}{3} + \\frac{(1 - 3)^2}{3} + \\frac{(1 - 3)^2}{3} + \\frac{(7 - 3)^2}{3}$$\n",
    "$$\\chi^2 = \\frac{0}{3} + \\frac{(-2)^2}{3} + \\frac{(-2)^2}{3} + \\frac{(4)^2}{3}$$\n",
    "$$\\chi^2 = 0 + \\frac{4}{3} + \\frac{4}{3} + \\frac{16}{3} = \\frac{24}{3} = 8$$\n",
    "\n",
    "The degrees of freedom are $df = k - 1 = 4 - 1 = 3$. Assuming a significance level ($\\alpha$) of 0.05, the critical value from the chi-square distribution is approximately $\\chi^2_{crit} \\approx 7.815$.\n",
    "\n",
    "#### 3. Conclusion\n",
    "Since our calculated chi-square statistic ($\\chi^2 = 8$) is greater than the critical value ($\\chi^2_{crit} \\approx 7.815$), we reject the null hypothesis.  \n",
    "There is statistically significant evidence at the 0.05 significance level to suggest that the spinning wheel is not fair. The observed frequencies of the outcomes are significantly different from what would be expected if the wheel were evenly distributed.\n"
   ]
  },
  {
   "cell_type": "markdown",
   "metadata": {},
   "source": [
    "## Question 2 (7.5 marks)\n",
    "\n",
    "The operation team of a retailer is about to report the performance of year 2022. As the data analyst, your job entails reviewing the reports provided by the team. One of the reports regarding membership subscription looks suspicous to you. In this report, they compared the amount of money spent by the members against the non-members over the year. The methodology is that they randomly selected 20 customers and compared their spending before and after becoming a member. \n",
    "\n",
    "The average spending before becoming a member is $\\$88.5$ per week with a standard deviation of $\\$11.2$. The average after becoming a member is $\\$105$ per week with a standard deviation of $\\$15$. In the report, the retailer claimed that after becoming a member, customers tend to spend $10\\%$ more than before on average.\n",
    "\n",
    "As a statistician, you decide to perform a hypothesis test to verify the veracity of this claim. State your hypothesis, perform\n",
    "the test and interpret the result. Additionally, please suggest another methodology to compare member vs non-member."
   ]
  },
  {
   "cell_type": "markdown",
   "metadata": {},
   "source": [
    "### ANSWER"
   ]
  },
  {
   "cell_type": "markdown",
   "metadata": {},
   "source": [
    "# Part 4 Simulation (25 marks)"
   ]
  },
  {
   "cell_type": "markdown",
   "metadata": {},
   "source": [
    "Suppose you are involved in a scientific research project. Your lab mates are struggling with a sampling problem. They have a probability density function as shown below, but none of them knows how to generate random numbers from this probability distribution. As a member with a background in data science in this lab, you want to help them solve the sampling problem.\n",
    "$$ f(x) = \n",
    "   \\left\\{\n",
    "\\begin{array}{ll}\n",
    "      4x+1 &  -\\frac{1}{4}\\leq x\\lt 0 \\\\\n",
    "      -\\frac{4}{7}x+1 & 0 \\leq x \\lt \\frac{7}{4}\\\\\n",
    "      0 & \\mathrm{otherwise}\n",
    "\\end{array} \n",
    "\\right.\n",
    "$$\n",
    "\n",
    "**(a)** First of all, you want to calculate the cumulative density function $F(x)$ and the quantile function $Q(p)$ for $f(x)$. \n",
    "\n",
    "**(b)** You can get random numbers distributed as per $f(x)$ by generating uniformly distributed numbers $p$ from 0 to 1 and plug them into $Q(p)$. You know computer simulation helps a lot so you want to write a function to generate random numbers distributed as per $f(x)$. You call this function ``samplingHelper`` and it takes a single input **n** to be the number of realizations you want to generate. Besides, you want to use the following function template. The better your function is (errors handling, comments, variable names, etc) the higher the score you will get for this part.\n",
    "\n",
    "```{r}\n",
    "samplingHelper <- function(n) {\n",
    "    # Put down your own code here\n",
    "    \n",
    "    return(numbers) # numbers is an array of random numbers you generated as per f(x)\n",
    "}\n",
    "```\n",
    "\n",
    "**(c)** You want to call ``samplingHelper`` to generate 99,999 random numbers as per $f(x)$ and plot a histogram of the sample with 100 bins as well as overlay a theoretical curve on top of it.\n",
    "\n",
    "**(d)** You know sharing knowledge is a good practise. You want to summarize the key steps of your sampling method. More importantly, you want to justify why this sampling method works. (less than 250 words)\n",
    "\n",
    "**(e)** Your lab mates all appreciate your help and they get stuck on another sampling problem. The probability density function is given below\n",
    "$$\n",
    "f(x) = e^{-x^2\\pi} \\text{ for x } \\in [-\\infty, +\\infty]\n",
    "$$\n",
    "They need your help to generate random numbers as per this distribution. You decide to use the same sampling strategy as you discussed above. Now you want to derive its cumulative density function $F(x)$ and the Quantile function $Q(p)$.\n",
    "\n",
    "**(f)** You want to implement it as another function called ``newSamplingHelper``. It takes a single input **n** to be the number of realizations you want to generate. Besides, you want to use the following function template. The better your function is (errors handling, comments, variable names, etc) the higher the score you will get for this part.\n",
    "\n",
    "```{r}\n",
    "newSamplingHelper <- function(n) {\n",
    "    # Put down your own code here\n",
    "    \n",
    "    return(numbers) # numbers is an array of random numbers you generated as per f(x)\n",
    "}\n",
    "```\n",
    "\n",
    "**(g)** You want to call ``newSamplingHelper`` to generate 99,999 random numbers as per $f(x)$ and plot a histogram of the sample with 100 bins as well as overlay a theoretical curve on top of it. What's your findings by comparing it with Gaussian distribution? (less than 100 words)"
   ]
  },
  {
   "cell_type": "markdown",
   "metadata": {},
   "source": [
    "### ANSWER"
   ]
  }
 ],
 "metadata": {
  "colab": {
   "collapsed_sections": [],
   "name": "FIT5197_A2_Final_Draft_Edited_by_Dan.ipynb",
   "provenance": []
  },
  "kernelspec": {
   "display_name": "R",
   "language": "R",
   "name": "ir"
  },
  "language_info": {
   "codemirror_mode": "r",
   "file_extension": ".r",
   "mimetype": "text/x-r-source",
   "name": "R",
   "pygments_lexer": "r",
   "version": "4.1.3"
  }
 },
 "nbformat": 4,
 "nbformat_minor": 1
}
