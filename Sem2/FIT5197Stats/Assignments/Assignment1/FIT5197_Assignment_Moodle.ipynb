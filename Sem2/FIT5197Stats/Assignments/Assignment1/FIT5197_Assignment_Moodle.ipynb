{
 "cells": [
  {
   "cell_type": "markdown",
   "metadata": {
    "id": "X9V5ptJAIEbw"
   },
   "source": [
    "# FIT5197 2025 S1 Assignment - Covers the lecture and tutorial materials up to, and including, week 8\n",
    "\n",
    "**SPECIAL NOTE:** Please refer to the [assessment page]() for rules, general guidelines and marking rubrics of the assessment (the marking rubric for the kaggle competition part will be released near the deadline in the same page). Failure to comply with the provided information will result in a deduction of mark (e.g., late penalties) or breach of academic integrity.\n"
   ]
  },
  {
   "cell_type": "markdown",
   "metadata": {},
   "source": [
    "# Part 1 Point Estimation (30 marks)\n",
    "**WARNING:** you should strictly follow the 3-steps strategy as detailed in [question 2 of week 5 tutorial]() \\(or any answer formats presented in the [Week 5 quiz]()\\) to answer for the questions that are related to MLE estimators presented in this part. Any deviations from the answer format might result in a loss of marks!"
   ]
  },
  {
   "cell_type": "markdown",
   "metadata": {},
   "source": [
    "## Question 1 (7.5 marks)\n",
    "\n",
    "Let $X\\,{\\sim}\\,\\mathcal{IG}\\left(\\theta: \\left(\\mu, \\lambda\\right)\\right),\\;\\,\\forall\\, \\mu>0 \\text{ and } \\lambda>0$. This means\n",
    "the random varible $X$ follows the **inverse Gaussian distribution** with the set $\\left(\\theta: \\left(\\mu, \\lambda\\right)\\right)$ acting as the parameters of said distribution. Given that we observe a sample of size $n$ that is independently and identically distributed from this distribution ([i.i.d](https://en.wikipedia.org/wiki/Independent_and_identically_distributed_random_variables)), $\\mathbf{x}=$ $\\left(x_{1}, \\ldots, x_{n}\\right)$, please find the [maximum likelihood estimate](https://en.wikipedia.org/wiki/Maximum_likelihood_estimation) for $\\mu$ and $\\lambda$, that is $\\mu_{\\text{MLE}}$ and $\\lambda_{\\text{MLE}}$. The probability density function (**PDF**) is as follows:\n",
    "\n",
    "$$\n",
    "f(x \\mid \\mu, \\lambda)=\\left\\{\\begin{array}{cc}\n",
    "\\left(\\frac{\\lambda}{2 \\pi x^{3}}\\right)^{1 / 2} e^{\\frac{-\\lambda(x-\\mu)^{2}}{2 \\mu^{2} x}}, & x>0 \\\\\n",
    "0, & x \\leq 0\n",
    "\\end{array}\\right.\n",
    "$$"
   ]
  },
  {
   "cell_type": "markdown",
   "metadata": {},
   "source": [
    "### ANSWER"
   ]
  },
  {
   "cell_type": "markdown",
   "metadata": {
    "vscode": {
     "languageId": "python"
    }
   },
   "source": [
    "To find the maximum likelihood estimate, we can compute the log summation of $f(x \\mid \\mu, \\lambda)$\n",
    "$$\n",
    "\\sum_{i=1}^{n} \\ln f(x \\mid \\mu, \\lambda)=\\sum_{i=1}^{n} \\ln{\\frac{\\lambda}{2 \\pi x_i^{3}}^{1 / 2}} \\ln{e^{\\frac{-\\lambda(x_i-\\mu)^{2}}{2 \\mu^{2} x_i}}}\n",
    "$$\n",
    "$$\n",
    "\\sum_{i=1}^{n} \\ln f(x \\mid \\mu, \\lambda)=\\sum_{i=1}^{n} {0.5}\\ln{\\frac{\\lambda}{2 \\pi x_i^{3}}} \\frac{-\\lambda(x_i-\\mu)^{2}}{2 \\mu^{2} x_i}\n",
    "$$\n"
   ]
  },
  {
   "cell_type": "markdown",
   "metadata": {},
   "source": [
    "MLE for $\\mu$, $\\mu_MLE$:  \n",
    "Solve: $$\\frac{d}{d\\mu} \\sum_{i=1}^{n} \\ln f(x \\mid \\mu, \\lambda) = 0$$\n",
    "$$\n",
    "\\frac{d}{d\\mu} \\sum_{i=1}^{n} {0.5}\\ln{\\frac{\\lambda}{2 \\pi x_i^{3}}} \\frac{-\\lambda(x_i-\\mu)^{2}}{2 \\mu^{2} x_i} = 0\n",
    "$$\n"
   ]
  },
  {
   "cell_type": "markdown",
   "metadata": {},
   "source": [
    "\n",
    "MLE for $\\lambda$, $\\lambda_MLE$:\n",
    "Solve: $$\\frac{d}{d\\lambda} \\sum_{i=1}^{n} \\ln f(x \\mid \\mu, \\lambda) = 0$$\n",
    "$$\n",
    "\\frac{d}{d\\lambda} \\sum_{i=1}^{n} {0.5}\\ln{\\frac{\\lambda}{2 \\pi x_i^{3}}} \\frac{-\\lambda(x_i-\\mu)^{2}}{2 \\mu^{2} x_i} = 0\n",
    "$$"
   ]
  },
  {
   "cell_type": "markdown",
   "metadata": {},
   "source": [
    "## Question 2 (7.5 marks)\n",
    "Suppose that we know that the random variable $X{\\,\\sim\\,}\\mathcal{Dist}(\\mu=\\theta, \\sigma^2=\\theta^2)$ follows the PDF given below:\n",
    "\n",
    "$$\n",
    "\\begin{equation}\n",
    "f\\left(x|\\theta\\right)=\n",
    "\\begin{cases}\n",
    "\\frac{1}{\\theta} \\exp(-\\frac{x}{\\theta}) & x > 0 \\\\\n",
    "0 & \\text{otherwise.}\n",
    "\\end{cases}\n",
    "\\end{equation}\n",
    "$$\n",
    "\n",
    "Given a sample of $n$ [i.i.d](https://en.wikipedia.org/wiki/Independent_and_identically_distributed_random_variables) observations $\\mathbf{x}=$ $\\left(x_{1}, \\ldots, x_{n}\\right)$ from this distribution, please answer the following questions:\n",
    "\n",
    "**(a)** Derive the MLE estimator for $\\theta$, i.e., $\\hat{\\theta}_{\\text{MLE}}$, and show that it is unbiased. [2.5 Marks]\n",
    "\n",
    "**(b)** Find an estimator with better MSE (i.e smaller MSE) compared to the $\\hat{\\theta}_{\\text{MLE}}$ obtained from (a). [5 Marks]"
   ]
  },
  {
   "cell_type": "markdown",
   "metadata": {},
   "source": [
    "### ANSWER"
   ]
  },
  {
   "cell_type": "markdown",
   "metadata": {},
   "source": [
    "## Question 3 (7.5 marks)\n",
    "Suppose that we know that a random variable $X$ follows the distribution given below:\n",
    "\n",
    "$$\n",
    "f\\left(x|\\theta\\right)= \\frac{{2 \\choose x}\\theta^x\\left(1-\\theta\\right)^{2-x}}{1-\\left(1-\\theta\\right)^2}, \\; x= \\{1,2\\}\n",
    "$$\n",
    "\n",
    "Imagine that we observe a sample of $\\textbf{n}$ [i.i.d](https://en.wikipedia.org/wiki/Independent_and_identically_distributed_random_variables) random varaibles $\\mathbf{x}=$ $\\left(x_{1}, \\ldots, x_{n}\\right)$ and want to model them using this distribution. Please use the concept of maximum likelihood to estimate for the parameter $\\theta$."
   ]
  },
  {
   "cell_type": "markdown",
   "metadata": {},
   "source": [
    "### ANSWER"
   ]
  },
  {
   "cell_type": "markdown",
   "metadata": {},
   "source": [
    "## Question 4 (7.5 marks)\n",
    "Suppose that we know that the random variable $X$ follows the PDF given below:\n",
    "\n",
    "$$\n",
    "\\begin{equation}\n",
    "    f\\left(x|\\theta\\right)= \n",
    "    \\begin{cases}\n",
    "         e^{-(x-\\theta)} & x\\geq\\theta \\\\\n",
    "         0 & \\text{otherwise.}\n",
    "    \\end{cases}\n",
    "\\end{equation}\n",
    "$$\n",
    "\n",
    "Given a sample of $n$ [i.i.d](https://en.wikipedia.org/wiki/Independent_and_identically_distributed_random_variables) observations $\\mathbf{x}=$ $\\left(x_{1}, \\ldots, x_{n}\\right)$ from this distribution, please answer the following questions:\n",
    "\n",
    "**(a)** Derive the MLE estimator for $\\theta$, i.e., $\\hat{\\theta}_{\\text{MLE}}$. [4.5 Marks]\n",
    "\n",
    "**(b)** Show that the estimator $\\hat{\\theta} = \\overline{X} - 1$ (where $\\overline{X} = \\frac{1}{n}\\sum_{i=1}^n X_i$) is an unbiased and consistent estimator for the given distribution. [3 Marks]"
   ]
  },
  {
   "cell_type": "markdown",
   "metadata": {},
   "source": [
    "### ANSWER"
   ]
  },
  {
   "cell_type": "markdown",
   "metadata": {},
   "source": [
    "# Part 2 Confidence Interval Estimation & Central Limit Theorem (30 marks)\n",
    "**WARNING:** If it is not explicitly stated, please assume the 95% confidence or 5% significant level."
   ]
  },
  {
   "cell_type": "markdown",
   "metadata": {},
   "source": [
    "## Question 1 (5 marks)\n",
    "The [SETU](https://www.monash.edu/ups/setu) score of FIT units is known to follow a $\\mathcal{N}(\\mu=4$, $\\sigma^2=0.25)$ distribution. You take a sample of the units and check their last semester's SETU. How many units do you have to sample to have a 95% confidence interval for $\\mu$ with width 0.1?"
   ]
  },
  {
   "cell_type": "markdown",
   "metadata": {},
   "source": [
    "### ANSWER"
   ]
  },
  {
   "cell_type": "markdown",
   "metadata": {},
   "source": [
    "## Question 2 (5 marks)\n",
    "You do a poll to see what fraction $p$ of the students participated in the FIT5197 SETU survey. You then take the average frequency of all surveyed people as an estimate $\\hat p$  for $p$. Now it is necessary to ensure that there is at least $99\\%$ certainty that the difference between the surveyed rate $\\hat p$   and the actual rate $p$ is not more than $5\\%$. At least how many people should take the survey?"
   ]
  },
  {
   "cell_type": "markdown",
   "metadata": {},
   "source": [
    "### ANSWER"
   ]
  },
  {
   "cell_type": "markdown",
   "metadata": {},
   "source": [
    "## Question 3 (5 marks)\n",
    "Suppose you repeated the above polling process multiple times and obtained $100$ confidence intervals, each with confidence level of $99\\%$. About how many of them would you expect to be \"wrong\"? That is, how many of them would not actually contain the parameter being estimated? Should you be surprised if $4$ of them are wrong?"
   ]
  },
  {
   "cell_type": "markdown",
   "metadata": {},
   "source": [
    "### ANSWER"
   ]
  },
  {
   "cell_type": "markdown",
   "metadata": {},
   "source": [
    "## Question 4 (5 marks)\n",
    "\n",
    "Consider the random variable $X$ following the Bernoulli distribution with a parameter $\\theta$, i.e., $X\\sim \\text{Be}(\\theta)$, where $\\theta=0.9$. Given that you collect $n$ random variable $X_1, X_2,\\ldots, X_n$. Calculate the smallest sample size, ${n}$, you have to observe to guarantee that\n",
    "\n",
    "$$\n",
    "P\\left(\\left|\\frac{\\sum_1^n X_i}{n} - \\theta \\right| >0.01\\right) < 0.1.\n",
    "$$"
   ]
  },
  {
   "cell_type": "markdown",
   "metadata": {},
   "source": [
    "### ANSWER"
   ]
  },
  {
   "cell_type": "markdown",
   "metadata": {},
   "source": [
    "## Question 5 (5 Marks)\n",
    "\n",
    "The error for the production of a machine is uniformly distribute over [-0.75, 0.75] unit. Assuming that there are 100 machines working at the same time, approximate the probability that the final production differ from the exact production by more than 4.5 unit?\n"
   ]
  },
  {
   "cell_type": "markdown",
   "metadata": {},
   "source": [
    "### ANSWER"
   ]
  },
  {
   "cell_type": "markdown",
   "metadata": {},
   "source": [
    "## Question 6 (5 Marks)\n",
    "\n",
    "Let $X_{1}, X_{2}, \\ldots, X_{n}$ be a random sample from a Poisson distribution with mean\n",
    "$\\lambda .$ Thus, $Y=\\sum_{i=1}^{n} X_{i}$ has a Poisson distribution with mean $n \\lambda .$ Moreover, by the Central limit Theorem, $\\bar{X}=Y / n$ has, approximately, a Normal $(\\lambda, \\lambda / n)$ distribution for large $n$. Show that for large values of $n,$ the distribution of\n",
    "$$\n",
    "2 \\sqrt{n}\\left(\\sqrt{\\frac{Y}{n}}-\\sqrt{\\lambda}\\right)\n",
    "$$\n",
    "is independent of $\\lambda$."
   ]
  },
  {
   "cell_type": "markdown",
   "metadata": {},
   "source": [
    "### ANSWER"
   ]
  },
  {
   "cell_type": "markdown",
   "metadata": {},
   "source": [
    "# Part 3 Hypothesis Testing (15 marks)"
   ]
  },
  {
   "cell_type": "markdown",
   "metadata": {},
   "source": [
    "## Question 1 (7.5 marks)\n",
    "\n",
    "As a motivation for students to attend the tutorial, Levin is offering a lot of hampers this semester. He has designed a spinning wheel (This is an example https://spinnerwheel.com/) where there are four choices on it: \"Hamper A\", \"Hamper B\", \"Hamper C\", and \"Better Luck Next Time\". These choices are evenly distributed on the wheel. If a student completes the attendance form for one of the tutorials, they will get a chance to spin the wheel. \n",
    "\n",
    "As a hard-working student yourself, you have earned 12 chances at the end of the semester. When you finished your spins, the result showed \\{\"N\", \"A\", \"N\", \"N\", \"B\", \"C\", \"N\", \"N\", \"N\", \"A\", \"A\", \"N\"\\} (\"A\",\"B\" and \"C\" denote three hampers respectively, while \"N\" denotes \"Better Luck Next Time\"). You are shocked by the result and feel the game might be faulty. Before questioning Levin, you would like to perform a hypothesis test to check whether you are really unlucky or has Levin secretly done something that had influenced the probability of winning or not. State your hypothesis, perform the test and interpret the result."
   ]
  },
  {
   "cell_type": "markdown",
   "metadata": {},
   "source": [
    "### ANSWER"
   ]
  },
  {
   "cell_type": "markdown",
   "metadata": {},
   "source": [
    "## Question 2 (7.5 marks)\n",
    "\n",
    "The operation team of a retailer is about to report the performance of year 2022. As the data analyst, your job entails reviewing the reports provided by the team. One of the reports regarding membership subscription looks suspicous to you. In this report, they compared the amount of money spent by the members against the non-members over the year. The methodology is that they randomly selected 20 customers and compared their spending before and after becoming a member. \n",
    "\n",
    "The average spending before becoming a member is $\\$88.5$ per week with a standard deviation of $\\$11.2$. The average after becoming a member is $\\$105$ per week with a standard deviation of $\\$15$. In the report, the retailer claimed that after becoming a member, customers tend to spend $10\\%$ more than before on average.\n",
    "\n",
    "As a statistician, you decide to perform a hypothesis test to verify the veracity of this claim. State your hypothesis, perform\n",
    "the test and interpret the result. Additionally, please suggest another methodology to compare member vs non-member."
   ]
  },
  {
   "cell_type": "markdown",
   "metadata": {},
   "source": [
    "### ANSWER"
   ]
  },
  {
   "cell_type": "markdown",
   "metadata": {},
   "source": [
    "# Part 4 Simulation (25 marks)"
   ]
  },
  {
   "cell_type": "markdown",
   "metadata": {},
   "source": [
    "Suppose you are involved in a scientific research project. Your lab mates are struggling with a sampling problem. They have a probability density function as shown below, but none of them knows how to generate random numbers from this probability distribution. As a member with a background in data science in this lab, you want to help them solve the sampling problem.\n",
    "$$ f(x) = \n",
    "   \\left\\{\n",
    "\\begin{array}{ll}\n",
    "      4x+1 &  -\\frac{1}{4}\\leq x\\lt 0 \\\\\n",
    "      -\\frac{4}{7}x+1 & 0 \\leq x \\lt \\frac{7}{4}\\\\\n",
    "      0 & \\mathrm{otherwise}\n",
    "\\end{array} \n",
    "\\right.\n",
    "$$\n",
    "\n",
    "**(a)** First of all, you want to calculate the cumulative density function $F(x)$ and the quantile function $Q(p)$ for $f(x)$. \n",
    "\n",
    "**(b)** You can get random numbers distributed as per $f(x)$ by generating uniformly distributed numbers $p$ from 0 to 1 and plug them into $Q(p)$. You know computer simulation helps a lot so you want to write a function to generate random numbers distributed as per $f(x)$. You call this function ``samplingHelper`` and it takes a single input **n** to be the number of realizations you want to generate. Besides, you want to use the following function template. The better your function is (errors handling, comments, variable names, etc) the higher the score you will get for this part.\n",
    "\n",
    "```{r}\n",
    "samplingHelper <- function(n) {\n",
    "    # Put down your own code here\n",
    "    \n",
    "    return(numbers) # numbers is an array of random numbers you generated as per f(x)\n",
    "}\n",
    "```\n",
    "\n",
    "**(c)** You want to call ``samplingHelper`` to generate 99,999 random numbers as per $f(x)$ and plot a histogram of the sample with 100 bins as well as overlay a theoretical curve on top of it.\n",
    "\n",
    "**(d)** You know sharing knowledge is a good practise. You want to summarize the key steps of your sampling method. More importantly, you want to justify why this sampling method works. (less than 250 words)\n",
    "\n",
    "**(e)** Your lab mates all appreciate your help and they get stuck on another sampling problem. The probability density function is given below\n",
    "$$\n",
    "f(x) = e^{-x^2\\pi} \\text{ for x } \\in [-\\infty, +\\infty]\n",
    "$$\n",
    "They need your help to generate random numbers as per this distribution. You decide to use the same sampling strategy as you discussed above. Now you want to derive its cumulative density function $F(x)$ and the Quantile function $Q(p)$.\n",
    "\n",
    "**(f)** You want to implement it as another function called ``newSamplingHelper``. It takes a single input **n** to be the number of realizations you want to generate. Besides, you want to use the following function template. The better your function is (errors handling, comments, variable names, etc) the higher the score you will get for this part.\n",
    "\n",
    "```{r}\n",
    "newSamplingHelper <- function(n) {\n",
    "    # Put down your own code here\n",
    "    \n",
    "    return(numbers) # numbers is an array of random numbers you generated as per f(x)\n",
    "}\n",
    "```\n",
    "\n",
    "**(g)** You want to call ``newSamplingHelper`` to generate 99,999 random numbers as per $f(x)$ and plot a histogram of the sample with 100 bins as well as overlay a theoretical curve on top of it. What's your findings by comparing it with Gaussian distribution? (less than 100 words)"
   ]
  },
  {
   "cell_type": "markdown",
   "metadata": {},
   "source": [
    "### ANSWER"
   ]
  }
 ],
 "metadata": {
  "colab": {
   "collapsed_sections": [],
   "name": "FIT5197_A2_Final_Draft_Edited_by_Dan.ipynb",
   "provenance": []
  },
  "kernelspec": {
   "display_name": "R",
   "language": "R",
   "name": "ir"
  },
  "language_info": {
   "codemirror_mode": "r",
   "file_extension": ".r",
   "mimetype": "text/x-r-source",
   "name": "R",
   "pygments_lexer": "r",
   "version": "4.1.3"
  }
 },
 "nbformat": 4,
 "nbformat_minor": 1
}
