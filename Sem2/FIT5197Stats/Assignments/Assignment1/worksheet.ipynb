{
 "cells": [
  {
   "cell_type": "markdown",
   "id": "4c2a6ce6",
   "metadata": {},
   "source": [
    "#### 1. Hypothesis:\n",
    "\n",
    "Null Hypothesis ($H_0$): The spinning wheel is fair, and each outcome (\"Hamper A\", \"Hamper B\", \"Hamper C\", \"Better Luck Next Time\") has a probability of 0.25.  \n",
    "Alternative Hypothesis ($H_1$): The spinning wheel is not fair, and the probabilities of the outcomes are not all equal to 0.25.  \n",
    "\n",
    "#### 2. Hypothesis test:\n",
    "We use a chi-square goodness-of-fit test.\n",
    "\n",
    "Observed Frequencies ($O_i$):\n",
    "- Hamper A: 3\n",
    "- Hamper B: 1\n",
    "- Hamper C: 1\n",
    "- Better Luck Next Time (N): 7\n",
    "\n",
    "Total Number of Spins ($n$): 12\n",
    "Number of Categories ($k$): 4\n",
    "Expected Frequencies ($E_i$) under $H_0$: $E_i = n \\times p_i = 12 \\times 0.25 = 3$ for each category.\n",
    "\n",
    "\n",
    "The chi-square test statistic ($\\chi^2$) is calculated as:\n",
    "$$\\chi^2 = \\sum_{i=1}^{k} \\frac{(O_i - E_i)^2}{E_i}$$\n",
    "\n",
    "Plugging in the values:\n",
    "$$\\chi^2 = \\frac{(3 - 3)^2}{3} + \\frac{(1 - 3)^2}{3} + \\frac{(1 - 3)^2}{3} + \\frac{(7 - 3)^2}{3}$$\n",
    "$$\\chi^2 = \\frac{0}{3} + \\frac{(-2)^2}{3} + \\frac{(-2)^2}{3} + \\frac{(4)^2}{3}$$\n",
    "$$\\chi^2 = 0 + \\frac{4}{3} + \\frac{4}{3} + \\frac{16}{3} = \\frac{24}{3} = 8$$\n",
    "\n",
    "The degrees of freedom are $df = k - 1 = 4 - 1 = 3$. Assuming a significance level ($\\alpha$) of 0.05, the critical value from the chi-square distribution is approximately $\\chi^2_{crit} \\approx 7.815$.\n",
    "\n",
    "#### 3. Interpreting the Result:\n",
    "\n",
    "Since our calculated chi-square statistic ($\\chi^2 = 8$) is greater than the critical value ($\\chi^2_{crit} \\approx 7.815$), we reject the null hypothesis.  \n",
    "There is statistically significant evidence at the 0.05 significance level to suggest that the spinning wheel is not fair. The observed frequencies of the outcomes are significantly different from what would be expected if the wheel were evenly distributed.\n"
   ]
  }
 ],
 "metadata": {
  "language_info": {
   "name": "python"
  }
 },
 "nbformat": 4,
 "nbformat_minor": 5
}
