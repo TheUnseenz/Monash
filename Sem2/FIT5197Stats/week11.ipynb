{
 "cells": [
  {
   "cell_type": "markdown",
   "id": "b3767050",
   "metadata": {},
   "source": [
    "# Week 11 - Classification and Clustering"
   ]
  },
  {
   "cell_type": "markdown",
   "id": "e4b5acaf",
   "metadata": {},
   "source": [
    "## Recap/Precap\n",
    "Sample statistics: use to help us compute parameter estimates of models  \n",
    "Probability: helps formalise the model problem to deal with noisy data  \n",
    "Expectation: defines average values a model takes on.  \n",
    "Distributions: define the random processes in a model.  \n",
    "Inference: helps to estimate parameters of a model.  \n",
    "CLT: implies the variance of our parameter estimates will shrink with more observations.  \n",
    "Confidence Intervals: give bounds on the value of the true parameters of the model.  \n",
    "Hypothesis testing: helps tell us if model components are useful for prediction, and to compare models.  \n",
    "Regression: gives us a model that predicts a continuous variable from continuous and/or categorical variables  \n",
    "\n",
    "But where was the machine learning?  \n",
    "In multiple linear regression we use linear algebra to solve\n",
    "for the parameters instantaneously using a set of\n",
    "simultaneous equations. So you can think of this as\n",
    "instantaneous learning.  \n",
    "In general for an arbitrary method we may have a set of\n",
    "simultaneous equations with no closed form solution\n",
    "(usually when nonlinear functions are involved) and\n",
    "therefore iterative methods are required to obtain the\n",
    "optimal solution for the parameter estimates.  \n",
    "Machine learning is about iterative learning as new data\n",
    "observations arrive. Logistic Regression is an example of\n",
    "such an iterative method.  \n",
    "You can also think of building up probability distributions\n",
    "observation by observation as an iterative method.  "
   ]
  },
  {
   "cell_type": "markdown",
   "id": "f6ab1b5a",
   "metadata": {},
   "source": [
    "# Get GPT Notes"
   ]
  },
  {
   "cell_type": "markdown",
   "id": "c7dbde5d",
   "metadata": {},
   "source": [
    "## Hard and Soft Classifiers\n",
    "A Classifier attempts to predict the value of a categorical variable Y , based on predictors X1, . . . , Xp.  \n",
    "A Hard classifier gives a specific predicted value of Y - it predicts the class of each individual.  \n",
    "A Soft classifier gives a score for each class based on the predictors  \n",
    "▶ A common example is the probability that the individual is in the class given the values of the predictors.  \n",
    "We will look at soft classifiers today.  \n",
    "\n",
    "### Bayes Classifier\n",
    "Uses joint probability  \n",
    "In practice, we don't have the joint probabilities so we estimate them from the data  \n",
    "\n",
    "The Naïve Bayes solves the problem of too many\n",
    "probabilities to estimate by making a very strong\n",
    "assumption\n",
    "Let X1, . . . , Xp be p categorical predictors (features)\n",
    "=⇒ do not have to be binary\n",
    "Use the shorthand notation p(Y =y, X=x) ≡ p(y, x)\n",
    "Naïve Bayes assumes predictors are conditionally\n",
    "independent, given the value of the target\n"
   ]
  },
  {
   "cell_type": "markdown",
   "id": "97a1b845",
   "metadata": {},
   "source": [
    "### Naive Bayes Example\n",
    "Estimate if someone will play tennis given weather, temperature, humidity, wind\n",
    "\n",
    "Total = 14 days  \n",
    "Yes = 9  \n",
    "No = 5  \n",
    "P(Yes) = 9/14  \n",
    "P(No) = 5/14  \n",
    "\n",
    "P(Sunny|Yes) = 2/9  \n",
    "P(Cool|Yes) = 2/9  \n",
    "P(High|Yes) = 3/9  \n",
    "P(Strong|Yes) = 2/9  \n",
    "\n",
    "P(Strong|No) = 3/5  \n",
    "P(Cool|No) = 1/5  \n",
    "P(High|No) = 4/5  \n",
    "P(Strong|No) = 3/5  \n",
    "\n",
    "X = (Sunny, Cool, High, Strong)  \n",
    "P(Yes|X) = P(Yes)*P(X|Yes)/P(X)  \n",
    "P(X) = Sum[P(X|Y)P(Y)] = P(X|Yes)\\*P(Yes) + P(X|No)\\*P(No)  \n",
    "\n",
    "P(Yes|X) = P(Yes)\\*P(Sunny|Yes)\\*P(Cool|Yes)\\*P(High|Yes)\\*P(Strong|Yes) / P(X|Yes)\\*P(Yes)+P(X|No)\\*P(No)\n",
    " = 9/14 . 2/9 . 3/9 . 3/9 . 2/9  /   2/9 . 2/9 . 3/9 . 2/9 . 9/14 . 3/5 . 1/5. 4/5 . 1/5. 5/4\n",
    " = 0.1027\n",
    "\n",
    "P(No|X) = 0.8075\n",
    "\n"
   ]
  },
  {
   "cell_type": "code",
   "execution_count": 22,
   "id": "e2e47ffb",
   "metadata": {
    "vscode": {
     "languageId": "r"
    }
   },
   "outputs": [
    {
     "data": {
      "text/plain": [
       "  Sepal.Length    Sepal.Width     Petal.Length    Petal.Width   \n",
       " Min.   :4.300   Min.   :2.000   Min.   :1.000   Min.   :0.100  \n",
       " 1st Qu.:5.100   1st Qu.:2.800   1st Qu.:1.600   1st Qu.:0.300  \n",
       " Median :5.800   Median :3.000   Median :4.350   Median :1.300  \n",
       " Mean   :5.843   Mean   :3.057   Mean   :3.758   Mean   :1.199  \n",
       " 3rd Qu.:6.400   3rd Qu.:3.300   3rd Qu.:5.100   3rd Qu.:1.800  \n",
       " Max.   :7.900   Max.   :4.400   Max.   :6.900   Max.   :2.500  \n",
       "       Species  \n",
       " setosa    :50  \n",
       " versicolor:50  \n",
       " virginica :50  \n",
       "                \n",
       "                \n",
       "                "
      ]
     },
     "metadata": {},
     "output_type": "display_data"
    },
    {
     "name": "stdout",
     "output_type": "stream",
     "text": [
      "'data.frame':\t150 obs. of  5 variables:\n",
      " $ Sepal.Length: num  5.1 4.9 4.7 4.6 5 5.4 4.6 5 4.4 4.9 ...\n",
      " $ Sepal.Width : num  3.5 3 3.2 3.1 3.6 3.9 3.4 3.4 2.9 3.1 ...\n",
      " $ Petal.Length: num  1.4 1.4 1.3 1.5 1.4 1.7 1.4 1.5 1.4 1.5 ...\n",
      " $ Petal.Width : num  0.2 0.2 0.2 0.2 0.2 0.4 0.3 0.2 0.2 0.1 ...\n",
      " $ Species     : Factor w/ 3 levels \"setosa\",\"versicolor\",..: 1 1 1 1 1 1 1 1 1 1 ...\n"
     ]
    },
    {
     "data": {
      "text/plain": [
       "       \n",
       "        setosa versicolor virginica\n",
       "  FALSE      0         24        43\n",
       "  TRUE      50         26         7"
      ]
     },
     "metadata": {},
     "output_type": "display_data"
    },
    {
     "data": {
      "text/plain": [
       "       \n",
       "        setosa versicolor virginica\n",
       "  FALSE     48         16        29\n",
       "  TRUE       2         34        21"
      ]
     },
     "metadata": {},
     "output_type": "display_data"
    },
    {
     "data": {
      "text/plain": [
       "       \n",
       "        setosa versicolor virginica\n",
       "  FALSE      0          2        44\n",
       "  TRUE      50         48         6"
      ]
     },
     "metadata": {},
     "output_type": "display_data"
    },
    {
     "data": {
      "text/plain": [
       "       \n",
       "        setosa versicolor virginica\n",
       "  FALSE      0          5        47\n",
       "  TRUE      50         45         3"
      ]
     },
     "metadata": {},
     "output_type": "display_data"
    }
   ],
   "source": [
    "data(\"iris\")\n",
    "summary(iris)\n",
    "str(iris)\n",
    "\n",
    "iris$SLC <- iris$Sepal.Length < 6\n",
    "iris$SWC <- iris$Sepal.Width < 3\n",
    "iris$PLC <- iris$Petal.Length < 5\n",
    "iris$PWC <- iris$Petal.Width < 1.6\n",
    "\n",
    "SLC.tab <- table(iris$SLC, iris$Species)\n",
    "SLC.tab\n",
    "SWC.tab <- table(iris$SWC, iris$Species)\n",
    "SWC.tab\n",
    "PLC.tab <- table(iris$PLC, iris$Species)\n",
    "PLC.tab\n",
    "PWC.tab <- table(iris$PWC, iris$Species)\n",
    "PWC.tab\n"
   ]
  },
  {
   "cell_type": "code",
   "execution_count": 26,
   "id": "2fbfe774",
   "metadata": {
    "vscode": {
     "languageId": "r"
    }
   },
   "outputs": [
    {
     "name": "stdout",
     "output_type": "stream",
     "text": [
      "'data.frame':\t150 obs. of  10 variables:\n",
      " $ Sepal.Length: num  5.1 4.9 4.7 4.6 5 5.4 4.6 5 4.4 4.9 ...\n",
      " $ Sepal.Width : num  3.5 3 3.2 3.1 3.6 3.9 3.4 3.4 2.9 3.1 ...\n",
      " $ Petal.Length: num  1.4 1.4 1.3 1.5 1.4 1.7 1.4 1.5 1.4 1.5 ...\n",
      " $ Petal.Width : num  0.2 0.2 0.2 0.2 0.2 0.4 0.3 0.2 0.2 0.1 ...\n",
      " $ Species     : Factor w/ 3 levels \"setosa\",\"versicolor\",..: 1 1 1 1 1 1 1 1 1 1 ...\n",
      " $ SLC         : logi  TRUE TRUE TRUE TRUE TRUE TRUE ...\n",
      " $ SWC         : logi  FALSE FALSE FALSE FALSE FALSE FALSE ...\n",
      " $ PLC         : logi  TRUE TRUE TRUE TRUE TRUE TRUE ...\n",
      " $ PWC         : logi  TRUE TRUE TRUE TRUE TRUE TRUE ...\n",
      " $ setosa      : logi  TRUE TRUE TRUE TRUE TRUE TRUE ...\n"
     ]
    },
    {
     "data": {
      "text/html": [
       "50"
      ],
      "text/latex": [
       "50"
      ],
      "text/markdown": [
       "50"
      ],
      "text/plain": [
       "[1] 50"
      ]
     },
     "metadata": {},
     "output_type": "display_data"
    },
    {
     "data": {
      "text/html": [
       "0.333333333333333"
      ],
      "text/latex": [
       "0.333333333333333"
      ],
      "text/markdown": [
       "0.333333333333333"
      ],
      "text/plain": [
       "[1] 0.3333333"
      ]
     },
     "metadata": {},
     "output_type": "display_data"
    },
    {
     "data": {
      "text/plain": [
       "       \n",
       "        setosa versicolor virginica\n",
       "  FALSE      0         24        43\n",
       "  TRUE      50         26         7"
      ]
     },
     "metadata": {},
     "output_type": "display_data"
    },
    {
     "data": {
      "text/html": [
       "1"
      ],
      "text/latex": [
       "1"
      ],
      "text/markdown": [
       "1"
      ],
      "text/plain": [
       "[1] 1"
      ]
     },
     "metadata": {},
     "output_type": "display_data"
    },
    {
     "data": {
      "text/plain": [
       "       \n",
       "        setosa versicolor virginica\n",
       "  FALSE     48         16        29\n",
       "  TRUE       2         34        21"
      ]
     },
     "metadata": {},
     "output_type": "display_data"
    },
    {
     "data": {
      "text/html": [
       "0.04"
      ],
      "text/latex": [
       "0.04"
      ],
      "text/markdown": [
       "0.04"
      ],
      "text/plain": [
       "[1] 0.04"
      ]
     },
     "metadata": {},
     "output_type": "display_data"
    },
    {
     "data": {
      "text/plain": [
       "       \n",
       "        setosa versicolor virginica\n",
       "  FALSE      0          2        44\n",
       "  TRUE      50         48         6"
      ]
     },
     "metadata": {},
     "output_type": "display_data"
    },
    {
     "data": {
      "text/html": [
       "1"
      ],
      "text/latex": [
       "1"
      ],
      "text/markdown": [
       "1"
      ],
      "text/plain": [
       "[1] 1"
      ]
     },
     "metadata": {},
     "output_type": "display_data"
    },
    {
     "data": {
      "text/plain": [
       "       \n",
       "        setosa versicolor virginica\n",
       "  FALSE      0          5        47\n",
       "  TRUE      50         45         3"
      ]
     },
     "metadata": {},
     "output_type": "display_data"
    },
    {
     "data": {
      "text/html": [
       "1"
      ],
      "text/latex": [
       "1"
      ],
      "text/markdown": [
       "1"
      ],
      "text/plain": [
       "[1] 1"
      ]
     },
     "metadata": {},
     "output_type": "display_data"
    },
    {
     "data": {
      "text/html": [
       "0.146666666666667"
      ],
      "text/latex": [
       "0.146666666666667"
      ],
      "text/markdown": [
       "0.146666666666667"
      ],
      "text/plain": [
       "[1] 0.1466667"
      ]
     },
     "metadata": {},
     "output_type": "display_data"
    },
    {
     "data": {
      "text/html": [
       "0.0909090909090909"
      ],
      "text/latex": [
       "0.0909090909090909"
      ],
      "text/markdown": [
       "0.0909090909090909"
      ],
      "text/plain": [
       "[1] 0.09090909"
      ]
     },
     "metadata": {},
     "output_type": "display_data"
    }
   ],
   "source": [
    "str(iris)\n",
    "iris$setosa <- (iris$Species == 'setosa')\n",
    "sum(iris$setosa)\n",
    "\n",
    "p.set=sum(iris$setosa)/150\n",
    "p.set\n",
    "\n",
    "SLC.tab\n",
    "p.SLC.set<-SLC.tab[2,1]/sum(SLC.tab[ ,1])\n",
    "p.SLC.set\n",
    "\n",
    "SWC.tab\n",
    "p.SWC.set<-SWC.tab[2,1]/sum(SWC.tab[ ,1])\n",
    "p.SWC.set\n",
    "\n",
    "PLC.tab\n",
    "p.PLC.set<-PLC.tab[2,1]/sum(PLC.tab[ ,1])\n",
    "p.PLC.set\n",
    "\n",
    "PWC.tab\n",
    "p.PWC.set<-PWC.tab[2,1]/sum(PWC.tab[ ,1])\n",
    "p.PWC.set\n",
    "\n",
    "p.denominator <- sum(iris$SLC*iris$SWC*iris$PLC*iris$PWC)/150\n",
    "p.denominator\n",
    "\n",
    "p.out.set <- (p.set*p.SLC.set*p.SWC.set*p.PLC.set*p.PWC.set)/p.denominator\n",
    "p.out.set"
   ]
  },
  {
   "cell_type": "code",
   "execution_count": 31,
   "id": "5e81ac8f",
   "metadata": {
    "vscode": {
     "languageId": "r"
    }
   },
   "outputs": [
    {
     "name": "stdout",
     "output_type": "stream",
     "text": [
      "'data.frame':\t668 obs. of  9 variables:\n",
      " $ PREG    : int  6 1 8 1 5 3 10 2 8 4 ...\n",
      " $ PLAS    : int  148 85 183 89 116 78 115 197 125 110 ...\n",
      " $ BP      : num  72 66 64 66 74 50 35.3 70 96 92 ...\n",
      " $ SKIN    : num  35 29 23.3 23 25.6 32 35.3 45 54 37.6 ...\n",
      " $ INS     : int  148 85 183 94 116 88 115 543 125 110 ...\n",
      " $ BMI     : num  33.6 26.6 23.3 28.1 25.6 31 35.3 30.5 54 37.6 ...\n",
      " $ PED     : num  0.627 0.351 0.672 0.167 0.201 0.248 0.134 0.158 0.232 0.191 ...\n",
      " $ AGE     : int  50 31 32 21 30 26 29 53 54 30 ...\n",
      " $ DIABETES: chr  \"Y\" \"N\" \"Y\" \"N\" ...\n",
      "'data.frame':\t668 obs. of  9 variables:\n",
      " $ PREG    : int  6 1 8 1 5 3 10 2 8 4 ...\n",
      " $ PLAS    : int  148 85 183 89 116 78 115 197 125 110 ...\n",
      " $ BP      : num  72 66 64 66 74 50 35.3 70 96 92 ...\n",
      " $ SKIN    : num  35 29 23.3 23 25.6 32 35.3 45 54 37.6 ...\n",
      " $ INS     : int  148 85 183 94 116 88 115 543 125 110 ...\n",
      " $ BMI     : num  33.6 26.6 23.3 28.1 25.6 31 35.3 30.5 54 37.6 ...\n",
      " $ PED     : num  0.627 0.351 0.672 0.167 0.201 0.248 0.134 0.158 0.232 0.191 ...\n",
      " $ AGE     : int  50 31 32 21 30 26 29 53 54 30 ...\n",
      " $ DIABETES: Factor w/ 2 levels \"N\",\"Y\": 2 1 2 1 1 2 1 2 2 1 ...\n"
     ]
    },
    {
     "data": {
      "text/plain": [
       "\n",
       "Call:\n",
       "glm(formula = DIABETES ~ ., family = binomial, data = pimaTrain)\n",
       "\n",
       "Coefficients:\n",
       "              Estimate Std. Error z value Pr(>|z|)    \n",
       "(Intercept) -8.5271236  0.7988517 -10.674  < 2e-16 ***\n",
       "PREG         0.1255938  0.0346542   3.624 0.000290 ***\n",
       "PLAS         0.0353683  0.0043183   8.190  2.6e-16 ***\n",
       "BP          -0.0170075  0.0071017  -2.395 0.016627 *  \n",
       "SKIN         0.0136405  0.0153301   0.890 0.373582    \n",
       "INS          0.0003532  0.0013082   0.270 0.787181    \n",
       "BMI          0.0805829  0.0214811   3.751 0.000176 ***\n",
       "PED          0.8410120  0.3293096   2.554 0.010653 *  \n",
       "AGE          0.0189665  0.0104655   1.812 0.069943 .  \n",
       "---\n",
       "Signif. codes:  0 '***' 0.001 '**' 0.01 '*' 0.05 '.' 0.1 ' ' 1\n",
       "\n",
       "(Dispersion parameter for binomial family taken to be 1)\n",
       "\n",
       "    Null deviance: 868.88  on 667  degrees of freedom\n",
       "Residual deviance: 618.08  on 659  degrees of freedom\n",
       "AIC: 636.08\n",
       "\n",
       "Number of Fisher Scoring iterations: 5\n"
      ]
     },
     "metadata": {},
     "output_type": "display_data"
    },
    {
     "name": "stdout",
     "output_type": "stream",
     "text": [
      "'data.frame':\t100 obs. of  9 variables:\n",
      " $ PREG    : int  2 1 3 8 13 4 7 4 2 1 ...\n",
      " $ PLAS    : int  137 118 126 99 145 103 105 146 100 107 ...\n",
      " $ BP      : num  40 84 88 84 82 60 24 85 66 68 ...\n",
      " $ SKIN    : num  35 47 41 35.4 19 33 24 27 20 19 ...\n",
      " $ INS     : int  168 230 235 99 110 192 105 100 90 107 ...\n",
      " $ BMI     : num  43.1 45.8 39.3 35.4 22.2 24 24 28.9 32.9 26.5 ...\n",
      " $ PED     : num  2.288 0.551 0.704 0.388 0.245 ...\n",
      " $ AGE     : int  33 31 27 50 57 33 24 27 28 24 ...\n",
      " $ DIABETES: chr  \"Y\" \"Y\" \"N\" \"N\" ...\n",
      "'data.frame':\t100 obs. of  9 variables:\n",
      " $ PREG    : int  2 1 3 8 13 4 7 4 2 1 ...\n",
      " $ PLAS    : int  137 118 126 99 145 103 105 146 100 107 ...\n",
      " $ BP      : num  40 84 88 84 82 60 24 85 66 68 ...\n",
      " $ SKIN    : num  35 47 41 35.4 19 33 24 27 20 19 ...\n",
      " $ INS     : int  168 230 235 99 110 192 105 100 90 107 ...\n",
      " $ BMI     : num  43.1 45.8 39.3 35.4 22.2 24 24 28.9 32.9 26.5 ...\n",
      " $ PED     : num  2.288 0.551 0.704 0.388 0.245 ...\n",
      " $ AGE     : int  33 31 27 50 57 33 24 27 28 24 ...\n",
      " $ DIABETES: Factor w/ 2 levels \"N\",\"Y\": 2 2 1 1 1 1 1 1 2 1 ...\n"
     ]
    },
    {
     "ename": "ERROR",
     "evalue": "Error in my.pred.stats(predict(full, pimaTest, type = \"response\"), pimaTest$DIABETES): could not find function \"my.pred.stats\"\n",
     "output_type": "error",
     "traceback": [
      "Error in my.pred.stats(predict(full, pimaTest, type = \"response\"), pimaTest$DIABETES): could not find function \"my.pred.stats\"\nTraceback:\n"
     ]
    }
   ],
   "source": [
    "pimaTrain <- read.csv(\"data/pima_train.csv\")\n",
    "str(pimaTrain)\n",
    "\n",
    "pimaTrain <- read.csv(\"data/pima_train.csv\", stringsAsFactors = T)\n",
    "str(pimaTrain)\n",
    "\n",
    "full <- glm(DIABETES ~ ., pimaTrain, family=binomial)\n",
    "summary(full)\n",
    "\n",
    "pimaTest <- read.csv(\"data/pima_test.csv\")\n",
    "str(pimaTest)\n",
    "\n",
    "pimaTest <- read.csv(\"data/pima_test.csv\", stringsAsFactors = T)\n",
    "str(pimaTest)\n",
    "\n",
    "my.pred.stats(predict(full,pimaTest, type=\"response\"), pimaTest$DIABETES)"
   ]
  }
 ],
 "metadata": {
  "kernelspec": {
   "display_name": "R",
   "language": "R",
   "name": "ir"
  },
  "language_info": {
   "codemirror_mode": "r",
   "file_extension": ".r",
   "mimetype": "text/x-r-source",
   "name": "R",
   "pygments_lexer": "r",
   "version": "4.4.2"
  }
 },
 "nbformat": 4,
 "nbformat_minor": 5
}
