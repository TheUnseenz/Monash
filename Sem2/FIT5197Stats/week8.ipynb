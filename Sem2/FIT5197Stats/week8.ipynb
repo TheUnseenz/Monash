{
 "cells": [
  {
   "cell_type": "markdown",
   "id": "48487e08",
   "metadata": {},
   "source": [
    "# Week 8 - Hypothesis Testing\n",
    "A way to check if results are statistically significant or just random chance.  `"
   ]
  },
  {
   "cell_type": "markdown",
   "id": "1b76db7f",
   "metadata": {},
   "source": [
    "Scenario (Week 6):  \n",
    "You want to track customer average wait time  \n",
    "But, you can't track every customer - too many people  \n",
    "- Take random sample of customers  \n",
    "CLT:  \n",
    "- If you take lots of random samples, the distribution of the sample means will  \n",
    "    look like a bell curve (normal) even if the original data isn't.  \n",
    "\n",
    "Question:  \n",
    "Can we prove our average waiting time is under 5 minutes?  \n"
   ]
  },
  {
   "cell_type": "markdown",
   "id": "8a3aed06",
   "metadata": {},
   "source": [
    "## Learning Outcomes\n",
    "- Demonstrate an understanding of one-sample and two-sample hypothesis testing\n",
    "    for normal random variables, and the difference between one-sided and two sided\n",
    "    testing.\n",
    "- Apply basic hypothesis testing to data."
   ]
  },
  {
   "cell_type": "markdown",
   "id": "e787a990",
   "metadata": {},
   "source": [
    "We ask if there is evidence against a null hypothesis  \n",
    "$$H_0 : Null hypothesis$$  \n",
    "$$vs   $$\n",
    "$$H_A Alternative hypothesis$$  \n",
    "\n",
    "Null hypothesis is always default position  \n",
    "“is there sufficient evidence in the data to dismiss the  \n",
    "hypothesis that μ is equal to some fixed value μ0?”  \n",
    "\n",
    "- We use the Neyman-Pearson framework to answer questions like this  \n",
    "- We are interested in the evidence against the null hypothesis\n",
    "    contained in our data  \n",
    "- To do this, we ask: “How likely would it be to see our data\n",
    "    sample y by chance if the null hypothesis were true?”  \n",
    "- So key ideas  \n",
    "    - We assume null hypothesis is true;  \n",
    "    - We calculate the probability of observing our sample by chance\n",
    "    if it were true.  \n",
    "- The smaller this probability, the stronger the evidence against\n",
    "    our null being true since our data is the realisation of true\n",
    "    events and our assumption is just our assumption  \n"
   ]
  },
  {
   "cell_type": "markdown",
   "id": "b97cfcfc",
   "metadata": {},
   "source": [
    "1. Calculate the μ  \n",
    "= $\\frac{1}{n} \\sum_{i=0}^{n}{y_i}$  \n",
    "\n",
    "2. Calculate the z-score  \n",
    "$Z_n = \\frac{\\hat\\mu - \\mu}{\\sigma/\\sqrt{n}}$  \n",
    "Zi ~ N(0, 1)  \n",
    "\n",
    "3. Two-sided:  \n",
    "P = 1 - P(-|Zi| < Z < |Zi|>)  \n",
    "= 2P(Z < -|Zi|)  \n",
    "\n",
    "4. We can informally grade the p-value: for\n",
    "- p > 0.05 we have weak/no evidence against the null;\n",
    "- 0.01 < p < 0.05 we have moderate evidence against the null;\n",
    "- p < 0.01 we have strong evidence against the null.\n",
    "This correlates to <5%, 1-5%, <1% chance that it would've happened if the null hypothesis were true, thus being unlikely enough that it was just chance.\n",
    "\n",
    "1. $H_o: \\mu <= \\mu_0$ vs $H_a:\\mu > \\mu_0$  "
   ]
  },
  {
   "cell_type": "markdown",
   "id": "35a9d523",
   "metadata": {},
   "source": [
    "### Testing $\\mu$ with unknown variance\n",
    "We estimate the variance using the unbiased estimator (usually better than MLE)  \n",
    "We then use t-test instead of z-test to incorporate uncertainties of not knowing the population $\\theta$"
   ]
  },
  {
   "cell_type": "markdown",
   "id": "baa45bbb",
   "metadata": {},
   "source": [
    "### Discussion Questions\n",
    "1. A small micro-loan bank has 500 loan customers. If the total annual loan repayments\n",
    "    made by an individual is a random variable with fixed but unknown mean 𝜇 and\n",
    "    standard deviation $900, approximate the 95% confidence interval for the\n",
    "    population mean 𝜇 given the sample mean is $755.  \n",
    "\n",
    "$\\hat\\mu - 1.96 \\frac{\\sigma}{\\sqrt{n}}, \\hat\\mu + 1.96 \\frac{\\sigma}{\\sqrt{n}} $  \n",
    "= 755 - 1.96($\\frac{900}{\\sqrt(500)}$), 755 + 1.96($\\frac{900}{\\sqrt(500)}$)  \n",
    "= 670.11, 833.89  \n"
   ]
  },
  {
   "cell_type": "markdown",
   "id": "8a64db64",
   "metadata": {},
   "source": [
    "\n",
    "2. Imagine we have measured BMI on a sample of women aged 20-34 from the Pima ethnic group\n",
    "    who do not have diabetes and a sample of BMI measurements from Pima ethnic women aged\n",
    "    20-34 who do have diabetes. Let us assume that the population standard deviations of BMI for\n",
    "    Pima ethnic people with and without diabetes have been estimated from another, larger study,\n",
    "    and are known to be 𝜎𝑛 = 6.79 and 𝜎𝑑 = 6.69 for non-diabetics and diabetics, respectively.\n",
    "    The two samples are:  \n",
    "    𝒚𝑛 =(46.8,27.8,32.5,39.5,32.8,31.0,26.2,20.8)  \n",
    "    𝒚𝑑 =(33.6,23.3,43.1,31.0,30.5,38.0,30.1,25.8)  \n",
    "    Researchers want to know if there is a difference, at the population level, in BMIs between\n",
    "    Pima ethnic women aged 20-34 with and without diabetes, i.e., we want to test:  \n",
    "    𝐻0: 𝜇𝑛 = 𝜇𝑑  \n",
    "    vs  \n",
    "    𝐻𝐴: 𝜇𝑛 ≠ 𝜇𝑑  \n",
    "    What would be the p-value and our conclusion assuming a significance level of 0.05?  \n",
    "\n",
    "𝜎𝑛 = 6.79 and 𝜎𝑑 = 6.69 -> known variances  "
   ]
  },
  {
   "cell_type": "code",
   "execution_count": 3,
   "id": "827e5c72",
   "metadata": {
    "vscode": {
     "languageId": "r"
    }
   },
   "outputs": [
    {
     "name": "stdout",
     "output_type": "stream",
     "text": [
      "[1] 32.175\n",
      "[1] 31.925\n",
      "[1] 0.07418194\n"
     ]
    }
   ],
   "source": [
    "# Sample means for yn and yd:\n",
    "yn_values <- c(46.8, 27.8, 32.5, 39.5, 32.8, 31.0, 26.2, 20.8)\n",
    "yd_values <- c(33.6, 23.3, 43.1, 31.0, 30.5, 38.0, 30.1, 25.8)\n",
    "\n",
    "yn_mean <- mean(yn_values)\n",
    "yd_mean <- mean(yd_values)\n",
    "\n",
    "print(yn_mean)\n",
    "print(yd_mean)\n",
    "\n",
    "# Z(μn - μd) = (μn - μd) / sqrt((σn^2 + σd^2)/n)\n",
    "Zscore <- (yn_mean - yd_mean) / sqrt((6.79^2 + 6.69^2) / 8)\n",
    "print(Zscore)\n"
   ]
  },
  {
   "cell_type": "code",
   "execution_count": null,
   "id": "2ac39ea9",
   "metadata": {
    "vscode": {
     "languageId": "r"
    }
   },
   "outputs": [],
   "source": [
    "# 3. Question 2, but we don't have the population variances. Use the approximate method for testing differences of means\n",
    "#    We now need to estimate population variance using unbiased estimates of variance from our samples\n",
    "yn_values <- c(46.8, 27.8, 32.5, 39.5, 32.8, 31.0, 26.2, 20.8)\n",
    "yd_values <- c(33.6, 23.3, 43.1, 31.0, 30.5, 38.0, 30.1, 25.8)\n",
    "yn_mean <- mean(yn_values)\n",
    "yd_mean <- mean(yd_values)\n",
    "# T_score <- (32.175-31.925)/sqrt(Sp2())\n"
   ]
  },
  {
   "cell_type": "markdown",
   "id": "cea29d44",
   "metadata": {},
   "source": [
    "# Tutorial"
   ]
  },
  {
   "cell_type": "markdown",
   "id": "fe1fcc6f",
   "metadata": {},
   "source": [
    "2.1 Increase the variance?  \n",
    "For a given sample with sample mean ˆμ, what happens to the z-score if the population variance increases?  \n",
    "Moreover, what happens to the p-value if the population variance increases? How can you interpret this?  \n",
    "    If population variance increases, the Z-score would also increase, and thus the p-value would decrease  \n",
    "    This is because we are less certain that our observations weren't due to random chance.  \n",
    "\n",
    "2.2 What is a p-value?  \n",
    "Imagine we observed some data y, and test H0 : μ = μ0 vs HA : μ̸ = μ0 using the above procedure. We find\n",
    "that the p-value is 0.9. What does a “p-value of 0.9’ ’ mean?  \n",
    "    p-value of 0.9 means there was a 90% chance that our observation was just random chance. It's likely to occur, so we cannot reject the null hypothesis.\n",
    "\n",
    "2.3 Interpret the p-value  \n",
    "Does p-value of 0.9 prove that the population mean μ = μ0? If not, what does this p-value suggest?  \n",
    "    It doesn't prove it, but it suggests it is. By default, we assume the null hypothesis and that complies with null.\n",
    "\n",
    "2.4 The t.test() command  \n",
    "Of course, it is generally not possible to know what the population variance is, so this assumption is usually\n",
    "unrealistic. Instead, it is common to use the data itself to estimate the variance using the unbiased estimate\n",
    "of variance, which means that our test statistic becomes a t-score (see Lecture 5, Slides 34–35).  \n",
    "t.test() computes t-test p-values.  \n",
    "\n",
    "2.5 Using the data bpdata.csv, a person is at risk if their systolic blood pressure is 120-139 mmHg, and has high bp\n",
    "if their bp is more than 139 mmHg. Using t.test(), if the mean is at 120, then this group is an at-risk population.  \n",
    "\n",
    "2.6 One sided test  \n",
    "If we can believe that the blood pressure in this population should only be lower than 120, we can use\n",
    "one-sided t-test. (Note that one-sided hypothesis testing may be of interest when it is reasonable to assume\n",
    "the parameter can take on values only on one side of the null value, as might be the case if it can be assumed\n",
    "that the factor under study can only have either no effect or a positive effect on the outcome of interest.\n",
    "However, this assumption is often difficult to justify, and for this reason two-sided hypotheses are more\n",
    "common in practice.)  "
   ]
  },
  {
   "cell_type": "code",
   "execution_count": 22,
   "id": "305f2b98",
   "metadata": {
    "vscode": {
     "languageId": "r"
    }
   },
   "outputs": [
    {
     "data": {
      "text/plain": [
       "\n",
       "\tOne Sample t-test\n",
       "\n",
       "data:  bp$BP\n",
       "t = -2.0123, df = 19, p-value = 0.05858\n",
       "alternative hypothesis: true mean is not equal to 120\n",
       "95 percent confidence interval:\n",
       " 113.0636 120.1364\n",
       "sample estimates:\n",
       "mean of x \n",
       "    116.6 \n"
      ]
     },
     "metadata": {},
     "output_type": "display_data"
    },
    {
     "data": {
      "text/plain": [
       "\n",
       "\tOne Sample t-test\n",
       "\n",
       "data:  bp$BP\n",
       "t = -2.0123, df = 19, p-value = 0.02929\n",
       "alternative hypothesis: true mean is less than 120\n",
       "95 percent confidence interval:\n",
       "     -Inf 119.5215\n",
       "sample estimates:\n",
       "mean of x \n",
       "    116.6 \n"
      ]
     },
     "metadata": {},
     "output_type": "display_data"
    }
   ],
   "source": [
    "bp <- read.csv(\"data/bpdata.csv\")\n",
    "t.test(x = bp$BP, mu = 120)\n",
    "t.test(x = bp$BP, mu = 120, alternative = \"less\")"
   ]
  },
  {
   "cell_type": "code",
   "execution_count": null,
   "id": "cf76bcdc",
   "metadata": {
    "vscode": {
     "languageId": "r"
    }
   },
   "outputs": [],
   "source": []
  }
 ],
 "metadata": {
  "kernelspec": {
   "display_name": "R",
   "language": "R",
   "name": "ir"
  },
  "language_info": {
   "codemirror_mode": "r",
   "file_extension": ".r",
   "mimetype": "text/x-r-source",
   "name": "R",
   "pygments_lexer": "r",
   "version": "4.4.2"
  }
 },
 "nbformat": 4,
 "nbformat_minor": 5
}
