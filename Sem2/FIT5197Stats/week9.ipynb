{
 "cells": [
  {
   "cell_type": "markdown",
   "id": "7f7d21f6",
   "metadata": {},
   "source": [
    "# Week 9 - Machine Learning and Regression"
   ]
  },
  {
   "cell_type": "markdown",
   "id": "4e035731",
   "metadata": {},
   "source": [
    "Supervised learning  \n",
    "- observations with labels  \n",
    "    - Regression  \n",
    "        - Numerical variable  \n",
    "    - Classification  \n",
    "        - Categorical variable  \n",
    "\n",
    "Unsupervised learning  \n",
    "- observations without labels  \n",
    "    - Clustering  \n",
    "    "
   ]
  },
  {
   "cell_type": "markdown",
   "id": "500907f7",
   "metadata": {},
   "source": [
    "Least Squares Fitting  \n",
    "$$\n",
    "RSS (\\beta_0, \\beta_1) = argmin \\sum_{i=1}^{n} (y_i - \\beta_0 - \\beta_1x_i)^2\n",
    "$$\n",
    "$$\n",
    "\\frac{d RSS (\\beta_0, \\beta_1)}{d\\beta0} = \\sum_{i=1}^{n} \\frac{d (y_i - \\beta_0 - \\beta_1x_i)^2}{d\\beta0}\n",
    "$$\n",
    "$$\n",
    "2\\sum_{i=1}^{n}\n",
    "$$"
   ]
  },
  {
   "cell_type": "code",
   "execution_count": null,
   "id": "8bfc4ee3",
   "metadata": {
    "vscode": {
     "languageId": "r"
    }
   },
   "outputs": [
    {
     "data": {
      "text/plain": [
       "\n",
       "Call:\n",
       "lm(formula = y ~ X, data = df)\n",
       "\n",
       "Coefficients:\n",
       "(Intercept)            X  \n",
       "    -0.1883       1.1035  \n"
      ]
     },
     "metadata": {},
     "output_type": "display_data"
    },
    {
     "data": {
      "text/plain": [
       "\n",
       "Call:\n",
       "lm(formula = y ~ X, data = df)\n",
       "\n",
       "Residuals:\n",
       "    Min      1Q  Median      3Q     Max \n",
       "-4.6791 -0.9811  0.3578  1.6008  2.0306 \n",
       "\n",
       "Coefficients:\n",
       "            Estimate Std. Error t value Pr(>|t|)   \n",
       "(Intercept)  -0.1883     1.5123  -0.125  0.90397   \n",
       "X             1.1035     0.2437   4.528  0.00193 **\n",
       "---\n",
       "Signif. codes:  0 '***' 0.001 '**' 0.01 '*' 0.05 '.' 0.1 ' ' 1\n",
       "\n",
       "Residual standard error: 2.214 on 8 degrees of freedom\n",
       "Multiple R-squared:  0.7193,\tAdjusted R-squared:  0.6842 \n",
       "F-statistic:  20.5 on 1 and 8 DF,  p-value: 0.00193\n"
      ]
     },
     "metadata": {},
     "output_type": "display_data"
    },
    {
     "data": {
      "text/plain": [
       "\n",
       "Call:\n",
       "lm(formula = y ~ X, data = df, subset = 1:9)\n",
       "\n",
       "Residuals:\n",
       "    Min      1Q  Median      3Q     Max \n",
       "-0.9506 -0.4855 -0.2701  0.3570  1.8275 \n",
       "\n",
       "Coefficients:\n",
       "            Estimate Std. Error t value Pr(>|t|)    \n",
       "(Intercept)  -1.6180     0.6588  -2.456   0.0437 *  \n",
       "X             1.4934     0.1171  12.756 4.22e-06 ***\n",
       "---\n",
       "Signif. codes:  0 '***' 0.001 '**' 0.01 '*' 0.05 '.' 0.1 ' ' 1\n",
       "\n",
       "Residual standard error: 0.9069 on 7 degrees of freedom\n",
       "Multiple R-squared:  0.9588,\tAdjusted R-squared:  0.9529 \n",
       "F-statistic: 162.7 on 1 and 7 DF,  p-value: 4.215e-06\n"
      ]
     },
     "metadata": {},
     "output_type": "display_data"
    },
    {
     "data": {
      "image/png": "[encoded data removed]",
      "text/plain": [
       "plot without title"
      ]
     },
     "metadata": {
      "image/png": {
       "height": 420,
       "width": 420
      }
     },
     "output_type": "display_data"
    }
   ],
   "source": [
    "# Tutorial\n",
    "library(ggplot2)\n",
    "df <- read.csv(\"data/toydata.csv\")\n",
    "ggplot(data = df, aes(x = X, y = y)) +\n",
    "    geom_point()\n",
    "\n",
    "lm (y ~X, data = df)\n",
    "fit <- lm(y ~ X, data=df)\n",
    "summary(fit)\n",
    "\n",
    "yhat = fit$coefficients[[1]] + fit$coefficients[[2]]*df$X\n",
    "yhat_pred = predict(fit, df)\n",
    "\n",
    "# Outliers skew the data significantly, because least-squares fit\n",
    "# overcompensates for outliers\n",
    "fit2 <- lm(y ~ X, data=df, subset=1:9)\n",
    "summary(fit2)\n"
   ]
  }
 ],
 "metadata": {
  "kernelspec": {
   "display_name": "R",
   "language": "R",
   "name": "ir"
  },
  "language_info": {
   "codemirror_mode": "r",
   "file_extension": ".r",
   "mimetype": "text/x-r-source",
   "name": "R",
   "pygments_lexer": "r",
   "version": "4.4.2"
  }
 },
 "nbformat": 4,
 "nbformat_minor": 5
}
