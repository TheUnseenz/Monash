{
 "cells": [
  {
   "cell_type": "markdown",
   "id": "b3767050",
   "metadata": {},
   "source": [
    "# Week 10 - Regression and Modelling in R"
   ]
  },
  {
   "cell_type": "markdown",
   "id": "b35ca390",
   "metadata": {},
   "source": [
    "## Recap/Precap  \n",
    "Sample statistics: use to help us compute parameter estimates of models  \n",
    "Probability: helps formalise the model problem to deal with noisy data  \n",
    "Expectation: defines average values a model takes on.  \n",
    "Distributions: define the random processes in a model.  \n",
    "Inference: helps to estimate parameters of a model.  \n",
    "CLT: implies the variance of our parameter estimates will shrink with more observations.  \n",
    "Confidence Intervals: give bounds on the value of the true parameters of the model.  \n",
    "Hypothesis testing: helps tell us if model components are useful for prediction, and to compare models.  \n",
    "Regression: Predict a continuous target variable conditional on other continuous and categorical variables.  "
   ]
  },
  {
   "cell_type": "markdown",
   "id": "52fca972",
   "metadata": {},
   "source": [
    "## Underfitting/Overfitting\n",
    "We often have many measured predictors  \n",
    "- In our blood pressure example, we have weight, body surface area, age, pulse rate and a measure of stress  \n",
    "- Which ones to include?  \n",
    "- The R2 always improves as we include more predictors  \n",
    "    - so model always fits the data we have better  \n",
    "- But prediction on new, unseen data might be worse  \n",
    "- We call this generalisation  \n",
    "\n",
    "Omitting important predictors:  \n",
    "- Underfitting\n",
    "    - Leads to systematic error, bias in predicting the target\n",
    "    - High bias\n",
    "\n",
    "Including spurious predictors:\n",
    "- Overfitting\n",
    "    - Model learns noise and random variation\n",
    "    - Poorer ability to predict new, unseen data\n",
    "    - High variance\n",
    "\n",
    "## Model Selection\n",
    "Estimate the associated linear regression coefficients using least-squares/maximum likelihood\n",
    "Select a model by minimising an information criterion:\n",
    "$L(y | ˆβ, ˆσ^2_ML, M) + α(n, kM)$\n",
    "\n",
    "This is a form of penalized likelihood estimation:\n",
    "- A model is penalized by its complexity (ability to fit data)\n",
    "\n",
    "Akaike Information Criterion (AIC)  \n",
    "α(n, kM) = kM  \n",
    "Bayesian Information Criterion (BIC)  \n",
    "α(n, kM) = kM/2 log n\n",
    "- AIC penalty smaller than BIC; increased chance of overfitting\n",
    "- BIC penalty bigger than AIC; increased chance of underfitting\n",
    "- Differences in scores of ≥ 3 or more are considered significant\n",
    "- both AIC() and BIC() supported in R\n",
    "\n",
    "Selection method:  \n",
    "- Naive forward  \n",
    "- Naive backward  \n",
    "- Stepwise\n",
    "\n",
    "## Cross Validation  \n",
    "Split datset into training and test datasets at random  \n",
    "Evaluate error on each split\n",
    "K-fold cross validation - partition data into K equal sized, disjoint subsets"
   ]
  },
  {
   "cell_type": "code",
   "execution_count": 12,
   "id": "32ddb23b",
   "metadata": {
    "vscode": {
     "languageId": "r"
    }
   },
   "outputs": [
    {
     "data": {
      "text/plain": [
       "\n",
       "Call:\n",
       "lm(formula = quality ~ ., data = wine)\n",
       "\n",
       "Residuals:\n",
       "     Min       1Q   Median       3Q      Max \n",
       "-2.02506 -0.44003  0.00278  0.43634  2.15036 \n",
       "\n",
       "Coefficients:\n",
       "                       Estimate Std. Error t value Pr(>|t|)  \n",
       "(Intercept)           1.904e+02  1.377e+02   1.383   0.1701  \n",
       "fixed.acidity         1.413e-01  1.555e-01   0.909   0.3660  \n",
       "volatile.acidity     -1.328e+00  7.564e-01  -1.755   0.0827 .\n",
       "citric.acid          -6.764e-01  7.878e-01  -0.859   0.3929  \n",
       "residual.sugar        1.074e-01  5.455e-02   1.969   0.0521 .\n",
       "chlorides            -3.548e+00  8.601e+00  -0.413   0.6809  \n",
       "free.sulfur.dioxide   1.115e-02  6.364e-03   1.753   0.0831 .\n",
       "total.sulfur.dioxide  6.880e-05  2.734e-03   0.025   0.9800  \n",
       "density              -1.903e+02  1.399e+02  -1.360   0.1771  \n",
       "pH                    3.495e-01  7.024e-01   0.498   0.6201  \n",
       "sulphates             2.389e-02  6.855e-01   0.035   0.9723  \n",
       "alcohol               2.099e-01  1.658e-01   1.266   0.2089  \n",
       "---\n",
       "Signif. codes:  0 '***' 0.001 '**' 0.01 '*' 0.05 '.' 0.1 ' ' 1\n",
       "\n",
       "Residual standard error: 0.7192 on 88 degrees of freedom\n",
       "Multiple R-squared:  0.4007,\tAdjusted R-squared:  0.3258 \n",
       "F-statistic: 5.349 on 11 and 88 DF,  p-value: 1.954e-06\n"
      ]
     },
     "metadata": {},
     "output_type": "display_data"
    }
   ],
   "source": [
    "rm(list = ls())\n",
    "wine <- read.csv(\"data/wine_train.csv\")\n",
    "\n",
    "# summary(wine)\n",
    "# str(wine)\n",
    "# head(wine)\n",
    "\n",
    "fit <- lm(quality ~ 1, wine)\n",
    "# summary(fit)\n",
    "\n",
    "wine_full <- lm(quality ~ ., wine)\n",
    "summary(wine_full)\n"
   ]
  },
  {
   "cell_type": "code",
   "execution_count": 20,
   "id": "02d268d9",
   "metadata": {
    "vscode": {
     "languageId": "r"
    }
   },
   "outputs": [
    {
     "data": {
      "text/plain": [
       "Subset selection object\n",
       "Call: regsubsets.formula(quality ~ ., wine, nvmax = ncol(wine), method = \"exhaustive\")\n",
       "11 Variables  (and intercept)\n",
       "                     Forced in Forced out\n",
       "fixed.acidity            FALSE      FALSE\n",
       "volatile.acidity         FALSE      FALSE\n",
       "citric.acid              FALSE      FALSE\n",
       "residual.sugar           FALSE      FALSE\n",
       "chlorides                FALSE      FALSE\n",
       "free.sulfur.dioxide      FALSE      FALSE\n",
       "total.sulfur.dioxide     FALSE      FALSE\n",
       "density                  FALSE      FALSE\n",
       "pH                       FALSE      FALSE\n",
       "sulphates                FALSE      FALSE\n",
       "alcohol                  FALSE      FALSE\n",
       "1 subsets of each size up to 11\n",
       "Selection Algorithm: exhaustive\n",
       "          fixed.acidity volatile.acidity citric.acid residual.sugar chlorides\n",
       "1  ( 1 )  \" \"           \" \"              \" \"         \" \"            \" \"      \n",
       "2  ( 1 )  \" \"           \" \"              \" \"         \" \"            \" \"      \n",
       "3  ( 1 )  \" \"           \" \"              \" \"         \"*\"            \" \"      \n",
       "4  ( 1 )  \" \"           \"*\"              \" \"         \"*\"            \" \"      \n",
       "5  ( 1 )  \" \"           \"*\"              \" \"         \"*\"            \" \"      \n",
       "6  ( 1 )  \" \"           \"*\"              \"*\"         \"*\"            \" \"      \n",
       "7  ( 1 )  \"*\"           \"*\"              \"*\"         \"*\"            \" \"      \n",
       "8  ( 1 )  \"*\"           \"*\"              \"*\"         \"*\"            \" \"      \n",
       "9  ( 1 )  \"*\"           \"*\"              \"*\"         \"*\"            \"*\"      \n",
       "10  ( 1 ) \"*\"           \"*\"              \"*\"         \"*\"            \"*\"      \n",
       "11  ( 1 ) \"*\"           \"*\"              \"*\"         \"*\"            \"*\"      \n",
       "          free.sulfur.dioxide total.sulfur.dioxide density pH  sulphates\n",
       "1  ( 1 )  \" \"                 \" \"                  \" \"     \" \" \" \"      \n",
       "2  ( 1 )  \"*\"                 \" \"                  \" \"     \" \" \" \"      \n",
       "3  ( 1 )  \"*\"                 \" \"                  \" \"     \" \" \" \"      \n",
       "4  ( 1 )  \"*\"                 \" \"                  \" \"     \" \" \" \"      \n",
       "5  ( 1 )  \"*\"                 \" \"                  \"*\"     \" \" \" \"      \n",
       "6  ( 1 )  \"*\"                 \" \"                  \"*\"     \" \" \" \"      \n",
       "7  ( 1 )  \"*\"                 \" \"                  \"*\"     \" \" \" \"      \n",
       "8  ( 1 )  \"*\"                 \" \"                  \"*\"     \"*\" \" \"      \n",
       "9  ( 1 )  \"*\"                 \" \"                  \"*\"     \"*\" \" \"      \n",
       "10  ( 1 ) \"*\"                 \" \"                  \"*\"     \"*\" \"*\"      \n",
       "11  ( 1 ) \"*\"                 \"*\"                  \"*\"     \"*\" \"*\"      \n",
       "          alcohol\n",
       "1  ( 1 )  \"*\"    \n",
       "2  ( 1 )  \"*\"    \n",
       "3  ( 1 )  \"*\"    \n",
       "4  ( 1 )  \"*\"    \n",
       "5  ( 1 )  \"*\"    \n",
       "6  ( 1 )  \"*\"    \n",
       "7  ( 1 )  \"*\"    \n",
       "8  ( 1 )  \"*\"    \n",
       "9  ( 1 )  \"*\"    \n",
       "10  ( 1 ) \"*\"    \n",
       "11  ( 1 ) \"*\"    "
      ]
     },
     "metadata": {},
     "output_type": "display_data"
    },
    {
     "data": {
      "text/html": [
       "3"
      ],
      "text/latex": [
       "3"
      ],
      "text/markdown": [
       "3"
      ],
      "text/plain": [
       "[1] 3"
      ]
     },
     "metadata": {},
     "output_type": "display_data"
    },
    {
     "data": {
      "image/png": "[encoded data removed]",
      "text/plain": [
       "plot without title"
      ]
     },
     "metadata": {
      "image/png": {
       "height": 420,
       "width": 420
      }
     },
     "output_type": "display_data"
    },
    {
     "data": {
      "text/html": [
       "5"
      ],
      "text/latex": [
       "5"
      ],
      "text/markdown": [
       "5"
      ],
      "text/plain": [
       "[1] 5"
      ]
     },
     "metadata": {},
     "output_type": "display_data"
    },
    {
     "data": {
      "image/png": "[encoded data removed]",
      "text/plain": [
       "plot without title"
      ]
     },
     "metadata": {
      "image/png": {
       "height": 420,
       "width": 420
      }
     },
     "output_type": "display_data"
    }
   ],
   "source": [
    "library(leaps)\n",
    "# help(regsubsets)\n",
    "\n",
    "regfit.winefull <- regsubsets(quality ~ ., wine, nvmax=ncol(wine), method='exhaustive')\n",
    "reg.summary <- summary(regfit.winefull)\n",
    "reg.summary\n",
    "\n",
    "# BIC\n",
    "plot(reg.summary$bic, xlab = 'number of variables', ylab = 'BIC', type = 'l')\n",
    "minbic <- which.min(reg.summary$bic)\n",
    "points(minbic, reg.summary$bic[minbic], col='red', cex = 2, pch = 20)\n",
    "minbic\n",
    "\n",
    "# AIC\n",
    "n <- nrow(wine)\n",
    "aic_values <- numeric(11)\n",
    "for (i in 1:11){\n",
    "    rss <- reg.summary$rss[i]\n",
    "    k <- i + 1\n",
    "    aic_values[i] <- n * log(rss / n) + 2 * k\n",
    "}\n",
    "\n",
    "plot(1:11, aic_values, xlab = 'number of variables', ylab = 'AIC', type = 'l')\n",
    "minaic <- which.min(aic_values)\n",
    "points(minaic, aic_values[minaic], col = 'red', cex = 2, pch = 20)\n",
    "minaic"
   ]
  },
  {
   "cell_type": "code",
   "execution_count": 21,
   "id": "db891a8e",
   "metadata": {
    "vscode": {
     "languageId": "r"
    }
   },
   "outputs": [
    {
     "name": "stdout",
     "output_type": "stream",
     "text": [
      "Start:  AIC=-54.7\n",
      "quality ~ fixed.acidity + volatile.acidity + citric.acid + residual.sugar + \n",
      "    chlorides + free.sulfur.dioxide + total.sulfur.dioxide + \n",
      "    density + pH + sulphates + alcohol\n",
      "\n",
      "                       Df Sum of Sq    RSS     AIC\n",
      "- total.sulfur.dioxide  1   0.00033 45.523 -56.695\n",
      "- sulphates             1   0.00063 45.523 -56.695\n",
      "- chlorides             1   0.08804 45.611 -56.503\n",
      "- pH                    1   0.12805 45.651 -56.415\n",
      "- citric.acid           1   0.38138 45.904 -55.862\n",
      "- fixed.acidity         1   0.42716 45.950 -55.762\n",
      "- alcohol               1   0.82908 46.352 -54.891\n",
      "<none>                              45.523 -54.696\n",
      "- density               1   0.95750 46.480 -54.615\n",
      "- free.sulfur.dioxide   1   1.58899 47.112 -53.265\n",
      "- volatile.acidity      1   1.59394 47.117 -53.255\n",
      "- residual.sugar        1   2.00481 47.527 -52.386\n",
      "\n",
      "Step:  AIC=-56.7\n",
      "quality ~ fixed.acidity + volatile.acidity + citric.acid + residual.sugar + \n",
      "    chlorides + free.sulfur.dioxide + density + pH + sulphates + \n",
      "    alcohol\n",
      "\n",
      "                      Df Sum of Sq    RSS     AIC\n",
      "- sulphates            1   0.00074 45.524 -58.694\n",
      "- chlorides            1   0.08795 45.611 -58.502\n",
      "- pH                   1   0.12802 45.651 -58.414\n",
      "- citric.acid          1   0.38120 45.904 -57.861\n",
      "- fixed.acidity        1   0.42874 45.952 -57.758\n",
      "- alcohol              1   0.83283 46.356 -56.882\n",
      "<none>                             45.523 -56.695\n",
      "- density              1   0.99804 46.521 -56.527\n",
      "- volatile.acidity     1   1.65589 47.179 -55.122\n",
      "- residual.sugar       1   2.06143 47.584 -54.267\n",
      "- free.sulfur.dioxide  1   2.49669 48.020 -53.356\n",
      "\n",
      "Step:  AIC=-58.69\n",
      "quality ~ fixed.acidity + volatile.acidity + citric.acid + residual.sugar + \n",
      "    chlorides + free.sulfur.dioxide + density + pH + alcohol\n",
      "\n",
      "                      Df Sum of Sq    RSS     AIC\n",
      "- chlorides            1   0.08812 45.612 -60.500\n",
      "- pH                   1   0.12900 45.653 -60.411\n",
      "- citric.acid          1   0.38169 45.905 -59.859\n",
      "- fixed.acidity        1   0.45513 45.979 -59.699\n",
      "<none>                             45.524 -58.694\n",
      "- alcohol              1   0.97145 46.495 -58.582\n",
      "- density              1   1.13795 46.662 -58.225\n",
      "- volatile.acidity     1   1.68321 47.207 -57.063\n",
      "- residual.sugar       1   2.34576 47.869 -55.669\n",
      "- free.sulfur.dioxide  1   2.58130 48.105 -55.178\n",
      "\n",
      "Step:  AIC=-60.5\n",
      "quality ~ fixed.acidity + volatile.acidity + citric.acid + residual.sugar + \n",
      "    free.sulfur.dioxide + density + pH + alcohol\n",
      "\n",
      "                      Df Sum of Sq    RSS     AIC\n",
      "- pH                   1   0.15635 45.768 -62.158\n",
      "- citric.acid          1   0.43517 46.047 -61.551\n",
      "- fixed.acidity        1   0.52139 46.133 -61.364\n",
      "<none>                             45.612 -60.500\n",
      "- alcohol              1   1.08278 46.695 -60.154\n",
      "- density              1   1.31914 46.931 -59.649\n",
      "- volatile.acidity     1   1.71817 47.330 -58.803\n",
      "- free.sulfur.dioxide  1   2.68682 48.299 -56.777\n",
      "- residual.sugar       1   2.76616 48.378 -56.613\n",
      "\n",
      "Step:  AIC=-62.16\n",
      "quality ~ fixed.acidity + volatile.acidity + citric.acid + residual.sugar + \n",
      "    free.sulfur.dioxide + density + alcohol\n",
      "\n",
      "                      Df Sum of Sq    RSS     AIC\n",
      "- fixed.acidity        1    0.3660 46.134 -63.362\n",
      "- citric.acid          1    0.4770 46.245 -63.121\n",
      "<none>                             45.768 -62.158\n",
      "- density              1    1.4646 47.233 -61.008\n",
      "- volatile.acidity     1    1.7562 47.524 -60.393\n",
      "- alcohol              1    2.2506 48.019 -59.358\n",
      "- free.sulfur.dioxide  1    2.6428 48.411 -58.544\n",
      "- residual.sugar       1    4.0548 49.823 -55.669\n",
      "\n",
      "Step:  AIC=-63.36\n",
      "quality ~ volatile.acidity + citric.acid + residual.sugar + free.sulfur.dioxide + \n",
      "    density + alcohol\n",
      "\n",
      "                      Df Sum of Sq    RSS     AIC\n",
      "- citric.acid          1    0.2465 46.381 -64.829\n",
      "<none>                             46.134 -63.362\n",
      "- density              1    1.0991 47.233 -63.007\n",
      "- volatile.acidity     1    1.8938 48.028 -61.339\n",
      "- free.sulfur.dioxide  1    2.4936 48.628 -60.097\n",
      "- residual.sugar       1    3.7093 49.843 -57.628\n",
      "- alcohol              1    3.7459 49.880 -57.555\n",
      "\n",
      "Step:  AIC=-64.83\n",
      "quality ~ volatile.acidity + residual.sugar + free.sulfur.dioxide + \n",
      "    density + alcohol\n",
      "\n",
      "                      Df Sum of Sq    RSS     AIC\n",
      "<none>                             46.381 -64.829\n",
      "- density              1    1.3987 47.779 -63.857\n",
      "- volatile.acidity     1    1.7859 48.167 -63.050\n",
      "- free.sulfur.dioxide  1    2.7928 49.174 -60.982\n",
      "- alcohol              1    3.5207 49.901 -59.512\n",
      "- residual.sugar       1    4.1631 50.544 -58.233\n"
     ]
    },
    {
     "data": {
      "text/plain": [
       "\n",
       "Call:\n",
       "lm(formula = quality ~ volatile.acidity + residual.sugar + free.sulfur.dioxide + \n",
       "    density + alcohol, data = wine)\n",
       "\n",
       "Residuals:\n",
       "     Min       1Q   Median       3Q      Max \n",
       "-1.99401 -0.47107 -0.02954  0.42458  2.20723 \n",
       "\n",
       "Coefficients:\n",
       "                      Estimate Std. Error t value Pr(>|t|)   \n",
       "(Intercept)          1.276e+02  7.533e+01   1.693  0.09369 . \n",
       "volatile.acidity    -1.348e+00  7.083e-01  -1.902  0.06017 . \n",
       "residual.sugar       8.572e-02  2.951e-02   2.905  0.00458 **\n",
       "free.sulfur.dioxide  1.151e-02  4.837e-03   2.379  0.01938 * \n",
       "density             -1.261e+02  7.490e+01  -1.684  0.09556 . \n",
       "alcohol              2.985e-01  1.118e-01   2.671  0.00891 **\n",
       "---\n",
       "Signif. codes:  0 '***' 0.001 '**' 0.01 '*' 0.05 '.' 0.1 ' ' 1\n",
       "\n",
       "Residual standard error: 0.7024 on 94 degrees of freedom\n",
       "Multiple R-squared:  0.3894,\tAdjusted R-squared:  0.3569 \n",
       "F-statistic: 11.99 on 5 and 94 DF,  p-value: 5.478e-09\n"
      ]
     },
     "metadata": {},
     "output_type": "display_data"
    }
   ],
   "source": [
    "#STEPWISE\n",
    "back.fit <- step(wine_full, trace = 1, k = 2, direction = \"backward\")\n",
    "summary(back.fit)\n",
    "\n"
   ]
  }
 ],
 "metadata": {
  "kernelspec": {
   "display_name": "R",
   "language": "R",
   "name": "ir"
  },
  "language_info": {
   "codemirror_mode": "r",
   "file_extension": ".r",
   "mimetype": "text/x-r-source",
   "name": "R",
   "pygments_lexer": "r",
   "version": "4.4.2"
  }
 },
 "nbformat": 4,
 "nbformat_minor": 5
}
