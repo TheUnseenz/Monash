{
 "cells": [
  {
   "cell_type": "markdown",
   "metadata": {},
   "source": [
    "### Week 5 - Statistical Interference"
   ]
  },
  {
   "cell_type": "markdown",
   "metadata": {},
   "source": [
    "Sum Square Error  \n",
    "To estimate mean, compute derivative of $\\sum_{i=1}^{n}(y_i - μ)^2 $  \n",
    "Calculate that to equal 0 (turning point aka min)  \n",
    "This equates to 1/n $\\sum_{i=1}^{n} y_i$ which is just the sample mean  \n",
    "\n",
    "\n",
    "Maximum likelihood estimation  \n",
    "$ p(y | θ) =  \\prod_{i=1}^{n}p(y_i | θ)$  \n",
    "this is each item multiplied by each other  \n",
    "\n",
    "As this function is normally small, and for easier calculation,\n",
    "we usually take the logarithm of the function to more easily compute the derivative  \n",
    "(this uses the properties of ln(a*b) = ln(a)+ln(b), ln(1/a) = -ln (a) and ln (a^b) = b ln (a))  \n",
    "(don't forget exponent rule: e^a*e^b = e^(a+b))\n",
    "\n",
    "(alternatives: Maximum a Posteriori (MAP), Bayesian Estimate, out of scope)"
   ]
  },
  {
   "cell_type": "markdown",
   "metadata": {},
   "source": [
    "MLE will be in assignment (not mid-term)\n",
    "Mid term will be week 1-4"
   ]
  },
  {
   "cell_type": "markdown",
   "metadata": {},
   "source": []
  }
 ],
 "metadata": {
  "kernelspec": {
   "display_name": "Python 3",
   "language": "python",
   "name": "python3"
  },
  "language_info": {
   "codemirror_mode": {
    "name": "ipython",
    "version": 3
   },
   "file_extension": ".py",
   "mimetype": "text/x-python",
   "name": "python",
   "nbconvert_exporter": "python",
   "pygments_lexer": "ipython3",
   "version": "3.13.1"
  }
 },
 "nbformat": 4,
 "nbformat_minor": 2
}
