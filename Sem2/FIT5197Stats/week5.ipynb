{
 "cells": [
  {
   "cell_type": "markdown",
   "metadata": {},
   "source": [
    "### Week 5 - Statistical Interference"
   ]
  },
  {
   "cell_type": "markdown",
   "metadata": {},
   "source": [
    "Sum Square Error  \n",
    "To estimate mean, compute derivative of $\\sum_{i=1}^{n}(y_i - μ)^2 $  \n",
    "Calculate that to equal 0 (turning point aka min)  \n",
    "This equates to 1/n $\\sum_{i=1}^{n} y_i$ which is just the sample mean  \n",
    "\n",
    "\n",
    "Maximum likelihood estimation  \n",
    "$ p(y | θ) =  \\prod_{i=1}^{n}p(y_i | θ)$  \n",
    "this is each item multiplied by each other  \n",
    "\n",
    "As this function is normally small, and for easier calculation,\n",
    "we usually take the logarithm of the function to more easily compute the derivative  \n",
    "(this uses the properties of ln(a*b) = ln(a)+ln(b), ln(1/a) = -ln (a) and ln (a^b) = b ln (a))  \n",
    "(don't forget exponent rule: e^a*e^b = e^(a+b))\n",
    "\n",
    "(alternatives: Maximum a Posteriori (MAP), Bayesian Estimate, out of scope)"
   ]
  },
  {
   "cell_type": "markdown",
   "metadata": {},
   "source": [
    "MLE will be in assignment (not mid-term)\n",
    "Mid term will be week 1-4"
   ]
  },
  {
   "cell_type": "markdown",
   "metadata": {},
   "source": [
    "### Tutorial\n"
   ]
  },
  {
   "cell_type": "markdown",
   "metadata": {},
   "source": [
    "#### 2. ML estimator of the Bernouli Distribution\n",
    "In the bernouli distribution  \n",
    "$p(y|θ) = θ^y(1-θ)^{1-y}$  \n"
   ]
  },
  {
   "cell_type": "markdown",
   "metadata": {},
   "source": [
    "2.1 Likelihood  \n",
    "What is :  \n",
    "$p(y|θ) = \\prod_{i=1}^{n} p(y_i|θ)$\n",
    "equal to?  \n",
    "\n",
    "$p(y|θ) = p(y_1|θ) . p(y_2|θ) ... p(y_n|θ) $  \n",
    "        = $θ^{y1}(1-θ)^{1-y_1} . θ^{y2}(1-θ)^{1-y_2} ... θ^{yn}(1-θ)^{1-y_n} $   \n",
    "        = $θ^{\\sum_{y1}^{yn} y_i} (1-θ)^{\\sum_{y1}^{yn} 1-y_i}$  \n",
    "  \n",
    "\n",
    "Let $\\sum_{y1}^{yn} y_i $ = m  \n",
    "    $p(y|θ) = θ^m(1-θ)^{n-m}$  \n",
    "\n"
   ]
  },
  {
   "cell_type": "markdown",
   "metadata": {},
   "source": [
    "  \n",
    "2.2 Negative log-likelihood  \n",
    "$p(y|θ) = θ^m(1-θ)^{n-m}$  \n",
    "$L(y|θ) = -log[p(y|θ)]$  \n",
    "        = $ - log θ^m + (- log (1-θ)^{n-m})$  \n",
    "        = $ -m log θ - (n-m) log (1-θ) $  \n"
   ]
  },
  {
   "cell_type": "markdown",
   "metadata": {},
   "source": [
    "\n",
    "2.3 Find the MLE  \n",
    "$\\frac{d[L(y|θ)]}{dθ}$  \n",
    "    = $-m/θ - (n-m) ((\\frac{1}{1-θ}) . (-1))$  \n",
    "    = -m/θ + (n-m)/(1-θ)  \n",
    "\n",
    "Let $\\frac{d[L(y|θ)]}{dθ} = 0$  \n",
    "-m/θ + (n-m)/(1-θ) = 0  \n",
    "$\\frac{-m(1-θ) + (n-m)θ}{(1-θ)θ} = 0$  \n",
    "-m + mθ + nθ - mθ = 0  \n",
    "-m + nθ = 0  \n",
    "θ = m/n -> MLE estimator of parameter θ  \n",
    "where n is number of trials and m is number of successes  \n",
    "this requires n to be large enough  "
   ]
  },
  {
   "cell_type": "markdown",
   "metadata": {},
   "source": [
    "#### 3. Hitchhiker's estimator\n",
    "Hitchhiker's estimator always says the answer is 42, no matter what  "
   ]
  },
  {
   "cell_type": "markdown",
   "metadata": {},
   "source": [
    "3.1 Quality of the hitchhiker's estimator  \n",
    "Bias = Expected value of parameter - parameter  \n",
    "1. Bias of hitchhiker's estimator:  \n",
    "$B_μ(μ) = E[μ(Y)] - μ  \n",
    "        = 42 - μ  \n",
    "\n",
    "2. Variance of hitchhiker's estimator:  \n",
    "    = 0 \n",
    "\n",
    "3. Squared-error of hitchhiker's estimator:  \n",
    "MSE = E[(μ(y) - μ)^2]   \n",
    "    = (42 - μ)^2  "
   ]
  },
  {
   "cell_type": "markdown",
   "metadata": {},
   "source": [
    "3.3 When does the hitchhiker's estimator work well? \n",
    "When is it better than the sample mean?  \n",
    "$(42 - μ)^2 = σ^2/n$  \n",
    "$42 - μ = \\sqrt{\\frac{σ^2}{n}}$  \n",
    "$42 - μ = -\\frac{σ}{\\sqrt{n}}$      |      $42 - μ = \\frac{σ}{\\sqrt{n}}$  \n",
    "$μ_2 = 42 + \\frac{σ}{\\sqrt{n}}$      |       $μ_1 = 42 - \\frac{σ}{\\sqrt{n}}$  "
   ]
  }
 ],
 "metadata": {
  "kernelspec": {
   "display_name": "Python 3",
   "language": "python",
   "name": "python3"
  },
  "language_info": {
   "codemirror_mode": {
    "name": "ipython",
    "version": 3
   },
   "file_extension": ".py",
   "mimetype": "text/x-python",
   "name": "python",
   "nbconvert_exporter": "python",
   "pygments_lexer": "ipython3",
   "version": "3.13.1"
  }
 },
 "nbformat": 4,
 "nbformat_minor": 2
}
