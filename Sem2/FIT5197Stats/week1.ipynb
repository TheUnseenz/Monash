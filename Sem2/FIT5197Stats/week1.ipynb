{
 "cells": [
  {
   "cell_type": "markdown",
   "metadata": {},
   "source": [
    "### FIT5197 Stats Notes\n",
    "\n"
   ]
  },
  {
   "cell_type": "markdown",
   "metadata": {},
   "source": [
    "#### Workshop\n"
   ]
  },
  {
   "cell_type": "markdown",
   "metadata": {},
   "source": [
    "The k-th percentile (P_k) is calculated as:\n",
    "\n",
    "$$ P_k = x_p + \\frac{q}{100} (x_{p+1} - x_p) $$\n",
    "\n",
    "where\n",
    "\n",
    "$$ p = \\left\\lfloor \\frac{k(n+1)}{100} \\right\\rfloor \\text{ and } q = (k(n+1)) \\% 100 $$\n",
    "\n",
    "$ \\text{and} \\left\\lfloor x \\right\\rfloor \\text{is a floor operator,} \\left\\lceil x \\right\\rceil \\text{is a ceiling operator} $\n",
    "\n",
    "The sample variance is given by:\n",
    "\n",
    "$$ \\text{var}(x) = s_x^2 = \\frac{1}{n-1} \\sum_{i=1}^{n} (x_i - \\bar{x})^2 $$\n",
    "\n",
    "Sample standard deviation Sx:\n",
    "\n",
    "$$ S_x = \\sqrt{var(x)} $$\n",
    "\n",
    "The range is calculated as:\n",
    "\n",
    "$$ \\text{Range} = \\max_{i=1}^{n} x_i - \\min_{i=1}^{n} x_i $$\n",
    "\n",
    "Inter-quartile range, \n",
    "$$\\text{IQR} = Q_3 - Q_1 $$\n",
    "\n",
    "Variance = precision  \n",
    "Bias = offset/accuracy  \n",
    "<br>\n",
    "The sample covariance q_{xy} is given by:\n",
    "\n",
    "$$ q_{xy} = \\frac{1}{n-1} \\sum_{i=1}^{n} (x_i - \\bar{x}) (y_i - \\bar{y}) $$\n",
    "\n",
    "Covariance measures the joint variability of two random variables, or the extent to which changes in one variable are associated with changes\n",
    "in another variable.  \n",
    "Magnitude of covariance isn't enough as it depends on scales of variables, so divide it by standard deviations to normalize:\n",
    "\n",
    "The sample correlation coefficient r_{xy} is given by:\n",
    "\n",
    "$$ r_{xy} = \\frac{q_{xy}}{s_x s_y} = \\frac{\\sum_{i=1}^{n} (x_i - \\bar{x}) (y_i - \\bar{y})}{\\sqrt{\\sum_{i=1}^{n} (x_i - \\bar{x})^2 \\sum_{i=1}^{n} (y_i - \\bar{y})^2}} $$\n"
   ]
  },
  {
   "cell_type": "code",
   "execution_count": null,
   "metadata": {
    "vscode": {
     "languageId": "r"
    }
   },
   "outputs": [],
   "source": [
    "# Example:\n",
    "x <- c(9.2, 14.1, 9.8, 12.4, 16.0, 12.6, 22.7, 18.9, 21.0, 14.5, 20.4, 16.9)\n",
    "sum_x <- sum(x)\n",
    "mean_x <- sum_x / length(x)\n",
    "print(mean_x)\n",
    "\n",
    "variance_x <- sum(((x - mean_x)^2)) / (length(x) - 1)\n",
    "std_dev_x <- sqrt(variance_x)\n",
    "print(std_dev_x)"
   ]
  },
  {
   "cell_type": "markdown",
   "metadata": {},
   "source": [
    "#### Tutorial"
   ]
  },
  {
   "cell_type": "code",
   "execution_count": null,
   "metadata": {
    "vscode": {
     "languageId": "r"
    }
   },
   "outputs": [],
   "source": [
    "chol_bmieg <- read.csv(\"data/chol_bmieg.csv\")\n",
    "View(chol_bmieg)"
   ]
  },
  {
   "cell_type": "code",
   "execution_count": 15,
   "metadata": {
    "vscode": {
     "languageId": "r"
    }
   },
   "outputs": [
    {
     "name": "stdout",
     "output_type": "stream",
     "text": [
      "'data.frame':\t239 obs. of  9 variables:\n",
      " $ proxyid: int  1 5 6 7 8 10 11 13 14 15 ...\n",
      " $ Sex    : chr  \"male\" \"male\" \"male\" \"male\" ...\n",
      " $ age    : int  29 25 28 55 50 59 51 52 28 57 ...\n",
      " $ hgt    : int  171 171 175 184 185 180 186 163 177 165 ...\n",
      " $ wgt    : int  64 85 73 79 118 84 80 55 69 94 ...\n",
      " $ bmi    : num  21.9 29.1 23.8 23.3 34.5 ...\n",
      " $ bmi_WHO: chr  \"< 25 normal\" \"25-29 overwgt\" \"< 25 normal\" \"< 25 normal\" ...\n",
      " $ smoke  : chr  \"curr >20\" \"non-smoker\" \"non-smoker\" \"ex-smoker\" ...\n",
      " $ totchol: num  3.1 7.4 3.7 4.8 8.7 ...\n"
     ]
    }
   ],
   "source": [
    "str(chol_bmieg)"
   ]
  },
  {
   "cell_type": "code",
   "execution_count": null,
   "metadata": {
    "vscode": {
     "languageId": "r"
    }
   },
   "outputs": [
    {
     "name": "stdout",
     "output_type": "stream",
     "text": [
      "'data.frame':\t239 obs. of  3 variables:\n",
      " $ age: int  29 25 28 55 50 59 51 52 28 57 ...\n",
      " $ hgt: int  171 171 175 184 185 180 186 163 177 165 ...\n",
      " $ wgt: int  64 85 73 79 118 84 80 55 69 94 ...\n"
     ]
    }
   ],
   "source": [
    "str(chol_bmieg[, c(\"age\", \"hgt\", \"wgt\")])\n"
   ]
  },
  {
   "cell_type": "code",
   "execution_count": null,
   "metadata": {
    "vscode": {
     "languageId": "r"
    }
   },
   "outputs": [
    {
     "data": {
      "text/html": [
       "<style>\n",
       ".list-inline {list-style: none; margin:0; padding: 0}\n",
       ".list-inline>li {display: inline-block}\n",
       ".list-inline>li:not(:last-child)::after {content: \"\\00b7\"; padding: 0 .5ex}\n",
       "</style>\n",
       "<ol class=list-inline><li>'proxyid'</li><li>'Sex'</li><li>'age'</li><li>'hgt'</li><li>'wgt'</li><li>'bmi'</li><li>'bmi_WHO'</li><li>'smoke'</li><li>'totchol'</li></ol>\n"
      ],
      "text/latex": [
       "\\begin{enumerate*}\n",
       "\\item 'proxyid'\n",
       "\\item 'Sex'\n",
       "\\item 'age'\n",
       "\\item 'hgt'\n",
       "\\item 'wgt'\n",
       "\\item 'bmi'\n",
       "\\item 'bmi\\_WHO'\n",
       "\\item 'smoke'\n",
       "\\item 'totchol'\n",
       "\\end{enumerate*}\n"
      ],
      "text/markdown": [
       "1. 'proxyid'\n",
       "2. 'Sex'\n",
       "3. 'age'\n",
       "4. 'hgt'\n",
       "5. 'wgt'\n",
       "6. 'bmi'\n",
       "7. 'bmi_WHO'\n",
       "8. 'smoke'\n",
       "9. 'totchol'\n",
       "\n",
       "\n"
      ],
      "text/plain": [
       "[1] \"proxyid\" \"Sex\"     \"age\"     \"hgt\"     \"wgt\"     \"bmi\"     \"bmi_WHO\"\n",
       "[8] \"smoke\"   \"totchol\""
      ]
     },
     "metadata": {},
     "output_type": "display_data"
    },
    {
     "data": {
      "text/html": [
       "<style>\n",
       ".list-inline {list-style: none; margin:0; padding: 0}\n",
       ".list-inline>li {display: inline-block}\n",
       ".list-inline>li:not(:last-child)::after {content: \"\\00b7\"; padding: 0 .5ex}\n",
       "</style>\n",
       "<ol class=list-inline><li>'proxyid'</li><li>'Sex'</li><li>'Age'</li><li>'hgt'</li><li>'wgt'</li><li>'bmi'</li><li>'bmi_WHO'</li><li>'smoke'</li><li>'totchol'</li></ol>\n"
      ],
      "text/latex": [
       "\\begin{enumerate*}\n",
       "\\item 'proxyid'\n",
       "\\item 'Sex'\n",
       "\\item 'Age'\n",
       "\\item 'hgt'\n",
       "\\item 'wgt'\n",
       "\\item 'bmi'\n",
       "\\item 'bmi\\_WHO'\n",
       "\\item 'smoke'\n",
       "\\item 'totchol'\n",
       "\\end{enumerate*}\n"
      ],
      "text/markdown": [
       "1. 'proxyid'\n",
       "2. 'Sex'\n",
       "3. 'Age'\n",
       "4. 'hgt'\n",
       "5. 'wgt'\n",
       "6. 'bmi'\n",
       "7. 'bmi_WHO'\n",
       "8. 'smoke'\n",
       "9. 'totchol'\n",
       "\n",
       "\n"
      ],
      "text/plain": [
       "[1] \"proxyid\" \"Sex\"     \"Age\"     \"hgt\"     \"wgt\"     \"bmi\"     \"bmi_WHO\"\n",
       "[8] \"smoke\"   \"totchol\""
      ]
     },
     "metadata": {},
     "output_type": "display_data"
    },
    {
     "data": {
      "text/plain": [
       "      Age             hgt             wgt        \n",
       " Min.   :18.00   Min.   :156.0   Min.   : 52.00  \n",
       " 1st Qu.:28.00   1st Qu.:171.0   1st Qu.: 73.00  \n",
       " Median :49.00   Median :176.0   Median : 80.00  \n",
       " Mean   :43.27   Mean   :175.7   Mean   : 80.41  \n",
       " 3rd Qu.:56.00   3rd Qu.:180.0   3rd Qu.: 87.00  \n",
       " Max.   :69.00   Max.   :194.0   Max.   :118.00  "
      ]
     },
     "metadata": {},
     "output_type": "display_data"
    },
    {
     "data": {
      "text/plain": [
       "      Age             hgt             wgt        \n",
       " Min.   :18.00   Min.   :148.0   Min.   : 42.00  \n",
       " 1st Qu.:25.25   1st Qu.:158.0   1st Qu.: 56.00  \n",
       " Median :46.50   Median :162.0   Median : 62.00  \n",
       " Mean   :40.61   Mean   :162.7   Mean   : 64.06  \n",
       " 3rd Qu.:54.00   3rd Qu.:167.0   3rd Qu.: 69.00  \n",
       " Max.   :67.00   Max.   :177.0   Max.   :116.00  "
      ]
     },
     "metadata": {},
     "output_type": "display_data"
    }
   ],
   "source": [
    "\n",
    "names(chol_bmieg)\n",
    "names(chol_bmieg)[3] <- \"Age\"\n",
    "names(chol_bmieg)\n",
    "summary(chol_bmieg[chol_bmieg$Sex == \"male\", c(\"Age\", \"hgt\", \"wgt\")])\n",
    "summary(chol_bmieg[chol_bmieg$Sex == \"female\", c(\"Age\", \"hgt\", \"wgt\")])"
   ]
  }
 ],
 "metadata": {
  "kernelspec": {
   "display_name": "R",
   "language": "R",
   "name": "ir"
  },
  "language_info": {
   "codemirror_mode": "r",
   "file_extension": ".r",
   "mimetype": "text/x-r-source",
   "name": "R",
   "pygments_lexer": "r",
   "version": "4.4.2"
  }
 },
 "nbformat": 4,
 "nbformat_minor": 2
}
