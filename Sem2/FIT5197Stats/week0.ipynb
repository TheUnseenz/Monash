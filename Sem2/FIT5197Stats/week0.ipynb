{
 "cells": [
  {
   "cell_type": "markdown",
   "metadata": {},
   "source": [
    "### FIT5197 Stats Notes\n",
    "\n"
   ]
  },
  {
   "cell_type": "markdown",
   "metadata": {},
   "source": [
    "#### R Crash Course"
   ]
  },
  {
   "cell_type": "code",
   "execution_count": null,
   "metadata": {
    "vscode": {
     "languageId": "r"
    }
   },
   "outputs": [],
   "source": [
    "# R1\n",
    "x <- 5\n",
    "x # implicit printing or auto-printing\n",
    "\n",
    "# Exponentiation could be done in two ways\n",
    "2**3\n",
    "2^3\n",
    "\n",
    "# integer division. This is different from 3/5.\n",
    "3 %/% 5\n",
    "\n",
    "# modulus or remainder\n",
    "5 %% 3\n"
   ]
  },
  {
   "cell_type": "code",
   "execution_count": null,
   "metadata": {
    "vscode": {
     "languageId": "r"
    }
   },
   "outputs": [],
   "source": [
    "# R2\n",
    "# Vectors are created by c() function (concatenation). items must be of same class\n",
    "v1 <- c(5, 7, 9) # a vector called v1 is created.\n",
    "\n",
    "v2 <- 3:35 # a sequence of consecutive integers are put in v2. The sequence starts from 3 and goes to 35\n",
    "v5 <- seq(2, 8) # another way of making a vector of consecutive numbers. Same as 2:8\n",
    "\n",
    "# Adding an element to the end of a list\n",
    "v <- c(1, 2, 3)\n",
    "v <- c(v, 100) # 100 is added to the end of a vector\n",
    "\n",
    "round(seq(1, 3, length = 10), 2) # linspace\n",
    "seq(from = 2, by = -0.1, length.out = 4) # Truncate length\n",
    "rep(1:5, 3) # Repeat sequence\n",
    "y <- x[-length(x)] # always delets the final element\n",
    "\n",
    "# Lists are vectors but can have different class items\n",
    "L1 <- list(5, \"a\", 2)\n",
    "\n",
    "# Factors are categorical vectors\n",
    "x <- factor(c(\"male\", \"fmale\", \"male\", \"male\", \"fmale\", \"male\"))\n",
    "levels(x) # alphabetical order, dict keys\n",
    "unclass(x) # one-hot encoding\n",
    "table(x) # gives frequency count\n",
    "summary(x) # also frequency count\n",
    "\n",
    "# modify labels\n",
    "# factor is as an integer vector where each integer has a label\n",
    "rd <- factor(d, labels = c(\"A\", \"B\", \"C\")) \n",
    "print(rd)\n",
    "\n",
    "# factors can be ordered for equality operators\n",
    "x1o <- ordered(x1, levels = c(\"low\", \"medium\", \"high\"))\n",
    "print(x1o)\n",
    "min(x1o) ## works!\n",
    "\n",
    "# Missing values\n",
    "x1 <- c(4, 2.5, 3, NA, 1)\n",
    "summary(x1) # Works with NA\n",
    "mean(x1) # Doesn't work\n",
    "mean(x1, na.rm = TRUE)\n",
    "\n",
    "# Ignore missing values with na.rm = T\n",
    "mean(x1, na.rm = T)\n",
    "\n",
    "# Replace missing values with 0 (or other number)\n",
    "# In data wrangling you will learn a lot about this.\n",
    "x2 <- x1\n",
    "x2[is.na(x2)] <- 0\n",
    "\n",
    "# Subsetting\n",
    "x[1] # extracts the first item. it's a vector\n",
    "x[2:5] # extracts a sequence. it's a vector\n",
    "\n",
    "#Vector operations work"
   ]
  },
  {
   "cell_type": "code",
   "execution_count": null,
   "metadata": {
    "vscode": {
     "languageId": "r"
    }
   },
   "outputs": [],
   "source": [
    "# R3\n",
    "# Matrices are n-d vectors (must be same data type)\n",
    "m <- matrix(c(1, 3, 6, 2, 8, 4), nrow = 2, ncol = 3) # built column-wise\n",
    "print(m)\n",
    "\n",
    "# two other methods to create matrices\n",
    "# column/row-binding, fill matrices in by row/column\n",
    "x <- c(1, 11, 111)\n",
    "y <- c(2, 22, 222)\n",
    "m1 <- cbind(x, y) # column-binding\n",
    "print(m1)\n",
    "print(\"****\")\n",
    "m2 <- rbind(x, y) # row-binding\n",
    "print(m2)\n",
    "\n",
    "# Data frames: n-d lists (can have different data types)\n",
    "# to create a dataframe\n",
    "x <- c(1, 2, 3)\n",
    "y <- c(\"a\", \"b\", \"c\")\n",
    "z <- c(TRUE, TRUE, FALSE)\n",
    "df <- data.frame(x, y, z)\n",
    "print(df)\n",
    "\n",
    "# Names: can assign names to vectors/lists/dataframes/matrices\n",
    "x <- c(3, 5, 7)\n",
    "names(x) <- c(\"low\", \"med\", \"high\")\n",
    "print(x) # now x has names\n",
    "names(x) <- NULL # remove names from x\n",
    "\n",
    "y <- list(low = 3, med = 5, high = 7) # create with names\n",
    "# Access list elements by their name\n",
    "y$low\n",
    "\n",
    "# Matrix names\n",
    "m <- matrix(1:6, nrow = 3, ncol = 2)\n",
    "dimnames(m) <- list(c(\"a\", \"b\", \"c\"), c(\"d\", \"e\"))\n",
    "# alternatively\n",
    "colnames(m) <- c(\"male\", \"fmale\")\n",
    "rownames(m) <- c(\"ice-cream\", \"coffee\", \"cake\")\n",
    "print(m)\n",
    "\n",
    "# for dataframes:\n",
    "row.names(df) <- c(\"f1\", \"f2\", \"f3\")\n",
    "colnames(df) <- c(\"rank\", \"character\", \"value\")\n",
    "print(df)\n"
   ]
  }
 ],
 "metadata": {
  "kernelspec": {
   "display_name": "R",
   "language": "R",
   "name": "ir"
  },
  "language_info": {
   "codemirror_mode": "r",
   "file_extension": ".r",
   "mimetype": "text/x-r-source",
   "name": "R",
   "pygments_lexer": "r",
   "version": "4.4.2"
  }
 },
 "nbformat": 4,
 "nbformat_minor": 2
}
