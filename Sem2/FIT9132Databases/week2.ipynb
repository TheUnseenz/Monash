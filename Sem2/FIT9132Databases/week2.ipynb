{
 "cells": [
  {
   "cell_type": "markdown",
   "metadata": {},
   "source": [
    "## Week 2 - Entity Relationship Design"
   ]
  },
  {
   "cell_type": "markdown",
   "metadata": {},
   "source": [
    "### Conceptual Design  \n",
    "▪ Develop the enterprise data model.  \n",
    "▪ Independent of all physical implementation considerations (the\n",
    "type of database to be used).  \n",
    "▪ In development try to minimise redundancy within provided\n",
    "scenario however must not add anything outside scenario  \n",
    "▪ Various design methodologies may be employed such as UML,\n",
    "ER (Entity-Relationship) Modelling and Semantic Modelling.  \n",
    "▪ ER consists of ENTITIES and RELATIONSHIPS between entities  \n",
    "–An ENTITY will have attributes (things we wish to record), one\n",
    "or more of which will identify an entity instance (called the KEY)  \n",
    "  \n",
    "Important rule for Conceptual Modelling  \n",
    "▪ All that is described in the brief has been included and all that has\n",
    "been included was described in the brief  \n",
    "– Every entity, attribute and relationship described in the brief has been\n",
    "included, and  \n",
    "– Must not add entities, attributes and relationships which are not\n",
    "included as part of the brief, and  \n",
    "▪ In a real life scenario if there are concerns about features of the brief,\n",
    "discuss with client  \n",
    "\n"
   ]
  },
  {
   "cell_type": "markdown",
   "metadata": {},
   "source": [
    "### Connectivity\n",
    "| = One\n",
    "<> = Many\n",
    "O = Zero\n",
    "O| = Zero or one\n",
    "\n",
    "E.g.  \n",
    "One to one:\n",
    "A |----| B\n",
    "\n",
    "One to many:\n",
    "A |---<- B\n",
    "\n",
    "Many to many:\n",
    "A ->--<- B\n"
   ]
  },
  {
   "cell_type": "markdown",
   "metadata": {},
   "source": [
    "\n",
    "### Identifying vs Non-Identifying Relationship  \n",
    "#### Identifying\n",
    "▪ Identifier of A is part of identifier of B.  \n",
    "▪ Shown with solid line  \n",
    "▪ ENROLMENT - STUDENT  \n",
    "Enrolment key includes student id, which is an identifier of student.  \n",
    "\n",
    "#### Non-identifying\n",
    "▪ Identifier of A is NOT part of identifier of B.  \n",
    "▪ Shown with broken line  \n",
    "▪ Department no (identifier of department) is not part of Employee’s identifier.  \n",
    "  \n",
    "Primary key(PK) - Unique identifier for record in a table  \n",
    "- Is unique  \n",
    "- Is non-nullable  \n",
    "- Immutable  \n",
    "- Can be single or composite  \n",
    "A conceptual model NEVER has a primary key"
   ]
  },
  {
   "cell_type": "markdown",
   "metadata": {},
   "source": [
    "### Weak vs Strong Entity  \n",
    "▪ Strong entity  \n",
    "– Has a key which may be defined without reference to other entities.  \n",
    "– For example EMPLOYEE entity.  \n",
    "▪ Weak entity  \n",
    "– Has a key which requires the existence of one or more other entities.  \n",
    "– For example FAMILY entity - need to include the key of employee to\n",
    "create a suitable key for family  "
   ]
  },
  {
   "cell_type": "markdown",
   "metadata": {},
   "source": [
    "### Types of Attributes\n",
    "▪ Simple  \n",
    "– Cannot be subdivided  \n",
    "– Age, sex, marital status  \n",
    "vs  \n",
    "▪ Composite  \n",
    "– Can be subdivided into additional attributes  \n",
    "– Address into street, city, zip  \n",
    "<br>\n",
    "▪ Single-valued  \n",
    "– Can have only a single value  \n",
    "– Person has one social security number  \n",
    "vs  \n",
    "▪ Multi-valued  \n",
    "– Can have many values  \n",
    "– Person may have several college degrees\n",
    "<br>\n",
    "▪ Derived  \n",
    "– Can be derived (calculated) from other attributes  \n",
    "– Age can be derived from date of birth \n",
    "(why would we not store age in a database?)  \n",
    "– total value of an order can be calculated from items in the order  \n",
    "– Difficult to judge - store or calculate, during design ALWAYS \n",
    "include all attributes required by the client\n",
    "<br>\n",
    "▪ Attribute classification is driven by your Client requirements  \n",
    "– Phone Number?  \n",
    "  \n",
    "▪ Multivalued Attribute\n",
    "– An attribute that has a list\n",
    "of values.  \n",
    "– For example:  \n",
    "– Car colour may consist of body colour, trim\n",
    "colour, bumper colour.  \n",
    "▪ Crow’s foot notation does not support multivalued\n",
    "attributes. Values are listed as a separate attribute  "
   ]
  },
  {
   "cell_type": "markdown",
   "metadata": {},
   "source": [
    "### Logical Design\n",
    "▪ Develop a data model which targets a particular\n",
    "database type (e.g. relational, hierarchical,\n",
    "network, object-oriented, noSQL).  \n",
    "▪ Independent of any implementation details which\n",
    "are specific to any particular vendors DBMS\n",
    "package.  \n",
    "▪ Normalisation technique (see topic 4) is used to\n",
    "test the correctness of a relational logical model."
   ]
  }
 ],
 "metadata": {
  "language_info": {
   "name": "python"
  }
 },
 "nbformat": 4,
 "nbformat_minor": 2
}
