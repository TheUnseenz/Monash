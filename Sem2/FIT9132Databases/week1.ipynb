{
 "cells": [
  {
   "cell_type": "markdown",
   "metadata": {},
   "source": [
    "### FIT9132 Databases Notes"
   ]
  },
  {
   "cell_type": "markdown",
   "metadata": {},
   "source": [
    "##### Why database management systems?\n",
    "Improved: \n",
    "- Data sharing\n",
    "- Data security\n",
    "- Data integration\n",
    "- Data consistency\n",
    "- Data access\n",
    "- Decision making\n",
    "- End-user productivity"
   ]
  },
  {
   "cell_type": "markdown",
   "metadata": {},
   "source": [
    "##### Database types:\n",
    "▪ Hierarchical  \n",
    "▪ Network  \n",
    "▪ Relational *  \n",
    "▪ Object Oriented/Object Relational  \n",
    "▪ XML/Hybrid  \n",
    "▪ No SQL  \n",
    "\n",
    "Users type:  \n",
    "- single user  \n",
    "- multiuser  \n",
    "- workgroup  \n",
    "- enterprise  \n",
    "\n",
    "Location type:  \n",
    "- desktop  \n",
    "- centralized  \n",
    "- distributed  \n",
    "- cloud  \n",
    "  \n",
    "Data type:  \n",
    "- general-purpose  \n",
    "- discipline-specific  \n",
    "\n",
    "Use-case type:  \n",
    "- Operational/online transaction processing (OLTP)/transactional/production  \n",
    "- Analytical  \n",
    "\n",
    "Structural type:  \n",
    "- Unstructured  \n",
    "- Structured  \n",
    "- Semistructured  \n"
   ]
  },
  {
   "cell_type": "markdown",
   "metadata": {},
   "source": [
    "##### Limitations of file systems and evolution to databases\n",
    "\n"
   ]
  },
  {
   "cell_type": "markdown",
   "metadata": {},
   "source": [
    "Manual file systems \n",
    "- hard to generate reports\n",
    "- data was there but inaccessible to convert to information\n",
    "\n",
    "Computerized file systems \n",
    "- redundant/duplicate data across multiple fields\n",
    "- inconsistent across files\n",
    "- inconsistent means of access (different programs for each)\n",
    "- structural dependence (change in one file necessitates change in all files)\n",
    "- data dependence (change in data type necessitates change in all data access programs)\n",
    "\n",
    "Problems generated:\n",
    "- Lengthy development time\n",
    "    - Hard to specify what to do\n",
    "- Difficult to get quick answers\n",
    "- Complex sys admin\n",
    "    - Each department in organization \"owns\" its data by creating its own files\n",
    "- Lack of data security and limited data sharing\n",
    "    - Decentralised security -> need to redo it for each instance -> too difficult -> gets omitted\n",
    "- Extensive programming\n",
    "- Data redundancy\n",
    "    - Poor data security\n",
    "    - Data inconsistency\n",
    "    - Data entry errors\n",
    "    - Data integrity problems\n",
    "- Data anomalies (when not all of the database is updated appropriately)\n",
    "    - Update anomalies\n",
    "    - Insertion anomalies\n",
    "    - Deletion anomalies"
   ]
  }
 ],
 "metadata": {
  "language_info": {
   "name": "python"
  }
 },
 "nbformat": 4,
 "nbformat_minor": 2
}
