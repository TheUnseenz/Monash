{
 "cells": [
  {
   "cell_type": "markdown",
   "metadata": {},
   "source": [
    "### FIT9132 Databases Notes"
   ]
  },
  {
   "cell_type": "markdown",
   "metadata": {},
   "source": [
    "##### Why database management systems?\n",
    "Improved: \n",
    "- Data sharing\n",
    "- Data security\n",
    "- Data integration\n",
    "- Data consistency\n",
    "- Data access\n",
    "- Decision making\n",
    "- End-user productivity"
   ]
  },
  {
   "cell_type": "markdown",
   "metadata": {},
   "source": [
    "##### Database types:\n",
    "Users type:\n",
    "- single user\n",
    "- multiuser\n",
    "- workgroup\n",
    "- enterprise\n",
    "\n",
    "Location type:\n",
    "- desktop\n",
    "- centralized\n",
    "- distributed\n",
    "- cloud\n",
    "\n",
    "Data type:\n",
    "- general-purpose\n",
    "- discipline-specific\n",
    "\n",
    "Use-case type:\n",
    "- Operational/online transaction processing (OLTP)/transactional/production\n",
    "- Analytical\n",
    "\n",
    "Structural type:\n",
    "- Unstructured\n",
    "- Structured\n",
    "- Semistructured\n"
   ]
  },
  {
   "cell_type": "markdown",
   "metadata": {},
   "source": [
    "##### Limitations of file systems and evolution to databases\n",
    "\n"
   ]
  }
 ],
 "metadata": {
  "language_info": {
   "name": "python"
  }
 },
 "nbformat": 4,
 "nbformat_minor": 2
}
