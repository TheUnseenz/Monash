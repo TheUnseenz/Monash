{
 "cells": [
  {
   "cell_type": "markdown",
   "id": "3266e6c0",
   "metadata": {},
   "source": [
    "# Week 6 - Creating and Altering the Database"
   ]
  },
  {
   "cell_type": "markdown",
   "id": "4b1b0ce6",
   "metadata": {},
   "source": [
    "Need to get consent to collect data, especially personal data  \n",
    "Need lookup table to alias data inputs   "
   ]
  },
  {
   "cell_type": "markdown",
   "id": "717222dd",
   "metadata": {},
   "source": [
    "## Lecture Notes: SQL Constraints and Database Alterations\n",
    "\n",
    "### I. SQL Constraints: Ensuring Data Integrity\n",
    "\n",
    "* **Importance:** Enforce business rules and maintain data accuracy and consistency within the database.\n",
    "* **Entity Integrity:** Ensures each row in a table is uniquely identifiable.\n",
    "    * **PRIMARY KEY Constraint:** Uniquely identifies each record in a table. Automatically enforces entity integrity.\n",
    "        * Specified in `CREATE TABLE` using `PRIMARY KEY (column_name)`.\n",
    "        * Can also be defined as a column constraint (e.g., `P_CODE VARCHAR2(10) PRIMARY KEY`).\n",
    "        * Oracle automatically names constraints if not explicitly named. **Best practice:** Assign meaningful names.\n",
    "* **Referential Integrity:** Maintains consistency across related tables.\n",
    "    * **FOREIGN KEY Constraint:** Establishes a link between columns in two tables (child table references the parent table).\n",
    "        * Specified in `CREATE TABLE` using `FOREIGN KEY (child_column) REFERENCES parent_table(parent_column)`.\n",
    "        * **ON UPDATE CASCADE:** Automatically propagates changes to the primary key in the parent table to the matching foreign key values in the child table (ANSI SQL standard, *not supported by Oracle*).\n",
    "        * **ON DELETE CASCADE:** Automatically deletes related rows in the child table when a row is deleted from the parent table (ANSI SQL standard). Recommended for weak entities.\n",
    "        * **ON DELETE SET NULL / ON UPDATE SET NULL:** Sets the foreign key value to NULL in the child table when the corresponding primary key is updated or deleted in the parent table (ANSI SQL standard, supported by Oracle and MySQL for `SET NULL`).\n",
    "        * **ON DELETE SET DEFAULT / ON UPDATE SET DEFAULT:** Sets the foreign key value to a default value in the child table (ANSI SQL standard).\n",
    "        * Default behavior upon deletion of a parent record is to restrict the deletion if child records exist.\n",
    "* **Other Constraints (ANSI SQL Standard):**\n",
    "    * **NOT NULL:** Ensures a column cannot contain NULL values.\n",
    "    * **UNIQUE:** Ensures all values in a column are distinct. Creates a unique index.\n",
    "    * **DEFAULT:** Assigns a default value to a column when a new row is inserted without a specified value.\n",
    "    * **CHECK:** Validates data against a specified condition when an attribute value is entered or modified.\n",
    "* **Constraint Definition Locations:**\n",
    "    * **Column Constraint:** Defined within the column definition. Applies only to that column.\n",
    "    * **Table Constraint:** Defined using the `CONSTRAINT` keyword, usually at the end of the `CREATE TABLE` statement. Can apply to one or more columns.\n",
    "\n"
   ]
  },
  {
   "cell_type": "markdown",
   "id": "ddbef8b5",
   "metadata": {},
   "source": [
    "### II. Creating Tables with SELECT Statements\n",
    "\n",
    "* Allows rapid creation of a new table based on a subquery of an existing table.\n",
    "* Copies attribute names, data types, and rows from the result set of the `SELECT` statement.\n",
    "* **MySQL Syntax:**\n",
    "    ```sql\n",
    "    CREATE TABLE [IF NOT EXISTS] new_table_name AS\n",
    "    SELECT column1 AS new_column1, column2 AS new_column2, ...\n",
    "    FROM existing_table\n",
    "    WHERE condition;\n",
    "    ```\n",
    "    * `IF NOT EXISTS`: Prevents overwriting an existing table and avoids error messages.\n",
    "* **MS Access and SQL Server Syntax:**\n",
    "    ```sql\n",
    "    SELECT column1 AS new_column1, column2 AS new_column2, ...\n",
    "    INTO new_table_name\n",
    "    FROM existing_table\n",
    "    WHERE condition;\n",
    "    ```\n",
    "    * MS Access prompts for deletion if the table exists.\n",
    "    * SQL Server does not automatically offer to delete.\n",
    "* **Important Note:** Integrity rules (primary keys, foreign keys) are **not** automatically applied to the new table. These need to be defined using `ALTER TABLE`.\n"
   ]
  },
  {
   "cell_type": "markdown",
   "id": "6f92bd0b",
   "metadata": {},
   "source": [
    "\n",
    "### III. SQL Indexes: Enhancing Data Retrieval\n",
    "\n",
    "* **Purpose:** Improve the efficiency of data retrieval operations (searches, sorting). Also used to enforce uniqueness.\n",
    "* **Automatic Index Creation:** DBMS automatically creates a unique index when a primary key is defined.\n",
    "* **`CREATE INDEX` Command:** Creates indexes on specified columns.\n",
    "    ```sql\n",
    "    CREATE [UNIQUE] INDEX index_name ON table_name (column1 [, column2, ...]);\n",
    "    ```\n",
    "    * `UNIQUE`: Creates an index that prevents duplicate values in the indexed column(s). Useful for candidate keys.\n",
    "    * Composite indexes can be created on multiple columns to improve performance for queries involving those columns together.\n",
    "    * Indexes are typically created on columns frequently used in `WHERE` clauses, join conditions, and `ORDER BY` clauses.\n",
    "    * Descending indexes (`DESC`) can be created to optimize queries requiring reverse order.\n",
    "* **`DROP INDEX` Command:** Removes an existing index.\n",
    "    ```sql\n",
    "    DROP INDEX index_name [ON table_name]; -- ON table_name may be required by some DBMS (e.g., MySQL)\n",
    "    ```\n"
   ]
  },
  {
   "cell_type": "markdown",
   "id": "bb095a8a",
   "metadata": {},
   "source": [
    "\n",
    "### IV. Altering Table Structures\n",
    "\n",
    "* **`ALTER TABLE` Command:** Used to modify the structure of an existing table.\n",
    "    ```sql\n",
    "    ALTER TABLE table_name\n",
    "    {ADD | MODIFY | ALTER | DROP} ... ;\n",
    "    ```\n",
    "* **Adding a Column:**\n",
    "    ```sql\n",
    "    ALTER TABLE table_name\n",
    "    ADD [COLUMN] column_name data_type [constraints];\n",
    "    ```\n",
    "    * Avoid using `NOT NULL` when adding a column to a table with existing rows, as existing rows will have NULL values in the new column.\n",
    "* **Changing Column Data Type (`MODIFY` / `ALTER`):**\n",
    "    ```sql\n",
    "    ALTER TABLE table_name\n",
    "    MODIFY column_name new_data_type; -- Or ALTER COLUMN in some DBMS\n",
    "    ```\n",
    "    * Restrictions apply. Some DBMS (e.g., Oracle) may not allow data type changes on non-empty columns or if it violates referential integrity.\n",
    "* **Changing Column Characteristics (`MODIFY` / `ALTER`):**\n",
    "    ```sql\n",
    "    ALTER TABLE table_name\n",
    "    MODIFY column_name new_data_type(new_size); -- Or ALTER COLUMN in some DBMS\n",
    "    ```\n",
    "    * DBMS may have limitations (e.g., Oracle allows increasing but not decreasing column size for non-empty columns).\n",
    "* **Adding Constraints:**\n",
    "    ```sql\n",
    "    ALTER TABLE table_name\n",
    "    ADD CONSTRAINT constraint_name constraint_definition;\n",
    "    ```\n",
    "    * Used to add `PRIMARY KEY`, `FOREIGN KEY`, `UNIQUE`, `NOT NULL`, and `CHECK` constraints after table creation.\n",
    "    * Multiple constraints can be added in a single `ALTER TABLE` statement.\n",
    "* **Dropping a Column:**\n",
    "    ```sql\n",
    "    ALTER TABLE table_name\n",
    "    DROP [COLUMN] column_name;\n",
    "    ```\n",
    "    * Restrictions apply. May not be allowed if the column is part of a foreign key relationship or if it's the only column in the table.\n",
    "* **Dropping Constraints:**\n",
    "    ```sql\n",
    "    ALTER TABLE table_name\n",
    "    DROP {PRIMARY KEY | CONSTRAINT constraint_name};\n",
    "    ```\n",
    "    * Constraints are dropped by their name. This highlights the importance of naming constraints.\n"
   ]
  },
  {
   "cell_type": "markdown",
   "id": "85f323e4",
   "metadata": {},
   "source": [
    "\n",
    "### V. Deleting a Table\n",
    "\n",
    "* **`DROP TABLE` Command:** Removes a table and its data from the database.\n",
    "    ```sql\n",
    "    DROP TABLE table_name;\n",
    "    ```\n",
    "* **Important Consideration:** Tables cannot be dropped if they are on the \"one\" side of a relationship with existing foreign key constraints in other tables. You must drop tables on the \"many\" side first."
   ]
  }
 ],
 "metadata": {
  "language_info": {
   "name": "python"
  }
 },
 "nbformat": 4,
 "nbformat_minor": 5
}
