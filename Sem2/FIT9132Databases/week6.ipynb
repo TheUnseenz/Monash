{
 "cells": [
  {
   "cell_type": "markdown",
   "id": "3266e6c0",
   "metadata": {},
   "source": [
    "# Week 6 - Creating and Altering the Database"
   ]
  },
  {
   "cell_type": "markdown",
   "id": "4b1b0ce6",
   "metadata": {},
   "source": [
    "Need to get consent to collect data, especially personal data  \n",
    "Need lookup table to alias data inputs   "
   ]
  }
 ],
 "metadata": {
  "language_info": {
   "name": "python"
  }
 },
 "nbformat": 4,
 "nbformat_minor": 5
}
